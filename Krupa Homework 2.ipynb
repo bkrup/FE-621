{
 "cells": [
  {
   "cell_type": "code",
   "execution_count": 1,
   "metadata": {},
   "outputs": [
    {
     "data": {
      "text/html": [
       "        <script type=\"text/javascript\">\n",
       "        window.PlotlyConfig = {MathJaxConfig: 'local'};\n",
       "        if (window.MathJax) {MathJax.Hub.Config({SVG: {font: \"STIX-Web\"}});}\n",
       "        if (typeof require !== 'undefined') {\n",
       "        require.undef(\"plotly\");\n",
       "        requirejs.config({\n",
       "            paths: {\n",
       "                'plotly': ['https://cdn.plot.ly/plotly-latest.min']\n",
       "            }\n",
       "        });\n",
       "        require(['plotly'], function(Plotly) {\n",
       "            window._Plotly = Plotly;\n",
       "        });\n",
       "        }\n",
       "        </script>\n",
       "        "
      ]
     },
     "metadata": {},
     "output_type": "display_data"
    }
   ],
   "source": [
    "import pandas as pd\n",
    "import numpy as np\n",
    "import json\n",
    "import yfinance as yf\n",
    "import scipy.stats as sp\n",
    "from datetime import datetime\n",
    "import urllib.request\n",
    "import plotly\n",
    "from plotly import graph_objs as go\n",
    "plotly.offline.init_notebook_mode(connected = True)"
   ]
  },
  {
   "cell_type": "code",
   "execution_count": 2,
   "metadata": {},
   "outputs": [],
   "source": [
    "def get_option(ticker,date):\n",
    "    unix = int((date-datetime(1970,1,1)).total_seconds())\n",
    "    url = \"https://query2.finance.yahoo.com/v7/finance/options/{}?date={}\".format(ticker,unix)\n",
    "    chain = json.loads(urllib.request.urlopen(url).read().decode('utf-8'))\n",
    "    quote = pd.Series(chain['optionChain']['result'][0]['quote'])\n",
    "    calls = pd.DataFrame(chain['optionChain']['result'][0]['options'][0]['calls'])\n",
    "    calls['type'] = 'c'\n",
    "    puts =  pd.DataFrame(chain['optionChain']['result'][0]['options'][0]['puts'])\n",
    "    puts['type'] = 'p'\n",
    "    \n",
    "    #function to format the frame\n",
    "    def format_options(df):\n",
    "        #time we got data\n",
    "        t0 = quote['regularMarketTime']\n",
    "        cols = ['contractSymbol','type','strike','expiration','openInterest',\n",
    "                'volume','bid','ask']\n",
    "        temp = df[cols].copy()\n",
    "        temp.columns = ['Contract','Type','Strike','Expiration','OI',\n",
    "                        'Volume','Bid','Ask']\n",
    "        temp.insert(loc=0,column='Stock',value=ticker)\n",
    "        temp.insert(loc=3,column='Underlying',value=quote['regularMarketPrice'])\n",
    "        temp.insert(loc=6,column='TTM',\n",
    "                    value=(temp['Expiration'].values-t0)/(3600*24*365))\n",
    "        temp['Price'] = (temp['Bid']+temp['Ask'])/2\n",
    "        temp['Moneyness'] = np.abs(temp['Underlying']-temp['Strike'])\n",
    "        return(temp)\n",
    "    return format_options(calls),format_options(puts),quote['regularMarketPrice']"
   ]
  },
  {
   "cell_type": "code",
   "execution_count": 3,
   "metadata": {},
   "outputs": [],
   "source": [
    "def BSM(S0, K, tau, r, sigma, opt_type='c', q=0):\n",
    "    d1 = (np.log(S0/K)+(r-q+.5*sigma**2)*tau)/(sigma*np.sqrt(tau))\n",
    "    d2 = d1 - sigma*np.sqrt(tau)\n",
    "    N = lambda x: sp.norm.cdf(x)\n",
    "    if opt_type == 'c':\n",
    "        return S0*np.exp(-q*tau)*N(d1) - np.exp(-r*tau)*K*N(d2)\n",
    "    else:\n",
    "        return K*np.exp(-r*tau)*N(-d2) - S0*np.exp(-q*tau)*N(-d1)\n",
    "\n",
    "def bisection(f, a, b, tol=1e-6):\n",
    "    c = (a+b)/2\n",
    "    while(np.abs(b-a)>tol):\n",
    "        if f(c) == 0:\n",
    "            return c\n",
    "        elif f(a)*f(c)<0:\n",
    "            b=c\n",
    "        else:\n",
    "            a=c\n",
    "        c = (a+b)/2\n",
    "    return c\n",
    "\n",
    "def impliedVol(S0, K, tau, r, price, opt_type='c'):\n",
    "    equation = lambda sigma: BSM(S0,K,tau,r,sigma,opt_type) - price\n",
    "    return bisection(equation,-1,2)"
   ]
  },
  {
   "cell_type": "code",
   "execution_count": 4,
   "metadata": {},
   "outputs": [],
   "source": [
    "# #data download\n",
    "# stock ='AMZN'\n",
    "date1 = datetime(2020,4,17)\n",
    "date2 = datetime(2020,5,15)\n",
    "date3 = datetime(2020,6,19)\n",
    "# call1,put1,quote1 = get_option(stock,date1)\n",
    "# call2,put2,quote2 = get_option(stock,date2)\n",
    "# call3,put3,quote3 = get_option(stock,date3)"
   ]
  },
  {
   "cell_type": "code",
   "execution_count": 5,
   "metadata": {},
   "outputs": [],
   "source": [
    "# # Reformatting Expiration Dates\n",
    "# call1['Expiration'] = date1\n",
    "# put1['Expiration'] = date1\n",
    "# call2['Expiration'] = date2\n",
    "# put2['Expiration'] = date2\n",
    "# call3['Expiration'] = date3\n",
    "# put3['Expiration'] = date3"
   ]
  },
  {
   "cell_type": "code",
   "execution_count": 6,
   "metadata": {},
   "outputs": [],
   "source": [
    "# # Writing to csv\n",
    "# call1.to_csv('AMZN_Calls1.csv')\n",
    "# put1.to_csv('AMZN_Puts1.csv')\n",
    "# call2.to_csv('AMZN_Calls2.csv')\n",
    "# put2.to_csv('AMZN_Puts2.csv')\n",
    "# call3.to_csv('AMZN_Calls3.csv')\n",
    "# put3.to_csv('AMZN_Puts3.csv')"
   ]
  },
  {
   "cell_type": "code",
   "execution_count": 7,
   "metadata": {},
   "outputs": [],
   "source": [
    "call1 = pd.read_csv('AMZN_Calls1.csv')\n",
    "call1.drop('Unnamed: 0',axis=1,inplace=True)\n",
    "call1.dropna(axis = 0, inplace = True)\n",
    "call1 = call1.nsmallest(20,'Moneyness').sort_values('Strike')\n",
    "put1 = pd.read_csv('AMZN_Puts1.csv')\n",
    "put1.drop('Unnamed: 0',axis=1,inplace=True)\n",
    "put1.dropna(axis = 0, inplace = True)\n",
    "put1 = put1.nsmallest(20,'Moneyness').sort_values('Strike')\n",
    "call2 = pd.read_csv('AMZN_Calls2.csv')\n",
    "call2.drop('Unnamed: 0',axis=1,inplace=True)\n",
    "call2.dropna(axis = 0, inplace = True)\n",
    "call2 = call2.nsmallest(20,'Moneyness').sort_values('Strike')\n",
    "put2 = pd.read_csv('AMZN_Puts2.csv')\n",
    "put2.drop('Unnamed: 0',axis=1,inplace=True)\n",
    "put2.dropna(axis = 0, inplace = True)\n",
    "put2 = put2.nsmallest(20,'Moneyness').sort_values('Strike')\n",
    "call3 = pd.read_csv('AMZN_Calls3.csv')\n",
    "call3.drop('Unnamed: 0',axis=1,inplace=True)\n",
    "call3.dropna(axis = 0, inplace = True)\n",
    "call3 = call3.nsmallest(20,'Moneyness').sort_values('Strike')\n",
    "put3 = pd.read_csv('AMZN_Puts3.csv')\n",
    "put3.drop('Unnamed: 0',axis=1,inplace=True)\n",
    "put3.dropna(axis = 0, inplace = True)\n",
    "put3 = put3.nsmallest(20,'Moneyness').sort_values('Strike')"
   ]
  },
  {
   "cell_type": "markdown",
   "metadata": {},
   "source": [
    "# Problem 1: The Binomial Tree"
   ]
  },
  {
   "cell_type": "code",
   "execution_count": 8,
   "metadata": {},
   "outputs": [],
   "source": [
    "def binomial_tree(S, K, T, r, sig, N, opt_type='c', am=False):\n",
    "    if opt_type == 'c': #c is multiplied by payout s - k so that it is negated to k - s for puts\n",
    "        c = 1\n",
    "    else:\n",
    "        c = -1\n",
    "    dt = T/N\n",
    "    v = r-.5*sig**2\n",
    "    u = np.sqrt((v*dt)**2 + dt*sig**2)\n",
    "    d = -u\n",
    "    pu = .5+.5*(v*dt)/u\n",
    "    pd = 1-pu\n",
    "    disc = np.exp(-r*dt)\n",
    "    \n",
    "    #initialize stock and option paths\n",
    "    stock_price = np.zeros((N+1,N+1))\n",
    "    opt_val = np.zeros((N+1,N+1))\n",
    "    \n",
    "    #set stock price to S at time 0\n",
    "    stock_price[0,0] = S\n",
    "    \n",
    "    #stock price generation, first initialize down paths\n",
    "    for i in range(1,N+1):\n",
    "        stock_price[i,0] = stock_price[i-1,0]*np.exp(d)\n",
    "        # for each down path assign up paths\n",
    "        for j in range(1,i+1):\n",
    "            stock_price[i,j] = stock_price[i-1,j-1]*np.exp(u)\n",
    "    \n",
    "    #terminal option values derived from final stock prices in each path\n",
    "    opt_val[N,:] = np.maximum(0,c*(stock_price[N,:]-K))\n",
    "    \n",
    "    #Recursion For Option Price\n",
    "    #similar to stock paths but working backwards to calculate option values until time 0 is reached\n",
    "    for i in range(N-1,-1,-1):\n",
    "        for j in range(i+1):\n",
    "            opt_val[i,j] = disc*(pu*opt_val[i+1,j+1]+\n",
    "                                 pd*opt_val[i+1,j])\n",
    "            if am: #adding exercise optionality for american options\n",
    "                opt_val[i,j] = max(opt_val[i,j],\n",
    "                                   c*(stock_price[i,j]-K))\n",
    "    return opt_val[0,0]"
   ]
  },
  {
   "cell_type": "code",
   "execution_count": 9,
   "metadata": {
    "scrolled": true
   },
   "outputs": [],
   "source": [
    "temp = [call1,put1,call2,put2,call3,put3]\n",
    "opts = pd.concat(temp)\n",
    "opts.reset_index(inplace = True, drop = True)\n",
    "opts['Expiration'] = pd.to_datetime(opts['Expiration'])"
   ]
  },
  {
   "cell_type": "code",
   "execution_count": 12,
   "metadata": {},
   "outputs": [],
   "source": [
    "# Calculating Implied Vol and Black-Scholes Price\n",
    "r = .0159 # Fed Funds Rate\n",
    "opts['IV'] = opts.apply(lambda x: impliedVol(x['Underlying'], x['Strike'], x['TTM'], r, x['Price'], x['Type']), axis = 1)\n",
    "opts['BS_Price'] = opts.apply(lambda x: BSM(x['Underlying'], x['Strike'], x['TTM'], r, x['IV'], x['Type']), axis = 1)"
   ]
  },
  {
   "cell_type": "code",
   "execution_count": 13,
   "metadata": {},
   "outputs": [],
   "source": [
    "# Calculating Price with Binomial Tree\n",
    "opts['Euro_Price'] = opts.apply(lambda x: binomial_tree(x['Underlying'], x['Strike'], x['TTM'], r, x['IV'], 200, \n",
    "                                                        x['Type']), axis = 1)\n",
    "opts['Am_Price'] = opts.apply(lambda x: binomial_tree(x['Underlying'], x['Strike'], x['TTM'], r, x['IV'], 200, \n",
    "                                                        x['Type'], True), axis = 1)"
   ]
  },
  {
   "cell_type": "code",
   "execution_count": 59,
   "metadata": {},
   "outputs": [
    {
     "data": {
      "application/vnd.plotly.v1+json": {
       "config": {
        "linkText": "Export to plot.ly",
        "plotlyServerURL": "https://plot.ly",
        "showLink": false
       },
       "data": [
        {
         "name": "American",
         "type": "scatter",
         "x": [
          1875,
          1880,
          1885,
          1890,
          1895,
          1900,
          1905,
          1910,
          1915,
          1920,
          1925,
          1930,
          1935,
          1940,
          1945,
          1950,
          1960,
          1970,
          1980,
          1990
         ],
         "y": [
          136.66940087903083,
          133.84538636591066,
          130.58480662317652,
          127.3139311075502,
          123.68600890885058,
          121.31771735088078,
          118.53392104341275,
          114.73432619264995,
          112.12622370734641,
          108.62878615571265,
          105.96791372923995,
          102.09397374474408,
          100.71398339934481,
          96.84160566116533,
          94.0024687103045,
          91.14719762008552,
          86.81719966763646,
          81.92102454311761,
          75.68026899264359,
          71.58371440640154
         ]
        },
        {
         "name": "European",
         "type": "scatter",
         "x": [
          1875,
          1880,
          1885,
          1890,
          1895,
          1900,
          1905,
          1910,
          1915,
          1920,
          1925,
          1930,
          1935,
          1940,
          1945,
          1950,
          1960,
          1970,
          1980,
          1990
         ],
         "y": [
          136.66940087903083,
          133.84538636591066,
          130.58480662317652,
          127.3139311075502,
          123.68600890885058,
          121.31771735088078,
          118.53392104341275,
          114.73432619264995,
          112.12622370734641,
          108.62878615571265,
          105.96791372923995,
          102.09397374474408,
          100.71398339934481,
          96.84160566116533,
          94.0024687103045,
          91.14719762008552,
          86.81719966763646,
          81.92102454311761,
          75.68026899264359,
          71.58371440640154
         ]
        },
        {
         "name": "Black-Scholes",
         "type": "scatter",
         "x": [
          1875,
          1880,
          1885,
          1890,
          1895,
          1900,
          1905,
          1910,
          1915,
          1920,
          1925,
          1930,
          1935,
          1940,
          1945,
          1950,
          1960,
          1970,
          1980,
          1990
         ],
         "y": [
          136.54999678954186,
          133.7250403944006,
          130.49996868968492,
          127.29998200458726,
          123.77505599940525,
          121.34994879519718,
          118.47500361650464,
          114.62495562618858,
          112.00008544250068,
          108.52507245009417,
          105.92505299488892,
          102.15000792319165,
          100.77501272817233,
          96.79992154446575,
          93.89995276827665,
          91.02508740383371,
          86.77495248674597,
          81.97505914114913,
          75.57502179258256,
          71.5000633449406
         ]
        },
        {
         "name": "Bid",
         "type": "scatter",
         "x": [
          1875,
          1880,
          1885,
          1890,
          1895,
          1900,
          1905,
          1910,
          1915,
          1920,
          1925,
          1930,
          1935,
          1940,
          1945,
          1950,
          1960,
          1970,
          1980,
          1990
         ],
         "y": [
          135.1,
          132.9,
          129.25,
          126.55,
          122.6,
          120.6,
          117.65,
          113.85,
          111.25,
          107.85,
          105.25,
          101.1,
          100,
          96.15,
          93.35,
          90.45,
          85.85,
          81.05,
          75,
          70.9
         ]
        },
        {
         "name": "Ask",
         "type": "scatter",
         "x": [
          1875,
          1880,
          1885,
          1890,
          1895,
          1900,
          1905,
          1910,
          1915,
          1920,
          1925,
          1930,
          1935,
          1940,
          1945,
          1950,
          1960,
          1970,
          1980,
          1990
         ],
         "y": [
          138,
          134.55,
          131.75,
          128.05,
          124.95,
          122.1,
          119.3,
          115.4,
          112.75,
          109.2,
          106.6,
          103.2,
          101.55,
          97.45,
          94.45,
          91.6,
          87.7,
          82.9,
          76.15,
          72.1
         ]
        },
        {
         "name": "Underlying",
         "type": "scatter",
         "x": [
          1932.5763,
          1932.5763,
          1932.5763,
          1932.5763,
          1932.5763,
          1932.5763,
          1932.5763,
          1932.5763,
          1932.5763,
          1932.5763,
          1932.5763,
          1932.5763,
          1932.5763,
          1932.5763,
          1932.5763,
          1932.5763,
          1932.5763,
          1932.5763,
          1932.5763,
          1932.5763
         ],
         "y": [
          70.9,
          74.43157894736842,
          77.96315789473685,
          81.49473684210527,
          85.02631578947368,
          88.55789473684212,
          92.08947368421053,
          95.62105263157895,
          99.15263157894736,
          102.6842105263158,
          106.21578947368421,
          109.74736842105264,
          113.27894736842106,
          116.81052631578947,
          120.34210526315789,
          123.8736842105263,
          127.40526315789474,
          130.93684210526317,
          134.46842105263158,
          138
         ]
        }
       ],
       "layout": {
        "template": {
         "data": {
          "bar": [
           {
            "error_x": {
             "color": "#2a3f5f"
            },
            "error_y": {
             "color": "#2a3f5f"
            },
            "marker": {
             "line": {
              "color": "#E5ECF6",
              "width": 0.5
             }
            },
            "type": "bar"
           }
          ],
          "barpolar": [
           {
            "marker": {
             "line": {
              "color": "#E5ECF6",
              "width": 0.5
             }
            },
            "type": "barpolar"
           }
          ],
          "carpet": [
           {
            "aaxis": {
             "endlinecolor": "#2a3f5f",
             "gridcolor": "white",
             "linecolor": "white",
             "minorgridcolor": "white",
             "startlinecolor": "#2a3f5f"
            },
            "baxis": {
             "endlinecolor": "#2a3f5f",
             "gridcolor": "white",
             "linecolor": "white",
             "minorgridcolor": "white",
             "startlinecolor": "#2a3f5f"
            },
            "type": "carpet"
           }
          ],
          "choropleth": [
           {
            "colorbar": {
             "outlinewidth": 0,
             "ticks": ""
            },
            "type": "choropleth"
           }
          ],
          "contour": [
           {
            "colorbar": {
             "outlinewidth": 0,
             "ticks": ""
            },
            "colorscale": [
             [
              0,
              "#0d0887"
             ],
             [
              0.1111111111111111,
              "#46039f"
             ],
             [
              0.2222222222222222,
              "#7201a8"
             ],
             [
              0.3333333333333333,
              "#9c179e"
             ],
             [
              0.4444444444444444,
              "#bd3786"
             ],
             [
              0.5555555555555556,
              "#d8576b"
             ],
             [
              0.6666666666666666,
              "#ed7953"
             ],
             [
              0.7777777777777778,
              "#fb9f3a"
             ],
             [
              0.8888888888888888,
              "#fdca26"
             ],
             [
              1,
              "#f0f921"
             ]
            ],
            "type": "contour"
           }
          ],
          "contourcarpet": [
           {
            "colorbar": {
             "outlinewidth": 0,
             "ticks": ""
            },
            "type": "contourcarpet"
           }
          ],
          "heatmap": [
           {
            "colorbar": {
             "outlinewidth": 0,
             "ticks": ""
            },
            "colorscale": [
             [
              0,
              "#0d0887"
             ],
             [
              0.1111111111111111,
              "#46039f"
             ],
             [
              0.2222222222222222,
              "#7201a8"
             ],
             [
              0.3333333333333333,
              "#9c179e"
             ],
             [
              0.4444444444444444,
              "#bd3786"
             ],
             [
              0.5555555555555556,
              "#d8576b"
             ],
             [
              0.6666666666666666,
              "#ed7953"
             ],
             [
              0.7777777777777778,
              "#fb9f3a"
             ],
             [
              0.8888888888888888,
              "#fdca26"
             ],
             [
              1,
              "#f0f921"
             ]
            ],
            "type": "heatmap"
           }
          ],
          "heatmapgl": [
           {
            "colorbar": {
             "outlinewidth": 0,
             "ticks": ""
            },
            "colorscale": [
             [
              0,
              "#0d0887"
             ],
             [
              0.1111111111111111,
              "#46039f"
             ],
             [
              0.2222222222222222,
              "#7201a8"
             ],
             [
              0.3333333333333333,
              "#9c179e"
             ],
             [
              0.4444444444444444,
              "#bd3786"
             ],
             [
              0.5555555555555556,
              "#d8576b"
             ],
             [
              0.6666666666666666,
              "#ed7953"
             ],
             [
              0.7777777777777778,
              "#fb9f3a"
             ],
             [
              0.8888888888888888,
              "#fdca26"
             ],
             [
              1,
              "#f0f921"
             ]
            ],
            "type": "heatmapgl"
           }
          ],
          "histogram": [
           {
            "marker": {
             "colorbar": {
              "outlinewidth": 0,
              "ticks": ""
             }
            },
            "type": "histogram"
           }
          ],
          "histogram2d": [
           {
            "colorbar": {
             "outlinewidth": 0,
             "ticks": ""
            },
            "colorscale": [
             [
              0,
              "#0d0887"
             ],
             [
              0.1111111111111111,
              "#46039f"
             ],
             [
              0.2222222222222222,
              "#7201a8"
             ],
             [
              0.3333333333333333,
              "#9c179e"
             ],
             [
              0.4444444444444444,
              "#bd3786"
             ],
             [
              0.5555555555555556,
              "#d8576b"
             ],
             [
              0.6666666666666666,
              "#ed7953"
             ],
             [
              0.7777777777777778,
              "#fb9f3a"
             ],
             [
              0.8888888888888888,
              "#fdca26"
             ],
             [
              1,
              "#f0f921"
             ]
            ],
            "type": "histogram2d"
           }
          ],
          "histogram2dcontour": [
           {
            "colorbar": {
             "outlinewidth": 0,
             "ticks": ""
            },
            "colorscale": [
             [
              0,
              "#0d0887"
             ],
             [
              0.1111111111111111,
              "#46039f"
             ],
             [
              0.2222222222222222,
              "#7201a8"
             ],
             [
              0.3333333333333333,
              "#9c179e"
             ],
             [
              0.4444444444444444,
              "#bd3786"
             ],
             [
              0.5555555555555556,
              "#d8576b"
             ],
             [
              0.6666666666666666,
              "#ed7953"
             ],
             [
              0.7777777777777778,
              "#fb9f3a"
             ],
             [
              0.8888888888888888,
              "#fdca26"
             ],
             [
              1,
              "#f0f921"
             ]
            ],
            "type": "histogram2dcontour"
           }
          ],
          "mesh3d": [
           {
            "colorbar": {
             "outlinewidth": 0,
             "ticks": ""
            },
            "type": "mesh3d"
           }
          ],
          "parcoords": [
           {
            "line": {
             "colorbar": {
              "outlinewidth": 0,
              "ticks": ""
             }
            },
            "type": "parcoords"
           }
          ],
          "scatter": [
           {
            "marker": {
             "colorbar": {
              "outlinewidth": 0,
              "ticks": ""
             }
            },
            "type": "scatter"
           }
          ],
          "scatter3d": [
           {
            "line": {
             "colorbar": {
              "outlinewidth": 0,
              "ticks": ""
             }
            },
            "marker": {
             "colorbar": {
              "outlinewidth": 0,
              "ticks": ""
             }
            },
            "type": "scatter3d"
           }
          ],
          "scattercarpet": [
           {
            "marker": {
             "colorbar": {
              "outlinewidth": 0,
              "ticks": ""
             }
            },
            "type": "scattercarpet"
           }
          ],
          "scattergeo": [
           {
            "marker": {
             "colorbar": {
              "outlinewidth": 0,
              "ticks": ""
             }
            },
            "type": "scattergeo"
           }
          ],
          "scattergl": [
           {
            "marker": {
             "colorbar": {
              "outlinewidth": 0,
              "ticks": ""
             }
            },
            "type": "scattergl"
           }
          ],
          "scattermapbox": [
           {
            "marker": {
             "colorbar": {
              "outlinewidth": 0,
              "ticks": ""
             }
            },
            "type": "scattermapbox"
           }
          ],
          "scatterpolar": [
           {
            "marker": {
             "colorbar": {
              "outlinewidth": 0,
              "ticks": ""
             }
            },
            "type": "scatterpolar"
           }
          ],
          "scatterpolargl": [
           {
            "marker": {
             "colorbar": {
              "outlinewidth": 0,
              "ticks": ""
             }
            },
            "type": "scatterpolargl"
           }
          ],
          "scatterternary": [
           {
            "marker": {
             "colorbar": {
              "outlinewidth": 0,
              "ticks": ""
             }
            },
            "type": "scatterternary"
           }
          ],
          "surface": [
           {
            "colorbar": {
             "outlinewidth": 0,
             "ticks": ""
            },
            "colorscale": [
             [
              0,
              "#0d0887"
             ],
             [
              0.1111111111111111,
              "#46039f"
             ],
             [
              0.2222222222222222,
              "#7201a8"
             ],
             [
              0.3333333333333333,
              "#9c179e"
             ],
             [
              0.4444444444444444,
              "#bd3786"
             ],
             [
              0.5555555555555556,
              "#d8576b"
             ],
             [
              0.6666666666666666,
              "#ed7953"
             ],
             [
              0.7777777777777778,
              "#fb9f3a"
             ],
             [
              0.8888888888888888,
              "#fdca26"
             ],
             [
              1,
              "#f0f921"
             ]
            ],
            "type": "surface"
           }
          ],
          "table": [
           {
            "cells": {
             "fill": {
              "color": "#EBF0F8"
             },
             "line": {
              "color": "white"
             }
            },
            "header": {
             "fill": {
              "color": "#C8D4E3"
             },
             "line": {
              "color": "white"
             }
            },
            "type": "table"
           }
          ]
         },
         "layout": {
          "annotationdefaults": {
           "arrowcolor": "#2a3f5f",
           "arrowhead": 0,
           "arrowwidth": 1
          },
          "colorscale": {
           "diverging": [
            [
             0,
             "#8e0152"
            ],
            [
             0.1,
             "#c51b7d"
            ],
            [
             0.2,
             "#de77ae"
            ],
            [
             0.3,
             "#f1b6da"
            ],
            [
             0.4,
             "#fde0ef"
            ],
            [
             0.5,
             "#f7f7f7"
            ],
            [
             0.6,
             "#e6f5d0"
            ],
            [
             0.7,
             "#b8e186"
            ],
            [
             0.8,
             "#7fbc41"
            ],
            [
             0.9,
             "#4d9221"
            ],
            [
             1,
             "#276419"
            ]
           ],
           "sequential": [
            [
             0,
             "#0d0887"
            ],
            [
             0.1111111111111111,
             "#46039f"
            ],
            [
             0.2222222222222222,
             "#7201a8"
            ],
            [
             0.3333333333333333,
             "#9c179e"
            ],
            [
             0.4444444444444444,
             "#bd3786"
            ],
            [
             0.5555555555555556,
             "#d8576b"
            ],
            [
             0.6666666666666666,
             "#ed7953"
            ],
            [
             0.7777777777777778,
             "#fb9f3a"
            ],
            [
             0.8888888888888888,
             "#fdca26"
            ],
            [
             1,
             "#f0f921"
            ]
           ],
           "sequentialminus": [
            [
             0,
             "#0d0887"
            ],
            [
             0.1111111111111111,
             "#46039f"
            ],
            [
             0.2222222222222222,
             "#7201a8"
            ],
            [
             0.3333333333333333,
             "#9c179e"
            ],
            [
             0.4444444444444444,
             "#bd3786"
            ],
            [
             0.5555555555555556,
             "#d8576b"
            ],
            [
             0.6666666666666666,
             "#ed7953"
            ],
            [
             0.7777777777777778,
             "#fb9f3a"
            ],
            [
             0.8888888888888888,
             "#fdca26"
            ],
            [
             1,
             "#f0f921"
            ]
           ]
          },
          "colorway": [
           "#636efa",
           "#EF553B",
           "#00cc96",
           "#ab63fa",
           "#FFA15A",
           "#19d3f3",
           "#FF6692",
           "#B6E880",
           "#FF97FF",
           "#FECB52"
          ],
          "font": {
           "color": "#2a3f5f"
          },
          "geo": {
           "bgcolor": "white",
           "lakecolor": "white",
           "landcolor": "#E5ECF6",
           "showlakes": true,
           "showland": true,
           "subunitcolor": "white"
          },
          "hoverlabel": {
           "align": "left"
          },
          "hovermode": "closest",
          "mapbox": {
           "style": "light"
          },
          "paper_bgcolor": "white",
          "plot_bgcolor": "#E5ECF6",
          "polar": {
           "angularaxis": {
            "gridcolor": "white",
            "linecolor": "white",
            "ticks": ""
           },
           "bgcolor": "#E5ECF6",
           "radialaxis": {
            "gridcolor": "white",
            "linecolor": "white",
            "ticks": ""
           }
          },
          "scene": {
           "xaxis": {
            "backgroundcolor": "#E5ECF6",
            "gridcolor": "white",
            "gridwidth": 2,
            "linecolor": "white",
            "showbackground": true,
            "ticks": "",
            "zerolinecolor": "white"
           },
           "yaxis": {
            "backgroundcolor": "#E5ECF6",
            "gridcolor": "white",
            "gridwidth": 2,
            "linecolor": "white",
            "showbackground": true,
            "ticks": "",
            "zerolinecolor": "white"
           },
           "zaxis": {
            "backgroundcolor": "#E5ECF6",
            "gridcolor": "white",
            "gridwidth": 2,
            "linecolor": "white",
            "showbackground": true,
            "ticks": "",
            "zerolinecolor": "white"
           }
          },
          "shapedefaults": {
           "line": {
            "color": "#2a3f5f"
           }
          },
          "ternary": {
           "aaxis": {
            "gridcolor": "white",
            "linecolor": "white",
            "ticks": ""
           },
           "baxis": {
            "gridcolor": "white",
            "linecolor": "white",
            "ticks": ""
           },
           "bgcolor": "#E5ECF6",
           "caxis": {
            "gridcolor": "white",
            "linecolor": "white",
            "ticks": ""
           }
          },
          "title": {
           "x": 0.05
          },
          "xaxis": {
           "automargin": true,
           "gridcolor": "white",
           "linecolor": "white",
           "ticks": "",
           "zerolinecolor": "white",
           "zerolinewidth": 2
          },
          "yaxis": {
           "automargin": true,
           "gridcolor": "white",
           "linecolor": "white",
           "ticks": "",
           "zerolinecolor": "white",
           "zerolinewidth": 2
          }
         }
        },
        "title": {
         "text": "AMZN Call Price vs Strike Expiration: 2020-04-17 00:00:00"
        },
        "xaxis": {
         "title": {
          "text": "Strike"
         }
        },
        "yaxis": {
         "title": {
          "text": "Price"
         }
        }
       }
      },
      "text/html": [
       "<div>\n",
       "        \n",
       "        \n",
       "            <div id=\"2de4581e-16b0-4d63-b501-7a1fbf65659e\" class=\"plotly-graph-div\" style=\"height:525px; width:100%;\"></div>\n",
       "            <script type=\"text/javascript\">\n",
       "                require([\"plotly\"], function(Plotly) {\n",
       "                    window.PLOTLYENV=window.PLOTLYENV || {};\n",
       "                    \n",
       "                if (document.getElementById(\"2de4581e-16b0-4d63-b501-7a1fbf65659e\")) {\n",
       "                    Plotly.newPlot(\n",
       "                        '2de4581e-16b0-4d63-b501-7a1fbf65659e',\n",
       "                        [{\"name\": \"American\", \"type\": \"scatter\", \"x\": [1875.0, 1880.0, 1885.0, 1890.0, 1895.0, 1900.0, 1905.0, 1910.0, 1915.0, 1920.0, 1925.0, 1930.0, 1935.0, 1940.0, 1945.0, 1950.0, 1960.0, 1970.0, 1980.0, 1990.0], \"y\": [136.66940087903083, 133.84538636591066, 130.58480662317652, 127.3139311075502, 123.68600890885058, 121.31771735088078, 118.53392104341275, 114.73432619264995, 112.12622370734641, 108.62878615571265, 105.96791372923995, 102.09397374474408, 100.71398339934481, 96.84160566116533, 94.0024687103045, 91.14719762008552, 86.81719966763646, 81.92102454311761, 75.68026899264359, 71.58371440640154]}, {\"name\": \"European\", \"type\": \"scatter\", \"x\": [1875.0, 1880.0, 1885.0, 1890.0, 1895.0, 1900.0, 1905.0, 1910.0, 1915.0, 1920.0, 1925.0, 1930.0, 1935.0, 1940.0, 1945.0, 1950.0, 1960.0, 1970.0, 1980.0, 1990.0], \"y\": [136.66940087903083, 133.84538636591066, 130.58480662317652, 127.3139311075502, 123.68600890885058, 121.31771735088078, 118.53392104341275, 114.73432619264995, 112.12622370734641, 108.62878615571265, 105.96791372923995, 102.09397374474408, 100.71398339934481, 96.84160566116533, 94.0024687103045, 91.14719762008552, 86.81719966763646, 81.92102454311761, 75.68026899264359, 71.58371440640154]}, {\"name\": \"Black-Scholes\", \"type\": \"scatter\", \"x\": [1875.0, 1880.0, 1885.0, 1890.0, 1895.0, 1900.0, 1905.0, 1910.0, 1915.0, 1920.0, 1925.0, 1930.0, 1935.0, 1940.0, 1945.0, 1950.0, 1960.0, 1970.0, 1980.0, 1990.0], \"y\": [136.54999678954186, 133.7250403944006, 130.49996868968492, 127.29998200458726, 123.77505599940525, 121.34994879519718, 118.47500361650464, 114.62495562618858, 112.00008544250068, 108.52507245009417, 105.92505299488892, 102.15000792319165, 100.77501272817233, 96.79992154446575, 93.89995276827665, 91.02508740383371, 86.77495248674597, 81.97505914114913, 75.57502179258256, 71.5000633449406]}, {\"name\": \"Bid\", \"type\": \"scatter\", \"x\": [1875.0, 1880.0, 1885.0, 1890.0, 1895.0, 1900.0, 1905.0, 1910.0, 1915.0, 1920.0, 1925.0, 1930.0, 1935.0, 1940.0, 1945.0, 1950.0, 1960.0, 1970.0, 1980.0, 1990.0], \"y\": [135.1, 132.9, 129.25, 126.55, 122.6, 120.6, 117.65, 113.85, 111.25, 107.85, 105.25, 101.1, 100.0, 96.15, 93.35, 90.45, 85.85, 81.05, 75.0, 70.9]}, {\"name\": \"Ask\", \"type\": \"scatter\", \"x\": [1875.0, 1880.0, 1885.0, 1890.0, 1895.0, 1900.0, 1905.0, 1910.0, 1915.0, 1920.0, 1925.0, 1930.0, 1935.0, 1940.0, 1945.0, 1950.0, 1960.0, 1970.0, 1980.0, 1990.0], \"y\": [138.0, 134.55, 131.75, 128.05, 124.95, 122.1, 119.3, 115.4, 112.75, 109.2, 106.6, 103.2, 101.55, 97.45, 94.45, 91.6, 87.7, 82.9, 76.15, 72.1]}, {\"name\": \"Underlying\", \"type\": \"scatter\", \"x\": [1932.5763, 1932.5763, 1932.5763, 1932.5763, 1932.5763, 1932.5763, 1932.5763, 1932.5763, 1932.5763, 1932.5763, 1932.5763, 1932.5763, 1932.5763, 1932.5763, 1932.5763, 1932.5763, 1932.5763, 1932.5763, 1932.5763, 1932.5763], \"y\": [70.9, 74.43157894736842, 77.96315789473685, 81.49473684210527, 85.02631578947368, 88.55789473684212, 92.08947368421053, 95.62105263157895, 99.15263157894736, 102.6842105263158, 106.21578947368421, 109.74736842105264, 113.27894736842106, 116.81052631578947, 120.34210526315789, 123.8736842105263, 127.40526315789474, 130.93684210526317, 134.46842105263158, 138.0]}],\n",
       "                        {\"template\": {\"data\": {\"bar\": [{\"error_x\": {\"color\": \"#2a3f5f\"}, \"error_y\": {\"color\": \"#2a3f5f\"}, \"marker\": {\"line\": {\"color\": \"#E5ECF6\", \"width\": 0.5}}, \"type\": \"bar\"}], \"barpolar\": [{\"marker\": {\"line\": {\"color\": \"#E5ECF6\", \"width\": 0.5}}, \"type\": \"barpolar\"}], \"carpet\": [{\"aaxis\": {\"endlinecolor\": \"#2a3f5f\", \"gridcolor\": \"white\", \"linecolor\": \"white\", \"minorgridcolor\": \"white\", \"startlinecolor\": \"#2a3f5f\"}, \"baxis\": {\"endlinecolor\": \"#2a3f5f\", \"gridcolor\": \"white\", \"linecolor\": \"white\", \"minorgridcolor\": \"white\", \"startlinecolor\": \"#2a3f5f\"}, \"type\": \"carpet\"}], \"choropleth\": [{\"colorbar\": {\"outlinewidth\": 0, \"ticks\": \"\"}, \"type\": \"choropleth\"}], \"contour\": [{\"colorbar\": {\"outlinewidth\": 0, \"ticks\": \"\"}, \"colorscale\": [[0.0, \"#0d0887\"], [0.1111111111111111, \"#46039f\"], [0.2222222222222222, \"#7201a8\"], [0.3333333333333333, \"#9c179e\"], [0.4444444444444444, \"#bd3786\"], [0.5555555555555556, \"#d8576b\"], [0.6666666666666666, \"#ed7953\"], [0.7777777777777778, \"#fb9f3a\"], [0.8888888888888888, \"#fdca26\"], [1.0, \"#f0f921\"]], \"type\": \"contour\"}], \"contourcarpet\": [{\"colorbar\": {\"outlinewidth\": 0, \"ticks\": \"\"}, \"type\": \"contourcarpet\"}], \"heatmap\": [{\"colorbar\": {\"outlinewidth\": 0, \"ticks\": \"\"}, \"colorscale\": [[0.0, \"#0d0887\"], [0.1111111111111111, \"#46039f\"], [0.2222222222222222, \"#7201a8\"], [0.3333333333333333, \"#9c179e\"], [0.4444444444444444, \"#bd3786\"], [0.5555555555555556, \"#d8576b\"], [0.6666666666666666, \"#ed7953\"], [0.7777777777777778, \"#fb9f3a\"], [0.8888888888888888, \"#fdca26\"], [1.0, \"#f0f921\"]], \"type\": \"heatmap\"}], \"heatmapgl\": [{\"colorbar\": {\"outlinewidth\": 0, \"ticks\": \"\"}, \"colorscale\": [[0.0, \"#0d0887\"], [0.1111111111111111, \"#46039f\"], [0.2222222222222222, \"#7201a8\"], [0.3333333333333333, \"#9c179e\"], [0.4444444444444444, \"#bd3786\"], [0.5555555555555556, \"#d8576b\"], [0.6666666666666666, \"#ed7953\"], [0.7777777777777778, \"#fb9f3a\"], [0.8888888888888888, \"#fdca26\"], [1.0, \"#f0f921\"]], \"type\": \"heatmapgl\"}], \"histogram\": [{\"marker\": {\"colorbar\": {\"outlinewidth\": 0, \"ticks\": \"\"}}, \"type\": \"histogram\"}], \"histogram2d\": [{\"colorbar\": {\"outlinewidth\": 0, \"ticks\": \"\"}, \"colorscale\": [[0.0, \"#0d0887\"], [0.1111111111111111, \"#46039f\"], [0.2222222222222222, \"#7201a8\"], [0.3333333333333333, \"#9c179e\"], [0.4444444444444444, \"#bd3786\"], [0.5555555555555556, \"#d8576b\"], [0.6666666666666666, \"#ed7953\"], [0.7777777777777778, \"#fb9f3a\"], [0.8888888888888888, \"#fdca26\"], [1.0, \"#f0f921\"]], \"type\": \"histogram2d\"}], \"histogram2dcontour\": [{\"colorbar\": {\"outlinewidth\": 0, \"ticks\": \"\"}, \"colorscale\": [[0.0, \"#0d0887\"], [0.1111111111111111, \"#46039f\"], [0.2222222222222222, \"#7201a8\"], [0.3333333333333333, \"#9c179e\"], [0.4444444444444444, \"#bd3786\"], [0.5555555555555556, \"#d8576b\"], [0.6666666666666666, \"#ed7953\"], [0.7777777777777778, \"#fb9f3a\"], [0.8888888888888888, \"#fdca26\"], [1.0, \"#f0f921\"]], \"type\": \"histogram2dcontour\"}], \"mesh3d\": [{\"colorbar\": {\"outlinewidth\": 0, \"ticks\": \"\"}, \"type\": \"mesh3d\"}], \"parcoords\": [{\"line\": {\"colorbar\": {\"outlinewidth\": 0, \"ticks\": \"\"}}, \"type\": \"parcoords\"}], \"scatter\": [{\"marker\": {\"colorbar\": {\"outlinewidth\": 0, \"ticks\": \"\"}}, \"type\": \"scatter\"}], \"scatter3d\": [{\"line\": {\"colorbar\": {\"outlinewidth\": 0, \"ticks\": \"\"}}, \"marker\": {\"colorbar\": {\"outlinewidth\": 0, \"ticks\": \"\"}}, \"type\": \"scatter3d\"}], \"scattercarpet\": [{\"marker\": {\"colorbar\": {\"outlinewidth\": 0, \"ticks\": \"\"}}, \"type\": \"scattercarpet\"}], \"scattergeo\": [{\"marker\": {\"colorbar\": {\"outlinewidth\": 0, \"ticks\": \"\"}}, \"type\": \"scattergeo\"}], \"scattergl\": [{\"marker\": {\"colorbar\": {\"outlinewidth\": 0, \"ticks\": \"\"}}, \"type\": \"scattergl\"}], \"scattermapbox\": [{\"marker\": {\"colorbar\": {\"outlinewidth\": 0, \"ticks\": \"\"}}, \"type\": \"scattermapbox\"}], \"scatterpolar\": [{\"marker\": {\"colorbar\": {\"outlinewidth\": 0, \"ticks\": \"\"}}, \"type\": \"scatterpolar\"}], \"scatterpolargl\": [{\"marker\": {\"colorbar\": {\"outlinewidth\": 0, \"ticks\": \"\"}}, \"type\": \"scatterpolargl\"}], \"scatterternary\": [{\"marker\": {\"colorbar\": {\"outlinewidth\": 0, \"ticks\": \"\"}}, \"type\": \"scatterternary\"}], \"surface\": [{\"colorbar\": {\"outlinewidth\": 0, \"ticks\": \"\"}, \"colorscale\": [[0.0, \"#0d0887\"], [0.1111111111111111, \"#46039f\"], [0.2222222222222222, \"#7201a8\"], [0.3333333333333333, \"#9c179e\"], [0.4444444444444444, \"#bd3786\"], [0.5555555555555556, \"#d8576b\"], [0.6666666666666666, \"#ed7953\"], [0.7777777777777778, \"#fb9f3a\"], [0.8888888888888888, \"#fdca26\"], [1.0, \"#f0f921\"]], \"type\": \"surface\"}], \"table\": [{\"cells\": {\"fill\": {\"color\": \"#EBF0F8\"}, \"line\": {\"color\": \"white\"}}, \"header\": {\"fill\": {\"color\": \"#C8D4E3\"}, \"line\": {\"color\": \"white\"}}, \"type\": \"table\"}]}, \"layout\": {\"annotationdefaults\": {\"arrowcolor\": \"#2a3f5f\", \"arrowhead\": 0, \"arrowwidth\": 1}, \"colorscale\": {\"diverging\": [[0, \"#8e0152\"], [0.1, \"#c51b7d\"], [0.2, \"#de77ae\"], [0.3, \"#f1b6da\"], [0.4, \"#fde0ef\"], [0.5, \"#f7f7f7\"], [0.6, \"#e6f5d0\"], [0.7, \"#b8e186\"], [0.8, \"#7fbc41\"], [0.9, \"#4d9221\"], [1, \"#276419\"]], \"sequential\": [[0.0, \"#0d0887\"], [0.1111111111111111, \"#46039f\"], [0.2222222222222222, \"#7201a8\"], [0.3333333333333333, \"#9c179e\"], [0.4444444444444444, \"#bd3786\"], [0.5555555555555556, \"#d8576b\"], [0.6666666666666666, \"#ed7953\"], [0.7777777777777778, \"#fb9f3a\"], [0.8888888888888888, \"#fdca26\"], [1.0, \"#f0f921\"]], \"sequentialminus\": [[0.0, \"#0d0887\"], [0.1111111111111111, \"#46039f\"], [0.2222222222222222, \"#7201a8\"], [0.3333333333333333, \"#9c179e\"], [0.4444444444444444, \"#bd3786\"], [0.5555555555555556, \"#d8576b\"], [0.6666666666666666, \"#ed7953\"], [0.7777777777777778, \"#fb9f3a\"], [0.8888888888888888, \"#fdca26\"], [1.0, \"#f0f921\"]]}, \"colorway\": [\"#636efa\", \"#EF553B\", \"#00cc96\", \"#ab63fa\", \"#FFA15A\", \"#19d3f3\", \"#FF6692\", \"#B6E880\", \"#FF97FF\", \"#FECB52\"], \"font\": {\"color\": \"#2a3f5f\"}, \"geo\": {\"bgcolor\": \"white\", \"lakecolor\": \"white\", \"landcolor\": \"#E5ECF6\", \"showlakes\": true, \"showland\": true, \"subunitcolor\": \"white\"}, \"hoverlabel\": {\"align\": \"left\"}, \"hovermode\": \"closest\", \"mapbox\": {\"style\": \"light\"}, \"paper_bgcolor\": \"white\", \"plot_bgcolor\": \"#E5ECF6\", \"polar\": {\"angularaxis\": {\"gridcolor\": \"white\", \"linecolor\": \"white\", \"ticks\": \"\"}, \"bgcolor\": \"#E5ECF6\", \"radialaxis\": {\"gridcolor\": \"white\", \"linecolor\": \"white\", \"ticks\": \"\"}}, \"scene\": {\"xaxis\": {\"backgroundcolor\": \"#E5ECF6\", \"gridcolor\": \"white\", \"gridwidth\": 2, \"linecolor\": \"white\", \"showbackground\": true, \"ticks\": \"\", \"zerolinecolor\": \"white\"}, \"yaxis\": {\"backgroundcolor\": \"#E5ECF6\", \"gridcolor\": \"white\", \"gridwidth\": 2, \"linecolor\": \"white\", \"showbackground\": true, \"ticks\": \"\", \"zerolinecolor\": \"white\"}, \"zaxis\": {\"backgroundcolor\": \"#E5ECF6\", \"gridcolor\": \"white\", \"gridwidth\": 2, \"linecolor\": \"white\", \"showbackground\": true, \"ticks\": \"\", \"zerolinecolor\": \"white\"}}, \"shapedefaults\": {\"line\": {\"color\": \"#2a3f5f\"}}, \"ternary\": {\"aaxis\": {\"gridcolor\": \"white\", \"linecolor\": \"white\", \"ticks\": \"\"}, \"baxis\": {\"gridcolor\": \"white\", \"linecolor\": \"white\", \"ticks\": \"\"}, \"bgcolor\": \"#E5ECF6\", \"caxis\": {\"gridcolor\": \"white\", \"linecolor\": \"white\", \"ticks\": \"\"}}, \"title\": {\"x\": 0.05}, \"xaxis\": {\"automargin\": true, \"gridcolor\": \"white\", \"linecolor\": \"white\", \"ticks\": \"\", \"zerolinecolor\": \"white\", \"zerolinewidth\": 2}, \"yaxis\": {\"automargin\": true, \"gridcolor\": \"white\", \"linecolor\": \"white\", \"ticks\": \"\", \"zerolinecolor\": \"white\", \"zerolinewidth\": 2}}}, \"title\": {\"text\": \"AMZN Call Price vs Strike Expiration: 2020-04-17 00:00:00\"}, \"xaxis\": {\"title\": {\"text\": \"Strike\"}}, \"yaxis\": {\"title\": {\"text\": \"Price\"}}},\n",
       "                        {\"responsive\": true}\n",
       "                    ).then(function(){\n",
       "                            \n",
       "var gd = document.getElementById('2de4581e-16b0-4d63-b501-7a1fbf65659e');\n",
       "var x = new MutationObserver(function (mutations, observer) {{\n",
       "        var display = window.getComputedStyle(gd).display;\n",
       "        if (!display || display === 'none') {{\n",
       "            console.log([gd, 'removed!']);\n",
       "            Plotly.purge(gd);\n",
       "            observer.disconnect();\n",
       "        }}\n",
       "}});\n",
       "\n",
       "// Listen for the removal of the full notebook cells\n",
       "var notebookContainer = gd.closest('#notebook-container');\n",
       "if (notebookContainer) {{\n",
       "    x.observe(notebookContainer, {childList: true});\n",
       "}}\n",
       "\n",
       "// Listen for the clearing of the current output cell\n",
       "var outputEl = gd.closest('.output');\n",
       "if (outputEl) {{\n",
       "    x.observe(outputEl, {childList: true});\n",
       "}}\n",
       "\n",
       "                        })\n",
       "                };\n",
       "                });\n",
       "            </script>\n",
       "        </div>"
      ]
     },
     "metadata": {},
     "output_type": "display_data"
    },
    {
     "data": {
      "application/vnd.plotly.v1+json": {
       "config": {
        "linkText": "Export to plot.ly",
        "plotlyServerURL": "https://plot.ly",
        "showLink": false
       },
       "data": [
        {
         "name": "American",
         "type": "scatter",
         "x": [
          1800,
          1820,
          1840,
          1860,
          1880,
          1900,
          1920,
          1940,
          1960,
          1980,
          2000,
          2010,
          2020,
          2030,
          2040,
          2050,
          2060,
          2070,
          2080,
          2090
         ],
         "y": [
          217.11807903314738,
          203.71373184137343,
          188.86006348357165,
          176.56089183540183,
          163.67046492323095,
          148.9285752299471,
          137.92138473037858,
          127.49057898196907,
          117.67151474421796,
          104.926139223033,
          95.77369852285915,
          93.08273926596151,
          86.98281425136355,
          83.44632507721151,
          79.41194317572084,
          74.41191914136384,
          71.5088785053441,
          66.35374371391039,
          63.19421858047112,
          59.43375503018578
         ]
        },
        {
         "name": "European",
         "type": "scatter",
         "x": [
          1800,
          1820,
          1840,
          1860,
          1880,
          1900,
          1920,
          1940,
          1960,
          1980,
          2000,
          2010,
          2020,
          2030,
          2040,
          2050,
          2060,
          2070,
          2080,
          2090
         ],
         "y": [
          217.11807903314738,
          203.71373184137343,
          188.86006348357165,
          176.56089183540183,
          163.67046492323095,
          148.9285752299471,
          137.92138473037858,
          127.49057898196907,
          117.67151474421796,
          104.926139223033,
          95.77369852285915,
          93.08273926596151,
          86.98281425136355,
          83.44632507721151,
          79.41194317572084,
          74.41191914136384,
          71.5088785053441,
          66.35374371391039,
          63.19421858047112,
          59.43375503018578
         ]
        },
        {
         "name": "Black-Scholes",
         "type": "scatter",
         "x": [
          1800,
          1820,
          1840,
          1860,
          1880,
          1900,
          1920,
          1940,
          1960,
          1980,
          2000,
          2010,
          2020,
          2030,
          2040,
          2050,
          2060,
          2070,
          2080,
          2090
         ],
         "y": [
          217.02502182197486,
          203.59995040161584,
          188.95009366221257,
          176.40009247212606,
          163.69997919095545,
          148.8249667875682,
          137.82507909113633,
          127.47504724615453,
          117.52500723003618,
          104.99998863551605,
          95.62504763759591,
          93.00005768121537,
          87.1250637779981,
          83.40006185860102,
          79.27502297765284,
          74.32498689262184,
          71.57491200989989,
          66.32495483218429,
          63.075080669959675,
          59.34999907486167
         ]
        },
        {
         "name": "Bid",
         "type": "scatter",
         "x": [
          1800,
          1820,
          1840,
          1860,
          1880,
          1900,
          1920,
          1940,
          1960,
          1980,
          2000,
          2010,
          2020,
          2030,
          2040,
          2050,
          2060,
          2070,
          2080,
          2090
         ],
         "y": [
          214.95,
          201.8,
          187.2,
          174.85,
          161.55,
          148,
          137.05,
          126.75,
          116.75,
          104.3,
          95,
          92.45,
          86.7,
          82.8,
          78.85,
          73.75,
          71.1,
          65.6,
          61.95,
          58.55
         ]
        },
        {
         "name": "Ask",
         "type": "scatter",
         "x": [
          1800,
          1820,
          1840,
          1860,
          1880,
          1900,
          1920,
          1940,
          1960,
          1980,
          2000,
          2010,
          2020,
          2030,
          2040,
          2050,
          2060,
          2070,
          2080,
          2090
         ],
         "y": [
          219.1,
          205.4,
          190.7,
          177.95,
          165.85,
          149.65,
          138.6,
          128.2,
          118.3,
          105.7,
          96.25,
          93.55,
          87.55,
          84,
          79.7,
          74.9,
          72.05,
          67.05,
          64.2,
          60.15
         ]
        },
        {
         "name": "Underlying",
         "type": "scatter",
         "x": [
          1932.5763,
          1932.5763,
          1932.5763,
          1932.5763,
          1932.5763,
          1932.5763,
          1932.5763,
          1932.5763,
          1932.5763,
          1932.5763,
          1932.5763,
          1932.5763,
          1932.5763,
          1932.5763,
          1932.5763,
          1932.5763,
          1932.5763,
          1932.5763,
          1932.5763,
          1932.5763
         ],
         "y": [
          58.55,
          67,
          75.45,
          83.9,
          92.35,
          100.80000000000001,
          109.25,
          117.7,
          126.15,
          134.60000000000002,
          143.05,
          151.5,
          159.95,
          168.4,
          176.85000000000002,
          185.3,
          193.75,
          202.2,
          210.65000000000003,
          219.1
         ]
        }
       ],
       "layout": {
        "template": {
         "data": {
          "bar": [
           {
            "error_x": {
             "color": "#2a3f5f"
            },
            "error_y": {
             "color": "#2a3f5f"
            },
            "marker": {
             "line": {
              "color": "#E5ECF6",
              "width": 0.5
             }
            },
            "type": "bar"
           }
          ],
          "barpolar": [
           {
            "marker": {
             "line": {
              "color": "#E5ECF6",
              "width": 0.5
             }
            },
            "type": "barpolar"
           }
          ],
          "carpet": [
           {
            "aaxis": {
             "endlinecolor": "#2a3f5f",
             "gridcolor": "white",
             "linecolor": "white",
             "minorgridcolor": "white",
             "startlinecolor": "#2a3f5f"
            },
            "baxis": {
             "endlinecolor": "#2a3f5f",
             "gridcolor": "white",
             "linecolor": "white",
             "minorgridcolor": "white",
             "startlinecolor": "#2a3f5f"
            },
            "type": "carpet"
           }
          ],
          "choropleth": [
           {
            "colorbar": {
             "outlinewidth": 0,
             "ticks": ""
            },
            "type": "choropleth"
           }
          ],
          "contour": [
           {
            "colorbar": {
             "outlinewidth": 0,
             "ticks": ""
            },
            "colorscale": [
             [
              0,
              "#0d0887"
             ],
             [
              0.1111111111111111,
              "#46039f"
             ],
             [
              0.2222222222222222,
              "#7201a8"
             ],
             [
              0.3333333333333333,
              "#9c179e"
             ],
             [
              0.4444444444444444,
              "#bd3786"
             ],
             [
              0.5555555555555556,
              "#d8576b"
             ],
             [
              0.6666666666666666,
              "#ed7953"
             ],
             [
              0.7777777777777778,
              "#fb9f3a"
             ],
             [
              0.8888888888888888,
              "#fdca26"
             ],
             [
              1,
              "#f0f921"
             ]
            ],
            "type": "contour"
           }
          ],
          "contourcarpet": [
           {
            "colorbar": {
             "outlinewidth": 0,
             "ticks": ""
            },
            "type": "contourcarpet"
           }
          ],
          "heatmap": [
           {
            "colorbar": {
             "outlinewidth": 0,
             "ticks": ""
            },
            "colorscale": [
             [
              0,
              "#0d0887"
             ],
             [
              0.1111111111111111,
              "#46039f"
             ],
             [
              0.2222222222222222,
              "#7201a8"
             ],
             [
              0.3333333333333333,
              "#9c179e"
             ],
             [
              0.4444444444444444,
              "#bd3786"
             ],
             [
              0.5555555555555556,
              "#d8576b"
             ],
             [
              0.6666666666666666,
              "#ed7953"
             ],
             [
              0.7777777777777778,
              "#fb9f3a"
             ],
             [
              0.8888888888888888,
              "#fdca26"
             ],
             [
              1,
              "#f0f921"
             ]
            ],
            "type": "heatmap"
           }
          ],
          "heatmapgl": [
           {
            "colorbar": {
             "outlinewidth": 0,
             "ticks": ""
            },
            "colorscale": [
             [
              0,
              "#0d0887"
             ],
             [
              0.1111111111111111,
              "#46039f"
             ],
             [
              0.2222222222222222,
              "#7201a8"
             ],
             [
              0.3333333333333333,
              "#9c179e"
             ],
             [
              0.4444444444444444,
              "#bd3786"
             ],
             [
              0.5555555555555556,
              "#d8576b"
             ],
             [
              0.6666666666666666,
              "#ed7953"
             ],
             [
              0.7777777777777778,
              "#fb9f3a"
             ],
             [
              0.8888888888888888,
              "#fdca26"
             ],
             [
              1,
              "#f0f921"
             ]
            ],
            "type": "heatmapgl"
           }
          ],
          "histogram": [
           {
            "marker": {
             "colorbar": {
              "outlinewidth": 0,
              "ticks": ""
             }
            },
            "type": "histogram"
           }
          ],
          "histogram2d": [
           {
            "colorbar": {
             "outlinewidth": 0,
             "ticks": ""
            },
            "colorscale": [
             [
              0,
              "#0d0887"
             ],
             [
              0.1111111111111111,
              "#46039f"
             ],
             [
              0.2222222222222222,
              "#7201a8"
             ],
             [
              0.3333333333333333,
              "#9c179e"
             ],
             [
              0.4444444444444444,
              "#bd3786"
             ],
             [
              0.5555555555555556,
              "#d8576b"
             ],
             [
              0.6666666666666666,
              "#ed7953"
             ],
             [
              0.7777777777777778,
              "#fb9f3a"
             ],
             [
              0.8888888888888888,
              "#fdca26"
             ],
             [
              1,
              "#f0f921"
             ]
            ],
            "type": "histogram2d"
           }
          ],
          "histogram2dcontour": [
           {
            "colorbar": {
             "outlinewidth": 0,
             "ticks": ""
            },
            "colorscale": [
             [
              0,
              "#0d0887"
             ],
             [
              0.1111111111111111,
              "#46039f"
             ],
             [
              0.2222222222222222,
              "#7201a8"
             ],
             [
              0.3333333333333333,
              "#9c179e"
             ],
             [
              0.4444444444444444,
              "#bd3786"
             ],
             [
              0.5555555555555556,
              "#d8576b"
             ],
             [
              0.6666666666666666,
              "#ed7953"
             ],
             [
              0.7777777777777778,
              "#fb9f3a"
             ],
             [
              0.8888888888888888,
              "#fdca26"
             ],
             [
              1,
              "#f0f921"
             ]
            ],
            "type": "histogram2dcontour"
           }
          ],
          "mesh3d": [
           {
            "colorbar": {
             "outlinewidth": 0,
             "ticks": ""
            },
            "type": "mesh3d"
           }
          ],
          "parcoords": [
           {
            "line": {
             "colorbar": {
              "outlinewidth": 0,
              "ticks": ""
             }
            },
            "type": "parcoords"
           }
          ],
          "scatter": [
           {
            "marker": {
             "colorbar": {
              "outlinewidth": 0,
              "ticks": ""
             }
            },
            "type": "scatter"
           }
          ],
          "scatter3d": [
           {
            "line": {
             "colorbar": {
              "outlinewidth": 0,
              "ticks": ""
             }
            },
            "marker": {
             "colorbar": {
              "outlinewidth": 0,
              "ticks": ""
             }
            },
            "type": "scatter3d"
           }
          ],
          "scattercarpet": [
           {
            "marker": {
             "colorbar": {
              "outlinewidth": 0,
              "ticks": ""
             }
            },
            "type": "scattercarpet"
           }
          ],
          "scattergeo": [
           {
            "marker": {
             "colorbar": {
              "outlinewidth": 0,
              "ticks": ""
             }
            },
            "type": "scattergeo"
           }
          ],
          "scattergl": [
           {
            "marker": {
             "colorbar": {
              "outlinewidth": 0,
              "ticks": ""
             }
            },
            "type": "scattergl"
           }
          ],
          "scattermapbox": [
           {
            "marker": {
             "colorbar": {
              "outlinewidth": 0,
              "ticks": ""
             }
            },
            "type": "scattermapbox"
           }
          ],
          "scatterpolar": [
           {
            "marker": {
             "colorbar": {
              "outlinewidth": 0,
              "ticks": ""
             }
            },
            "type": "scatterpolar"
           }
          ],
          "scatterpolargl": [
           {
            "marker": {
             "colorbar": {
              "outlinewidth": 0,
              "ticks": ""
             }
            },
            "type": "scatterpolargl"
           }
          ],
          "scatterternary": [
           {
            "marker": {
             "colorbar": {
              "outlinewidth": 0,
              "ticks": ""
             }
            },
            "type": "scatterternary"
           }
          ],
          "surface": [
           {
            "colorbar": {
             "outlinewidth": 0,
             "ticks": ""
            },
            "colorscale": [
             [
              0,
              "#0d0887"
             ],
             [
              0.1111111111111111,
              "#46039f"
             ],
             [
              0.2222222222222222,
              "#7201a8"
             ],
             [
              0.3333333333333333,
              "#9c179e"
             ],
             [
              0.4444444444444444,
              "#bd3786"
             ],
             [
              0.5555555555555556,
              "#d8576b"
             ],
             [
              0.6666666666666666,
              "#ed7953"
             ],
             [
              0.7777777777777778,
              "#fb9f3a"
             ],
             [
              0.8888888888888888,
              "#fdca26"
             ],
             [
              1,
              "#f0f921"
             ]
            ],
            "type": "surface"
           }
          ],
          "table": [
           {
            "cells": {
             "fill": {
              "color": "#EBF0F8"
             },
             "line": {
              "color": "white"
             }
            },
            "header": {
             "fill": {
              "color": "#C8D4E3"
             },
             "line": {
              "color": "white"
             }
            },
            "type": "table"
           }
          ]
         },
         "layout": {
          "annotationdefaults": {
           "arrowcolor": "#2a3f5f",
           "arrowhead": 0,
           "arrowwidth": 1
          },
          "colorscale": {
           "diverging": [
            [
             0,
             "#8e0152"
            ],
            [
             0.1,
             "#c51b7d"
            ],
            [
             0.2,
             "#de77ae"
            ],
            [
             0.3,
             "#f1b6da"
            ],
            [
             0.4,
             "#fde0ef"
            ],
            [
             0.5,
             "#f7f7f7"
            ],
            [
             0.6,
             "#e6f5d0"
            ],
            [
             0.7,
             "#b8e186"
            ],
            [
             0.8,
             "#7fbc41"
            ],
            [
             0.9,
             "#4d9221"
            ],
            [
             1,
             "#276419"
            ]
           ],
           "sequential": [
            [
             0,
             "#0d0887"
            ],
            [
             0.1111111111111111,
             "#46039f"
            ],
            [
             0.2222222222222222,
             "#7201a8"
            ],
            [
             0.3333333333333333,
             "#9c179e"
            ],
            [
             0.4444444444444444,
             "#bd3786"
            ],
            [
             0.5555555555555556,
             "#d8576b"
            ],
            [
             0.6666666666666666,
             "#ed7953"
            ],
            [
             0.7777777777777778,
             "#fb9f3a"
            ],
            [
             0.8888888888888888,
             "#fdca26"
            ],
            [
             1,
             "#f0f921"
            ]
           ],
           "sequentialminus": [
            [
             0,
             "#0d0887"
            ],
            [
             0.1111111111111111,
             "#46039f"
            ],
            [
             0.2222222222222222,
             "#7201a8"
            ],
            [
             0.3333333333333333,
             "#9c179e"
            ],
            [
             0.4444444444444444,
             "#bd3786"
            ],
            [
             0.5555555555555556,
             "#d8576b"
            ],
            [
             0.6666666666666666,
             "#ed7953"
            ],
            [
             0.7777777777777778,
             "#fb9f3a"
            ],
            [
             0.8888888888888888,
             "#fdca26"
            ],
            [
             1,
             "#f0f921"
            ]
           ]
          },
          "colorway": [
           "#636efa",
           "#EF553B",
           "#00cc96",
           "#ab63fa",
           "#FFA15A",
           "#19d3f3",
           "#FF6692",
           "#B6E880",
           "#FF97FF",
           "#FECB52"
          ],
          "font": {
           "color": "#2a3f5f"
          },
          "geo": {
           "bgcolor": "white",
           "lakecolor": "white",
           "landcolor": "#E5ECF6",
           "showlakes": true,
           "showland": true,
           "subunitcolor": "white"
          },
          "hoverlabel": {
           "align": "left"
          },
          "hovermode": "closest",
          "mapbox": {
           "style": "light"
          },
          "paper_bgcolor": "white",
          "plot_bgcolor": "#E5ECF6",
          "polar": {
           "angularaxis": {
            "gridcolor": "white",
            "linecolor": "white",
            "ticks": ""
           },
           "bgcolor": "#E5ECF6",
           "radialaxis": {
            "gridcolor": "white",
            "linecolor": "white",
            "ticks": ""
           }
          },
          "scene": {
           "xaxis": {
            "backgroundcolor": "#E5ECF6",
            "gridcolor": "white",
            "gridwidth": 2,
            "linecolor": "white",
            "showbackground": true,
            "ticks": "",
            "zerolinecolor": "white"
           },
           "yaxis": {
            "backgroundcolor": "#E5ECF6",
            "gridcolor": "white",
            "gridwidth": 2,
            "linecolor": "white",
            "showbackground": true,
            "ticks": "",
            "zerolinecolor": "white"
           },
           "zaxis": {
            "backgroundcolor": "#E5ECF6",
            "gridcolor": "white",
            "gridwidth": 2,
            "linecolor": "white",
            "showbackground": true,
            "ticks": "",
            "zerolinecolor": "white"
           }
          },
          "shapedefaults": {
           "line": {
            "color": "#2a3f5f"
           }
          },
          "ternary": {
           "aaxis": {
            "gridcolor": "white",
            "linecolor": "white",
            "ticks": ""
           },
           "baxis": {
            "gridcolor": "white",
            "linecolor": "white",
            "ticks": ""
           },
           "bgcolor": "#E5ECF6",
           "caxis": {
            "gridcolor": "white",
            "linecolor": "white",
            "ticks": ""
           }
          },
          "title": {
           "x": 0.05
          },
          "xaxis": {
           "automargin": true,
           "gridcolor": "white",
           "linecolor": "white",
           "ticks": "",
           "zerolinecolor": "white",
           "zerolinewidth": 2
          },
          "yaxis": {
           "automargin": true,
           "gridcolor": "white",
           "linecolor": "white",
           "ticks": "",
           "zerolinecolor": "white",
           "zerolinewidth": 2
          }
         }
        },
        "title": {
         "text": "AMZN Call Price vs Strike Expiration: 2020-05-15 00:00:00"
        },
        "xaxis": {
         "title": {
          "text": "Strike"
         }
        },
        "yaxis": {
         "title": {
          "text": "Price"
         }
        }
       }
      },
      "text/html": [
       "<div>\n",
       "        \n",
       "        \n",
       "            <div id=\"0cfc5e95-446d-4bc8-b213-8240a8d89eda\" class=\"plotly-graph-div\" style=\"height:525px; width:100%;\"></div>\n",
       "            <script type=\"text/javascript\">\n",
       "                require([\"plotly\"], function(Plotly) {\n",
       "                    window.PLOTLYENV=window.PLOTLYENV || {};\n",
       "                    \n",
       "                if (document.getElementById(\"0cfc5e95-446d-4bc8-b213-8240a8d89eda\")) {\n",
       "                    Plotly.newPlot(\n",
       "                        '0cfc5e95-446d-4bc8-b213-8240a8d89eda',\n",
       "                        [{\"name\": \"American\", \"type\": \"scatter\", \"x\": [1800.0, 1820.0, 1840.0, 1860.0, 1880.0, 1900.0, 1920.0, 1940.0, 1960.0, 1980.0, 2000.0, 2010.0, 2020.0, 2030.0, 2040.0, 2050.0, 2060.0, 2070.0, 2080.0, 2090.0], \"y\": [217.11807903314738, 203.71373184137343, 188.86006348357165, 176.56089183540183, 163.67046492323095, 148.9285752299471, 137.92138473037858, 127.49057898196907, 117.67151474421796, 104.926139223033, 95.77369852285915, 93.08273926596151, 86.98281425136355, 83.44632507721151, 79.41194317572084, 74.41191914136384, 71.5088785053441, 66.35374371391039, 63.19421858047112, 59.43375503018578]}, {\"name\": \"European\", \"type\": \"scatter\", \"x\": [1800.0, 1820.0, 1840.0, 1860.0, 1880.0, 1900.0, 1920.0, 1940.0, 1960.0, 1980.0, 2000.0, 2010.0, 2020.0, 2030.0, 2040.0, 2050.0, 2060.0, 2070.0, 2080.0, 2090.0], \"y\": [217.11807903314738, 203.71373184137343, 188.86006348357165, 176.56089183540183, 163.67046492323095, 148.9285752299471, 137.92138473037858, 127.49057898196907, 117.67151474421796, 104.926139223033, 95.77369852285915, 93.08273926596151, 86.98281425136355, 83.44632507721151, 79.41194317572084, 74.41191914136384, 71.5088785053441, 66.35374371391039, 63.19421858047112, 59.43375503018578]}, {\"name\": \"Black-Scholes\", \"type\": \"scatter\", \"x\": [1800.0, 1820.0, 1840.0, 1860.0, 1880.0, 1900.0, 1920.0, 1940.0, 1960.0, 1980.0, 2000.0, 2010.0, 2020.0, 2030.0, 2040.0, 2050.0, 2060.0, 2070.0, 2080.0, 2090.0], \"y\": [217.02502182197486, 203.59995040161584, 188.95009366221257, 176.40009247212606, 163.69997919095545, 148.8249667875682, 137.82507909113633, 127.47504724615453, 117.52500723003618, 104.99998863551605, 95.62504763759591, 93.00005768121537, 87.1250637779981, 83.40006185860102, 79.27502297765284, 74.32498689262184, 71.57491200989989, 66.32495483218429, 63.075080669959675, 59.34999907486167]}, {\"name\": \"Bid\", \"type\": \"scatter\", \"x\": [1800.0, 1820.0, 1840.0, 1860.0, 1880.0, 1900.0, 1920.0, 1940.0, 1960.0, 1980.0, 2000.0, 2010.0, 2020.0, 2030.0, 2040.0, 2050.0, 2060.0, 2070.0, 2080.0, 2090.0], \"y\": [214.95, 201.8, 187.2, 174.85, 161.55, 148.0, 137.05, 126.75, 116.75, 104.3, 95.0, 92.45, 86.7, 82.8, 78.85, 73.75, 71.1, 65.6, 61.95, 58.55]}, {\"name\": \"Ask\", \"type\": \"scatter\", \"x\": [1800.0, 1820.0, 1840.0, 1860.0, 1880.0, 1900.0, 1920.0, 1940.0, 1960.0, 1980.0, 2000.0, 2010.0, 2020.0, 2030.0, 2040.0, 2050.0, 2060.0, 2070.0, 2080.0, 2090.0], \"y\": [219.1, 205.4, 190.7, 177.95, 165.85, 149.65, 138.6, 128.2, 118.3, 105.7, 96.25, 93.55, 87.55, 84.0, 79.7, 74.9, 72.05, 67.05, 64.2, 60.15]}, {\"name\": \"Underlying\", \"type\": \"scatter\", \"x\": [1932.5763, 1932.5763, 1932.5763, 1932.5763, 1932.5763, 1932.5763, 1932.5763, 1932.5763, 1932.5763, 1932.5763, 1932.5763, 1932.5763, 1932.5763, 1932.5763, 1932.5763, 1932.5763, 1932.5763, 1932.5763, 1932.5763, 1932.5763], \"y\": [58.55, 67.0, 75.45, 83.9, 92.35, 100.80000000000001, 109.25, 117.7, 126.15, 134.60000000000002, 143.05, 151.5, 159.95, 168.4, 176.85000000000002, 185.3, 193.75, 202.2, 210.65000000000003, 219.1]}],\n",
       "                        {\"template\": {\"data\": {\"bar\": [{\"error_x\": {\"color\": \"#2a3f5f\"}, \"error_y\": {\"color\": \"#2a3f5f\"}, \"marker\": {\"line\": {\"color\": \"#E5ECF6\", \"width\": 0.5}}, \"type\": \"bar\"}], \"barpolar\": [{\"marker\": {\"line\": {\"color\": \"#E5ECF6\", \"width\": 0.5}}, \"type\": \"barpolar\"}], \"carpet\": [{\"aaxis\": {\"endlinecolor\": \"#2a3f5f\", \"gridcolor\": \"white\", \"linecolor\": \"white\", \"minorgridcolor\": \"white\", \"startlinecolor\": \"#2a3f5f\"}, \"baxis\": {\"endlinecolor\": \"#2a3f5f\", \"gridcolor\": \"white\", \"linecolor\": \"white\", \"minorgridcolor\": \"white\", \"startlinecolor\": \"#2a3f5f\"}, \"type\": \"carpet\"}], \"choropleth\": [{\"colorbar\": {\"outlinewidth\": 0, \"ticks\": \"\"}, \"type\": \"choropleth\"}], \"contour\": [{\"colorbar\": {\"outlinewidth\": 0, \"ticks\": \"\"}, \"colorscale\": [[0.0, \"#0d0887\"], [0.1111111111111111, \"#46039f\"], [0.2222222222222222, \"#7201a8\"], [0.3333333333333333, \"#9c179e\"], [0.4444444444444444, \"#bd3786\"], [0.5555555555555556, \"#d8576b\"], [0.6666666666666666, \"#ed7953\"], [0.7777777777777778, \"#fb9f3a\"], [0.8888888888888888, \"#fdca26\"], [1.0, \"#f0f921\"]], \"type\": \"contour\"}], \"contourcarpet\": [{\"colorbar\": {\"outlinewidth\": 0, \"ticks\": \"\"}, \"type\": \"contourcarpet\"}], \"heatmap\": [{\"colorbar\": {\"outlinewidth\": 0, \"ticks\": \"\"}, \"colorscale\": [[0.0, \"#0d0887\"], [0.1111111111111111, \"#46039f\"], [0.2222222222222222, \"#7201a8\"], [0.3333333333333333, \"#9c179e\"], [0.4444444444444444, \"#bd3786\"], [0.5555555555555556, \"#d8576b\"], [0.6666666666666666, \"#ed7953\"], [0.7777777777777778, \"#fb9f3a\"], [0.8888888888888888, \"#fdca26\"], [1.0, \"#f0f921\"]], \"type\": \"heatmap\"}], \"heatmapgl\": [{\"colorbar\": {\"outlinewidth\": 0, \"ticks\": \"\"}, \"colorscale\": [[0.0, \"#0d0887\"], [0.1111111111111111, \"#46039f\"], [0.2222222222222222, \"#7201a8\"], [0.3333333333333333, \"#9c179e\"], [0.4444444444444444, \"#bd3786\"], [0.5555555555555556, \"#d8576b\"], [0.6666666666666666, \"#ed7953\"], [0.7777777777777778, \"#fb9f3a\"], [0.8888888888888888, \"#fdca26\"], [1.0, \"#f0f921\"]], \"type\": \"heatmapgl\"}], \"histogram\": [{\"marker\": {\"colorbar\": {\"outlinewidth\": 0, \"ticks\": \"\"}}, \"type\": \"histogram\"}], \"histogram2d\": [{\"colorbar\": {\"outlinewidth\": 0, \"ticks\": \"\"}, \"colorscale\": [[0.0, \"#0d0887\"], [0.1111111111111111, \"#46039f\"], [0.2222222222222222, \"#7201a8\"], [0.3333333333333333, \"#9c179e\"], [0.4444444444444444, \"#bd3786\"], [0.5555555555555556, \"#d8576b\"], [0.6666666666666666, \"#ed7953\"], [0.7777777777777778, \"#fb9f3a\"], [0.8888888888888888, \"#fdca26\"], [1.0, \"#f0f921\"]], \"type\": \"histogram2d\"}], \"histogram2dcontour\": [{\"colorbar\": {\"outlinewidth\": 0, \"ticks\": \"\"}, \"colorscale\": [[0.0, \"#0d0887\"], [0.1111111111111111, \"#46039f\"], [0.2222222222222222, \"#7201a8\"], [0.3333333333333333, \"#9c179e\"], [0.4444444444444444, \"#bd3786\"], [0.5555555555555556, \"#d8576b\"], [0.6666666666666666, \"#ed7953\"], [0.7777777777777778, \"#fb9f3a\"], [0.8888888888888888, \"#fdca26\"], [1.0, \"#f0f921\"]], \"type\": \"histogram2dcontour\"}], \"mesh3d\": [{\"colorbar\": {\"outlinewidth\": 0, \"ticks\": \"\"}, \"type\": \"mesh3d\"}], \"parcoords\": [{\"line\": {\"colorbar\": {\"outlinewidth\": 0, \"ticks\": \"\"}}, \"type\": \"parcoords\"}], \"scatter\": [{\"marker\": {\"colorbar\": {\"outlinewidth\": 0, \"ticks\": \"\"}}, \"type\": \"scatter\"}], \"scatter3d\": [{\"line\": {\"colorbar\": {\"outlinewidth\": 0, \"ticks\": \"\"}}, \"marker\": {\"colorbar\": {\"outlinewidth\": 0, \"ticks\": \"\"}}, \"type\": \"scatter3d\"}], \"scattercarpet\": [{\"marker\": {\"colorbar\": {\"outlinewidth\": 0, \"ticks\": \"\"}}, \"type\": \"scattercarpet\"}], \"scattergeo\": [{\"marker\": {\"colorbar\": {\"outlinewidth\": 0, \"ticks\": \"\"}}, \"type\": \"scattergeo\"}], \"scattergl\": [{\"marker\": {\"colorbar\": {\"outlinewidth\": 0, \"ticks\": \"\"}}, \"type\": \"scattergl\"}], \"scattermapbox\": [{\"marker\": {\"colorbar\": {\"outlinewidth\": 0, \"ticks\": \"\"}}, \"type\": \"scattermapbox\"}], \"scatterpolar\": [{\"marker\": {\"colorbar\": {\"outlinewidth\": 0, \"ticks\": \"\"}}, \"type\": \"scatterpolar\"}], \"scatterpolargl\": [{\"marker\": {\"colorbar\": {\"outlinewidth\": 0, \"ticks\": \"\"}}, \"type\": \"scatterpolargl\"}], \"scatterternary\": [{\"marker\": {\"colorbar\": {\"outlinewidth\": 0, \"ticks\": \"\"}}, \"type\": \"scatterternary\"}], \"surface\": [{\"colorbar\": {\"outlinewidth\": 0, \"ticks\": \"\"}, \"colorscale\": [[0.0, \"#0d0887\"], [0.1111111111111111, \"#46039f\"], [0.2222222222222222, \"#7201a8\"], [0.3333333333333333, \"#9c179e\"], [0.4444444444444444, \"#bd3786\"], [0.5555555555555556, \"#d8576b\"], [0.6666666666666666, \"#ed7953\"], [0.7777777777777778, \"#fb9f3a\"], [0.8888888888888888, \"#fdca26\"], [1.0, \"#f0f921\"]], \"type\": \"surface\"}], \"table\": [{\"cells\": {\"fill\": {\"color\": \"#EBF0F8\"}, \"line\": {\"color\": \"white\"}}, \"header\": {\"fill\": {\"color\": \"#C8D4E3\"}, \"line\": {\"color\": \"white\"}}, \"type\": \"table\"}]}, \"layout\": {\"annotationdefaults\": {\"arrowcolor\": \"#2a3f5f\", \"arrowhead\": 0, \"arrowwidth\": 1}, \"colorscale\": {\"diverging\": [[0, \"#8e0152\"], [0.1, \"#c51b7d\"], [0.2, \"#de77ae\"], [0.3, \"#f1b6da\"], [0.4, \"#fde0ef\"], [0.5, \"#f7f7f7\"], [0.6, \"#e6f5d0\"], [0.7, \"#b8e186\"], [0.8, \"#7fbc41\"], [0.9, \"#4d9221\"], [1, \"#276419\"]], \"sequential\": [[0.0, \"#0d0887\"], [0.1111111111111111, \"#46039f\"], [0.2222222222222222, \"#7201a8\"], [0.3333333333333333, \"#9c179e\"], [0.4444444444444444, \"#bd3786\"], [0.5555555555555556, \"#d8576b\"], [0.6666666666666666, \"#ed7953\"], [0.7777777777777778, \"#fb9f3a\"], [0.8888888888888888, \"#fdca26\"], [1.0, \"#f0f921\"]], \"sequentialminus\": [[0.0, \"#0d0887\"], [0.1111111111111111, \"#46039f\"], [0.2222222222222222, \"#7201a8\"], [0.3333333333333333, \"#9c179e\"], [0.4444444444444444, \"#bd3786\"], [0.5555555555555556, \"#d8576b\"], [0.6666666666666666, \"#ed7953\"], [0.7777777777777778, \"#fb9f3a\"], [0.8888888888888888, \"#fdca26\"], [1.0, \"#f0f921\"]]}, \"colorway\": [\"#636efa\", \"#EF553B\", \"#00cc96\", \"#ab63fa\", \"#FFA15A\", \"#19d3f3\", \"#FF6692\", \"#B6E880\", \"#FF97FF\", \"#FECB52\"], \"font\": {\"color\": \"#2a3f5f\"}, \"geo\": {\"bgcolor\": \"white\", \"lakecolor\": \"white\", \"landcolor\": \"#E5ECF6\", \"showlakes\": true, \"showland\": true, \"subunitcolor\": \"white\"}, \"hoverlabel\": {\"align\": \"left\"}, \"hovermode\": \"closest\", \"mapbox\": {\"style\": \"light\"}, \"paper_bgcolor\": \"white\", \"plot_bgcolor\": \"#E5ECF6\", \"polar\": {\"angularaxis\": {\"gridcolor\": \"white\", \"linecolor\": \"white\", \"ticks\": \"\"}, \"bgcolor\": \"#E5ECF6\", \"radialaxis\": {\"gridcolor\": \"white\", \"linecolor\": \"white\", \"ticks\": \"\"}}, \"scene\": {\"xaxis\": {\"backgroundcolor\": \"#E5ECF6\", \"gridcolor\": \"white\", \"gridwidth\": 2, \"linecolor\": \"white\", \"showbackground\": true, \"ticks\": \"\", \"zerolinecolor\": \"white\"}, \"yaxis\": {\"backgroundcolor\": \"#E5ECF6\", \"gridcolor\": \"white\", \"gridwidth\": 2, \"linecolor\": \"white\", \"showbackground\": true, \"ticks\": \"\", \"zerolinecolor\": \"white\"}, \"zaxis\": {\"backgroundcolor\": \"#E5ECF6\", \"gridcolor\": \"white\", \"gridwidth\": 2, \"linecolor\": \"white\", \"showbackground\": true, \"ticks\": \"\", \"zerolinecolor\": \"white\"}}, \"shapedefaults\": {\"line\": {\"color\": \"#2a3f5f\"}}, \"ternary\": {\"aaxis\": {\"gridcolor\": \"white\", \"linecolor\": \"white\", \"ticks\": \"\"}, \"baxis\": {\"gridcolor\": \"white\", \"linecolor\": \"white\", \"ticks\": \"\"}, \"bgcolor\": \"#E5ECF6\", \"caxis\": {\"gridcolor\": \"white\", \"linecolor\": \"white\", \"ticks\": \"\"}}, \"title\": {\"x\": 0.05}, \"xaxis\": {\"automargin\": true, \"gridcolor\": \"white\", \"linecolor\": \"white\", \"ticks\": \"\", \"zerolinecolor\": \"white\", \"zerolinewidth\": 2}, \"yaxis\": {\"automargin\": true, \"gridcolor\": \"white\", \"linecolor\": \"white\", \"ticks\": \"\", \"zerolinecolor\": \"white\", \"zerolinewidth\": 2}}}, \"title\": {\"text\": \"AMZN Call Price vs Strike Expiration: 2020-05-15 00:00:00\"}, \"xaxis\": {\"title\": {\"text\": \"Strike\"}}, \"yaxis\": {\"title\": {\"text\": \"Price\"}}},\n",
       "                        {\"responsive\": true}\n",
       "                    ).then(function(){\n",
       "                            \n",
       "var gd = document.getElementById('0cfc5e95-446d-4bc8-b213-8240a8d89eda');\n",
       "var x = new MutationObserver(function (mutations, observer) {{\n",
       "        var display = window.getComputedStyle(gd).display;\n",
       "        if (!display || display === 'none') {{\n",
       "            console.log([gd, 'removed!']);\n",
       "            Plotly.purge(gd);\n",
       "            observer.disconnect();\n",
       "        }}\n",
       "}});\n",
       "\n",
       "// Listen for the removal of the full notebook cells\n",
       "var notebookContainer = gd.closest('#notebook-container');\n",
       "if (notebookContainer) {{\n",
       "    x.observe(notebookContainer, {childList: true});\n",
       "}}\n",
       "\n",
       "// Listen for the clearing of the current output cell\n",
       "var outputEl = gd.closest('.output');\n",
       "if (outputEl) {{\n",
       "    x.observe(outputEl, {childList: true});\n",
       "}}\n",
       "\n",
       "                        })\n",
       "                };\n",
       "                });\n",
       "            </script>\n",
       "        </div>"
      ]
     },
     "metadata": {},
     "output_type": "display_data"
    },
    {
     "data": {
      "application/vnd.plotly.v1+json": {
       "config": {
        "linkText": "Export to plot.ly",
        "plotlyServerURL": "https://plot.ly",
        "showLink": false
       },
       "data": [
        {
         "name": "American",
         "type": "scatter",
         "x": [
          1885,
          1890,
          1895,
          1900,
          1905,
          1910,
          1915,
          1920,
          1925,
          1930,
          1935,
          1940,
          1945,
          1950,
          1955,
          1960,
          1965,
          1970,
          1975,
          1980
         ],
         "y": [
          175.15337242136218,
          172.3813020603496,
          169.30600686607318,
          166.58123321435588,
          165.40697434973075,
          161.12554436611057,
          158.61976253883435,
          155.23728969988298,
          154.55051619945093,
          149.46568739026193,
          146.58729133670158,
          144.35014714321773,
          143.40966286517468,
          139.7187564816816,
          136.64905454074562,
          133.80119481825895,
          131.40104021516476,
          129.27445704151737,
          126.01451335787226,
          123.90786555087323
         ]
        },
        {
         "name": "European",
         "type": "scatter",
         "x": [
          1885,
          1890,
          1895,
          1900,
          1905,
          1910,
          1915,
          1920,
          1925,
          1930,
          1935,
          1940,
          1945,
          1950,
          1955,
          1960,
          1965,
          1970,
          1975,
          1980
         ],
         "y": [
          175.15337242136218,
          172.3813020603496,
          169.30600686607318,
          166.58123321435588,
          165.40697434973075,
          161.12554436611057,
          158.61976253883435,
          155.23728969988298,
          154.55051619945093,
          149.46568739026193,
          146.58729133670158,
          144.35014714321773,
          143.40966286517468,
          139.7187564816816,
          136.64905454074562,
          133.80119481825895,
          131.40104021516476,
          129.27445704151737,
          126.01451335787226,
          123.90786555087323
         ]
        },
        {
         "name": "Black-Scholes",
         "type": "scatter",
         "x": [
          1885,
          1890,
          1895,
          1900,
          1905,
          1910,
          1915,
          1920,
          1925,
          1930,
          1935,
          1940,
          1945,
          1950,
          1955,
          1960,
          1965,
          1970,
          1975,
          1980
         ],
         "y": [
          175.22486880362965,
          172.35011866491584,
          169.19990516897792,
          166.42506616678554,
          165.22509982089048,
          160.94997009140002,
          158.4749760329363,
          155.15008305701974,
          154.55011855457894,
          149.57498746701424,
          146.70000085075867,
          144.35009328644594,
          143.32497103165042,
          139.57505268893442,
          136.47500039721194,
          133.62508038967178,
          131.2501101927636,
          129.17511396194845,
          125.99998917337291,
          123.99991345617877
         ]
        },
        {
         "name": "Bid",
         "type": "scatter",
         "x": [
          1885,
          1890,
          1895,
          1900,
          1905,
          1910,
          1915,
          1920,
          1925,
          1930,
          1935,
          1940,
          1945,
          1950,
          1955,
          1960,
          1965,
          1970,
          1975,
          1980
         ],
         "y": [
          173,
          170.95,
          167.8,
          164.85,
          163.8,
          159.7,
          157.15,
          153.9,
          153,
          148.35,
          145.65,
          142.9,
          142.05,
          138.55,
          135.5,
          132.7,
          130.45,
          128.05,
          124.7,
          122.55
         ]
        },
        {
         "name": "Ask",
         "type": "scatter",
         "x": [
          1885,
          1890,
          1895,
          1900,
          1905,
          1910,
          1915,
          1920,
          1925,
          1930,
          1935,
          1940,
          1945,
          1950,
          1955,
          1960,
          1965,
          1970,
          1975,
          1980
         ],
         "y": [
          177.45,
          173.75,
          170.6,
          168,
          166.65,
          162.2,
          159.8,
          156.4,
          156.1,
          150.8,
          147.75,
          145.8,
          144.6,
          140.6,
          137.45,
          134.55,
          132.05,
          130.3,
          127.3,
          125.45
         ]
        },
        {
         "name": "Underlying",
         "type": "scatter",
         "x": [
          1932.5763,
          1932.5763,
          1932.5763,
          1932.5763,
          1932.5763,
          1932.5763,
          1932.5763,
          1932.5763,
          1932.5763,
          1932.5763,
          1932.5763,
          1932.5763,
          1932.5763,
          1932.5763,
          1932.5763,
          1932.5763,
          1932.5763,
          1932.5763,
          1932.5763,
          1932.5763
         ],
         "y": [
          122.55,
          125.43947368421053,
          128.32894736842104,
          131.21842105263158,
          134.1078947368421,
          136.9973684210526,
          139.88684210526316,
          142.77631578947367,
          145.6657894736842,
          148.55526315789473,
          151.44473684210524,
          154.3342105263158,
          157.2236842105263,
          160.11315789473684,
          163.00263157894736,
          165.89210526315787,
          168.78157894736842,
          171.67105263157893,
          174.56052631578945,
          177.45
         ]
        }
       ],
       "layout": {
        "template": {
         "data": {
          "bar": [
           {
            "error_x": {
             "color": "#2a3f5f"
            },
            "error_y": {
             "color": "#2a3f5f"
            },
            "marker": {
             "line": {
              "color": "#E5ECF6",
              "width": 0.5
             }
            },
            "type": "bar"
           }
          ],
          "barpolar": [
           {
            "marker": {
             "line": {
              "color": "#E5ECF6",
              "width": 0.5
             }
            },
            "type": "barpolar"
           }
          ],
          "carpet": [
           {
            "aaxis": {
             "endlinecolor": "#2a3f5f",
             "gridcolor": "white",
             "linecolor": "white",
             "minorgridcolor": "white",
             "startlinecolor": "#2a3f5f"
            },
            "baxis": {
             "endlinecolor": "#2a3f5f",
             "gridcolor": "white",
             "linecolor": "white",
             "minorgridcolor": "white",
             "startlinecolor": "#2a3f5f"
            },
            "type": "carpet"
           }
          ],
          "choropleth": [
           {
            "colorbar": {
             "outlinewidth": 0,
             "ticks": ""
            },
            "type": "choropleth"
           }
          ],
          "contour": [
           {
            "colorbar": {
             "outlinewidth": 0,
             "ticks": ""
            },
            "colorscale": [
             [
              0,
              "#0d0887"
             ],
             [
              0.1111111111111111,
              "#46039f"
             ],
             [
              0.2222222222222222,
              "#7201a8"
             ],
             [
              0.3333333333333333,
              "#9c179e"
             ],
             [
              0.4444444444444444,
              "#bd3786"
             ],
             [
              0.5555555555555556,
              "#d8576b"
             ],
             [
              0.6666666666666666,
              "#ed7953"
             ],
             [
              0.7777777777777778,
              "#fb9f3a"
             ],
             [
              0.8888888888888888,
              "#fdca26"
             ],
             [
              1,
              "#f0f921"
             ]
            ],
            "type": "contour"
           }
          ],
          "contourcarpet": [
           {
            "colorbar": {
             "outlinewidth": 0,
             "ticks": ""
            },
            "type": "contourcarpet"
           }
          ],
          "heatmap": [
           {
            "colorbar": {
             "outlinewidth": 0,
             "ticks": ""
            },
            "colorscale": [
             [
              0,
              "#0d0887"
             ],
             [
              0.1111111111111111,
              "#46039f"
             ],
             [
              0.2222222222222222,
              "#7201a8"
             ],
             [
              0.3333333333333333,
              "#9c179e"
             ],
             [
              0.4444444444444444,
              "#bd3786"
             ],
             [
              0.5555555555555556,
              "#d8576b"
             ],
             [
              0.6666666666666666,
              "#ed7953"
             ],
             [
              0.7777777777777778,
              "#fb9f3a"
             ],
             [
              0.8888888888888888,
              "#fdca26"
             ],
             [
              1,
              "#f0f921"
             ]
            ],
            "type": "heatmap"
           }
          ],
          "heatmapgl": [
           {
            "colorbar": {
             "outlinewidth": 0,
             "ticks": ""
            },
            "colorscale": [
             [
              0,
              "#0d0887"
             ],
             [
              0.1111111111111111,
              "#46039f"
             ],
             [
              0.2222222222222222,
              "#7201a8"
             ],
             [
              0.3333333333333333,
              "#9c179e"
             ],
             [
              0.4444444444444444,
              "#bd3786"
             ],
             [
              0.5555555555555556,
              "#d8576b"
             ],
             [
              0.6666666666666666,
              "#ed7953"
             ],
             [
              0.7777777777777778,
              "#fb9f3a"
             ],
             [
              0.8888888888888888,
              "#fdca26"
             ],
             [
              1,
              "#f0f921"
             ]
            ],
            "type": "heatmapgl"
           }
          ],
          "histogram": [
           {
            "marker": {
             "colorbar": {
              "outlinewidth": 0,
              "ticks": ""
             }
            },
            "type": "histogram"
           }
          ],
          "histogram2d": [
           {
            "colorbar": {
             "outlinewidth": 0,
             "ticks": ""
            },
            "colorscale": [
             [
              0,
              "#0d0887"
             ],
             [
              0.1111111111111111,
              "#46039f"
             ],
             [
              0.2222222222222222,
              "#7201a8"
             ],
             [
              0.3333333333333333,
              "#9c179e"
             ],
             [
              0.4444444444444444,
              "#bd3786"
             ],
             [
              0.5555555555555556,
              "#d8576b"
             ],
             [
              0.6666666666666666,
              "#ed7953"
             ],
             [
              0.7777777777777778,
              "#fb9f3a"
             ],
             [
              0.8888888888888888,
              "#fdca26"
             ],
             [
              1,
              "#f0f921"
             ]
            ],
            "type": "histogram2d"
           }
          ],
          "histogram2dcontour": [
           {
            "colorbar": {
             "outlinewidth": 0,
             "ticks": ""
            },
            "colorscale": [
             [
              0,
              "#0d0887"
             ],
             [
              0.1111111111111111,
              "#46039f"
             ],
             [
              0.2222222222222222,
              "#7201a8"
             ],
             [
              0.3333333333333333,
              "#9c179e"
             ],
             [
              0.4444444444444444,
              "#bd3786"
             ],
             [
              0.5555555555555556,
              "#d8576b"
             ],
             [
              0.6666666666666666,
              "#ed7953"
             ],
             [
              0.7777777777777778,
              "#fb9f3a"
             ],
             [
              0.8888888888888888,
              "#fdca26"
             ],
             [
              1,
              "#f0f921"
             ]
            ],
            "type": "histogram2dcontour"
           }
          ],
          "mesh3d": [
           {
            "colorbar": {
             "outlinewidth": 0,
             "ticks": ""
            },
            "type": "mesh3d"
           }
          ],
          "parcoords": [
           {
            "line": {
             "colorbar": {
              "outlinewidth": 0,
              "ticks": ""
             }
            },
            "type": "parcoords"
           }
          ],
          "scatter": [
           {
            "marker": {
             "colorbar": {
              "outlinewidth": 0,
              "ticks": ""
             }
            },
            "type": "scatter"
           }
          ],
          "scatter3d": [
           {
            "line": {
             "colorbar": {
              "outlinewidth": 0,
              "ticks": ""
             }
            },
            "marker": {
             "colorbar": {
              "outlinewidth": 0,
              "ticks": ""
             }
            },
            "type": "scatter3d"
           }
          ],
          "scattercarpet": [
           {
            "marker": {
             "colorbar": {
              "outlinewidth": 0,
              "ticks": ""
             }
            },
            "type": "scattercarpet"
           }
          ],
          "scattergeo": [
           {
            "marker": {
             "colorbar": {
              "outlinewidth": 0,
              "ticks": ""
             }
            },
            "type": "scattergeo"
           }
          ],
          "scattergl": [
           {
            "marker": {
             "colorbar": {
              "outlinewidth": 0,
              "ticks": ""
             }
            },
            "type": "scattergl"
           }
          ],
          "scattermapbox": [
           {
            "marker": {
             "colorbar": {
              "outlinewidth": 0,
              "ticks": ""
             }
            },
            "type": "scattermapbox"
           }
          ],
          "scatterpolar": [
           {
            "marker": {
             "colorbar": {
              "outlinewidth": 0,
              "ticks": ""
             }
            },
            "type": "scatterpolar"
           }
          ],
          "scatterpolargl": [
           {
            "marker": {
             "colorbar": {
              "outlinewidth": 0,
              "ticks": ""
             }
            },
            "type": "scatterpolargl"
           }
          ],
          "scatterternary": [
           {
            "marker": {
             "colorbar": {
              "outlinewidth": 0,
              "ticks": ""
             }
            },
            "type": "scatterternary"
           }
          ],
          "surface": [
           {
            "colorbar": {
             "outlinewidth": 0,
             "ticks": ""
            },
            "colorscale": [
             [
              0,
              "#0d0887"
             ],
             [
              0.1111111111111111,
              "#46039f"
             ],
             [
              0.2222222222222222,
              "#7201a8"
             ],
             [
              0.3333333333333333,
              "#9c179e"
             ],
             [
              0.4444444444444444,
              "#bd3786"
             ],
             [
              0.5555555555555556,
              "#d8576b"
             ],
             [
              0.6666666666666666,
              "#ed7953"
             ],
             [
              0.7777777777777778,
              "#fb9f3a"
             ],
             [
              0.8888888888888888,
              "#fdca26"
             ],
             [
              1,
              "#f0f921"
             ]
            ],
            "type": "surface"
           }
          ],
          "table": [
           {
            "cells": {
             "fill": {
              "color": "#EBF0F8"
             },
             "line": {
              "color": "white"
             }
            },
            "header": {
             "fill": {
              "color": "#C8D4E3"
             },
             "line": {
              "color": "white"
             }
            },
            "type": "table"
           }
          ]
         },
         "layout": {
          "annotationdefaults": {
           "arrowcolor": "#2a3f5f",
           "arrowhead": 0,
           "arrowwidth": 1
          },
          "colorscale": {
           "diverging": [
            [
             0,
             "#8e0152"
            ],
            [
             0.1,
             "#c51b7d"
            ],
            [
             0.2,
             "#de77ae"
            ],
            [
             0.3,
             "#f1b6da"
            ],
            [
             0.4,
             "#fde0ef"
            ],
            [
             0.5,
             "#f7f7f7"
            ],
            [
             0.6,
             "#e6f5d0"
            ],
            [
             0.7,
             "#b8e186"
            ],
            [
             0.8,
             "#7fbc41"
            ],
            [
             0.9,
             "#4d9221"
            ],
            [
             1,
             "#276419"
            ]
           ],
           "sequential": [
            [
             0,
             "#0d0887"
            ],
            [
             0.1111111111111111,
             "#46039f"
            ],
            [
             0.2222222222222222,
             "#7201a8"
            ],
            [
             0.3333333333333333,
             "#9c179e"
            ],
            [
             0.4444444444444444,
             "#bd3786"
            ],
            [
             0.5555555555555556,
             "#d8576b"
            ],
            [
             0.6666666666666666,
             "#ed7953"
            ],
            [
             0.7777777777777778,
             "#fb9f3a"
            ],
            [
             0.8888888888888888,
             "#fdca26"
            ],
            [
             1,
             "#f0f921"
            ]
           ],
           "sequentialminus": [
            [
             0,
             "#0d0887"
            ],
            [
             0.1111111111111111,
             "#46039f"
            ],
            [
             0.2222222222222222,
             "#7201a8"
            ],
            [
             0.3333333333333333,
             "#9c179e"
            ],
            [
             0.4444444444444444,
             "#bd3786"
            ],
            [
             0.5555555555555556,
             "#d8576b"
            ],
            [
             0.6666666666666666,
             "#ed7953"
            ],
            [
             0.7777777777777778,
             "#fb9f3a"
            ],
            [
             0.8888888888888888,
             "#fdca26"
            ],
            [
             1,
             "#f0f921"
            ]
           ]
          },
          "colorway": [
           "#636efa",
           "#EF553B",
           "#00cc96",
           "#ab63fa",
           "#FFA15A",
           "#19d3f3",
           "#FF6692",
           "#B6E880",
           "#FF97FF",
           "#FECB52"
          ],
          "font": {
           "color": "#2a3f5f"
          },
          "geo": {
           "bgcolor": "white",
           "lakecolor": "white",
           "landcolor": "#E5ECF6",
           "showlakes": true,
           "showland": true,
           "subunitcolor": "white"
          },
          "hoverlabel": {
           "align": "left"
          },
          "hovermode": "closest",
          "mapbox": {
           "style": "light"
          },
          "paper_bgcolor": "white",
          "plot_bgcolor": "#E5ECF6",
          "polar": {
           "angularaxis": {
            "gridcolor": "white",
            "linecolor": "white",
            "ticks": ""
           },
           "bgcolor": "#E5ECF6",
           "radialaxis": {
            "gridcolor": "white",
            "linecolor": "white",
            "ticks": ""
           }
          },
          "scene": {
           "xaxis": {
            "backgroundcolor": "#E5ECF6",
            "gridcolor": "white",
            "gridwidth": 2,
            "linecolor": "white",
            "showbackground": true,
            "ticks": "",
            "zerolinecolor": "white"
           },
           "yaxis": {
            "backgroundcolor": "#E5ECF6",
            "gridcolor": "white",
            "gridwidth": 2,
            "linecolor": "white",
            "showbackground": true,
            "ticks": "",
            "zerolinecolor": "white"
           },
           "zaxis": {
            "backgroundcolor": "#E5ECF6",
            "gridcolor": "white",
            "gridwidth": 2,
            "linecolor": "white",
            "showbackground": true,
            "ticks": "",
            "zerolinecolor": "white"
           }
          },
          "shapedefaults": {
           "line": {
            "color": "#2a3f5f"
           }
          },
          "ternary": {
           "aaxis": {
            "gridcolor": "white",
            "linecolor": "white",
            "ticks": ""
           },
           "baxis": {
            "gridcolor": "white",
            "linecolor": "white",
            "ticks": ""
           },
           "bgcolor": "#E5ECF6",
           "caxis": {
            "gridcolor": "white",
            "linecolor": "white",
            "ticks": ""
           }
          },
          "title": {
           "x": 0.05
          },
          "xaxis": {
           "automargin": true,
           "gridcolor": "white",
           "linecolor": "white",
           "ticks": "",
           "zerolinecolor": "white",
           "zerolinewidth": 2
          },
          "yaxis": {
           "automargin": true,
           "gridcolor": "white",
           "linecolor": "white",
           "ticks": "",
           "zerolinecolor": "white",
           "zerolinewidth": 2
          }
         }
        },
        "title": {
         "text": "AMZN Call Price vs Strike Expiration: 2020-06-19 00:00:00"
        },
        "xaxis": {
         "title": {
          "text": "Strike"
         }
        },
        "yaxis": {
         "title": {
          "text": "Price"
         }
        }
       }
      },
      "text/html": [
       "<div>\n",
       "        \n",
       "        \n",
       "            <div id=\"38520529-2f56-4cd0-912d-54dd8f6b8ee7\" class=\"plotly-graph-div\" style=\"height:525px; width:100%;\"></div>\n",
       "            <script type=\"text/javascript\">\n",
       "                require([\"plotly\"], function(Plotly) {\n",
       "                    window.PLOTLYENV=window.PLOTLYENV || {};\n",
       "                    \n",
       "                if (document.getElementById(\"38520529-2f56-4cd0-912d-54dd8f6b8ee7\")) {\n",
       "                    Plotly.newPlot(\n",
       "                        '38520529-2f56-4cd0-912d-54dd8f6b8ee7',\n",
       "                        [{\"name\": \"American\", \"type\": \"scatter\", \"x\": [1885.0, 1890.0, 1895.0, 1900.0, 1905.0, 1910.0, 1915.0, 1920.0, 1925.0, 1930.0, 1935.0, 1940.0, 1945.0, 1950.0, 1955.0, 1960.0, 1965.0, 1970.0, 1975.0, 1980.0], \"y\": [175.15337242136218, 172.3813020603496, 169.30600686607318, 166.58123321435588, 165.40697434973075, 161.12554436611057, 158.61976253883435, 155.23728969988298, 154.55051619945093, 149.46568739026193, 146.58729133670158, 144.35014714321773, 143.40966286517468, 139.7187564816816, 136.64905454074562, 133.80119481825895, 131.40104021516476, 129.27445704151737, 126.01451335787226, 123.90786555087323]}, {\"name\": \"European\", \"type\": \"scatter\", \"x\": [1885.0, 1890.0, 1895.0, 1900.0, 1905.0, 1910.0, 1915.0, 1920.0, 1925.0, 1930.0, 1935.0, 1940.0, 1945.0, 1950.0, 1955.0, 1960.0, 1965.0, 1970.0, 1975.0, 1980.0], \"y\": [175.15337242136218, 172.3813020603496, 169.30600686607318, 166.58123321435588, 165.40697434973075, 161.12554436611057, 158.61976253883435, 155.23728969988298, 154.55051619945093, 149.46568739026193, 146.58729133670158, 144.35014714321773, 143.40966286517468, 139.7187564816816, 136.64905454074562, 133.80119481825895, 131.40104021516476, 129.27445704151737, 126.01451335787226, 123.90786555087323]}, {\"name\": \"Black-Scholes\", \"type\": \"scatter\", \"x\": [1885.0, 1890.0, 1895.0, 1900.0, 1905.0, 1910.0, 1915.0, 1920.0, 1925.0, 1930.0, 1935.0, 1940.0, 1945.0, 1950.0, 1955.0, 1960.0, 1965.0, 1970.0, 1975.0, 1980.0], \"y\": [175.22486880362965, 172.35011866491584, 169.19990516897792, 166.42506616678554, 165.22509982089048, 160.94997009140002, 158.4749760329363, 155.15008305701974, 154.55011855457894, 149.57498746701424, 146.70000085075867, 144.35009328644594, 143.32497103165042, 139.57505268893442, 136.47500039721194, 133.62508038967178, 131.2501101927636, 129.17511396194845, 125.99998917337291, 123.99991345617877]}, {\"name\": \"Bid\", \"type\": \"scatter\", \"x\": [1885.0, 1890.0, 1895.0, 1900.0, 1905.0, 1910.0, 1915.0, 1920.0, 1925.0, 1930.0, 1935.0, 1940.0, 1945.0, 1950.0, 1955.0, 1960.0, 1965.0, 1970.0, 1975.0, 1980.0], \"y\": [173.0, 170.95, 167.8, 164.85, 163.8, 159.7, 157.15, 153.9, 153.0, 148.35, 145.65, 142.9, 142.05, 138.55, 135.5, 132.7, 130.45, 128.05, 124.7, 122.55]}, {\"name\": \"Ask\", \"type\": \"scatter\", \"x\": [1885.0, 1890.0, 1895.0, 1900.0, 1905.0, 1910.0, 1915.0, 1920.0, 1925.0, 1930.0, 1935.0, 1940.0, 1945.0, 1950.0, 1955.0, 1960.0, 1965.0, 1970.0, 1975.0, 1980.0], \"y\": [177.45, 173.75, 170.6, 168.0, 166.65, 162.2, 159.8, 156.4, 156.1, 150.8, 147.75, 145.8, 144.6, 140.6, 137.45, 134.55, 132.05, 130.3, 127.3, 125.45]}, {\"name\": \"Underlying\", \"type\": \"scatter\", \"x\": [1932.5763, 1932.5763, 1932.5763, 1932.5763, 1932.5763, 1932.5763, 1932.5763, 1932.5763, 1932.5763, 1932.5763, 1932.5763, 1932.5763, 1932.5763, 1932.5763, 1932.5763, 1932.5763, 1932.5763, 1932.5763, 1932.5763, 1932.5763], \"y\": [122.55, 125.43947368421053, 128.32894736842104, 131.21842105263158, 134.1078947368421, 136.9973684210526, 139.88684210526316, 142.77631578947367, 145.6657894736842, 148.55526315789473, 151.44473684210524, 154.3342105263158, 157.2236842105263, 160.11315789473684, 163.00263157894736, 165.89210526315787, 168.78157894736842, 171.67105263157893, 174.56052631578945, 177.45]}],\n",
       "                        {\"template\": {\"data\": {\"bar\": [{\"error_x\": {\"color\": \"#2a3f5f\"}, \"error_y\": {\"color\": \"#2a3f5f\"}, \"marker\": {\"line\": {\"color\": \"#E5ECF6\", \"width\": 0.5}}, \"type\": \"bar\"}], \"barpolar\": [{\"marker\": {\"line\": {\"color\": \"#E5ECF6\", \"width\": 0.5}}, \"type\": \"barpolar\"}], \"carpet\": [{\"aaxis\": {\"endlinecolor\": \"#2a3f5f\", \"gridcolor\": \"white\", \"linecolor\": \"white\", \"minorgridcolor\": \"white\", \"startlinecolor\": \"#2a3f5f\"}, \"baxis\": {\"endlinecolor\": \"#2a3f5f\", \"gridcolor\": \"white\", \"linecolor\": \"white\", \"minorgridcolor\": \"white\", \"startlinecolor\": \"#2a3f5f\"}, \"type\": \"carpet\"}], \"choropleth\": [{\"colorbar\": {\"outlinewidth\": 0, \"ticks\": \"\"}, \"type\": \"choropleth\"}], \"contour\": [{\"colorbar\": {\"outlinewidth\": 0, \"ticks\": \"\"}, \"colorscale\": [[0.0, \"#0d0887\"], [0.1111111111111111, \"#46039f\"], [0.2222222222222222, \"#7201a8\"], [0.3333333333333333, \"#9c179e\"], [0.4444444444444444, \"#bd3786\"], [0.5555555555555556, \"#d8576b\"], [0.6666666666666666, \"#ed7953\"], [0.7777777777777778, \"#fb9f3a\"], [0.8888888888888888, \"#fdca26\"], [1.0, \"#f0f921\"]], \"type\": \"contour\"}], \"contourcarpet\": [{\"colorbar\": {\"outlinewidth\": 0, \"ticks\": \"\"}, \"type\": \"contourcarpet\"}], \"heatmap\": [{\"colorbar\": {\"outlinewidth\": 0, \"ticks\": \"\"}, \"colorscale\": [[0.0, \"#0d0887\"], [0.1111111111111111, \"#46039f\"], [0.2222222222222222, \"#7201a8\"], [0.3333333333333333, \"#9c179e\"], [0.4444444444444444, \"#bd3786\"], [0.5555555555555556, \"#d8576b\"], [0.6666666666666666, \"#ed7953\"], [0.7777777777777778, \"#fb9f3a\"], [0.8888888888888888, \"#fdca26\"], [1.0, \"#f0f921\"]], \"type\": \"heatmap\"}], \"heatmapgl\": [{\"colorbar\": {\"outlinewidth\": 0, \"ticks\": \"\"}, \"colorscale\": [[0.0, \"#0d0887\"], [0.1111111111111111, \"#46039f\"], [0.2222222222222222, \"#7201a8\"], [0.3333333333333333, \"#9c179e\"], [0.4444444444444444, \"#bd3786\"], [0.5555555555555556, \"#d8576b\"], [0.6666666666666666, \"#ed7953\"], [0.7777777777777778, \"#fb9f3a\"], [0.8888888888888888, \"#fdca26\"], [1.0, \"#f0f921\"]], \"type\": \"heatmapgl\"}], \"histogram\": [{\"marker\": {\"colorbar\": {\"outlinewidth\": 0, \"ticks\": \"\"}}, \"type\": \"histogram\"}], \"histogram2d\": [{\"colorbar\": {\"outlinewidth\": 0, \"ticks\": \"\"}, \"colorscale\": [[0.0, \"#0d0887\"], [0.1111111111111111, \"#46039f\"], [0.2222222222222222, \"#7201a8\"], [0.3333333333333333, \"#9c179e\"], [0.4444444444444444, \"#bd3786\"], [0.5555555555555556, \"#d8576b\"], [0.6666666666666666, \"#ed7953\"], [0.7777777777777778, \"#fb9f3a\"], [0.8888888888888888, \"#fdca26\"], [1.0, \"#f0f921\"]], \"type\": \"histogram2d\"}], \"histogram2dcontour\": [{\"colorbar\": {\"outlinewidth\": 0, \"ticks\": \"\"}, \"colorscale\": [[0.0, \"#0d0887\"], [0.1111111111111111, \"#46039f\"], [0.2222222222222222, \"#7201a8\"], [0.3333333333333333, \"#9c179e\"], [0.4444444444444444, \"#bd3786\"], [0.5555555555555556, \"#d8576b\"], [0.6666666666666666, \"#ed7953\"], [0.7777777777777778, \"#fb9f3a\"], [0.8888888888888888, \"#fdca26\"], [1.0, \"#f0f921\"]], \"type\": \"histogram2dcontour\"}], \"mesh3d\": [{\"colorbar\": {\"outlinewidth\": 0, \"ticks\": \"\"}, \"type\": \"mesh3d\"}], \"parcoords\": [{\"line\": {\"colorbar\": {\"outlinewidth\": 0, \"ticks\": \"\"}}, \"type\": \"parcoords\"}], \"scatter\": [{\"marker\": {\"colorbar\": {\"outlinewidth\": 0, \"ticks\": \"\"}}, \"type\": \"scatter\"}], \"scatter3d\": [{\"line\": {\"colorbar\": {\"outlinewidth\": 0, \"ticks\": \"\"}}, \"marker\": {\"colorbar\": {\"outlinewidth\": 0, \"ticks\": \"\"}}, \"type\": \"scatter3d\"}], \"scattercarpet\": [{\"marker\": {\"colorbar\": {\"outlinewidth\": 0, \"ticks\": \"\"}}, \"type\": \"scattercarpet\"}], \"scattergeo\": [{\"marker\": {\"colorbar\": {\"outlinewidth\": 0, \"ticks\": \"\"}}, \"type\": \"scattergeo\"}], \"scattergl\": [{\"marker\": {\"colorbar\": {\"outlinewidth\": 0, \"ticks\": \"\"}}, \"type\": \"scattergl\"}], \"scattermapbox\": [{\"marker\": {\"colorbar\": {\"outlinewidth\": 0, \"ticks\": \"\"}}, \"type\": \"scattermapbox\"}], \"scatterpolar\": [{\"marker\": {\"colorbar\": {\"outlinewidth\": 0, \"ticks\": \"\"}}, \"type\": \"scatterpolar\"}], \"scatterpolargl\": [{\"marker\": {\"colorbar\": {\"outlinewidth\": 0, \"ticks\": \"\"}}, \"type\": \"scatterpolargl\"}], \"scatterternary\": [{\"marker\": {\"colorbar\": {\"outlinewidth\": 0, \"ticks\": \"\"}}, \"type\": \"scatterternary\"}], \"surface\": [{\"colorbar\": {\"outlinewidth\": 0, \"ticks\": \"\"}, \"colorscale\": [[0.0, \"#0d0887\"], [0.1111111111111111, \"#46039f\"], [0.2222222222222222, \"#7201a8\"], [0.3333333333333333, \"#9c179e\"], [0.4444444444444444, \"#bd3786\"], [0.5555555555555556, \"#d8576b\"], [0.6666666666666666, \"#ed7953\"], [0.7777777777777778, \"#fb9f3a\"], [0.8888888888888888, \"#fdca26\"], [1.0, \"#f0f921\"]], \"type\": \"surface\"}], \"table\": [{\"cells\": {\"fill\": {\"color\": \"#EBF0F8\"}, \"line\": {\"color\": \"white\"}}, \"header\": {\"fill\": {\"color\": \"#C8D4E3\"}, \"line\": {\"color\": \"white\"}}, \"type\": \"table\"}]}, \"layout\": {\"annotationdefaults\": {\"arrowcolor\": \"#2a3f5f\", \"arrowhead\": 0, \"arrowwidth\": 1}, \"colorscale\": {\"diverging\": [[0, \"#8e0152\"], [0.1, \"#c51b7d\"], [0.2, \"#de77ae\"], [0.3, \"#f1b6da\"], [0.4, \"#fde0ef\"], [0.5, \"#f7f7f7\"], [0.6, \"#e6f5d0\"], [0.7, \"#b8e186\"], [0.8, \"#7fbc41\"], [0.9, \"#4d9221\"], [1, \"#276419\"]], \"sequential\": [[0.0, \"#0d0887\"], [0.1111111111111111, \"#46039f\"], [0.2222222222222222, \"#7201a8\"], [0.3333333333333333, \"#9c179e\"], [0.4444444444444444, \"#bd3786\"], [0.5555555555555556, \"#d8576b\"], [0.6666666666666666, \"#ed7953\"], [0.7777777777777778, \"#fb9f3a\"], [0.8888888888888888, \"#fdca26\"], [1.0, \"#f0f921\"]], \"sequentialminus\": [[0.0, \"#0d0887\"], [0.1111111111111111, \"#46039f\"], [0.2222222222222222, \"#7201a8\"], [0.3333333333333333, \"#9c179e\"], [0.4444444444444444, \"#bd3786\"], [0.5555555555555556, \"#d8576b\"], [0.6666666666666666, \"#ed7953\"], [0.7777777777777778, \"#fb9f3a\"], [0.8888888888888888, \"#fdca26\"], [1.0, \"#f0f921\"]]}, \"colorway\": [\"#636efa\", \"#EF553B\", \"#00cc96\", \"#ab63fa\", \"#FFA15A\", \"#19d3f3\", \"#FF6692\", \"#B6E880\", \"#FF97FF\", \"#FECB52\"], \"font\": {\"color\": \"#2a3f5f\"}, \"geo\": {\"bgcolor\": \"white\", \"lakecolor\": \"white\", \"landcolor\": \"#E5ECF6\", \"showlakes\": true, \"showland\": true, \"subunitcolor\": \"white\"}, \"hoverlabel\": {\"align\": \"left\"}, \"hovermode\": \"closest\", \"mapbox\": {\"style\": \"light\"}, \"paper_bgcolor\": \"white\", \"plot_bgcolor\": \"#E5ECF6\", \"polar\": {\"angularaxis\": {\"gridcolor\": \"white\", \"linecolor\": \"white\", \"ticks\": \"\"}, \"bgcolor\": \"#E5ECF6\", \"radialaxis\": {\"gridcolor\": \"white\", \"linecolor\": \"white\", \"ticks\": \"\"}}, \"scene\": {\"xaxis\": {\"backgroundcolor\": \"#E5ECF6\", \"gridcolor\": \"white\", \"gridwidth\": 2, \"linecolor\": \"white\", \"showbackground\": true, \"ticks\": \"\", \"zerolinecolor\": \"white\"}, \"yaxis\": {\"backgroundcolor\": \"#E5ECF6\", \"gridcolor\": \"white\", \"gridwidth\": 2, \"linecolor\": \"white\", \"showbackground\": true, \"ticks\": \"\", \"zerolinecolor\": \"white\"}, \"zaxis\": {\"backgroundcolor\": \"#E5ECF6\", \"gridcolor\": \"white\", \"gridwidth\": 2, \"linecolor\": \"white\", \"showbackground\": true, \"ticks\": \"\", \"zerolinecolor\": \"white\"}}, \"shapedefaults\": {\"line\": {\"color\": \"#2a3f5f\"}}, \"ternary\": {\"aaxis\": {\"gridcolor\": \"white\", \"linecolor\": \"white\", \"ticks\": \"\"}, \"baxis\": {\"gridcolor\": \"white\", \"linecolor\": \"white\", \"ticks\": \"\"}, \"bgcolor\": \"#E5ECF6\", \"caxis\": {\"gridcolor\": \"white\", \"linecolor\": \"white\", \"ticks\": \"\"}}, \"title\": {\"x\": 0.05}, \"xaxis\": {\"automargin\": true, \"gridcolor\": \"white\", \"linecolor\": \"white\", \"ticks\": \"\", \"zerolinecolor\": \"white\", \"zerolinewidth\": 2}, \"yaxis\": {\"automargin\": true, \"gridcolor\": \"white\", \"linecolor\": \"white\", \"ticks\": \"\", \"zerolinecolor\": \"white\", \"zerolinewidth\": 2}}}, \"title\": {\"text\": \"AMZN Call Price vs Strike Expiration: 2020-06-19 00:00:00\"}, \"xaxis\": {\"title\": {\"text\": \"Strike\"}}, \"yaxis\": {\"title\": {\"text\": \"Price\"}}},\n",
       "                        {\"responsive\": true}\n",
       "                    ).then(function(){\n",
       "                            \n",
       "var gd = document.getElementById('38520529-2f56-4cd0-912d-54dd8f6b8ee7');\n",
       "var x = new MutationObserver(function (mutations, observer) {{\n",
       "        var display = window.getComputedStyle(gd).display;\n",
       "        if (!display || display === 'none') {{\n",
       "            console.log([gd, 'removed!']);\n",
       "            Plotly.purge(gd);\n",
       "            observer.disconnect();\n",
       "        }}\n",
       "}});\n",
       "\n",
       "// Listen for the removal of the full notebook cells\n",
       "var notebookContainer = gd.closest('#notebook-container');\n",
       "if (notebookContainer) {{\n",
       "    x.observe(notebookContainer, {childList: true});\n",
       "}}\n",
       "\n",
       "// Listen for the clearing of the current output cell\n",
       "var outputEl = gd.closest('.output');\n",
       "if (outputEl) {{\n",
       "    x.observe(outputEl, {childList: true});\n",
       "}}\n",
       "\n",
       "                        })\n",
       "                };\n",
       "                });\n",
       "            </script>\n",
       "        </div>"
      ]
     },
     "metadata": {},
     "output_type": "display_data"
    }
   ],
   "source": [
    "# Calls\n",
    "for dat in [date1, date2, date3]:\n",
    "    temp = opts[(opts['Expiration'] == dat) & (opts['Type'] == 'c')]\n",
    "    trace0 = go.Scatter(\n",
    "        x = temp['Strike'], y = temp['Am_Price'], name = 'American'\n",
    "    )\n",
    "    trace1 = go.Scatter(\n",
    "        x = temp['Strike'], y = temp['Euro_Price'], name = 'European'\n",
    "    )\n",
    "    trace2 = go.Scatter(\n",
    "        x = temp['Strike'], y = temp['BS_Price'], name = 'Black-Scholes'\n",
    "    )\n",
    "    trace3 = go.Scatter(\n",
    "        x = temp['Strike'], y = temp['Bid'], name = 'Bid'\n",
    "    )\n",
    "    trace4 = go.Scatter(\n",
    "        x = temp['Strike'], y = temp['Ask'], name = 'Ask'\n",
    "    )\n",
    "    trace5 = go.Scatter(\n",
    "        x = temp['Underlying'], y = np.linspace(min(temp['Bid']) ,max(temp['Ask']) ,20), name = 'Underlying', \n",
    "    )\n",
    "    data = [trace0, trace1, trace2, trace3, trace4, trace5]\n",
    "    layout = go.Layout(\n",
    "    title = 'AMZN Call Price vs Strike Expiration: {}'.format(dat), yaxis = dict(title = 'Price'), \n",
    "        xaxis = dict(title = 'Strike'))\n",
    "    fig = go.Figure(data=data, layout=layout)\n",
    "    plotly.offline.iplot(fig)\n",
    "    \n",
    "    \n",
    "    \n",
    "    "
   ]
  },
  {
   "cell_type": "code",
   "execution_count": 60,
   "metadata": {},
   "outputs": [
    {
     "data": {
      "application/vnd.plotly.v1+json": {
       "config": {
        "linkText": "Export to plot.ly",
        "plotlyServerURL": "https://plot.ly",
        "showLink": false
       },
       "data": [
        {
         "name": "American",
         "type": "scatter",
         "x": [
          1875,
          1880,
          1885,
          1890,
          1895,
          1900,
          1905,
          1910,
          1915,
          1920,
          1925,
          1930,
          1935,
          1940,
          1945,
          1950,
          1960,
          1970,
          1980,
          1990
         ],
         "y": [
          71.08168605494399,
          73.63223498310795,
          75.26757584555637,
          77.0171884071108,
          78.26034379522224,
          76.71746836180225,
          78.90857378498293,
          84.79597623988762,
          86.19758119548784,
          88.1618924354292,
          90.13719232187381,
          91.82377966752955,
          89.71418354982109,
          96.43746999490563,
          99.12517224493496,
          100.79554883301131,
          105.58639911494768,
          110.24451743585686,
          115.42119615958018,
          118.93261323304583
         ]
        },
        {
         "name": "European",
         "type": "scatter",
         "x": [
          1875,
          1880,
          1885,
          1890,
          1895,
          1900,
          1905,
          1910,
          1915,
          1920,
          1925,
          1930,
          1935,
          1940,
          1945,
          1950,
          1960,
          1970,
          1980,
          1990
         ],
         "y": [
          70.9473541823036,
          73.49410569391242,
          75.12525173379188,
          76.8695358168425,
          78.10594852044132,
          76.55214331530685,
          78.73962223521708,
          84.62258278546345,
          86.01951379291265,
          87.97822300735997,
          89.94652645862917,
          91.62387248282022,
          89.50068754761504,
          96.22002269720672,
          98.90215785279509,
          100.56578856231178,
          105.3391422642944,
          109.97229320668495,
          115.13400651311086,
          118.6211554703622
         ]
        },
        {
         "name": "Black-Scholes",
         "type": "scatter",
         "x": [
          1875,
          1880,
          1885,
          1890,
          1895,
          1900,
          1905,
          1910,
          1915,
          1920,
          1925,
          1930,
          1935,
          1940,
          1945,
          1950,
          1960,
          1970,
          1980,
          1990
         ],
         "y": [
          70.8500028560187,
          73.37491640818212,
          75.02497973851268,
          76.82508192036141,
          78.15002387163429,
          76.6500366231702,
          78.72504283935996,
          84.52495457434486,
          85.89995081854136,
          87.87496454437542,
          89.90007890577124,
          91.67492336069483,
          89.54994694218158,
          96.1750309342126,
          98.80008764069305,
          100.44996786088313,
          105.32500958671119,
          109.97494741902779,
          115.02497594374586,
          118.60006134994569
         ]
        },
        {
         "name": "Bid",
         "type": "scatter",
         "x": [
          1875,
          1880,
          1885,
          1890,
          1895,
          1900,
          1905,
          1910,
          1915,
          1920,
          1925,
          1930,
          1935,
          1940,
          1945,
          1950,
          1960,
          1970,
          1980,
          1990
         ],
         "y": [
          70.2,
          72.65,
          74.4,
          76.3,
          77.95,
          75.7,
          78.35,
          83.85,
          85.15,
          87.1,
          89.15,
          90.4,
          88.8,
          95.55,
          98.15,
          99.7,
          104.55,
          109.25,
          114.1,
          117.65
         ]
        },
        {
         "name": "Ask",
         "type": "scatter",
         "x": [
          1875,
          1880,
          1885,
          1890,
          1895,
          1900,
          1905,
          1910,
          1915,
          1920,
          1925,
          1930,
          1935,
          1940,
          1945,
          1950,
          1960,
          1970,
          1980,
          1990
         ],
         "y": [
          71.5,
          74.1,
          75.65,
          77.35,
          78.35,
          77.6,
          79.1,
          85.2,
          86.65,
          88.65,
          90.65,
          92.95,
          90.3,
          96.8,
          99.45,
          101.2,
          106.1,
          110.7,
          115.95,
          119.55
         ]
        },
        {
         "name": "Underlying",
         "type": "scatter",
         "x": [
          1932.5763,
          1932.5763,
          1932.5763,
          1932.5763,
          1932.5763,
          1932.5763,
          1932.5763,
          1932.5763,
          1932.5763,
          1932.5763,
          1932.5763,
          1932.5763,
          1932.5763,
          1932.5763,
          1932.5763,
          1932.5763,
          1932.5763,
          1932.5763,
          1932.5763,
          1932.5763
         ],
         "y": [
          70.2,
          72.79736842105264,
          75.39473684210526,
          77.9921052631579,
          80.58947368421053,
          83.18684210526317,
          85.78421052631579,
          88.38157894736842,
          90.97894736842105,
          93.57631578947368,
          96.17368421052632,
          98.77105263157895,
          101.36842105263158,
          103.96578947368421,
          106.56315789473683,
          109.16052631578947,
          111.7578947368421,
          114.35526315789474,
          116.95263157894738,
          119.55
         ]
        }
       ],
       "layout": {
        "template": {
         "data": {
          "bar": [
           {
            "error_x": {
             "color": "#2a3f5f"
            },
            "error_y": {
             "color": "#2a3f5f"
            },
            "marker": {
             "line": {
              "color": "#E5ECF6",
              "width": 0.5
             }
            },
            "type": "bar"
           }
          ],
          "barpolar": [
           {
            "marker": {
             "line": {
              "color": "#E5ECF6",
              "width": 0.5
             }
            },
            "type": "barpolar"
           }
          ],
          "carpet": [
           {
            "aaxis": {
             "endlinecolor": "#2a3f5f",
             "gridcolor": "white",
             "linecolor": "white",
             "minorgridcolor": "white",
             "startlinecolor": "#2a3f5f"
            },
            "baxis": {
             "endlinecolor": "#2a3f5f",
             "gridcolor": "white",
             "linecolor": "white",
             "minorgridcolor": "white",
             "startlinecolor": "#2a3f5f"
            },
            "type": "carpet"
           }
          ],
          "choropleth": [
           {
            "colorbar": {
             "outlinewidth": 0,
             "ticks": ""
            },
            "type": "choropleth"
           }
          ],
          "contour": [
           {
            "colorbar": {
             "outlinewidth": 0,
             "ticks": ""
            },
            "colorscale": [
             [
              0,
              "#0d0887"
             ],
             [
              0.1111111111111111,
              "#46039f"
             ],
             [
              0.2222222222222222,
              "#7201a8"
             ],
             [
              0.3333333333333333,
              "#9c179e"
             ],
             [
              0.4444444444444444,
              "#bd3786"
             ],
             [
              0.5555555555555556,
              "#d8576b"
             ],
             [
              0.6666666666666666,
              "#ed7953"
             ],
             [
              0.7777777777777778,
              "#fb9f3a"
             ],
             [
              0.8888888888888888,
              "#fdca26"
             ],
             [
              1,
              "#f0f921"
             ]
            ],
            "type": "contour"
           }
          ],
          "contourcarpet": [
           {
            "colorbar": {
             "outlinewidth": 0,
             "ticks": ""
            },
            "type": "contourcarpet"
           }
          ],
          "heatmap": [
           {
            "colorbar": {
             "outlinewidth": 0,
             "ticks": ""
            },
            "colorscale": [
             [
              0,
              "#0d0887"
             ],
             [
              0.1111111111111111,
              "#46039f"
             ],
             [
              0.2222222222222222,
              "#7201a8"
             ],
             [
              0.3333333333333333,
              "#9c179e"
             ],
             [
              0.4444444444444444,
              "#bd3786"
             ],
             [
              0.5555555555555556,
              "#d8576b"
             ],
             [
              0.6666666666666666,
              "#ed7953"
             ],
             [
              0.7777777777777778,
              "#fb9f3a"
             ],
             [
              0.8888888888888888,
              "#fdca26"
             ],
             [
              1,
              "#f0f921"
             ]
            ],
            "type": "heatmap"
           }
          ],
          "heatmapgl": [
           {
            "colorbar": {
             "outlinewidth": 0,
             "ticks": ""
            },
            "colorscale": [
             [
              0,
              "#0d0887"
             ],
             [
              0.1111111111111111,
              "#46039f"
             ],
             [
              0.2222222222222222,
              "#7201a8"
             ],
             [
              0.3333333333333333,
              "#9c179e"
             ],
             [
              0.4444444444444444,
              "#bd3786"
             ],
             [
              0.5555555555555556,
              "#d8576b"
             ],
             [
              0.6666666666666666,
              "#ed7953"
             ],
             [
              0.7777777777777778,
              "#fb9f3a"
             ],
             [
              0.8888888888888888,
              "#fdca26"
             ],
             [
              1,
              "#f0f921"
             ]
            ],
            "type": "heatmapgl"
           }
          ],
          "histogram": [
           {
            "marker": {
             "colorbar": {
              "outlinewidth": 0,
              "ticks": ""
             }
            },
            "type": "histogram"
           }
          ],
          "histogram2d": [
           {
            "colorbar": {
             "outlinewidth": 0,
             "ticks": ""
            },
            "colorscale": [
             [
              0,
              "#0d0887"
             ],
             [
              0.1111111111111111,
              "#46039f"
             ],
             [
              0.2222222222222222,
              "#7201a8"
             ],
             [
              0.3333333333333333,
              "#9c179e"
             ],
             [
              0.4444444444444444,
              "#bd3786"
             ],
             [
              0.5555555555555556,
              "#d8576b"
             ],
             [
              0.6666666666666666,
              "#ed7953"
             ],
             [
              0.7777777777777778,
              "#fb9f3a"
             ],
             [
              0.8888888888888888,
              "#fdca26"
             ],
             [
              1,
              "#f0f921"
             ]
            ],
            "type": "histogram2d"
           }
          ],
          "histogram2dcontour": [
           {
            "colorbar": {
             "outlinewidth": 0,
             "ticks": ""
            },
            "colorscale": [
             [
              0,
              "#0d0887"
             ],
             [
              0.1111111111111111,
              "#46039f"
             ],
             [
              0.2222222222222222,
              "#7201a8"
             ],
             [
              0.3333333333333333,
              "#9c179e"
             ],
             [
              0.4444444444444444,
              "#bd3786"
             ],
             [
              0.5555555555555556,
              "#d8576b"
             ],
             [
              0.6666666666666666,
              "#ed7953"
             ],
             [
              0.7777777777777778,
              "#fb9f3a"
             ],
             [
              0.8888888888888888,
              "#fdca26"
             ],
             [
              1,
              "#f0f921"
             ]
            ],
            "type": "histogram2dcontour"
           }
          ],
          "mesh3d": [
           {
            "colorbar": {
             "outlinewidth": 0,
             "ticks": ""
            },
            "type": "mesh3d"
           }
          ],
          "parcoords": [
           {
            "line": {
             "colorbar": {
              "outlinewidth": 0,
              "ticks": ""
             }
            },
            "type": "parcoords"
           }
          ],
          "scatter": [
           {
            "marker": {
             "colorbar": {
              "outlinewidth": 0,
              "ticks": ""
             }
            },
            "type": "scatter"
           }
          ],
          "scatter3d": [
           {
            "line": {
             "colorbar": {
              "outlinewidth": 0,
              "ticks": ""
             }
            },
            "marker": {
             "colorbar": {
              "outlinewidth": 0,
              "ticks": ""
             }
            },
            "type": "scatter3d"
           }
          ],
          "scattercarpet": [
           {
            "marker": {
             "colorbar": {
              "outlinewidth": 0,
              "ticks": ""
             }
            },
            "type": "scattercarpet"
           }
          ],
          "scattergeo": [
           {
            "marker": {
             "colorbar": {
              "outlinewidth": 0,
              "ticks": ""
             }
            },
            "type": "scattergeo"
           }
          ],
          "scattergl": [
           {
            "marker": {
             "colorbar": {
              "outlinewidth": 0,
              "ticks": ""
             }
            },
            "type": "scattergl"
           }
          ],
          "scattermapbox": [
           {
            "marker": {
             "colorbar": {
              "outlinewidth": 0,
              "ticks": ""
             }
            },
            "type": "scattermapbox"
           }
          ],
          "scatterpolar": [
           {
            "marker": {
             "colorbar": {
              "outlinewidth": 0,
              "ticks": ""
             }
            },
            "type": "scatterpolar"
           }
          ],
          "scatterpolargl": [
           {
            "marker": {
             "colorbar": {
              "outlinewidth": 0,
              "ticks": ""
             }
            },
            "type": "scatterpolargl"
           }
          ],
          "scatterternary": [
           {
            "marker": {
             "colorbar": {
              "outlinewidth": 0,
              "ticks": ""
             }
            },
            "type": "scatterternary"
           }
          ],
          "surface": [
           {
            "colorbar": {
             "outlinewidth": 0,
             "ticks": ""
            },
            "colorscale": [
             [
              0,
              "#0d0887"
             ],
             [
              0.1111111111111111,
              "#46039f"
             ],
             [
              0.2222222222222222,
              "#7201a8"
             ],
             [
              0.3333333333333333,
              "#9c179e"
             ],
             [
              0.4444444444444444,
              "#bd3786"
             ],
             [
              0.5555555555555556,
              "#d8576b"
             ],
             [
              0.6666666666666666,
              "#ed7953"
             ],
             [
              0.7777777777777778,
              "#fb9f3a"
             ],
             [
              0.8888888888888888,
              "#fdca26"
             ],
             [
              1,
              "#f0f921"
             ]
            ],
            "type": "surface"
           }
          ],
          "table": [
           {
            "cells": {
             "fill": {
              "color": "#EBF0F8"
             },
             "line": {
              "color": "white"
             }
            },
            "header": {
             "fill": {
              "color": "#C8D4E3"
             },
             "line": {
              "color": "white"
             }
            },
            "type": "table"
           }
          ]
         },
         "layout": {
          "annotationdefaults": {
           "arrowcolor": "#2a3f5f",
           "arrowhead": 0,
           "arrowwidth": 1
          },
          "colorscale": {
           "diverging": [
            [
             0,
             "#8e0152"
            ],
            [
             0.1,
             "#c51b7d"
            ],
            [
             0.2,
             "#de77ae"
            ],
            [
             0.3,
             "#f1b6da"
            ],
            [
             0.4,
             "#fde0ef"
            ],
            [
             0.5,
             "#f7f7f7"
            ],
            [
             0.6,
             "#e6f5d0"
            ],
            [
             0.7,
             "#b8e186"
            ],
            [
             0.8,
             "#7fbc41"
            ],
            [
             0.9,
             "#4d9221"
            ],
            [
             1,
             "#276419"
            ]
           ],
           "sequential": [
            [
             0,
             "#0d0887"
            ],
            [
             0.1111111111111111,
             "#46039f"
            ],
            [
             0.2222222222222222,
             "#7201a8"
            ],
            [
             0.3333333333333333,
             "#9c179e"
            ],
            [
             0.4444444444444444,
             "#bd3786"
            ],
            [
             0.5555555555555556,
             "#d8576b"
            ],
            [
             0.6666666666666666,
             "#ed7953"
            ],
            [
             0.7777777777777778,
             "#fb9f3a"
            ],
            [
             0.8888888888888888,
             "#fdca26"
            ],
            [
             1,
             "#f0f921"
            ]
           ],
           "sequentialminus": [
            [
             0,
             "#0d0887"
            ],
            [
             0.1111111111111111,
             "#46039f"
            ],
            [
             0.2222222222222222,
             "#7201a8"
            ],
            [
             0.3333333333333333,
             "#9c179e"
            ],
            [
             0.4444444444444444,
             "#bd3786"
            ],
            [
             0.5555555555555556,
             "#d8576b"
            ],
            [
             0.6666666666666666,
             "#ed7953"
            ],
            [
             0.7777777777777778,
             "#fb9f3a"
            ],
            [
             0.8888888888888888,
             "#fdca26"
            ],
            [
             1,
             "#f0f921"
            ]
           ]
          },
          "colorway": [
           "#636efa",
           "#EF553B",
           "#00cc96",
           "#ab63fa",
           "#FFA15A",
           "#19d3f3",
           "#FF6692",
           "#B6E880",
           "#FF97FF",
           "#FECB52"
          ],
          "font": {
           "color": "#2a3f5f"
          },
          "geo": {
           "bgcolor": "white",
           "lakecolor": "white",
           "landcolor": "#E5ECF6",
           "showlakes": true,
           "showland": true,
           "subunitcolor": "white"
          },
          "hoverlabel": {
           "align": "left"
          },
          "hovermode": "closest",
          "mapbox": {
           "style": "light"
          },
          "paper_bgcolor": "white",
          "plot_bgcolor": "#E5ECF6",
          "polar": {
           "angularaxis": {
            "gridcolor": "white",
            "linecolor": "white",
            "ticks": ""
           },
           "bgcolor": "#E5ECF6",
           "radialaxis": {
            "gridcolor": "white",
            "linecolor": "white",
            "ticks": ""
           }
          },
          "scene": {
           "xaxis": {
            "backgroundcolor": "#E5ECF6",
            "gridcolor": "white",
            "gridwidth": 2,
            "linecolor": "white",
            "showbackground": true,
            "ticks": "",
            "zerolinecolor": "white"
           },
           "yaxis": {
            "backgroundcolor": "#E5ECF6",
            "gridcolor": "white",
            "gridwidth": 2,
            "linecolor": "white",
            "showbackground": true,
            "ticks": "",
            "zerolinecolor": "white"
           },
           "zaxis": {
            "backgroundcolor": "#E5ECF6",
            "gridcolor": "white",
            "gridwidth": 2,
            "linecolor": "white",
            "showbackground": true,
            "ticks": "",
            "zerolinecolor": "white"
           }
          },
          "shapedefaults": {
           "line": {
            "color": "#2a3f5f"
           }
          },
          "ternary": {
           "aaxis": {
            "gridcolor": "white",
            "linecolor": "white",
            "ticks": ""
           },
           "baxis": {
            "gridcolor": "white",
            "linecolor": "white",
            "ticks": ""
           },
           "bgcolor": "#E5ECF6",
           "caxis": {
            "gridcolor": "white",
            "linecolor": "white",
            "ticks": ""
           }
          },
          "title": {
           "x": 0.05
          },
          "xaxis": {
           "automargin": true,
           "gridcolor": "white",
           "linecolor": "white",
           "ticks": "",
           "zerolinecolor": "white",
           "zerolinewidth": 2
          },
          "yaxis": {
           "automargin": true,
           "gridcolor": "white",
           "linecolor": "white",
           "ticks": "",
           "zerolinecolor": "white",
           "zerolinewidth": 2
          }
         }
        },
        "title": {
         "text": "AMZN Put Price vs Strike Expiration: 2020-04-17 00:00:00"
        },
        "xaxis": {
         "title": {
          "text": "Strike"
         }
        },
        "yaxis": {
         "title": {
          "text": "Price"
         }
        }
       }
      },
      "text/html": [
       "<div>\n",
       "        \n",
       "        \n",
       "            <div id=\"e53adba8-c501-4017-a146-f3cb56368522\" class=\"plotly-graph-div\" style=\"height:525px; width:100%;\"></div>\n",
       "            <script type=\"text/javascript\">\n",
       "                require([\"plotly\"], function(Plotly) {\n",
       "                    window.PLOTLYENV=window.PLOTLYENV || {};\n",
       "                    \n",
       "                if (document.getElementById(\"e53adba8-c501-4017-a146-f3cb56368522\")) {\n",
       "                    Plotly.newPlot(\n",
       "                        'e53adba8-c501-4017-a146-f3cb56368522',\n",
       "                        [{\"name\": \"American\", \"type\": \"scatter\", \"x\": [1875.0, 1880.0, 1885.0, 1890.0, 1895.0, 1900.0, 1905.0, 1910.0, 1915.0, 1920.0, 1925.0, 1930.0, 1935.0, 1940.0, 1945.0, 1950.0, 1960.0, 1970.0, 1980.0, 1990.0], \"y\": [71.08168605494399, 73.63223498310795, 75.26757584555637, 77.0171884071108, 78.26034379522224, 76.71746836180225, 78.90857378498293, 84.79597623988762, 86.19758119548784, 88.1618924354292, 90.13719232187381, 91.82377966752955, 89.71418354982109, 96.43746999490563, 99.12517224493496, 100.79554883301131, 105.58639911494768, 110.24451743585686, 115.42119615958018, 118.93261323304583]}, {\"name\": \"European\", \"type\": \"scatter\", \"x\": [1875.0, 1880.0, 1885.0, 1890.0, 1895.0, 1900.0, 1905.0, 1910.0, 1915.0, 1920.0, 1925.0, 1930.0, 1935.0, 1940.0, 1945.0, 1950.0, 1960.0, 1970.0, 1980.0, 1990.0], \"y\": [70.9473541823036, 73.49410569391242, 75.12525173379188, 76.8695358168425, 78.10594852044132, 76.55214331530685, 78.73962223521708, 84.62258278546345, 86.01951379291265, 87.97822300735997, 89.94652645862917, 91.62387248282022, 89.50068754761504, 96.22002269720672, 98.90215785279509, 100.56578856231178, 105.3391422642944, 109.97229320668495, 115.13400651311086, 118.6211554703622]}, {\"name\": \"Black-Scholes\", \"type\": \"scatter\", \"x\": [1875.0, 1880.0, 1885.0, 1890.0, 1895.0, 1900.0, 1905.0, 1910.0, 1915.0, 1920.0, 1925.0, 1930.0, 1935.0, 1940.0, 1945.0, 1950.0, 1960.0, 1970.0, 1980.0, 1990.0], \"y\": [70.8500028560187, 73.37491640818212, 75.02497973851268, 76.82508192036141, 78.15002387163429, 76.6500366231702, 78.72504283935996, 84.52495457434486, 85.89995081854136, 87.87496454437542, 89.90007890577124, 91.67492336069483, 89.54994694218158, 96.1750309342126, 98.80008764069305, 100.44996786088313, 105.32500958671119, 109.97494741902779, 115.02497594374586, 118.60006134994569]}, {\"name\": \"Bid\", \"type\": \"scatter\", \"x\": [1875.0, 1880.0, 1885.0, 1890.0, 1895.0, 1900.0, 1905.0, 1910.0, 1915.0, 1920.0, 1925.0, 1930.0, 1935.0, 1940.0, 1945.0, 1950.0, 1960.0, 1970.0, 1980.0, 1990.0], \"y\": [70.2, 72.65, 74.4, 76.3, 77.95, 75.7, 78.35, 83.85, 85.15, 87.1, 89.15, 90.4, 88.8, 95.55, 98.15, 99.7, 104.55, 109.25, 114.1, 117.65]}, {\"name\": \"Ask\", \"type\": \"scatter\", \"x\": [1875.0, 1880.0, 1885.0, 1890.0, 1895.0, 1900.0, 1905.0, 1910.0, 1915.0, 1920.0, 1925.0, 1930.0, 1935.0, 1940.0, 1945.0, 1950.0, 1960.0, 1970.0, 1980.0, 1990.0], \"y\": [71.5, 74.1, 75.65, 77.35, 78.35, 77.6, 79.1, 85.2, 86.65, 88.65, 90.65, 92.95, 90.3, 96.8, 99.45, 101.2, 106.1, 110.7, 115.95, 119.55]}, {\"name\": \"Underlying\", \"type\": \"scatter\", \"x\": [1932.5763, 1932.5763, 1932.5763, 1932.5763, 1932.5763, 1932.5763, 1932.5763, 1932.5763, 1932.5763, 1932.5763, 1932.5763, 1932.5763, 1932.5763, 1932.5763, 1932.5763, 1932.5763, 1932.5763, 1932.5763, 1932.5763, 1932.5763], \"y\": [70.2, 72.79736842105264, 75.39473684210526, 77.9921052631579, 80.58947368421053, 83.18684210526317, 85.78421052631579, 88.38157894736842, 90.97894736842105, 93.57631578947368, 96.17368421052632, 98.77105263157895, 101.36842105263158, 103.96578947368421, 106.56315789473683, 109.16052631578947, 111.7578947368421, 114.35526315789474, 116.95263157894738, 119.55]}],\n",
       "                        {\"template\": {\"data\": {\"bar\": [{\"error_x\": {\"color\": \"#2a3f5f\"}, \"error_y\": {\"color\": \"#2a3f5f\"}, \"marker\": {\"line\": {\"color\": \"#E5ECF6\", \"width\": 0.5}}, \"type\": \"bar\"}], \"barpolar\": [{\"marker\": {\"line\": {\"color\": \"#E5ECF6\", \"width\": 0.5}}, \"type\": \"barpolar\"}], \"carpet\": [{\"aaxis\": {\"endlinecolor\": \"#2a3f5f\", \"gridcolor\": \"white\", \"linecolor\": \"white\", \"minorgridcolor\": \"white\", \"startlinecolor\": \"#2a3f5f\"}, \"baxis\": {\"endlinecolor\": \"#2a3f5f\", \"gridcolor\": \"white\", \"linecolor\": \"white\", \"minorgridcolor\": \"white\", \"startlinecolor\": \"#2a3f5f\"}, \"type\": \"carpet\"}], \"choropleth\": [{\"colorbar\": {\"outlinewidth\": 0, \"ticks\": \"\"}, \"type\": \"choropleth\"}], \"contour\": [{\"colorbar\": {\"outlinewidth\": 0, \"ticks\": \"\"}, \"colorscale\": [[0.0, \"#0d0887\"], [0.1111111111111111, \"#46039f\"], [0.2222222222222222, \"#7201a8\"], [0.3333333333333333, \"#9c179e\"], [0.4444444444444444, \"#bd3786\"], [0.5555555555555556, \"#d8576b\"], [0.6666666666666666, \"#ed7953\"], [0.7777777777777778, \"#fb9f3a\"], [0.8888888888888888, \"#fdca26\"], [1.0, \"#f0f921\"]], \"type\": \"contour\"}], \"contourcarpet\": [{\"colorbar\": {\"outlinewidth\": 0, \"ticks\": \"\"}, \"type\": \"contourcarpet\"}], \"heatmap\": [{\"colorbar\": {\"outlinewidth\": 0, \"ticks\": \"\"}, \"colorscale\": [[0.0, \"#0d0887\"], [0.1111111111111111, \"#46039f\"], [0.2222222222222222, \"#7201a8\"], [0.3333333333333333, \"#9c179e\"], [0.4444444444444444, \"#bd3786\"], [0.5555555555555556, \"#d8576b\"], [0.6666666666666666, \"#ed7953\"], [0.7777777777777778, \"#fb9f3a\"], [0.8888888888888888, \"#fdca26\"], [1.0, \"#f0f921\"]], \"type\": \"heatmap\"}], \"heatmapgl\": [{\"colorbar\": {\"outlinewidth\": 0, \"ticks\": \"\"}, \"colorscale\": [[0.0, \"#0d0887\"], [0.1111111111111111, \"#46039f\"], [0.2222222222222222, \"#7201a8\"], [0.3333333333333333, \"#9c179e\"], [0.4444444444444444, \"#bd3786\"], [0.5555555555555556, \"#d8576b\"], [0.6666666666666666, \"#ed7953\"], [0.7777777777777778, \"#fb9f3a\"], [0.8888888888888888, \"#fdca26\"], [1.0, \"#f0f921\"]], \"type\": \"heatmapgl\"}], \"histogram\": [{\"marker\": {\"colorbar\": {\"outlinewidth\": 0, \"ticks\": \"\"}}, \"type\": \"histogram\"}], \"histogram2d\": [{\"colorbar\": {\"outlinewidth\": 0, \"ticks\": \"\"}, \"colorscale\": [[0.0, \"#0d0887\"], [0.1111111111111111, \"#46039f\"], [0.2222222222222222, \"#7201a8\"], [0.3333333333333333, \"#9c179e\"], [0.4444444444444444, \"#bd3786\"], [0.5555555555555556, \"#d8576b\"], [0.6666666666666666, \"#ed7953\"], [0.7777777777777778, \"#fb9f3a\"], [0.8888888888888888, \"#fdca26\"], [1.0, \"#f0f921\"]], \"type\": \"histogram2d\"}], \"histogram2dcontour\": [{\"colorbar\": {\"outlinewidth\": 0, \"ticks\": \"\"}, \"colorscale\": [[0.0, \"#0d0887\"], [0.1111111111111111, \"#46039f\"], [0.2222222222222222, \"#7201a8\"], [0.3333333333333333, \"#9c179e\"], [0.4444444444444444, \"#bd3786\"], [0.5555555555555556, \"#d8576b\"], [0.6666666666666666, \"#ed7953\"], [0.7777777777777778, \"#fb9f3a\"], [0.8888888888888888, \"#fdca26\"], [1.0, \"#f0f921\"]], \"type\": \"histogram2dcontour\"}], \"mesh3d\": [{\"colorbar\": {\"outlinewidth\": 0, \"ticks\": \"\"}, \"type\": \"mesh3d\"}], \"parcoords\": [{\"line\": {\"colorbar\": {\"outlinewidth\": 0, \"ticks\": \"\"}}, \"type\": \"parcoords\"}], \"scatter\": [{\"marker\": {\"colorbar\": {\"outlinewidth\": 0, \"ticks\": \"\"}}, \"type\": \"scatter\"}], \"scatter3d\": [{\"line\": {\"colorbar\": {\"outlinewidth\": 0, \"ticks\": \"\"}}, \"marker\": {\"colorbar\": {\"outlinewidth\": 0, \"ticks\": \"\"}}, \"type\": \"scatter3d\"}], \"scattercarpet\": [{\"marker\": {\"colorbar\": {\"outlinewidth\": 0, \"ticks\": \"\"}}, \"type\": \"scattercarpet\"}], \"scattergeo\": [{\"marker\": {\"colorbar\": {\"outlinewidth\": 0, \"ticks\": \"\"}}, \"type\": \"scattergeo\"}], \"scattergl\": [{\"marker\": {\"colorbar\": {\"outlinewidth\": 0, \"ticks\": \"\"}}, \"type\": \"scattergl\"}], \"scattermapbox\": [{\"marker\": {\"colorbar\": {\"outlinewidth\": 0, \"ticks\": \"\"}}, \"type\": \"scattermapbox\"}], \"scatterpolar\": [{\"marker\": {\"colorbar\": {\"outlinewidth\": 0, \"ticks\": \"\"}}, \"type\": \"scatterpolar\"}], \"scatterpolargl\": [{\"marker\": {\"colorbar\": {\"outlinewidth\": 0, \"ticks\": \"\"}}, \"type\": \"scatterpolargl\"}], \"scatterternary\": [{\"marker\": {\"colorbar\": {\"outlinewidth\": 0, \"ticks\": \"\"}}, \"type\": \"scatterternary\"}], \"surface\": [{\"colorbar\": {\"outlinewidth\": 0, \"ticks\": \"\"}, \"colorscale\": [[0.0, \"#0d0887\"], [0.1111111111111111, \"#46039f\"], [0.2222222222222222, \"#7201a8\"], [0.3333333333333333, \"#9c179e\"], [0.4444444444444444, \"#bd3786\"], [0.5555555555555556, \"#d8576b\"], [0.6666666666666666, \"#ed7953\"], [0.7777777777777778, \"#fb9f3a\"], [0.8888888888888888, \"#fdca26\"], [1.0, \"#f0f921\"]], \"type\": \"surface\"}], \"table\": [{\"cells\": {\"fill\": {\"color\": \"#EBF0F8\"}, \"line\": {\"color\": \"white\"}}, \"header\": {\"fill\": {\"color\": \"#C8D4E3\"}, \"line\": {\"color\": \"white\"}}, \"type\": \"table\"}]}, \"layout\": {\"annotationdefaults\": {\"arrowcolor\": \"#2a3f5f\", \"arrowhead\": 0, \"arrowwidth\": 1}, \"colorscale\": {\"diverging\": [[0, \"#8e0152\"], [0.1, \"#c51b7d\"], [0.2, \"#de77ae\"], [0.3, \"#f1b6da\"], [0.4, \"#fde0ef\"], [0.5, \"#f7f7f7\"], [0.6, \"#e6f5d0\"], [0.7, \"#b8e186\"], [0.8, \"#7fbc41\"], [0.9, \"#4d9221\"], [1, \"#276419\"]], \"sequential\": [[0.0, \"#0d0887\"], [0.1111111111111111, \"#46039f\"], [0.2222222222222222, \"#7201a8\"], [0.3333333333333333, \"#9c179e\"], [0.4444444444444444, \"#bd3786\"], [0.5555555555555556, \"#d8576b\"], [0.6666666666666666, \"#ed7953\"], [0.7777777777777778, \"#fb9f3a\"], [0.8888888888888888, \"#fdca26\"], [1.0, \"#f0f921\"]], \"sequentialminus\": [[0.0, \"#0d0887\"], [0.1111111111111111, \"#46039f\"], [0.2222222222222222, \"#7201a8\"], [0.3333333333333333, \"#9c179e\"], [0.4444444444444444, \"#bd3786\"], [0.5555555555555556, \"#d8576b\"], [0.6666666666666666, \"#ed7953\"], [0.7777777777777778, \"#fb9f3a\"], [0.8888888888888888, \"#fdca26\"], [1.0, \"#f0f921\"]]}, \"colorway\": [\"#636efa\", \"#EF553B\", \"#00cc96\", \"#ab63fa\", \"#FFA15A\", \"#19d3f3\", \"#FF6692\", \"#B6E880\", \"#FF97FF\", \"#FECB52\"], \"font\": {\"color\": \"#2a3f5f\"}, \"geo\": {\"bgcolor\": \"white\", \"lakecolor\": \"white\", \"landcolor\": \"#E5ECF6\", \"showlakes\": true, \"showland\": true, \"subunitcolor\": \"white\"}, \"hoverlabel\": {\"align\": \"left\"}, \"hovermode\": \"closest\", \"mapbox\": {\"style\": \"light\"}, \"paper_bgcolor\": \"white\", \"plot_bgcolor\": \"#E5ECF6\", \"polar\": {\"angularaxis\": {\"gridcolor\": \"white\", \"linecolor\": \"white\", \"ticks\": \"\"}, \"bgcolor\": \"#E5ECF6\", \"radialaxis\": {\"gridcolor\": \"white\", \"linecolor\": \"white\", \"ticks\": \"\"}}, \"scene\": {\"xaxis\": {\"backgroundcolor\": \"#E5ECF6\", \"gridcolor\": \"white\", \"gridwidth\": 2, \"linecolor\": \"white\", \"showbackground\": true, \"ticks\": \"\", \"zerolinecolor\": \"white\"}, \"yaxis\": {\"backgroundcolor\": \"#E5ECF6\", \"gridcolor\": \"white\", \"gridwidth\": 2, \"linecolor\": \"white\", \"showbackground\": true, \"ticks\": \"\", \"zerolinecolor\": \"white\"}, \"zaxis\": {\"backgroundcolor\": \"#E5ECF6\", \"gridcolor\": \"white\", \"gridwidth\": 2, \"linecolor\": \"white\", \"showbackground\": true, \"ticks\": \"\", \"zerolinecolor\": \"white\"}}, \"shapedefaults\": {\"line\": {\"color\": \"#2a3f5f\"}}, \"ternary\": {\"aaxis\": {\"gridcolor\": \"white\", \"linecolor\": \"white\", \"ticks\": \"\"}, \"baxis\": {\"gridcolor\": \"white\", \"linecolor\": \"white\", \"ticks\": \"\"}, \"bgcolor\": \"#E5ECF6\", \"caxis\": {\"gridcolor\": \"white\", \"linecolor\": \"white\", \"ticks\": \"\"}}, \"title\": {\"x\": 0.05}, \"xaxis\": {\"automargin\": true, \"gridcolor\": \"white\", \"linecolor\": \"white\", \"ticks\": \"\", \"zerolinecolor\": \"white\", \"zerolinewidth\": 2}, \"yaxis\": {\"automargin\": true, \"gridcolor\": \"white\", \"linecolor\": \"white\", \"ticks\": \"\", \"zerolinecolor\": \"white\", \"zerolinewidth\": 2}}}, \"title\": {\"text\": \"AMZN Put Price vs Strike Expiration: 2020-04-17 00:00:00\"}, \"xaxis\": {\"title\": {\"text\": \"Strike\"}}, \"yaxis\": {\"title\": {\"text\": \"Price\"}}},\n",
       "                        {\"responsive\": true}\n",
       "                    ).then(function(){\n",
       "                            \n",
       "var gd = document.getElementById('e53adba8-c501-4017-a146-f3cb56368522');\n",
       "var x = new MutationObserver(function (mutations, observer) {{\n",
       "        var display = window.getComputedStyle(gd).display;\n",
       "        if (!display || display === 'none') {{\n",
       "            console.log([gd, 'removed!']);\n",
       "            Plotly.purge(gd);\n",
       "            observer.disconnect();\n",
       "        }}\n",
       "}});\n",
       "\n",
       "// Listen for the removal of the full notebook cells\n",
       "var notebookContainer = gd.closest('#notebook-container');\n",
       "if (notebookContainer) {{\n",
       "    x.observe(notebookContainer, {childList: true});\n",
       "}}\n",
       "\n",
       "// Listen for the clearing of the current output cell\n",
       "var outputEl = gd.closest('.output');\n",
       "if (outputEl) {{\n",
       "    x.observe(outputEl, {childList: true});\n",
       "}}\n",
       "\n",
       "                        })\n",
       "                };\n",
       "                });\n",
       "            </script>\n",
       "        </div>"
      ]
     },
     "metadata": {},
     "output_type": "display_data"
    },
    {
     "data": {
      "application/vnd.plotly.v1+json": {
       "config": {
        "linkText": "Export to plot.ly",
        "plotlyServerURL": "https://plot.ly",
        "showLink": false
       },
       "data": [
        {
         "name": "American",
         "type": "scatter",
         "x": [
          1780,
          1800,
          1820,
          1840,
          1860,
          1880,
          1900,
          1920,
          1940,
          1960,
          1980,
          2000,
          2010,
          2020,
          2030,
          2040,
          2050,
          2060,
          2070,
          2080
         ],
         "y": [
          66.33364037663318,
          71.68588376170402,
          78.55629582581322,
          85.07274545479895,
          92.1537515452474,
          96.10841255031767,
          107.44397074770134,
          112.18365494469619,
          120.7090380842635,
          133.97773414341765,
          144.3329064548776,
          154.16679204836893,
          159.41127150172392,
          165.07013884021356,
          170.67451235675554,
          176.49243657926317,
          182.96369843783475,
          188.63625451323264,
          194.22902908779363,
          201.3415261459785
         ]
        },
        {
         "name": "European",
         "type": "scatter",
         "x": [
          1780,
          1800,
          1820,
          1840,
          1860,
          1880,
          1900,
          1920,
          1940,
          1960,
          1980,
          2000,
          2010,
          2020,
          2030,
          2040,
          2050,
          2060,
          2070,
          2080
         ],
         "y": [
          66.18631025749029,
          71.51239444751758,
          78.36830614866136,
          84.85764461162651,
          91.91424407292598,
          95.84413833314824,
          107.13981590238507,
          111.84908683821533,
          120.32335679602538,
          133.55698229658714,
          143.84939896782004,
          153.6382916862962,
          158.85054538900536,
          164.46383602842855,
          170.04292176533963,
          175.82998772979244,
          182.26462343035615,
          187.88018618929465,
          193.4378886509373,
          200.51485154781622
         ]
        },
        {
         "name": "Black-Scholes",
         "type": "scatter",
         "x": [
          1780,
          1800,
          1820,
          1840,
          1860,
          1880,
          1900,
          1920,
          1940,
          1960,
          1980,
          2000,
          2010,
          2020,
          2030,
          2040,
          2050,
          2060,
          2070,
          2080
         ],
         "y": [
          66.09996865685855,
          71.5499876687926,
          78.22501650819504,
          84.97500425981002,
          91.7750657286532,
          95.79995383748326,
          107.05011268390115,
          111.7499319860292,
          120.30002189927052,
          133.4250472346555,
          143.9000978979211,
          153.4998958405365,
          158.82488323343,
          164.5500537684668,
          169.94996023999715,
          175.69996778395375,
          182.22505174929142,
          187.97492563521155,
          193.34995399050786,
          200.39990017536707
         ]
        },
        {
         "name": "Bid",
         "type": "scatter",
         "x": [
          1780,
          1800,
          1820,
          1840,
          1860,
          1880,
          1900,
          1920,
          1940,
          1960,
          1980,
          2000,
          2010,
          2020,
          2030,
          2040,
          2050,
          2060,
          2070,
          2080
         ],
         "y": [
          65,
          70.8,
          77.6,
          83.95,
          90.7,
          95.1,
          106.15,
          110.75,
          119.15,
          132.55,
          142.8,
          152.1,
          157.45,
          163.25,
          168.4,
          174.05,
          180.25,
          186.35,
          190.85,
          198.55
         ]
        },
        {
         "name": "Ask",
         "type": "scatter",
         "x": [
          1780,
          1800,
          1820,
          1840,
          1860,
          1880,
          1900,
          1920,
          1940,
          1960,
          1980,
          2000,
          2010,
          2020,
          2030,
          2040,
          2050,
          2060,
          2070,
          2080
         ],
         "y": [
          67.2,
          72.3,
          78.85,
          86,
          92.85,
          96.5,
          107.95,
          112.75,
          121.45,
          134.3,
          145,
          154.9,
          160.2,
          165.85,
          171.5,
          177.35,
          184.2,
          189.6,
          195.85,
          202.25
         ]
        },
        {
         "name": "Underlying",
         "type": "scatter",
         "x": [
          1932.5763,
          1932.5763,
          1932.5763,
          1932.5763,
          1932.5763,
          1932.5763,
          1932.5763,
          1932.5763,
          1932.5763,
          1932.5763,
          1932.5763,
          1932.5763,
          1932.5763,
          1932.5763,
          1932.5763,
          1932.5763,
          1932.5763,
          1932.5763,
          1932.5763,
          1932.5763
         ],
         "y": [
          65,
          72.22368421052632,
          79.44736842105263,
          86.67105263157895,
          93.89473684210526,
          101.11842105263159,
          108.34210526315789,
          115.56578947368422,
          122.78947368421052,
          130.01315789473685,
          137.23684210526318,
          144.46052631578948,
          151.68421052631578,
          158.9078947368421,
          166.13157894736844,
          173.35526315789474,
          180.57894736842104,
          187.80263157894737,
          195.0263157894737,
          202.25
         ]
        }
       ],
       "layout": {
        "template": {
         "data": {
          "bar": [
           {
            "error_x": {
             "color": "#2a3f5f"
            },
            "error_y": {
             "color": "#2a3f5f"
            },
            "marker": {
             "line": {
              "color": "#E5ECF6",
              "width": 0.5
             }
            },
            "type": "bar"
           }
          ],
          "barpolar": [
           {
            "marker": {
             "line": {
              "color": "#E5ECF6",
              "width": 0.5
             }
            },
            "type": "barpolar"
           }
          ],
          "carpet": [
           {
            "aaxis": {
             "endlinecolor": "#2a3f5f",
             "gridcolor": "white",
             "linecolor": "white",
             "minorgridcolor": "white",
             "startlinecolor": "#2a3f5f"
            },
            "baxis": {
             "endlinecolor": "#2a3f5f",
             "gridcolor": "white",
             "linecolor": "white",
             "minorgridcolor": "white",
             "startlinecolor": "#2a3f5f"
            },
            "type": "carpet"
           }
          ],
          "choropleth": [
           {
            "colorbar": {
             "outlinewidth": 0,
             "ticks": ""
            },
            "type": "choropleth"
           }
          ],
          "contour": [
           {
            "colorbar": {
             "outlinewidth": 0,
             "ticks": ""
            },
            "colorscale": [
             [
              0,
              "#0d0887"
             ],
             [
              0.1111111111111111,
              "#46039f"
             ],
             [
              0.2222222222222222,
              "#7201a8"
             ],
             [
              0.3333333333333333,
              "#9c179e"
             ],
             [
              0.4444444444444444,
              "#bd3786"
             ],
             [
              0.5555555555555556,
              "#d8576b"
             ],
             [
              0.6666666666666666,
              "#ed7953"
             ],
             [
              0.7777777777777778,
              "#fb9f3a"
             ],
             [
              0.8888888888888888,
              "#fdca26"
             ],
             [
              1,
              "#f0f921"
             ]
            ],
            "type": "contour"
           }
          ],
          "contourcarpet": [
           {
            "colorbar": {
             "outlinewidth": 0,
             "ticks": ""
            },
            "type": "contourcarpet"
           }
          ],
          "heatmap": [
           {
            "colorbar": {
             "outlinewidth": 0,
             "ticks": ""
            },
            "colorscale": [
             [
              0,
              "#0d0887"
             ],
             [
              0.1111111111111111,
              "#46039f"
             ],
             [
              0.2222222222222222,
              "#7201a8"
             ],
             [
              0.3333333333333333,
              "#9c179e"
             ],
             [
              0.4444444444444444,
              "#bd3786"
             ],
             [
              0.5555555555555556,
              "#d8576b"
             ],
             [
              0.6666666666666666,
              "#ed7953"
             ],
             [
              0.7777777777777778,
              "#fb9f3a"
             ],
             [
              0.8888888888888888,
              "#fdca26"
             ],
             [
              1,
              "#f0f921"
             ]
            ],
            "type": "heatmap"
           }
          ],
          "heatmapgl": [
           {
            "colorbar": {
             "outlinewidth": 0,
             "ticks": ""
            },
            "colorscale": [
             [
              0,
              "#0d0887"
             ],
             [
              0.1111111111111111,
              "#46039f"
             ],
             [
              0.2222222222222222,
              "#7201a8"
             ],
             [
              0.3333333333333333,
              "#9c179e"
             ],
             [
              0.4444444444444444,
              "#bd3786"
             ],
             [
              0.5555555555555556,
              "#d8576b"
             ],
             [
              0.6666666666666666,
              "#ed7953"
             ],
             [
              0.7777777777777778,
              "#fb9f3a"
             ],
             [
              0.8888888888888888,
              "#fdca26"
             ],
             [
              1,
              "#f0f921"
             ]
            ],
            "type": "heatmapgl"
           }
          ],
          "histogram": [
           {
            "marker": {
             "colorbar": {
              "outlinewidth": 0,
              "ticks": ""
             }
            },
            "type": "histogram"
           }
          ],
          "histogram2d": [
           {
            "colorbar": {
             "outlinewidth": 0,
             "ticks": ""
            },
            "colorscale": [
             [
              0,
              "#0d0887"
             ],
             [
              0.1111111111111111,
              "#46039f"
             ],
             [
              0.2222222222222222,
              "#7201a8"
             ],
             [
              0.3333333333333333,
              "#9c179e"
             ],
             [
              0.4444444444444444,
              "#bd3786"
             ],
             [
              0.5555555555555556,
              "#d8576b"
             ],
             [
              0.6666666666666666,
              "#ed7953"
             ],
             [
              0.7777777777777778,
              "#fb9f3a"
             ],
             [
              0.8888888888888888,
              "#fdca26"
             ],
             [
              1,
              "#f0f921"
             ]
            ],
            "type": "histogram2d"
           }
          ],
          "histogram2dcontour": [
           {
            "colorbar": {
             "outlinewidth": 0,
             "ticks": ""
            },
            "colorscale": [
             [
              0,
              "#0d0887"
             ],
             [
              0.1111111111111111,
              "#46039f"
             ],
             [
              0.2222222222222222,
              "#7201a8"
             ],
             [
              0.3333333333333333,
              "#9c179e"
             ],
             [
              0.4444444444444444,
              "#bd3786"
             ],
             [
              0.5555555555555556,
              "#d8576b"
             ],
             [
              0.6666666666666666,
              "#ed7953"
             ],
             [
              0.7777777777777778,
              "#fb9f3a"
             ],
             [
              0.8888888888888888,
              "#fdca26"
             ],
             [
              1,
              "#f0f921"
             ]
            ],
            "type": "histogram2dcontour"
           }
          ],
          "mesh3d": [
           {
            "colorbar": {
             "outlinewidth": 0,
             "ticks": ""
            },
            "type": "mesh3d"
           }
          ],
          "parcoords": [
           {
            "line": {
             "colorbar": {
              "outlinewidth": 0,
              "ticks": ""
             }
            },
            "type": "parcoords"
           }
          ],
          "scatter": [
           {
            "marker": {
             "colorbar": {
              "outlinewidth": 0,
              "ticks": ""
             }
            },
            "type": "scatter"
           }
          ],
          "scatter3d": [
           {
            "line": {
             "colorbar": {
              "outlinewidth": 0,
              "ticks": ""
             }
            },
            "marker": {
             "colorbar": {
              "outlinewidth": 0,
              "ticks": ""
             }
            },
            "type": "scatter3d"
           }
          ],
          "scattercarpet": [
           {
            "marker": {
             "colorbar": {
              "outlinewidth": 0,
              "ticks": ""
             }
            },
            "type": "scattercarpet"
           }
          ],
          "scattergeo": [
           {
            "marker": {
             "colorbar": {
              "outlinewidth": 0,
              "ticks": ""
             }
            },
            "type": "scattergeo"
           }
          ],
          "scattergl": [
           {
            "marker": {
             "colorbar": {
              "outlinewidth": 0,
              "ticks": ""
             }
            },
            "type": "scattergl"
           }
          ],
          "scattermapbox": [
           {
            "marker": {
             "colorbar": {
              "outlinewidth": 0,
              "ticks": ""
             }
            },
            "type": "scattermapbox"
           }
          ],
          "scatterpolar": [
           {
            "marker": {
             "colorbar": {
              "outlinewidth": 0,
              "ticks": ""
             }
            },
            "type": "scatterpolar"
           }
          ],
          "scatterpolargl": [
           {
            "marker": {
             "colorbar": {
              "outlinewidth": 0,
              "ticks": ""
             }
            },
            "type": "scatterpolargl"
           }
          ],
          "scatterternary": [
           {
            "marker": {
             "colorbar": {
              "outlinewidth": 0,
              "ticks": ""
             }
            },
            "type": "scatterternary"
           }
          ],
          "surface": [
           {
            "colorbar": {
             "outlinewidth": 0,
             "ticks": ""
            },
            "colorscale": [
             [
              0,
              "#0d0887"
             ],
             [
              0.1111111111111111,
              "#46039f"
             ],
             [
              0.2222222222222222,
              "#7201a8"
             ],
             [
              0.3333333333333333,
              "#9c179e"
             ],
             [
              0.4444444444444444,
              "#bd3786"
             ],
             [
              0.5555555555555556,
              "#d8576b"
             ],
             [
              0.6666666666666666,
              "#ed7953"
             ],
             [
              0.7777777777777778,
              "#fb9f3a"
             ],
             [
              0.8888888888888888,
              "#fdca26"
             ],
             [
              1,
              "#f0f921"
             ]
            ],
            "type": "surface"
           }
          ],
          "table": [
           {
            "cells": {
             "fill": {
              "color": "#EBF0F8"
             },
             "line": {
              "color": "white"
             }
            },
            "header": {
             "fill": {
              "color": "#C8D4E3"
             },
             "line": {
              "color": "white"
             }
            },
            "type": "table"
           }
          ]
         },
         "layout": {
          "annotationdefaults": {
           "arrowcolor": "#2a3f5f",
           "arrowhead": 0,
           "arrowwidth": 1
          },
          "colorscale": {
           "diverging": [
            [
             0,
             "#8e0152"
            ],
            [
             0.1,
             "#c51b7d"
            ],
            [
             0.2,
             "#de77ae"
            ],
            [
             0.3,
             "#f1b6da"
            ],
            [
             0.4,
             "#fde0ef"
            ],
            [
             0.5,
             "#f7f7f7"
            ],
            [
             0.6,
             "#e6f5d0"
            ],
            [
             0.7,
             "#b8e186"
            ],
            [
             0.8,
             "#7fbc41"
            ],
            [
             0.9,
             "#4d9221"
            ],
            [
             1,
             "#276419"
            ]
           ],
           "sequential": [
            [
             0,
             "#0d0887"
            ],
            [
             0.1111111111111111,
             "#46039f"
            ],
            [
             0.2222222222222222,
             "#7201a8"
            ],
            [
             0.3333333333333333,
             "#9c179e"
            ],
            [
             0.4444444444444444,
             "#bd3786"
            ],
            [
             0.5555555555555556,
             "#d8576b"
            ],
            [
             0.6666666666666666,
             "#ed7953"
            ],
            [
             0.7777777777777778,
             "#fb9f3a"
            ],
            [
             0.8888888888888888,
             "#fdca26"
            ],
            [
             1,
             "#f0f921"
            ]
           ],
           "sequentialminus": [
            [
             0,
             "#0d0887"
            ],
            [
             0.1111111111111111,
             "#46039f"
            ],
            [
             0.2222222222222222,
             "#7201a8"
            ],
            [
             0.3333333333333333,
             "#9c179e"
            ],
            [
             0.4444444444444444,
             "#bd3786"
            ],
            [
             0.5555555555555556,
             "#d8576b"
            ],
            [
             0.6666666666666666,
             "#ed7953"
            ],
            [
             0.7777777777777778,
             "#fb9f3a"
            ],
            [
             0.8888888888888888,
             "#fdca26"
            ],
            [
             1,
             "#f0f921"
            ]
           ]
          },
          "colorway": [
           "#636efa",
           "#EF553B",
           "#00cc96",
           "#ab63fa",
           "#FFA15A",
           "#19d3f3",
           "#FF6692",
           "#B6E880",
           "#FF97FF",
           "#FECB52"
          ],
          "font": {
           "color": "#2a3f5f"
          },
          "geo": {
           "bgcolor": "white",
           "lakecolor": "white",
           "landcolor": "#E5ECF6",
           "showlakes": true,
           "showland": true,
           "subunitcolor": "white"
          },
          "hoverlabel": {
           "align": "left"
          },
          "hovermode": "closest",
          "mapbox": {
           "style": "light"
          },
          "paper_bgcolor": "white",
          "plot_bgcolor": "#E5ECF6",
          "polar": {
           "angularaxis": {
            "gridcolor": "white",
            "linecolor": "white",
            "ticks": ""
           },
           "bgcolor": "#E5ECF6",
           "radialaxis": {
            "gridcolor": "white",
            "linecolor": "white",
            "ticks": ""
           }
          },
          "scene": {
           "xaxis": {
            "backgroundcolor": "#E5ECF6",
            "gridcolor": "white",
            "gridwidth": 2,
            "linecolor": "white",
            "showbackground": true,
            "ticks": "",
            "zerolinecolor": "white"
           },
           "yaxis": {
            "backgroundcolor": "#E5ECF6",
            "gridcolor": "white",
            "gridwidth": 2,
            "linecolor": "white",
            "showbackground": true,
            "ticks": "",
            "zerolinecolor": "white"
           },
           "zaxis": {
            "backgroundcolor": "#E5ECF6",
            "gridcolor": "white",
            "gridwidth": 2,
            "linecolor": "white",
            "showbackground": true,
            "ticks": "",
            "zerolinecolor": "white"
           }
          },
          "shapedefaults": {
           "line": {
            "color": "#2a3f5f"
           }
          },
          "ternary": {
           "aaxis": {
            "gridcolor": "white",
            "linecolor": "white",
            "ticks": ""
           },
           "baxis": {
            "gridcolor": "white",
            "linecolor": "white",
            "ticks": ""
           },
           "bgcolor": "#E5ECF6",
           "caxis": {
            "gridcolor": "white",
            "linecolor": "white",
            "ticks": ""
           }
          },
          "title": {
           "x": 0.05
          },
          "xaxis": {
           "automargin": true,
           "gridcolor": "white",
           "linecolor": "white",
           "ticks": "",
           "zerolinecolor": "white",
           "zerolinewidth": 2
          },
          "yaxis": {
           "automargin": true,
           "gridcolor": "white",
           "linecolor": "white",
           "ticks": "",
           "zerolinecolor": "white",
           "zerolinewidth": 2
          }
         }
        },
        "title": {
         "text": "AMZN Put Price vs Strike Expiration: 2020-05-15 00:00:00"
        },
        "xaxis": {
         "title": {
          "text": "Strike"
         }
        },
        "yaxis": {
         "title": {
          "text": "Price"
         }
        }
       }
      },
      "text/html": [
       "<div>\n",
       "        \n",
       "        \n",
       "            <div id=\"46d46859-6661-4a72-9d19-f700c9c95512\" class=\"plotly-graph-div\" style=\"height:525px; width:100%;\"></div>\n",
       "            <script type=\"text/javascript\">\n",
       "                require([\"plotly\"], function(Plotly) {\n",
       "                    window.PLOTLYENV=window.PLOTLYENV || {};\n",
       "                    \n",
       "                if (document.getElementById(\"46d46859-6661-4a72-9d19-f700c9c95512\")) {\n",
       "                    Plotly.newPlot(\n",
       "                        '46d46859-6661-4a72-9d19-f700c9c95512',\n",
       "                        [{\"name\": \"American\", \"type\": \"scatter\", \"x\": [1780.0, 1800.0, 1820.0, 1840.0, 1860.0, 1880.0, 1900.0, 1920.0, 1940.0, 1960.0, 1980.0, 2000.0, 2010.0, 2020.0, 2030.0, 2040.0, 2050.0, 2060.0, 2070.0, 2080.0], \"y\": [66.33364037663318, 71.68588376170402, 78.55629582581322, 85.07274545479895, 92.1537515452474, 96.10841255031767, 107.44397074770134, 112.18365494469619, 120.7090380842635, 133.97773414341765, 144.3329064548776, 154.16679204836893, 159.41127150172392, 165.07013884021356, 170.67451235675554, 176.49243657926317, 182.96369843783475, 188.63625451323264, 194.22902908779363, 201.3415261459785]}, {\"name\": \"European\", \"type\": \"scatter\", \"x\": [1780.0, 1800.0, 1820.0, 1840.0, 1860.0, 1880.0, 1900.0, 1920.0, 1940.0, 1960.0, 1980.0, 2000.0, 2010.0, 2020.0, 2030.0, 2040.0, 2050.0, 2060.0, 2070.0, 2080.0], \"y\": [66.18631025749029, 71.51239444751758, 78.36830614866136, 84.85764461162651, 91.91424407292598, 95.84413833314824, 107.13981590238507, 111.84908683821533, 120.32335679602538, 133.55698229658714, 143.84939896782004, 153.6382916862962, 158.85054538900536, 164.46383602842855, 170.04292176533963, 175.82998772979244, 182.26462343035615, 187.88018618929465, 193.4378886509373, 200.51485154781622]}, {\"name\": \"Black-Scholes\", \"type\": \"scatter\", \"x\": [1780.0, 1800.0, 1820.0, 1840.0, 1860.0, 1880.0, 1900.0, 1920.0, 1940.0, 1960.0, 1980.0, 2000.0, 2010.0, 2020.0, 2030.0, 2040.0, 2050.0, 2060.0, 2070.0, 2080.0], \"y\": [66.09996865685855, 71.5499876687926, 78.22501650819504, 84.97500425981002, 91.7750657286532, 95.79995383748326, 107.05011268390115, 111.7499319860292, 120.30002189927052, 133.4250472346555, 143.9000978979211, 153.4998958405365, 158.82488323343, 164.5500537684668, 169.94996023999715, 175.69996778395375, 182.22505174929142, 187.97492563521155, 193.34995399050786, 200.39990017536707]}, {\"name\": \"Bid\", \"type\": \"scatter\", \"x\": [1780.0, 1800.0, 1820.0, 1840.0, 1860.0, 1880.0, 1900.0, 1920.0, 1940.0, 1960.0, 1980.0, 2000.0, 2010.0, 2020.0, 2030.0, 2040.0, 2050.0, 2060.0, 2070.0, 2080.0], \"y\": [65.0, 70.8, 77.6, 83.95, 90.7, 95.1, 106.15, 110.75, 119.15, 132.55, 142.8, 152.1, 157.45, 163.25, 168.4, 174.05, 180.25, 186.35, 190.85, 198.55]}, {\"name\": \"Ask\", \"type\": \"scatter\", \"x\": [1780.0, 1800.0, 1820.0, 1840.0, 1860.0, 1880.0, 1900.0, 1920.0, 1940.0, 1960.0, 1980.0, 2000.0, 2010.0, 2020.0, 2030.0, 2040.0, 2050.0, 2060.0, 2070.0, 2080.0], \"y\": [67.2, 72.3, 78.85, 86.0, 92.85, 96.5, 107.95, 112.75, 121.45, 134.3, 145.0, 154.9, 160.2, 165.85, 171.5, 177.35, 184.2, 189.6, 195.85, 202.25]}, {\"name\": \"Underlying\", \"type\": \"scatter\", \"x\": [1932.5763, 1932.5763, 1932.5763, 1932.5763, 1932.5763, 1932.5763, 1932.5763, 1932.5763, 1932.5763, 1932.5763, 1932.5763, 1932.5763, 1932.5763, 1932.5763, 1932.5763, 1932.5763, 1932.5763, 1932.5763, 1932.5763, 1932.5763], \"y\": [65.0, 72.22368421052632, 79.44736842105263, 86.67105263157895, 93.89473684210526, 101.11842105263159, 108.34210526315789, 115.56578947368422, 122.78947368421052, 130.01315789473685, 137.23684210526318, 144.46052631578948, 151.68421052631578, 158.9078947368421, 166.13157894736844, 173.35526315789474, 180.57894736842104, 187.80263157894737, 195.0263157894737, 202.25]}],\n",
       "                        {\"template\": {\"data\": {\"bar\": [{\"error_x\": {\"color\": \"#2a3f5f\"}, \"error_y\": {\"color\": \"#2a3f5f\"}, \"marker\": {\"line\": {\"color\": \"#E5ECF6\", \"width\": 0.5}}, \"type\": \"bar\"}], \"barpolar\": [{\"marker\": {\"line\": {\"color\": \"#E5ECF6\", \"width\": 0.5}}, \"type\": \"barpolar\"}], \"carpet\": [{\"aaxis\": {\"endlinecolor\": \"#2a3f5f\", \"gridcolor\": \"white\", \"linecolor\": \"white\", \"minorgridcolor\": \"white\", \"startlinecolor\": \"#2a3f5f\"}, \"baxis\": {\"endlinecolor\": \"#2a3f5f\", \"gridcolor\": \"white\", \"linecolor\": \"white\", \"minorgridcolor\": \"white\", \"startlinecolor\": \"#2a3f5f\"}, \"type\": \"carpet\"}], \"choropleth\": [{\"colorbar\": {\"outlinewidth\": 0, \"ticks\": \"\"}, \"type\": \"choropleth\"}], \"contour\": [{\"colorbar\": {\"outlinewidth\": 0, \"ticks\": \"\"}, \"colorscale\": [[0.0, \"#0d0887\"], [0.1111111111111111, \"#46039f\"], [0.2222222222222222, \"#7201a8\"], [0.3333333333333333, \"#9c179e\"], [0.4444444444444444, \"#bd3786\"], [0.5555555555555556, \"#d8576b\"], [0.6666666666666666, \"#ed7953\"], [0.7777777777777778, \"#fb9f3a\"], [0.8888888888888888, \"#fdca26\"], [1.0, \"#f0f921\"]], \"type\": \"contour\"}], \"contourcarpet\": [{\"colorbar\": {\"outlinewidth\": 0, \"ticks\": \"\"}, \"type\": \"contourcarpet\"}], \"heatmap\": [{\"colorbar\": {\"outlinewidth\": 0, \"ticks\": \"\"}, \"colorscale\": [[0.0, \"#0d0887\"], [0.1111111111111111, \"#46039f\"], [0.2222222222222222, \"#7201a8\"], [0.3333333333333333, \"#9c179e\"], [0.4444444444444444, \"#bd3786\"], [0.5555555555555556, \"#d8576b\"], [0.6666666666666666, \"#ed7953\"], [0.7777777777777778, \"#fb9f3a\"], [0.8888888888888888, \"#fdca26\"], [1.0, \"#f0f921\"]], \"type\": \"heatmap\"}], \"heatmapgl\": [{\"colorbar\": {\"outlinewidth\": 0, \"ticks\": \"\"}, \"colorscale\": [[0.0, \"#0d0887\"], [0.1111111111111111, \"#46039f\"], [0.2222222222222222, \"#7201a8\"], [0.3333333333333333, \"#9c179e\"], [0.4444444444444444, \"#bd3786\"], [0.5555555555555556, \"#d8576b\"], [0.6666666666666666, \"#ed7953\"], [0.7777777777777778, \"#fb9f3a\"], [0.8888888888888888, \"#fdca26\"], [1.0, \"#f0f921\"]], \"type\": \"heatmapgl\"}], \"histogram\": [{\"marker\": {\"colorbar\": {\"outlinewidth\": 0, \"ticks\": \"\"}}, \"type\": \"histogram\"}], \"histogram2d\": [{\"colorbar\": {\"outlinewidth\": 0, \"ticks\": \"\"}, \"colorscale\": [[0.0, \"#0d0887\"], [0.1111111111111111, \"#46039f\"], [0.2222222222222222, \"#7201a8\"], [0.3333333333333333, \"#9c179e\"], [0.4444444444444444, \"#bd3786\"], [0.5555555555555556, \"#d8576b\"], [0.6666666666666666, \"#ed7953\"], [0.7777777777777778, \"#fb9f3a\"], [0.8888888888888888, \"#fdca26\"], [1.0, \"#f0f921\"]], \"type\": \"histogram2d\"}], \"histogram2dcontour\": [{\"colorbar\": {\"outlinewidth\": 0, \"ticks\": \"\"}, \"colorscale\": [[0.0, \"#0d0887\"], [0.1111111111111111, \"#46039f\"], [0.2222222222222222, \"#7201a8\"], [0.3333333333333333, \"#9c179e\"], [0.4444444444444444, \"#bd3786\"], [0.5555555555555556, \"#d8576b\"], [0.6666666666666666, \"#ed7953\"], [0.7777777777777778, \"#fb9f3a\"], [0.8888888888888888, \"#fdca26\"], [1.0, \"#f0f921\"]], \"type\": \"histogram2dcontour\"}], \"mesh3d\": [{\"colorbar\": {\"outlinewidth\": 0, \"ticks\": \"\"}, \"type\": \"mesh3d\"}], \"parcoords\": [{\"line\": {\"colorbar\": {\"outlinewidth\": 0, \"ticks\": \"\"}}, \"type\": \"parcoords\"}], \"scatter\": [{\"marker\": {\"colorbar\": {\"outlinewidth\": 0, \"ticks\": \"\"}}, \"type\": \"scatter\"}], \"scatter3d\": [{\"line\": {\"colorbar\": {\"outlinewidth\": 0, \"ticks\": \"\"}}, \"marker\": {\"colorbar\": {\"outlinewidth\": 0, \"ticks\": \"\"}}, \"type\": \"scatter3d\"}], \"scattercarpet\": [{\"marker\": {\"colorbar\": {\"outlinewidth\": 0, \"ticks\": \"\"}}, \"type\": \"scattercarpet\"}], \"scattergeo\": [{\"marker\": {\"colorbar\": {\"outlinewidth\": 0, \"ticks\": \"\"}}, \"type\": \"scattergeo\"}], \"scattergl\": [{\"marker\": {\"colorbar\": {\"outlinewidth\": 0, \"ticks\": \"\"}}, \"type\": \"scattergl\"}], \"scattermapbox\": [{\"marker\": {\"colorbar\": {\"outlinewidth\": 0, \"ticks\": \"\"}}, \"type\": \"scattermapbox\"}], \"scatterpolar\": [{\"marker\": {\"colorbar\": {\"outlinewidth\": 0, \"ticks\": \"\"}}, \"type\": \"scatterpolar\"}], \"scatterpolargl\": [{\"marker\": {\"colorbar\": {\"outlinewidth\": 0, \"ticks\": \"\"}}, \"type\": \"scatterpolargl\"}], \"scatterternary\": [{\"marker\": {\"colorbar\": {\"outlinewidth\": 0, \"ticks\": \"\"}}, \"type\": \"scatterternary\"}], \"surface\": [{\"colorbar\": {\"outlinewidth\": 0, \"ticks\": \"\"}, \"colorscale\": [[0.0, \"#0d0887\"], [0.1111111111111111, \"#46039f\"], [0.2222222222222222, \"#7201a8\"], [0.3333333333333333, \"#9c179e\"], [0.4444444444444444, \"#bd3786\"], [0.5555555555555556, \"#d8576b\"], [0.6666666666666666, \"#ed7953\"], [0.7777777777777778, \"#fb9f3a\"], [0.8888888888888888, \"#fdca26\"], [1.0, \"#f0f921\"]], \"type\": \"surface\"}], \"table\": [{\"cells\": {\"fill\": {\"color\": \"#EBF0F8\"}, \"line\": {\"color\": \"white\"}}, \"header\": {\"fill\": {\"color\": \"#C8D4E3\"}, \"line\": {\"color\": \"white\"}}, \"type\": \"table\"}]}, \"layout\": {\"annotationdefaults\": {\"arrowcolor\": \"#2a3f5f\", \"arrowhead\": 0, \"arrowwidth\": 1}, \"colorscale\": {\"diverging\": [[0, \"#8e0152\"], [0.1, \"#c51b7d\"], [0.2, \"#de77ae\"], [0.3, \"#f1b6da\"], [0.4, \"#fde0ef\"], [0.5, \"#f7f7f7\"], [0.6, \"#e6f5d0\"], [0.7, \"#b8e186\"], [0.8, \"#7fbc41\"], [0.9, \"#4d9221\"], [1, \"#276419\"]], \"sequential\": [[0.0, \"#0d0887\"], [0.1111111111111111, \"#46039f\"], [0.2222222222222222, \"#7201a8\"], [0.3333333333333333, \"#9c179e\"], [0.4444444444444444, \"#bd3786\"], [0.5555555555555556, \"#d8576b\"], [0.6666666666666666, \"#ed7953\"], [0.7777777777777778, \"#fb9f3a\"], [0.8888888888888888, \"#fdca26\"], [1.0, \"#f0f921\"]], \"sequentialminus\": [[0.0, \"#0d0887\"], [0.1111111111111111, \"#46039f\"], [0.2222222222222222, \"#7201a8\"], [0.3333333333333333, \"#9c179e\"], [0.4444444444444444, \"#bd3786\"], [0.5555555555555556, \"#d8576b\"], [0.6666666666666666, \"#ed7953\"], [0.7777777777777778, \"#fb9f3a\"], [0.8888888888888888, \"#fdca26\"], [1.0, \"#f0f921\"]]}, \"colorway\": [\"#636efa\", \"#EF553B\", \"#00cc96\", \"#ab63fa\", \"#FFA15A\", \"#19d3f3\", \"#FF6692\", \"#B6E880\", \"#FF97FF\", \"#FECB52\"], \"font\": {\"color\": \"#2a3f5f\"}, \"geo\": {\"bgcolor\": \"white\", \"lakecolor\": \"white\", \"landcolor\": \"#E5ECF6\", \"showlakes\": true, \"showland\": true, \"subunitcolor\": \"white\"}, \"hoverlabel\": {\"align\": \"left\"}, \"hovermode\": \"closest\", \"mapbox\": {\"style\": \"light\"}, \"paper_bgcolor\": \"white\", \"plot_bgcolor\": \"#E5ECF6\", \"polar\": {\"angularaxis\": {\"gridcolor\": \"white\", \"linecolor\": \"white\", \"ticks\": \"\"}, \"bgcolor\": \"#E5ECF6\", \"radialaxis\": {\"gridcolor\": \"white\", \"linecolor\": \"white\", \"ticks\": \"\"}}, \"scene\": {\"xaxis\": {\"backgroundcolor\": \"#E5ECF6\", \"gridcolor\": \"white\", \"gridwidth\": 2, \"linecolor\": \"white\", \"showbackground\": true, \"ticks\": \"\", \"zerolinecolor\": \"white\"}, \"yaxis\": {\"backgroundcolor\": \"#E5ECF6\", \"gridcolor\": \"white\", \"gridwidth\": 2, \"linecolor\": \"white\", \"showbackground\": true, \"ticks\": \"\", \"zerolinecolor\": \"white\"}, \"zaxis\": {\"backgroundcolor\": \"#E5ECF6\", \"gridcolor\": \"white\", \"gridwidth\": 2, \"linecolor\": \"white\", \"showbackground\": true, \"ticks\": \"\", \"zerolinecolor\": \"white\"}}, \"shapedefaults\": {\"line\": {\"color\": \"#2a3f5f\"}}, \"ternary\": {\"aaxis\": {\"gridcolor\": \"white\", \"linecolor\": \"white\", \"ticks\": \"\"}, \"baxis\": {\"gridcolor\": \"white\", \"linecolor\": \"white\", \"ticks\": \"\"}, \"bgcolor\": \"#E5ECF6\", \"caxis\": {\"gridcolor\": \"white\", \"linecolor\": \"white\", \"ticks\": \"\"}}, \"title\": {\"x\": 0.05}, \"xaxis\": {\"automargin\": true, \"gridcolor\": \"white\", \"linecolor\": \"white\", \"ticks\": \"\", \"zerolinecolor\": \"white\", \"zerolinewidth\": 2}, \"yaxis\": {\"automargin\": true, \"gridcolor\": \"white\", \"linecolor\": \"white\", \"ticks\": \"\", \"zerolinecolor\": \"white\", \"zerolinewidth\": 2}}}, \"title\": {\"text\": \"AMZN Put Price vs Strike Expiration: 2020-05-15 00:00:00\"}, \"xaxis\": {\"title\": {\"text\": \"Strike\"}}, \"yaxis\": {\"title\": {\"text\": \"Price\"}}},\n",
       "                        {\"responsive\": true}\n",
       "                    ).then(function(){\n",
       "                            \n",
       "var gd = document.getElementById('46d46859-6661-4a72-9d19-f700c9c95512');\n",
       "var x = new MutationObserver(function (mutations, observer) {{\n",
       "        var display = window.getComputedStyle(gd).display;\n",
       "        if (!display || display === 'none') {{\n",
       "            console.log([gd, 'removed!']);\n",
       "            Plotly.purge(gd);\n",
       "            observer.disconnect();\n",
       "        }}\n",
       "}});\n",
       "\n",
       "// Listen for the removal of the full notebook cells\n",
       "var notebookContainer = gd.closest('#notebook-container');\n",
       "if (notebookContainer) {{\n",
       "    x.observe(notebookContainer, {childList: true});\n",
       "}}\n",
       "\n",
       "// Listen for the clearing of the current output cell\n",
       "var outputEl = gd.closest('.output');\n",
       "if (outputEl) {{\n",
       "    x.observe(outputEl, {childList: true});\n",
       "}}\n",
       "\n",
       "                        })\n",
       "                };\n",
       "                });\n",
       "            </script>\n",
       "        </div>"
      ]
     },
     "metadata": {},
     "output_type": "display_data"
    },
    {
     "data": {
      "application/vnd.plotly.v1+json": {
       "config": {
        "linkText": "Export to plot.ly",
        "plotlyServerURL": "https://plot.ly",
        "showLink": false
       },
       "data": [
        {
         "name": "American",
         "type": "scatter",
         "x": [
          1885,
          1890,
          1895,
          1900,
          1905,
          1910,
          1915,
          1920,
          1925,
          1930,
          1935,
          1940,
          1945,
          1950,
          1955,
          1960,
          1965,
          1970,
          1975,
          1980
         ],
         "y": [
          113.70179930403229,
          119.11748293685919,
          121.75770599073861,
          123.64348143579332,
          122.0212298873523,
          127.93810171085379,
          129.82151618633762,
          132.40445636000166,
          130.0163031131647,
          136.24595421231353,
          137.74363906767513,
          141.04011994170907,
          143.53594497859572,
          142.85610436683848,
          147.32084508095372,
          150.56016651868106,
          152.09575209546938,
          150.9941808737653,
          156.91462642408425,
          160.20490014644176
         ]
        },
        {
         "name": "European",
         "type": "scatter",
         "x": [
          1885,
          1890,
          1895,
          1900,
          1905,
          1910,
          1915,
          1920,
          1925,
          1930,
          1935,
          1940,
          1945,
          1950,
          1955,
          1960,
          1965,
          1970,
          1975,
          1980
         ],
         "y": [
          113.23456198307267,
          118.64149578066035,
          121.27310623015369,
          123.14967634539776,
          121.5180422603345,
          127.42327315595465,
          129.29432357607138,
          131.8630702215795,
          129.45851020993643,
          135.66801645148942,
          137.1403426253139,
          140.42698174607054,
          142.91183302201262,
          142.2182957994562,
          146.67097998205242,
          149.89671014966655,
          151.41532164596924,
          150.29069969003444,
          156.19509462409357,
          159.46089653957884
         ]
        },
        {
         "name": "Black-Scholes",
         "type": "scatter",
         "x": [
          1885,
          1890,
          1895,
          1900,
          1905,
          1910,
          1915,
          1920,
          1925,
          1930,
          1935,
          1940,
          1945,
          1950,
          1955,
          1960,
          1965,
          1970,
          1975,
          1980
         ],
         "y": [
          113.34986448183929,
          118.62511498076788,
          121.17494038500479,
          123.0001418175492,
          121.34985925000012,
          127.24994438900671,
          129.14993161615814,
          131.7751200484505,
          129.4499971770423,
          135.77495389777494,
          137.24992640448045,
          140.42491055250775,
          142.82510826949851,
          142.07495291556006,
          146.4999907155202,
          149.72512849712962,
          151.2749011800821,
          150.22488287720284,
          156.20012114238057,
          159.57500278963664
         ]
        },
        {
         "name": "Bid",
         "type": "scatter",
         "x": [
          1885,
          1890,
          1895,
          1900,
          1905,
          1910,
          1915,
          1920,
          1925,
          1930,
          1935,
          1940,
          1945,
          1950,
          1955,
          1960,
          1965,
          1970,
          1975,
          1980
         ],
         "y": [
          112.2,
          117.5,
          119.95,
          121.9,
          120.35,
          126.25,
          128,
          130.6,
          128.2,
          134.65,
          136.2,
          139.4,
          141.8,
          141.25,
          145.2,
          148.55,
          149.6,
          148.7,
          154.55,
          158.05
         ]
        },
        {
         "name": "Ask",
         "type": "scatter",
         "x": [
          1885,
          1890,
          1895,
          1900,
          1905,
          1910,
          1915,
          1920,
          1925,
          1930,
          1935,
          1940,
          1945,
          1950,
          1955,
          1960,
          1965,
          1970,
          1975,
          1980
         ],
         "y": [
          114.5,
          119.75,
          122.4,
          124.1,
          122.35,
          128.25,
          130.3,
          132.95,
          130.7,
          136.9,
          138.3,
          141.45,
          143.85,
          142.9,
          147.8,
          150.9,
          152.95,
          151.75,
          157.85,
          161.1
         ]
        },
        {
         "name": "Underlying",
         "type": "scatter",
         "x": [
          1932.5763,
          1932.5763,
          1932.5763,
          1932.5763,
          1932.5763,
          1932.5763,
          1932.5763,
          1932.5763,
          1932.5763,
          1932.5763,
          1932.5763,
          1932.5763,
          1932.5763,
          1932.5763,
          1932.5763,
          1932.5763,
          1932.5763,
          1932.5763,
          1932.5763,
          1932.5763
         ],
         "y": [
          112.2,
          114.77368421052631,
          117.34736842105264,
          119.92105263157895,
          122.49473684210527,
          125.06842105263158,
          127.6421052631579,
          130.2157894736842,
          132.78947368421052,
          135.36315789473684,
          137.93684210526317,
          140.51052631578946,
          143.0842105263158,
          145.6578947368421,
          148.2315789473684,
          150.80526315789473,
          153.37894736842105,
          155.95263157894738,
          158.52631578947367,
          161.1
         ]
        }
       ],
       "layout": {
        "template": {
         "data": {
          "bar": [
           {
            "error_x": {
             "color": "#2a3f5f"
            },
            "error_y": {
             "color": "#2a3f5f"
            },
            "marker": {
             "line": {
              "color": "#E5ECF6",
              "width": 0.5
             }
            },
            "type": "bar"
           }
          ],
          "barpolar": [
           {
            "marker": {
             "line": {
              "color": "#E5ECF6",
              "width": 0.5
             }
            },
            "type": "barpolar"
           }
          ],
          "carpet": [
           {
            "aaxis": {
             "endlinecolor": "#2a3f5f",
             "gridcolor": "white",
             "linecolor": "white",
             "minorgridcolor": "white",
             "startlinecolor": "#2a3f5f"
            },
            "baxis": {
             "endlinecolor": "#2a3f5f",
             "gridcolor": "white",
             "linecolor": "white",
             "minorgridcolor": "white",
             "startlinecolor": "#2a3f5f"
            },
            "type": "carpet"
           }
          ],
          "choropleth": [
           {
            "colorbar": {
             "outlinewidth": 0,
             "ticks": ""
            },
            "type": "choropleth"
           }
          ],
          "contour": [
           {
            "colorbar": {
             "outlinewidth": 0,
             "ticks": ""
            },
            "colorscale": [
             [
              0,
              "#0d0887"
             ],
             [
              0.1111111111111111,
              "#46039f"
             ],
             [
              0.2222222222222222,
              "#7201a8"
             ],
             [
              0.3333333333333333,
              "#9c179e"
             ],
             [
              0.4444444444444444,
              "#bd3786"
             ],
             [
              0.5555555555555556,
              "#d8576b"
             ],
             [
              0.6666666666666666,
              "#ed7953"
             ],
             [
              0.7777777777777778,
              "#fb9f3a"
             ],
             [
              0.8888888888888888,
              "#fdca26"
             ],
             [
              1,
              "#f0f921"
             ]
            ],
            "type": "contour"
           }
          ],
          "contourcarpet": [
           {
            "colorbar": {
             "outlinewidth": 0,
             "ticks": ""
            },
            "type": "contourcarpet"
           }
          ],
          "heatmap": [
           {
            "colorbar": {
             "outlinewidth": 0,
             "ticks": ""
            },
            "colorscale": [
             [
              0,
              "#0d0887"
             ],
             [
              0.1111111111111111,
              "#46039f"
             ],
             [
              0.2222222222222222,
              "#7201a8"
             ],
             [
              0.3333333333333333,
              "#9c179e"
             ],
             [
              0.4444444444444444,
              "#bd3786"
             ],
             [
              0.5555555555555556,
              "#d8576b"
             ],
             [
              0.6666666666666666,
              "#ed7953"
             ],
             [
              0.7777777777777778,
              "#fb9f3a"
             ],
             [
              0.8888888888888888,
              "#fdca26"
             ],
             [
              1,
              "#f0f921"
             ]
            ],
            "type": "heatmap"
           }
          ],
          "heatmapgl": [
           {
            "colorbar": {
             "outlinewidth": 0,
             "ticks": ""
            },
            "colorscale": [
             [
              0,
              "#0d0887"
             ],
             [
              0.1111111111111111,
              "#46039f"
             ],
             [
              0.2222222222222222,
              "#7201a8"
             ],
             [
              0.3333333333333333,
              "#9c179e"
             ],
             [
              0.4444444444444444,
              "#bd3786"
             ],
             [
              0.5555555555555556,
              "#d8576b"
             ],
             [
              0.6666666666666666,
              "#ed7953"
             ],
             [
              0.7777777777777778,
              "#fb9f3a"
             ],
             [
              0.8888888888888888,
              "#fdca26"
             ],
             [
              1,
              "#f0f921"
             ]
            ],
            "type": "heatmapgl"
           }
          ],
          "histogram": [
           {
            "marker": {
             "colorbar": {
              "outlinewidth": 0,
              "ticks": ""
             }
            },
            "type": "histogram"
           }
          ],
          "histogram2d": [
           {
            "colorbar": {
             "outlinewidth": 0,
             "ticks": ""
            },
            "colorscale": [
             [
              0,
              "#0d0887"
             ],
             [
              0.1111111111111111,
              "#46039f"
             ],
             [
              0.2222222222222222,
              "#7201a8"
             ],
             [
              0.3333333333333333,
              "#9c179e"
             ],
             [
              0.4444444444444444,
              "#bd3786"
             ],
             [
              0.5555555555555556,
              "#d8576b"
             ],
             [
              0.6666666666666666,
              "#ed7953"
             ],
             [
              0.7777777777777778,
              "#fb9f3a"
             ],
             [
              0.8888888888888888,
              "#fdca26"
             ],
             [
              1,
              "#f0f921"
             ]
            ],
            "type": "histogram2d"
           }
          ],
          "histogram2dcontour": [
           {
            "colorbar": {
             "outlinewidth": 0,
             "ticks": ""
            },
            "colorscale": [
             [
              0,
              "#0d0887"
             ],
             [
              0.1111111111111111,
              "#46039f"
             ],
             [
              0.2222222222222222,
              "#7201a8"
             ],
             [
              0.3333333333333333,
              "#9c179e"
             ],
             [
              0.4444444444444444,
              "#bd3786"
             ],
             [
              0.5555555555555556,
              "#d8576b"
             ],
             [
              0.6666666666666666,
              "#ed7953"
             ],
             [
              0.7777777777777778,
              "#fb9f3a"
             ],
             [
              0.8888888888888888,
              "#fdca26"
             ],
             [
              1,
              "#f0f921"
             ]
            ],
            "type": "histogram2dcontour"
           }
          ],
          "mesh3d": [
           {
            "colorbar": {
             "outlinewidth": 0,
             "ticks": ""
            },
            "type": "mesh3d"
           }
          ],
          "parcoords": [
           {
            "line": {
             "colorbar": {
              "outlinewidth": 0,
              "ticks": ""
             }
            },
            "type": "parcoords"
           }
          ],
          "scatter": [
           {
            "marker": {
             "colorbar": {
              "outlinewidth": 0,
              "ticks": ""
             }
            },
            "type": "scatter"
           }
          ],
          "scatter3d": [
           {
            "line": {
             "colorbar": {
              "outlinewidth": 0,
              "ticks": ""
             }
            },
            "marker": {
             "colorbar": {
              "outlinewidth": 0,
              "ticks": ""
             }
            },
            "type": "scatter3d"
           }
          ],
          "scattercarpet": [
           {
            "marker": {
             "colorbar": {
              "outlinewidth": 0,
              "ticks": ""
             }
            },
            "type": "scattercarpet"
           }
          ],
          "scattergeo": [
           {
            "marker": {
             "colorbar": {
              "outlinewidth": 0,
              "ticks": ""
             }
            },
            "type": "scattergeo"
           }
          ],
          "scattergl": [
           {
            "marker": {
             "colorbar": {
              "outlinewidth": 0,
              "ticks": ""
             }
            },
            "type": "scattergl"
           }
          ],
          "scattermapbox": [
           {
            "marker": {
             "colorbar": {
              "outlinewidth": 0,
              "ticks": ""
             }
            },
            "type": "scattermapbox"
           }
          ],
          "scatterpolar": [
           {
            "marker": {
             "colorbar": {
              "outlinewidth": 0,
              "ticks": ""
             }
            },
            "type": "scatterpolar"
           }
          ],
          "scatterpolargl": [
           {
            "marker": {
             "colorbar": {
              "outlinewidth": 0,
              "ticks": ""
             }
            },
            "type": "scatterpolargl"
           }
          ],
          "scatterternary": [
           {
            "marker": {
             "colorbar": {
              "outlinewidth": 0,
              "ticks": ""
             }
            },
            "type": "scatterternary"
           }
          ],
          "surface": [
           {
            "colorbar": {
             "outlinewidth": 0,
             "ticks": ""
            },
            "colorscale": [
             [
              0,
              "#0d0887"
             ],
             [
              0.1111111111111111,
              "#46039f"
             ],
             [
              0.2222222222222222,
              "#7201a8"
             ],
             [
              0.3333333333333333,
              "#9c179e"
             ],
             [
              0.4444444444444444,
              "#bd3786"
             ],
             [
              0.5555555555555556,
              "#d8576b"
             ],
             [
              0.6666666666666666,
              "#ed7953"
             ],
             [
              0.7777777777777778,
              "#fb9f3a"
             ],
             [
              0.8888888888888888,
              "#fdca26"
             ],
             [
              1,
              "#f0f921"
             ]
            ],
            "type": "surface"
           }
          ],
          "table": [
           {
            "cells": {
             "fill": {
              "color": "#EBF0F8"
             },
             "line": {
              "color": "white"
             }
            },
            "header": {
             "fill": {
              "color": "#C8D4E3"
             },
             "line": {
              "color": "white"
             }
            },
            "type": "table"
           }
          ]
         },
         "layout": {
          "annotationdefaults": {
           "arrowcolor": "#2a3f5f",
           "arrowhead": 0,
           "arrowwidth": 1
          },
          "colorscale": {
           "diverging": [
            [
             0,
             "#8e0152"
            ],
            [
             0.1,
             "#c51b7d"
            ],
            [
             0.2,
             "#de77ae"
            ],
            [
             0.3,
             "#f1b6da"
            ],
            [
             0.4,
             "#fde0ef"
            ],
            [
             0.5,
             "#f7f7f7"
            ],
            [
             0.6,
             "#e6f5d0"
            ],
            [
             0.7,
             "#b8e186"
            ],
            [
             0.8,
             "#7fbc41"
            ],
            [
             0.9,
             "#4d9221"
            ],
            [
             1,
             "#276419"
            ]
           ],
           "sequential": [
            [
             0,
             "#0d0887"
            ],
            [
             0.1111111111111111,
             "#46039f"
            ],
            [
             0.2222222222222222,
             "#7201a8"
            ],
            [
             0.3333333333333333,
             "#9c179e"
            ],
            [
             0.4444444444444444,
             "#bd3786"
            ],
            [
             0.5555555555555556,
             "#d8576b"
            ],
            [
             0.6666666666666666,
             "#ed7953"
            ],
            [
             0.7777777777777778,
             "#fb9f3a"
            ],
            [
             0.8888888888888888,
             "#fdca26"
            ],
            [
             1,
             "#f0f921"
            ]
           ],
           "sequentialminus": [
            [
             0,
             "#0d0887"
            ],
            [
             0.1111111111111111,
             "#46039f"
            ],
            [
             0.2222222222222222,
             "#7201a8"
            ],
            [
             0.3333333333333333,
             "#9c179e"
            ],
            [
             0.4444444444444444,
             "#bd3786"
            ],
            [
             0.5555555555555556,
             "#d8576b"
            ],
            [
             0.6666666666666666,
             "#ed7953"
            ],
            [
             0.7777777777777778,
             "#fb9f3a"
            ],
            [
             0.8888888888888888,
             "#fdca26"
            ],
            [
             1,
             "#f0f921"
            ]
           ]
          },
          "colorway": [
           "#636efa",
           "#EF553B",
           "#00cc96",
           "#ab63fa",
           "#FFA15A",
           "#19d3f3",
           "#FF6692",
           "#B6E880",
           "#FF97FF",
           "#FECB52"
          ],
          "font": {
           "color": "#2a3f5f"
          },
          "geo": {
           "bgcolor": "white",
           "lakecolor": "white",
           "landcolor": "#E5ECF6",
           "showlakes": true,
           "showland": true,
           "subunitcolor": "white"
          },
          "hoverlabel": {
           "align": "left"
          },
          "hovermode": "closest",
          "mapbox": {
           "style": "light"
          },
          "paper_bgcolor": "white",
          "plot_bgcolor": "#E5ECF6",
          "polar": {
           "angularaxis": {
            "gridcolor": "white",
            "linecolor": "white",
            "ticks": ""
           },
           "bgcolor": "#E5ECF6",
           "radialaxis": {
            "gridcolor": "white",
            "linecolor": "white",
            "ticks": ""
           }
          },
          "scene": {
           "xaxis": {
            "backgroundcolor": "#E5ECF6",
            "gridcolor": "white",
            "gridwidth": 2,
            "linecolor": "white",
            "showbackground": true,
            "ticks": "",
            "zerolinecolor": "white"
           },
           "yaxis": {
            "backgroundcolor": "#E5ECF6",
            "gridcolor": "white",
            "gridwidth": 2,
            "linecolor": "white",
            "showbackground": true,
            "ticks": "",
            "zerolinecolor": "white"
           },
           "zaxis": {
            "backgroundcolor": "#E5ECF6",
            "gridcolor": "white",
            "gridwidth": 2,
            "linecolor": "white",
            "showbackground": true,
            "ticks": "",
            "zerolinecolor": "white"
           }
          },
          "shapedefaults": {
           "line": {
            "color": "#2a3f5f"
           }
          },
          "ternary": {
           "aaxis": {
            "gridcolor": "white",
            "linecolor": "white",
            "ticks": ""
           },
           "baxis": {
            "gridcolor": "white",
            "linecolor": "white",
            "ticks": ""
           },
           "bgcolor": "#E5ECF6",
           "caxis": {
            "gridcolor": "white",
            "linecolor": "white",
            "ticks": ""
           }
          },
          "title": {
           "x": 0.05
          },
          "xaxis": {
           "automargin": true,
           "gridcolor": "white",
           "linecolor": "white",
           "ticks": "",
           "zerolinecolor": "white",
           "zerolinewidth": 2
          },
          "yaxis": {
           "automargin": true,
           "gridcolor": "white",
           "linecolor": "white",
           "ticks": "",
           "zerolinecolor": "white",
           "zerolinewidth": 2
          }
         }
        },
        "title": {
         "text": "AMZN Put Price vs Strike Expiration: 2020-06-19 00:00:00"
        },
        "xaxis": {
         "title": {
          "text": "Strike"
         }
        },
        "yaxis": {
         "title": {
          "text": "Price"
         }
        }
       }
      },
      "text/html": [
       "<div>\n",
       "        \n",
       "        \n",
       "            <div id=\"ad6d9a6b-d75d-4e35-a0e2-c1e88bf499f2\" class=\"plotly-graph-div\" style=\"height:525px; width:100%;\"></div>\n",
       "            <script type=\"text/javascript\">\n",
       "                require([\"plotly\"], function(Plotly) {\n",
       "                    window.PLOTLYENV=window.PLOTLYENV || {};\n",
       "                    \n",
       "                if (document.getElementById(\"ad6d9a6b-d75d-4e35-a0e2-c1e88bf499f2\")) {\n",
       "                    Plotly.newPlot(\n",
       "                        'ad6d9a6b-d75d-4e35-a0e2-c1e88bf499f2',\n",
       "                        [{\"name\": \"American\", \"type\": \"scatter\", \"x\": [1885.0, 1890.0, 1895.0, 1900.0, 1905.0, 1910.0, 1915.0, 1920.0, 1925.0, 1930.0, 1935.0, 1940.0, 1945.0, 1950.0, 1955.0, 1960.0, 1965.0, 1970.0, 1975.0, 1980.0], \"y\": [113.70179930403229, 119.11748293685919, 121.75770599073861, 123.64348143579332, 122.0212298873523, 127.93810171085379, 129.82151618633762, 132.40445636000166, 130.0163031131647, 136.24595421231353, 137.74363906767513, 141.04011994170907, 143.53594497859572, 142.85610436683848, 147.32084508095372, 150.56016651868106, 152.09575209546938, 150.9941808737653, 156.91462642408425, 160.20490014644176]}, {\"name\": \"European\", \"type\": \"scatter\", \"x\": [1885.0, 1890.0, 1895.0, 1900.0, 1905.0, 1910.0, 1915.0, 1920.0, 1925.0, 1930.0, 1935.0, 1940.0, 1945.0, 1950.0, 1955.0, 1960.0, 1965.0, 1970.0, 1975.0, 1980.0], \"y\": [113.23456198307267, 118.64149578066035, 121.27310623015369, 123.14967634539776, 121.5180422603345, 127.42327315595465, 129.29432357607138, 131.8630702215795, 129.45851020993643, 135.66801645148942, 137.1403426253139, 140.42698174607054, 142.91183302201262, 142.2182957994562, 146.67097998205242, 149.89671014966655, 151.41532164596924, 150.29069969003444, 156.19509462409357, 159.46089653957884]}, {\"name\": \"Black-Scholes\", \"type\": \"scatter\", \"x\": [1885.0, 1890.0, 1895.0, 1900.0, 1905.0, 1910.0, 1915.0, 1920.0, 1925.0, 1930.0, 1935.0, 1940.0, 1945.0, 1950.0, 1955.0, 1960.0, 1965.0, 1970.0, 1975.0, 1980.0], \"y\": [113.34986448183929, 118.62511498076788, 121.17494038500479, 123.0001418175492, 121.34985925000012, 127.24994438900671, 129.14993161615814, 131.7751200484505, 129.4499971770423, 135.77495389777494, 137.24992640448045, 140.42491055250775, 142.82510826949851, 142.07495291556006, 146.4999907155202, 149.72512849712962, 151.2749011800821, 150.22488287720284, 156.20012114238057, 159.57500278963664]}, {\"name\": \"Bid\", \"type\": \"scatter\", \"x\": [1885.0, 1890.0, 1895.0, 1900.0, 1905.0, 1910.0, 1915.0, 1920.0, 1925.0, 1930.0, 1935.0, 1940.0, 1945.0, 1950.0, 1955.0, 1960.0, 1965.0, 1970.0, 1975.0, 1980.0], \"y\": [112.2, 117.5, 119.95, 121.9, 120.35, 126.25, 128.0, 130.6, 128.2, 134.65, 136.2, 139.4, 141.8, 141.25, 145.2, 148.55, 149.6, 148.7, 154.55, 158.05]}, {\"name\": \"Ask\", \"type\": \"scatter\", \"x\": [1885.0, 1890.0, 1895.0, 1900.0, 1905.0, 1910.0, 1915.0, 1920.0, 1925.0, 1930.0, 1935.0, 1940.0, 1945.0, 1950.0, 1955.0, 1960.0, 1965.0, 1970.0, 1975.0, 1980.0], \"y\": [114.5, 119.75, 122.4, 124.1, 122.35, 128.25, 130.3, 132.95, 130.7, 136.9, 138.3, 141.45, 143.85, 142.9, 147.8, 150.9, 152.95, 151.75, 157.85, 161.1]}, {\"name\": \"Underlying\", \"type\": \"scatter\", \"x\": [1932.5763, 1932.5763, 1932.5763, 1932.5763, 1932.5763, 1932.5763, 1932.5763, 1932.5763, 1932.5763, 1932.5763, 1932.5763, 1932.5763, 1932.5763, 1932.5763, 1932.5763, 1932.5763, 1932.5763, 1932.5763, 1932.5763, 1932.5763], \"y\": [112.2, 114.77368421052631, 117.34736842105264, 119.92105263157895, 122.49473684210527, 125.06842105263158, 127.6421052631579, 130.2157894736842, 132.78947368421052, 135.36315789473684, 137.93684210526317, 140.51052631578946, 143.0842105263158, 145.6578947368421, 148.2315789473684, 150.80526315789473, 153.37894736842105, 155.95263157894738, 158.52631578947367, 161.1]}],\n",
       "                        {\"template\": {\"data\": {\"bar\": [{\"error_x\": {\"color\": \"#2a3f5f\"}, \"error_y\": {\"color\": \"#2a3f5f\"}, \"marker\": {\"line\": {\"color\": \"#E5ECF6\", \"width\": 0.5}}, \"type\": \"bar\"}], \"barpolar\": [{\"marker\": {\"line\": {\"color\": \"#E5ECF6\", \"width\": 0.5}}, \"type\": \"barpolar\"}], \"carpet\": [{\"aaxis\": {\"endlinecolor\": \"#2a3f5f\", \"gridcolor\": \"white\", \"linecolor\": \"white\", \"minorgridcolor\": \"white\", \"startlinecolor\": \"#2a3f5f\"}, \"baxis\": {\"endlinecolor\": \"#2a3f5f\", \"gridcolor\": \"white\", \"linecolor\": \"white\", \"minorgridcolor\": \"white\", \"startlinecolor\": \"#2a3f5f\"}, \"type\": \"carpet\"}], \"choropleth\": [{\"colorbar\": {\"outlinewidth\": 0, \"ticks\": \"\"}, \"type\": \"choropleth\"}], \"contour\": [{\"colorbar\": {\"outlinewidth\": 0, \"ticks\": \"\"}, \"colorscale\": [[0.0, \"#0d0887\"], [0.1111111111111111, \"#46039f\"], [0.2222222222222222, \"#7201a8\"], [0.3333333333333333, \"#9c179e\"], [0.4444444444444444, \"#bd3786\"], [0.5555555555555556, \"#d8576b\"], [0.6666666666666666, \"#ed7953\"], [0.7777777777777778, \"#fb9f3a\"], [0.8888888888888888, \"#fdca26\"], [1.0, \"#f0f921\"]], \"type\": \"contour\"}], \"contourcarpet\": [{\"colorbar\": {\"outlinewidth\": 0, \"ticks\": \"\"}, \"type\": \"contourcarpet\"}], \"heatmap\": [{\"colorbar\": {\"outlinewidth\": 0, \"ticks\": \"\"}, \"colorscale\": [[0.0, \"#0d0887\"], [0.1111111111111111, \"#46039f\"], [0.2222222222222222, \"#7201a8\"], [0.3333333333333333, \"#9c179e\"], [0.4444444444444444, \"#bd3786\"], [0.5555555555555556, \"#d8576b\"], [0.6666666666666666, \"#ed7953\"], [0.7777777777777778, \"#fb9f3a\"], [0.8888888888888888, \"#fdca26\"], [1.0, \"#f0f921\"]], \"type\": \"heatmap\"}], \"heatmapgl\": [{\"colorbar\": {\"outlinewidth\": 0, \"ticks\": \"\"}, \"colorscale\": [[0.0, \"#0d0887\"], [0.1111111111111111, \"#46039f\"], [0.2222222222222222, \"#7201a8\"], [0.3333333333333333, \"#9c179e\"], [0.4444444444444444, \"#bd3786\"], [0.5555555555555556, \"#d8576b\"], [0.6666666666666666, \"#ed7953\"], [0.7777777777777778, \"#fb9f3a\"], [0.8888888888888888, \"#fdca26\"], [1.0, \"#f0f921\"]], \"type\": \"heatmapgl\"}], \"histogram\": [{\"marker\": {\"colorbar\": {\"outlinewidth\": 0, \"ticks\": \"\"}}, \"type\": \"histogram\"}], \"histogram2d\": [{\"colorbar\": {\"outlinewidth\": 0, \"ticks\": \"\"}, \"colorscale\": [[0.0, \"#0d0887\"], [0.1111111111111111, \"#46039f\"], [0.2222222222222222, \"#7201a8\"], [0.3333333333333333, \"#9c179e\"], [0.4444444444444444, \"#bd3786\"], [0.5555555555555556, \"#d8576b\"], [0.6666666666666666, \"#ed7953\"], [0.7777777777777778, \"#fb9f3a\"], [0.8888888888888888, \"#fdca26\"], [1.0, \"#f0f921\"]], \"type\": \"histogram2d\"}], \"histogram2dcontour\": [{\"colorbar\": {\"outlinewidth\": 0, \"ticks\": \"\"}, \"colorscale\": [[0.0, \"#0d0887\"], [0.1111111111111111, \"#46039f\"], [0.2222222222222222, \"#7201a8\"], [0.3333333333333333, \"#9c179e\"], [0.4444444444444444, \"#bd3786\"], [0.5555555555555556, \"#d8576b\"], [0.6666666666666666, \"#ed7953\"], [0.7777777777777778, \"#fb9f3a\"], [0.8888888888888888, \"#fdca26\"], [1.0, \"#f0f921\"]], \"type\": \"histogram2dcontour\"}], \"mesh3d\": [{\"colorbar\": {\"outlinewidth\": 0, \"ticks\": \"\"}, \"type\": \"mesh3d\"}], \"parcoords\": [{\"line\": {\"colorbar\": {\"outlinewidth\": 0, \"ticks\": \"\"}}, \"type\": \"parcoords\"}], \"scatter\": [{\"marker\": {\"colorbar\": {\"outlinewidth\": 0, \"ticks\": \"\"}}, \"type\": \"scatter\"}], \"scatter3d\": [{\"line\": {\"colorbar\": {\"outlinewidth\": 0, \"ticks\": \"\"}}, \"marker\": {\"colorbar\": {\"outlinewidth\": 0, \"ticks\": \"\"}}, \"type\": \"scatter3d\"}], \"scattercarpet\": [{\"marker\": {\"colorbar\": {\"outlinewidth\": 0, \"ticks\": \"\"}}, \"type\": \"scattercarpet\"}], \"scattergeo\": [{\"marker\": {\"colorbar\": {\"outlinewidth\": 0, \"ticks\": \"\"}}, \"type\": \"scattergeo\"}], \"scattergl\": [{\"marker\": {\"colorbar\": {\"outlinewidth\": 0, \"ticks\": \"\"}}, \"type\": \"scattergl\"}], \"scattermapbox\": [{\"marker\": {\"colorbar\": {\"outlinewidth\": 0, \"ticks\": \"\"}}, \"type\": \"scattermapbox\"}], \"scatterpolar\": [{\"marker\": {\"colorbar\": {\"outlinewidth\": 0, \"ticks\": \"\"}}, \"type\": \"scatterpolar\"}], \"scatterpolargl\": [{\"marker\": {\"colorbar\": {\"outlinewidth\": 0, \"ticks\": \"\"}}, \"type\": \"scatterpolargl\"}], \"scatterternary\": [{\"marker\": {\"colorbar\": {\"outlinewidth\": 0, \"ticks\": \"\"}}, \"type\": \"scatterternary\"}], \"surface\": [{\"colorbar\": {\"outlinewidth\": 0, \"ticks\": \"\"}, \"colorscale\": [[0.0, \"#0d0887\"], [0.1111111111111111, \"#46039f\"], [0.2222222222222222, \"#7201a8\"], [0.3333333333333333, \"#9c179e\"], [0.4444444444444444, \"#bd3786\"], [0.5555555555555556, \"#d8576b\"], [0.6666666666666666, \"#ed7953\"], [0.7777777777777778, \"#fb9f3a\"], [0.8888888888888888, \"#fdca26\"], [1.0, \"#f0f921\"]], \"type\": \"surface\"}], \"table\": [{\"cells\": {\"fill\": {\"color\": \"#EBF0F8\"}, \"line\": {\"color\": \"white\"}}, \"header\": {\"fill\": {\"color\": \"#C8D4E3\"}, \"line\": {\"color\": \"white\"}}, \"type\": \"table\"}]}, \"layout\": {\"annotationdefaults\": {\"arrowcolor\": \"#2a3f5f\", \"arrowhead\": 0, \"arrowwidth\": 1}, \"colorscale\": {\"diverging\": [[0, \"#8e0152\"], [0.1, \"#c51b7d\"], [0.2, \"#de77ae\"], [0.3, \"#f1b6da\"], [0.4, \"#fde0ef\"], [0.5, \"#f7f7f7\"], [0.6, \"#e6f5d0\"], [0.7, \"#b8e186\"], [0.8, \"#7fbc41\"], [0.9, \"#4d9221\"], [1, \"#276419\"]], \"sequential\": [[0.0, \"#0d0887\"], [0.1111111111111111, \"#46039f\"], [0.2222222222222222, \"#7201a8\"], [0.3333333333333333, \"#9c179e\"], [0.4444444444444444, \"#bd3786\"], [0.5555555555555556, \"#d8576b\"], [0.6666666666666666, \"#ed7953\"], [0.7777777777777778, \"#fb9f3a\"], [0.8888888888888888, \"#fdca26\"], [1.0, \"#f0f921\"]], \"sequentialminus\": [[0.0, \"#0d0887\"], [0.1111111111111111, \"#46039f\"], [0.2222222222222222, \"#7201a8\"], [0.3333333333333333, \"#9c179e\"], [0.4444444444444444, \"#bd3786\"], [0.5555555555555556, \"#d8576b\"], [0.6666666666666666, \"#ed7953\"], [0.7777777777777778, \"#fb9f3a\"], [0.8888888888888888, \"#fdca26\"], [1.0, \"#f0f921\"]]}, \"colorway\": [\"#636efa\", \"#EF553B\", \"#00cc96\", \"#ab63fa\", \"#FFA15A\", \"#19d3f3\", \"#FF6692\", \"#B6E880\", \"#FF97FF\", \"#FECB52\"], \"font\": {\"color\": \"#2a3f5f\"}, \"geo\": {\"bgcolor\": \"white\", \"lakecolor\": \"white\", \"landcolor\": \"#E5ECF6\", \"showlakes\": true, \"showland\": true, \"subunitcolor\": \"white\"}, \"hoverlabel\": {\"align\": \"left\"}, \"hovermode\": \"closest\", \"mapbox\": {\"style\": \"light\"}, \"paper_bgcolor\": \"white\", \"plot_bgcolor\": \"#E5ECF6\", \"polar\": {\"angularaxis\": {\"gridcolor\": \"white\", \"linecolor\": \"white\", \"ticks\": \"\"}, \"bgcolor\": \"#E5ECF6\", \"radialaxis\": {\"gridcolor\": \"white\", \"linecolor\": \"white\", \"ticks\": \"\"}}, \"scene\": {\"xaxis\": {\"backgroundcolor\": \"#E5ECF6\", \"gridcolor\": \"white\", \"gridwidth\": 2, \"linecolor\": \"white\", \"showbackground\": true, \"ticks\": \"\", \"zerolinecolor\": \"white\"}, \"yaxis\": {\"backgroundcolor\": \"#E5ECF6\", \"gridcolor\": \"white\", \"gridwidth\": 2, \"linecolor\": \"white\", \"showbackground\": true, \"ticks\": \"\", \"zerolinecolor\": \"white\"}, \"zaxis\": {\"backgroundcolor\": \"#E5ECF6\", \"gridcolor\": \"white\", \"gridwidth\": 2, \"linecolor\": \"white\", \"showbackground\": true, \"ticks\": \"\", \"zerolinecolor\": \"white\"}}, \"shapedefaults\": {\"line\": {\"color\": \"#2a3f5f\"}}, \"ternary\": {\"aaxis\": {\"gridcolor\": \"white\", \"linecolor\": \"white\", \"ticks\": \"\"}, \"baxis\": {\"gridcolor\": \"white\", \"linecolor\": \"white\", \"ticks\": \"\"}, \"bgcolor\": \"#E5ECF6\", \"caxis\": {\"gridcolor\": \"white\", \"linecolor\": \"white\", \"ticks\": \"\"}}, \"title\": {\"x\": 0.05}, \"xaxis\": {\"automargin\": true, \"gridcolor\": \"white\", \"linecolor\": \"white\", \"ticks\": \"\", \"zerolinecolor\": \"white\", \"zerolinewidth\": 2}, \"yaxis\": {\"automargin\": true, \"gridcolor\": \"white\", \"linecolor\": \"white\", \"ticks\": \"\", \"zerolinecolor\": \"white\", \"zerolinewidth\": 2}}}, \"title\": {\"text\": \"AMZN Put Price vs Strike Expiration: 2020-06-19 00:00:00\"}, \"xaxis\": {\"title\": {\"text\": \"Strike\"}}, \"yaxis\": {\"title\": {\"text\": \"Price\"}}},\n",
       "                        {\"responsive\": true}\n",
       "                    ).then(function(){\n",
       "                            \n",
       "var gd = document.getElementById('ad6d9a6b-d75d-4e35-a0e2-c1e88bf499f2');\n",
       "var x = new MutationObserver(function (mutations, observer) {{\n",
       "        var display = window.getComputedStyle(gd).display;\n",
       "        if (!display || display === 'none') {{\n",
       "            console.log([gd, 'removed!']);\n",
       "            Plotly.purge(gd);\n",
       "            observer.disconnect();\n",
       "        }}\n",
       "}});\n",
       "\n",
       "// Listen for the removal of the full notebook cells\n",
       "var notebookContainer = gd.closest('#notebook-container');\n",
       "if (notebookContainer) {{\n",
       "    x.observe(notebookContainer, {childList: true});\n",
       "}}\n",
       "\n",
       "// Listen for the clearing of the current output cell\n",
       "var outputEl = gd.closest('.output');\n",
       "if (outputEl) {{\n",
       "    x.observe(outputEl, {childList: true});\n",
       "}}\n",
       "\n",
       "                        })\n",
       "                };\n",
       "                });\n",
       "            </script>\n",
       "        </div>"
      ]
     },
     "metadata": {},
     "output_type": "display_data"
    }
   ],
   "source": [
    "# Puts\n",
    "for dat in [date1, date2, date3]:\n",
    "    temp = opts[(opts['Expiration'] == dat) & (opts['Type'] == 'p')]\n",
    "    trace0 = go.Scatter(\n",
    "        x = temp['Strike'], y = temp['Am_Price'], name = 'American'\n",
    "    )\n",
    "    trace1 = go.Scatter(\n",
    "        x = temp['Strike'], y = temp['Euro_Price'], name = 'European'\n",
    "    )\n",
    "    trace2 = go.Scatter(\n",
    "        x = temp['Strike'], y = temp['BS_Price'], name = 'Black-Scholes'\n",
    "    )\n",
    "    trace3 = go.Scatter(\n",
    "        x = temp['Strike'], y = temp['Bid'], name = 'Bid'\n",
    "    )\n",
    "    trace4 = go.Scatter(\n",
    "        x = temp['Strike'], y = temp['Ask'], name = 'Ask'\n",
    "    )\n",
    "    trace5 = go.Scatter(\n",
    "        x = temp['Underlying'], y = np.linspace(min(temp['Bid']) ,max(temp['Ask']) ,20), name = 'Underlying', \n",
    "    )\n",
    "    data = [trace0, trace1, trace2, trace3, trace4, trace5]\n",
    "    layout = go.Layout(\n",
    "    title = 'AMZN Put Price vs Strike Expiration: {}'.format(dat), yaxis = dict(title = 'Price'), \n",
    "        xaxis = dict(title = 'Strike'))\n",
    "    fig = go.Figure(data=data, layout=layout)\n",
    "    plotly.offline.iplot(fig)"
   ]
  },
  {
   "cell_type": "code",
   "execution_count": 65,
   "metadata": {},
   "outputs": [
    {
     "data": {
      "text/html": [
       "<div>\n",
       "<style scoped>\n",
       "    .dataframe tbody tr th:only-of-type {\n",
       "        vertical-align: middle;\n",
       "    }\n",
       "\n",
       "    .dataframe tbody tr th {\n",
       "        vertical-align: top;\n",
       "    }\n",
       "\n",
       "    .dataframe thead th {\n",
       "        text-align: right;\n",
       "    }\n",
       "</style>\n",
       "<table border=\"1\" class=\"dataframe\">\n",
       "  <thead>\n",
       "    <tr style=\"text-align: right;\">\n",
       "      <th></th>\n",
       "      <th>Stock</th>\n",
       "      <th>Type</th>\n",
       "      <th>Underlying</th>\n",
       "      <th>Strike</th>\n",
       "      <th>Expiration</th>\n",
       "      <th>Volume</th>\n",
       "      <th>Bid</th>\n",
       "      <th>Ask</th>\n",
       "      <th>Price</th>\n",
       "      <th>IV</th>\n",
       "      <th>BS_Price</th>\n",
       "      <th>Euro_Price</th>\n",
       "      <th>Am_Price</th>\n",
       "    </tr>\n",
       "  </thead>\n",
       "  <tbody>\n",
       "    <tr>\n",
       "      <th>60</th>\n",
       "      <td>AMZN</td>\n",
       "      <td>p</td>\n",
       "      <td>1932.5763</td>\n",
       "      <td>1780.0</td>\n",
       "      <td>2020-05-15</td>\n",
       "      <td>11.0</td>\n",
       "      <td>65.00</td>\n",
       "      <td>67.20</td>\n",
       "      <td>66.100</td>\n",
       "      <td>0.401859</td>\n",
       "      <td>66.099969</td>\n",
       "      <td>66.186310</td>\n",
       "      <td>66.333640</td>\n",
       "    </tr>\n",
       "    <tr>\n",
       "      <th>25</th>\n",
       "      <td>AMZN</td>\n",
       "      <td>p</td>\n",
       "      <td>1932.5763</td>\n",
       "      <td>1900.0</td>\n",
       "      <td>2020-04-17</td>\n",
       "      <td>147.0</td>\n",
       "      <td>75.70</td>\n",
       "      <td>77.60</td>\n",
       "      <td>76.650</td>\n",
       "      <td>0.360307</td>\n",
       "      <td>76.650037</td>\n",
       "      <td>76.552143</td>\n",
       "      <td>76.717468</td>\n",
       "    </tr>\n",
       "    <tr>\n",
       "      <th>26</th>\n",
       "      <td>AMZN</td>\n",
       "      <td>p</td>\n",
       "      <td>1932.5763</td>\n",
       "      <td>1905.0</td>\n",
       "      <td>2020-04-17</td>\n",
       "      <td>4.0</td>\n",
       "      <td>78.35</td>\n",
       "      <td>79.10</td>\n",
       "      <td>78.725</td>\n",
       "      <td>0.359305</td>\n",
       "      <td>78.725043</td>\n",
       "      <td>78.739622</td>\n",
       "      <td>78.908574</td>\n",
       "    </tr>\n",
       "    <tr>\n",
       "      <th>95</th>\n",
       "      <td>AMZN</td>\n",
       "      <td>c</td>\n",
       "      <td>1932.5763</td>\n",
       "      <td>1960.0</td>\n",
       "      <td>2020-06-19</td>\n",
       "      <td>5.0</td>\n",
       "      <td>132.70</td>\n",
       "      <td>134.55</td>\n",
       "      <td>133.625</td>\n",
       "      <td>0.343422</td>\n",
       "      <td>133.625080</td>\n",
       "      <td>133.801195</td>\n",
       "      <td>133.801195</td>\n",
       "    </tr>\n",
       "    <tr>\n",
       "      <th>11</th>\n",
       "      <td>AMZN</td>\n",
       "      <td>c</td>\n",
       "      <td>1932.5763</td>\n",
       "      <td>1930.0</td>\n",
       "      <td>2020-04-17</td>\n",
       "      <td>10.0</td>\n",
       "      <td>101.10</td>\n",
       "      <td>103.20</td>\n",
       "      <td>102.150</td>\n",
       "      <td>0.378443</td>\n",
       "      <td>102.150008</td>\n",
       "      <td>102.093974</td>\n",
       "      <td>102.093974</td>\n",
       "    </tr>\n",
       "    <tr>\n",
       "      <th>75</th>\n",
       "      <td>AMZN</td>\n",
       "      <td>p</td>\n",
       "      <td>1932.5763</td>\n",
       "      <td>2040.0</td>\n",
       "      <td>2020-05-15</td>\n",
       "      <td>4.0</td>\n",
       "      <td>174.05</td>\n",
       "      <td>177.35</td>\n",
       "      <td>175.700</td>\n",
       "      <td>0.341144</td>\n",
       "      <td>175.699968</td>\n",
       "      <td>175.829988</td>\n",
       "      <td>176.492437</td>\n",
       "    </tr>\n",
       "    <tr>\n",
       "      <th>106</th>\n",
       "      <td>AMZN</td>\n",
       "      <td>p</td>\n",
       "      <td>1932.5763</td>\n",
       "      <td>1915.0</td>\n",
       "      <td>2020-06-19</td>\n",
       "      <td>2.0</td>\n",
       "      <td>128.00</td>\n",
       "      <td>130.30</td>\n",
       "      <td>129.150</td>\n",
       "      <td>0.345651</td>\n",
       "      <td>129.149932</td>\n",
       "      <td>129.294324</td>\n",
       "      <td>129.821516</td>\n",
       "    </tr>\n",
       "    <tr>\n",
       "      <th>87</th>\n",
       "      <td>AMZN</td>\n",
       "      <td>c</td>\n",
       "      <td>1932.5763</td>\n",
       "      <td>1920.0</td>\n",
       "      <td>2020-06-19</td>\n",
       "      <td>1.0</td>\n",
       "      <td>153.90</td>\n",
       "      <td>156.40</td>\n",
       "      <td>155.150</td>\n",
       "      <td>0.350783</td>\n",
       "      <td>155.150083</td>\n",
       "      <td>155.237290</td>\n",
       "      <td>155.237290</td>\n",
       "    </tr>\n",
       "    <tr>\n",
       "      <th>7</th>\n",
       "      <td>AMZN</td>\n",
       "      <td>c</td>\n",
       "      <td>1932.5763</td>\n",
       "      <td>1910.0</td>\n",
       "      <td>2020-04-17</td>\n",
       "      <td>6.0</td>\n",
       "      <td>113.85</td>\n",
       "      <td>115.40</td>\n",
       "      <td>114.625</td>\n",
       "      <td>0.388065</td>\n",
       "      <td>114.624956</td>\n",
       "      <td>114.734326</td>\n",
       "      <td>114.734326</td>\n",
       "    </tr>\n",
       "    <tr>\n",
       "      <th>66</th>\n",
       "      <td>AMZN</td>\n",
       "      <td>p</td>\n",
       "      <td>1932.5763</td>\n",
       "      <td>1900.0</td>\n",
       "      <td>2020-05-15</td>\n",
       "      <td>10.0</td>\n",
       "      <td>106.15</td>\n",
       "      <td>107.95</td>\n",
       "      <td>107.050</td>\n",
       "      <td>0.374588</td>\n",
       "      <td>107.050113</td>\n",
       "      <td>107.139816</td>\n",
       "      <td>107.443971</td>\n",
       "    </tr>\n",
       "    <tr>\n",
       "      <th>92</th>\n",
       "      <td>AMZN</td>\n",
       "      <td>c</td>\n",
       "      <td>1932.5763</td>\n",
       "      <td>1945.0</td>\n",
       "      <td>2020-06-19</td>\n",
       "      <td>16.0</td>\n",
       "      <td>142.05</td>\n",
       "      <td>144.60</td>\n",
       "      <td>143.325</td>\n",
       "      <td>0.350607</td>\n",
       "      <td>143.324971</td>\n",
       "      <td>143.409663</td>\n",
       "      <td>143.409663</td>\n",
       "    </tr>\n",
       "    <tr>\n",
       "      <th>100</th>\n",
       "      <td>AMZN</td>\n",
       "      <td>p</td>\n",
       "      <td>1932.5763</td>\n",
       "      <td>1885.0</td>\n",
       "      <td>2020-06-19</td>\n",
       "      <td>2.0</td>\n",
       "      <td>112.20</td>\n",
       "      <td>114.50</td>\n",
       "      <td>113.350</td>\n",
       "      <td>0.342786</td>\n",
       "      <td>113.349864</td>\n",
       "      <td>113.234562</td>\n",
       "      <td>113.701799</td>\n",
       "    </tr>\n",
       "    <tr>\n",
       "      <th>68</th>\n",
       "      <td>AMZN</td>\n",
       "      <td>p</td>\n",
       "      <td>1932.5763</td>\n",
       "      <td>1940.0</td>\n",
       "      <td>2020-05-15</td>\n",
       "      <td>12.0</td>\n",
       "      <td>119.15</td>\n",
       "      <td>121.45</td>\n",
       "      <td>120.300</td>\n",
       "      <td>0.353640</td>\n",
       "      <td>120.300022</td>\n",
       "      <td>120.323357</td>\n",
       "      <td>120.709038</td>\n",
       "    </tr>\n",
       "    <tr>\n",
       "      <th>116</th>\n",
       "      <td>AMZN</td>\n",
       "      <td>p</td>\n",
       "      <td>1932.5763</td>\n",
       "      <td>1965.0</td>\n",
       "      <td>2020-06-19</td>\n",
       "      <td>3.0</td>\n",
       "      <td>149.60</td>\n",
       "      <td>152.95</td>\n",
       "      <td>151.275</td>\n",
       "      <td>0.334739</td>\n",
       "      <td>151.274901</td>\n",
       "      <td>151.415322</td>\n",
       "      <td>152.095752</td>\n",
       "    </tr>\n",
       "    <tr>\n",
       "      <th>12</th>\n",
       "      <td>AMZN</td>\n",
       "      <td>c</td>\n",
       "      <td>1932.5763</td>\n",
       "      <td>1935.0</td>\n",
       "      <td>2020-04-17</td>\n",
       "      <td>6.0</td>\n",
       "      <td>100.00</td>\n",
       "      <td>101.55</td>\n",
       "      <td>100.775</td>\n",
       "      <td>0.382346</td>\n",
       "      <td>100.775013</td>\n",
       "      <td>100.713983</td>\n",
       "      <td>100.713983</td>\n",
       "    </tr>\n",
       "    <tr>\n",
       "      <th>15</th>\n",
       "      <td>AMZN</td>\n",
       "      <td>c</td>\n",
       "      <td>1932.5763</td>\n",
       "      <td>1950.0</td>\n",
       "      <td>2020-04-17</td>\n",
       "      <td>96.0</td>\n",
       "      <td>90.45</td>\n",
       "      <td>91.60</td>\n",
       "      <td>91.025</td>\n",
       "      <td>0.371665</td>\n",
       "      <td>91.025087</td>\n",
       "      <td>91.147198</td>\n",
       "      <td>91.147198</td>\n",
       "    </tr>\n",
       "    <tr>\n",
       "      <th>48</th>\n",
       "      <td>AMZN</td>\n",
       "      <td>c</td>\n",
       "      <td>1932.5763</td>\n",
       "      <td>1960.0</td>\n",
       "      <td>2020-05-15</td>\n",
       "      <td>19.0</td>\n",
       "      <td>116.75</td>\n",
       "      <td>118.30</td>\n",
       "      <td>117.525</td>\n",
       "      <td>0.376617</td>\n",
       "      <td>117.525007</td>\n",
       "      <td>117.671515</td>\n",
       "      <td>117.671515</td>\n",
       "    </tr>\n",
       "    <tr>\n",
       "      <th>22</th>\n",
       "      <td>AMZN</td>\n",
       "      <td>p</td>\n",
       "      <td>1932.5763</td>\n",
       "      <td>1885.0</td>\n",
       "      <td>2020-04-17</td>\n",
       "      <td>2.0</td>\n",
       "      <td>74.40</td>\n",
       "      <td>75.65</td>\n",
       "      <td>75.025</td>\n",
       "      <td>0.380573</td>\n",
       "      <td>75.024980</td>\n",
       "      <td>75.125252</td>\n",
       "      <td>75.267576</td>\n",
       "    </tr>\n",
       "    <tr>\n",
       "      <th>62</th>\n",
       "      <td>AMZN</td>\n",
       "      <td>p</td>\n",
       "      <td>1932.5763</td>\n",
       "      <td>1820.0</td>\n",
       "      <td>2020-05-15</td>\n",
       "      <td>2.0</td>\n",
       "      <td>77.60</td>\n",
       "      <td>78.85</td>\n",
       "      <td>78.225</td>\n",
       "      <td>0.393277</td>\n",
       "      <td>78.225017</td>\n",
       "      <td>78.368306</td>\n",
       "      <td>78.556296</td>\n",
       "    </tr>\n",
       "    <tr>\n",
       "      <th>40</th>\n",
       "      <td>AMZN</td>\n",
       "      <td>c</td>\n",
       "      <td>1932.5763</td>\n",
       "      <td>1800.0</td>\n",
       "      <td>2020-05-15</td>\n",
       "      <td>25.0</td>\n",
       "      <td>214.95</td>\n",
       "      <td>219.10</td>\n",
       "      <td>217.025</td>\n",
       "      <td>0.420997</td>\n",
       "      <td>217.025022</td>\n",
       "      <td>217.118079</td>\n",
       "      <td>217.118079</td>\n",
       "    </tr>\n",
       "  </tbody>\n",
       "</table>\n",
       "</div>"
      ],
      "text/plain": [
       "    Stock Type  Underlying  Strike Expiration  Volume     Bid     Ask  \\\n",
       "60   AMZN    p   1932.5763  1780.0 2020-05-15    11.0   65.00   67.20   \n",
       "25   AMZN    p   1932.5763  1900.0 2020-04-17   147.0   75.70   77.60   \n",
       "26   AMZN    p   1932.5763  1905.0 2020-04-17     4.0   78.35   79.10   \n",
       "95   AMZN    c   1932.5763  1960.0 2020-06-19     5.0  132.70  134.55   \n",
       "11   AMZN    c   1932.5763  1930.0 2020-04-17    10.0  101.10  103.20   \n",
       "75   AMZN    p   1932.5763  2040.0 2020-05-15     4.0  174.05  177.35   \n",
       "106  AMZN    p   1932.5763  1915.0 2020-06-19     2.0  128.00  130.30   \n",
       "87   AMZN    c   1932.5763  1920.0 2020-06-19     1.0  153.90  156.40   \n",
       "7    AMZN    c   1932.5763  1910.0 2020-04-17     6.0  113.85  115.40   \n",
       "66   AMZN    p   1932.5763  1900.0 2020-05-15    10.0  106.15  107.95   \n",
       "92   AMZN    c   1932.5763  1945.0 2020-06-19    16.0  142.05  144.60   \n",
       "100  AMZN    p   1932.5763  1885.0 2020-06-19     2.0  112.20  114.50   \n",
       "68   AMZN    p   1932.5763  1940.0 2020-05-15    12.0  119.15  121.45   \n",
       "116  AMZN    p   1932.5763  1965.0 2020-06-19     3.0  149.60  152.95   \n",
       "12   AMZN    c   1932.5763  1935.0 2020-04-17     6.0  100.00  101.55   \n",
       "15   AMZN    c   1932.5763  1950.0 2020-04-17    96.0   90.45   91.60   \n",
       "48   AMZN    c   1932.5763  1960.0 2020-05-15    19.0  116.75  118.30   \n",
       "22   AMZN    p   1932.5763  1885.0 2020-04-17     2.0   74.40   75.65   \n",
       "62   AMZN    p   1932.5763  1820.0 2020-05-15     2.0   77.60   78.85   \n",
       "40   AMZN    c   1932.5763  1800.0 2020-05-15    25.0  214.95  219.10   \n",
       "\n",
       "       Price        IV    BS_Price  Euro_Price    Am_Price  \n",
       "60    66.100  0.401859   66.099969   66.186310   66.333640  \n",
       "25    76.650  0.360307   76.650037   76.552143   76.717468  \n",
       "26    78.725  0.359305   78.725043   78.739622   78.908574  \n",
       "95   133.625  0.343422  133.625080  133.801195  133.801195  \n",
       "11   102.150  0.378443  102.150008  102.093974  102.093974  \n",
       "75   175.700  0.341144  175.699968  175.829988  176.492437  \n",
       "106  129.150  0.345651  129.149932  129.294324  129.821516  \n",
       "87   155.150  0.350783  155.150083  155.237290  155.237290  \n",
       "7    114.625  0.388065  114.624956  114.734326  114.734326  \n",
       "66   107.050  0.374588  107.050113  107.139816  107.443971  \n",
       "92   143.325  0.350607  143.324971  143.409663  143.409663  \n",
       "100  113.350  0.342786  113.349864  113.234562  113.701799  \n",
       "68   120.300  0.353640  120.300022  120.323357  120.709038  \n",
       "116  151.275  0.334739  151.274901  151.415322  152.095752  \n",
       "12   100.775  0.382346  100.775013  100.713983  100.713983  \n",
       "15    91.025  0.371665   91.025087   91.147198   91.147198  \n",
       "48   117.525  0.376617  117.525007  117.671515  117.671515  \n",
       "22    75.025  0.380573   75.024980   75.125252   75.267576  \n",
       "62    78.225  0.393277   78.225017   78.368306   78.556296  \n",
       "40   217.025  0.420997  217.025022  217.118079  217.118079  "
      ]
     },
     "execution_count": 65,
     "metadata": {},
     "output_type": "execute_result"
    }
   ],
   "source": [
    "opts[['Stock', 'Type', 'Underlying', 'Strike', 'Expiration', 'Volume', 'Bid', 'Ask', 'Price', 'IV', 'BS_Price', \n",
    "      'Euro_Price', 'Am_Price']].sample(20)"
   ]
  },
  {
   "cell_type": "markdown",
   "metadata": {},
   "source": [
    "The plots and summary table are consistent in showing the American and European option prices calculated through the binary tree are very similar to the values yielded from the Black-Scholes formula. As expected in all instances for call options the European price is equivalent to the American price because Amazon is a nondividend paying such and as such it is never optimal to exercise early for a call option. Similarly all put options yield a higher price for American options than European due to the option to exercise early. In each plot, as expected, all three prices are inside the bid ask spread, that is greater than the bid and less than the ask. The plots of the puts exhibit a positive relationship between the strike and option price whereas the calls display a negative relationship where option prices fall as the strike rises since there is a lower likelihood that the option will be exercised."
   ]
  },
  {
   "cell_type": "code",
   "execution_count": 37,
   "metadata": {},
   "outputs": [
    {
     "data": {
      "text/html": [
       "<div>\n",
       "<style scoped>\n",
       "    .dataframe tbody tr th:only-of-type {\n",
       "        vertical-align: middle;\n",
       "    }\n",
       "\n",
       "    .dataframe tbody tr th {\n",
       "        vertical-align: top;\n",
       "    }\n",
       "\n",
       "    .dataframe thead th {\n",
       "        text-align: right;\n",
       "    }\n",
       "</style>\n",
       "<table border=\"1\" class=\"dataframe\">\n",
       "  <thead>\n",
       "    <tr style=\"text-align: right;\">\n",
       "      <th></th>\n",
       "      <th>Stock</th>\n",
       "      <th>Type</th>\n",
       "      <th>Underlying</th>\n",
       "      <th>Strike</th>\n",
       "      <th>Expiration</th>\n",
       "      <th>TTM</th>\n",
       "      <th>IV</th>\n",
       "      <th>BS_Price</th>\n",
       "      <th>N=10</th>\n",
       "      <th>N=20</th>\n",
       "      <th>N=30</th>\n",
       "      <th>N=40</th>\n",
       "      <th>N=50</th>\n",
       "      <th>N=100</th>\n",
       "      <th>N=150</th>\n",
       "      <th>N=200</th>\n",
       "      <th>N=250</th>\n",
       "      <th>N=300</th>\n",
       "      <th>N=350</th>\n",
       "      <th>N=400</th>\n",
       "    </tr>\n",
       "  </thead>\n",
       "  <tbody>\n",
       "    <tr>\n",
       "      <th>20</th>\n",
       "      <td>AMZN</td>\n",
       "      <td>p</td>\n",
       "      <td>1932.5763</td>\n",
       "      <td>1875.0</td>\n",
       "      <td>2020-04-17</td>\n",
       "      <td>0.115785</td>\n",
       "      <td>0.381260</td>\n",
       "      <td>70.850003</td>\n",
       "      <td>72.836480</td>\n",
       "      <td>72.032456</td>\n",
       "      <td>71.526553</td>\n",
       "      <td>71.181700</td>\n",
       "      <td>70.927967</td>\n",
       "      <td>70.869284</td>\n",
       "      <td>70.999625</td>\n",
       "      <td>70.947354</td>\n",
       "      <td>70.855057</td>\n",
       "      <td>70.781361</td>\n",
       "      <td>70.861259</td>\n",
       "      <td>70.894955</td>\n",
       "    </tr>\n",
       "    <tr>\n",
       "      <th>21</th>\n",
       "      <td>AMZN</td>\n",
       "      <td>p</td>\n",
       "      <td>1932.5763</td>\n",
       "      <td>1880.0</td>\n",
       "      <td>2020-04-17</td>\n",
       "      <td>0.115785</td>\n",
       "      <td>0.382734</td>\n",
       "      <td>73.374916</td>\n",
       "      <td>75.186796</td>\n",
       "      <td>74.562785</td>\n",
       "      <td>74.137928</td>\n",
       "      <td>73.841646</td>\n",
       "      <td>73.621143</td>\n",
       "      <td>73.237389</td>\n",
       "      <td>73.479572</td>\n",
       "      <td>73.494106</td>\n",
       "      <td>73.447407</td>\n",
       "      <td>73.383210</td>\n",
       "      <td>73.315786</td>\n",
       "      <td>73.363933</td>\n",
       "    </tr>\n",
       "    <tr>\n",
       "      <th>22</th>\n",
       "      <td>AMZN</td>\n",
       "      <td>p</td>\n",
       "      <td>1932.5763</td>\n",
       "      <td>1885.0</td>\n",
       "      <td>2020-04-17</td>\n",
       "      <td>0.115785</td>\n",
       "      <td>0.380573</td>\n",
       "      <td>75.024980</td>\n",
       "      <td>76.624640</td>\n",
       "      <td>76.169343</td>\n",
       "      <td>75.821719</td>\n",
       "      <td>75.572092</td>\n",
       "      <td>75.383666</td>\n",
       "      <td>74.853281</td>\n",
       "      <td>75.050370</td>\n",
       "      <td>75.125252</td>\n",
       "      <td>75.120254</td>\n",
       "      <td>75.087096</td>\n",
       "      <td>75.043939</td>\n",
       "      <td>74.998041</td>\n",
       "    </tr>\n",
       "    <tr>\n",
       "      <th>23</th>\n",
       "      <td>AMZN</td>\n",
       "      <td>p</td>\n",
       "      <td>1932.5763</td>\n",
       "      <td>1890.0</td>\n",
       "      <td>2020-04-17</td>\n",
       "      <td>0.115785</td>\n",
       "      <td>0.378866</td>\n",
       "      <td>76.825082</td>\n",
       "      <td>78.175230</td>\n",
       "      <td>77.890049</td>\n",
       "      <td>77.620132</td>\n",
       "      <td>77.417398</td>\n",
       "      <td>77.261191</td>\n",
       "      <td>76.811430</td>\n",
       "      <td>76.733506</td>\n",
       "      <td>76.869536</td>\n",
       "      <td>76.906723</td>\n",
       "      <td>76.904926</td>\n",
       "      <td>76.886269</td>\n",
       "      <td>76.860197</td>\n",
       "    </tr>\n",
       "    <tr>\n",
       "      <th>24</th>\n",
       "      <td>AMZN</td>\n",
       "      <td>p</td>\n",
       "      <td>1932.5763</td>\n",
       "      <td>1895.0</td>\n",
       "      <td>2020-04-17</td>\n",
       "      <td>0.115785</td>\n",
       "      <td>0.375157</td>\n",
       "      <td>78.150024</td>\n",
       "      <td>79.219676</td>\n",
       "      <td>79.098355</td>\n",
       "      <td>78.904036</td>\n",
       "      <td>78.747137</td>\n",
       "      <td>78.622513</td>\n",
       "      <td>78.252096</td>\n",
       "      <td>78.060295</td>\n",
       "      <td>78.105949</td>\n",
       "      <td>78.183161</td>\n",
       "      <td>78.211283</td>\n",
       "      <td>78.216091</td>\n",
       "      <td>78.209067</td>\n",
       "    </tr>\n",
       "  </tbody>\n",
       "</table>\n",
       "</div>"
      ],
      "text/plain": [
       "   Stock Type  Underlying  Strike Expiration       TTM        IV   BS_Price  \\\n",
       "20  AMZN    p   1932.5763  1875.0 2020-04-17  0.115785  0.381260  70.850003   \n",
       "21  AMZN    p   1932.5763  1880.0 2020-04-17  0.115785  0.382734  73.374916   \n",
       "22  AMZN    p   1932.5763  1885.0 2020-04-17  0.115785  0.380573  75.024980   \n",
       "23  AMZN    p   1932.5763  1890.0 2020-04-17  0.115785  0.378866  76.825082   \n",
       "24  AMZN    p   1932.5763  1895.0 2020-04-17  0.115785  0.375157  78.150024   \n",
       "\n",
       "         N=10       N=20       N=30       N=40       N=50      N=100  \\\n",
       "20  72.836480  72.032456  71.526553  71.181700  70.927967  70.869284   \n",
       "21  75.186796  74.562785  74.137928  73.841646  73.621143  73.237389   \n",
       "22  76.624640  76.169343  75.821719  75.572092  75.383666  74.853281   \n",
       "23  78.175230  77.890049  77.620132  77.417398  77.261191  76.811430   \n",
       "24  79.219676  79.098355  78.904036  78.747137  78.622513  78.252096   \n",
       "\n",
       "        N=150      N=200      N=250      N=300      N=350      N=400  \n",
       "20  70.999625  70.947354  70.855057  70.781361  70.861259  70.894955  \n",
       "21  73.479572  73.494106  73.447407  73.383210  73.315786  73.363933  \n",
       "22  75.050370  75.125252  75.120254  75.087096  75.043939  74.998041  \n",
       "23  76.733506  76.869536  76.906723  76.904926  76.886269  76.860197  \n",
       "24  78.060295  78.105949  78.183161  78.211283  78.216091  78.209067  "
      ]
     },
     "execution_count": 37,
     "metadata": {},
     "output_type": "execute_result"
    }
   ],
   "source": [
    "# Computing European Put Prices with Binomial Tree and Varying N\n",
    "N_s = [10, 20, 30, 40, 50, 100, 150, 200, 250, 300, 350, 400]\n",
    "cols = ['Stock', 'Type', 'Underlying', 'Strike', 'Expiration', 'TTM', 'IV', 'BS_Price']\n",
    "euro_puts = opts[cols][opts['Type'] == 'p']\n",
    "for n in N_s:\n",
    "    euro_puts['N={}'.format(n)] = euro_puts.apply(lambda x: binomial_tree(x['Underlying'], x['Strike'], x['TTM'],r,\n",
    "                                                                 x['IV'], n, x['Type']), axis = 1)\n",
    "euro_puts.head()"
   ]
  },
  {
   "cell_type": "code",
   "execution_count": 93,
   "metadata": {
    "scrolled": false
   },
   "outputs": [
    {
     "data": {
      "application/vnd.plotly.v1+json": {
       "config": {
        "linkText": "Export to plot.ly",
        "plotlyServerURL": "https://plot.ly",
        "showLink": false
       },
       "data": [
        {
         "name": "2020-04-17",
         "type": "scatter",
         "x": [
          10,
          20,
          30,
          40,
          50,
          100,
          150,
          200,
          250,
          300,
          350,
          400
         ],
         "y": [
          1.1910391495647297,
          0.7311604378851897,
          0.5085341468993185,
          0.37114108854866645,
          0.28357068228596416,
          0.12990585180753556,
          0.09723799314837792,
          0.0697408144347392,
          0.05900206364510439,
          0.05031902406159787,
          0.04067710709951626,
          0.03504029003460971
         ]
        },
        {
         "name": "2020-05-15",
         "type": "scatter",
         "x": [
          10,
          20,
          30,
          40,
          50,
          100,
          150,
          200,
          250,
          300,
          350,
          400
         ],
         "y": [
          1.9532233959947334,
          0.8846393210712676,
          0.5482089027668515,
          0.42818482201046565,
          0.347791640627824,
          0.16141126731432393,
          0.11651632000400695,
          0.08866141411833439,
          0.06256299489049866,
          0.062106127527084,
          0.051837759022578214,
          0.04566489674477907
         ]
        },
        {
         "name": "2020-06-19",
         "type": "scatter",
         "x": [
          10,
          20,
          30,
          40,
          50,
          100,
          150,
          200,
          250,
          300,
          350,
          400
         ],
         "y": [
          1.2917813500142898,
          0.7454726199709256,
          0.5815473679435484,
          0.4881604191200545,
          0.423823122313145,
          0.2405501066245968,
          0.14388492176055578,
          0.10391758182164992,
          0.08283905100124614,
          0.0668571820631847,
          0.055834593462164864,
          0.05087690044356421
         ]
        }
       ],
       "layout": {
        "template": {
         "data": {
          "bar": [
           {
            "error_x": {
             "color": "#2a3f5f"
            },
            "error_y": {
             "color": "#2a3f5f"
            },
            "marker": {
             "line": {
              "color": "#E5ECF6",
              "width": 0.5
             }
            },
            "type": "bar"
           }
          ],
          "barpolar": [
           {
            "marker": {
             "line": {
              "color": "#E5ECF6",
              "width": 0.5
             }
            },
            "type": "barpolar"
           }
          ],
          "carpet": [
           {
            "aaxis": {
             "endlinecolor": "#2a3f5f",
             "gridcolor": "white",
             "linecolor": "white",
             "minorgridcolor": "white",
             "startlinecolor": "#2a3f5f"
            },
            "baxis": {
             "endlinecolor": "#2a3f5f",
             "gridcolor": "white",
             "linecolor": "white",
             "minorgridcolor": "white",
             "startlinecolor": "#2a3f5f"
            },
            "type": "carpet"
           }
          ],
          "choropleth": [
           {
            "colorbar": {
             "outlinewidth": 0,
             "ticks": ""
            },
            "type": "choropleth"
           }
          ],
          "contour": [
           {
            "colorbar": {
             "outlinewidth": 0,
             "ticks": ""
            },
            "colorscale": [
             [
              0,
              "#0d0887"
             ],
             [
              0.1111111111111111,
              "#46039f"
             ],
             [
              0.2222222222222222,
              "#7201a8"
             ],
             [
              0.3333333333333333,
              "#9c179e"
             ],
             [
              0.4444444444444444,
              "#bd3786"
             ],
             [
              0.5555555555555556,
              "#d8576b"
             ],
             [
              0.6666666666666666,
              "#ed7953"
             ],
             [
              0.7777777777777778,
              "#fb9f3a"
             ],
             [
              0.8888888888888888,
              "#fdca26"
             ],
             [
              1,
              "#f0f921"
             ]
            ],
            "type": "contour"
           }
          ],
          "contourcarpet": [
           {
            "colorbar": {
             "outlinewidth": 0,
             "ticks": ""
            },
            "type": "contourcarpet"
           }
          ],
          "heatmap": [
           {
            "colorbar": {
             "outlinewidth": 0,
             "ticks": ""
            },
            "colorscale": [
             [
              0,
              "#0d0887"
             ],
             [
              0.1111111111111111,
              "#46039f"
             ],
             [
              0.2222222222222222,
              "#7201a8"
             ],
             [
              0.3333333333333333,
              "#9c179e"
             ],
             [
              0.4444444444444444,
              "#bd3786"
             ],
             [
              0.5555555555555556,
              "#d8576b"
             ],
             [
              0.6666666666666666,
              "#ed7953"
             ],
             [
              0.7777777777777778,
              "#fb9f3a"
             ],
             [
              0.8888888888888888,
              "#fdca26"
             ],
             [
              1,
              "#f0f921"
             ]
            ],
            "type": "heatmap"
           }
          ],
          "heatmapgl": [
           {
            "colorbar": {
             "outlinewidth": 0,
             "ticks": ""
            },
            "colorscale": [
             [
              0,
              "#0d0887"
             ],
             [
              0.1111111111111111,
              "#46039f"
             ],
             [
              0.2222222222222222,
              "#7201a8"
             ],
             [
              0.3333333333333333,
              "#9c179e"
             ],
             [
              0.4444444444444444,
              "#bd3786"
             ],
             [
              0.5555555555555556,
              "#d8576b"
             ],
             [
              0.6666666666666666,
              "#ed7953"
             ],
             [
              0.7777777777777778,
              "#fb9f3a"
             ],
             [
              0.8888888888888888,
              "#fdca26"
             ],
             [
              1,
              "#f0f921"
             ]
            ],
            "type": "heatmapgl"
           }
          ],
          "histogram": [
           {
            "marker": {
             "colorbar": {
              "outlinewidth": 0,
              "ticks": ""
             }
            },
            "type": "histogram"
           }
          ],
          "histogram2d": [
           {
            "colorbar": {
             "outlinewidth": 0,
             "ticks": ""
            },
            "colorscale": [
             [
              0,
              "#0d0887"
             ],
             [
              0.1111111111111111,
              "#46039f"
             ],
             [
              0.2222222222222222,
              "#7201a8"
             ],
             [
              0.3333333333333333,
              "#9c179e"
             ],
             [
              0.4444444444444444,
              "#bd3786"
             ],
             [
              0.5555555555555556,
              "#d8576b"
             ],
             [
              0.6666666666666666,
              "#ed7953"
             ],
             [
              0.7777777777777778,
              "#fb9f3a"
             ],
             [
              0.8888888888888888,
              "#fdca26"
             ],
             [
              1,
              "#f0f921"
             ]
            ],
            "type": "histogram2d"
           }
          ],
          "histogram2dcontour": [
           {
            "colorbar": {
             "outlinewidth": 0,
             "ticks": ""
            },
            "colorscale": [
             [
              0,
              "#0d0887"
             ],
             [
              0.1111111111111111,
              "#46039f"
             ],
             [
              0.2222222222222222,
              "#7201a8"
             ],
             [
              0.3333333333333333,
              "#9c179e"
             ],
             [
              0.4444444444444444,
              "#bd3786"
             ],
             [
              0.5555555555555556,
              "#d8576b"
             ],
             [
              0.6666666666666666,
              "#ed7953"
             ],
             [
              0.7777777777777778,
              "#fb9f3a"
             ],
             [
              0.8888888888888888,
              "#fdca26"
             ],
             [
              1,
              "#f0f921"
             ]
            ],
            "type": "histogram2dcontour"
           }
          ],
          "mesh3d": [
           {
            "colorbar": {
             "outlinewidth": 0,
             "ticks": ""
            },
            "type": "mesh3d"
           }
          ],
          "parcoords": [
           {
            "line": {
             "colorbar": {
              "outlinewidth": 0,
              "ticks": ""
             }
            },
            "type": "parcoords"
           }
          ],
          "scatter": [
           {
            "marker": {
             "colorbar": {
              "outlinewidth": 0,
              "ticks": ""
             }
            },
            "type": "scatter"
           }
          ],
          "scatter3d": [
           {
            "line": {
             "colorbar": {
              "outlinewidth": 0,
              "ticks": ""
             }
            },
            "marker": {
             "colorbar": {
              "outlinewidth": 0,
              "ticks": ""
             }
            },
            "type": "scatter3d"
           }
          ],
          "scattercarpet": [
           {
            "marker": {
             "colorbar": {
              "outlinewidth": 0,
              "ticks": ""
             }
            },
            "type": "scattercarpet"
           }
          ],
          "scattergeo": [
           {
            "marker": {
             "colorbar": {
              "outlinewidth": 0,
              "ticks": ""
             }
            },
            "type": "scattergeo"
           }
          ],
          "scattergl": [
           {
            "marker": {
             "colorbar": {
              "outlinewidth": 0,
              "ticks": ""
             }
            },
            "type": "scattergl"
           }
          ],
          "scattermapbox": [
           {
            "marker": {
             "colorbar": {
              "outlinewidth": 0,
              "ticks": ""
             }
            },
            "type": "scattermapbox"
           }
          ],
          "scatterpolar": [
           {
            "marker": {
             "colorbar": {
              "outlinewidth": 0,
              "ticks": ""
             }
            },
            "type": "scatterpolar"
           }
          ],
          "scatterpolargl": [
           {
            "marker": {
             "colorbar": {
              "outlinewidth": 0,
              "ticks": ""
             }
            },
            "type": "scatterpolargl"
           }
          ],
          "scatterternary": [
           {
            "marker": {
             "colorbar": {
              "outlinewidth": 0,
              "ticks": ""
             }
            },
            "type": "scatterternary"
           }
          ],
          "surface": [
           {
            "colorbar": {
             "outlinewidth": 0,
             "ticks": ""
            },
            "colorscale": [
             [
              0,
              "#0d0887"
             ],
             [
              0.1111111111111111,
              "#46039f"
             ],
             [
              0.2222222222222222,
              "#7201a8"
             ],
             [
              0.3333333333333333,
              "#9c179e"
             ],
             [
              0.4444444444444444,
              "#bd3786"
             ],
             [
              0.5555555555555556,
              "#d8576b"
             ],
             [
              0.6666666666666666,
              "#ed7953"
             ],
             [
              0.7777777777777778,
              "#fb9f3a"
             ],
             [
              0.8888888888888888,
              "#fdca26"
             ],
             [
              1,
              "#f0f921"
             ]
            ],
            "type": "surface"
           }
          ],
          "table": [
           {
            "cells": {
             "fill": {
              "color": "#EBF0F8"
             },
             "line": {
              "color": "white"
             }
            },
            "header": {
             "fill": {
              "color": "#C8D4E3"
             },
             "line": {
              "color": "white"
             }
            },
            "type": "table"
           }
          ]
         },
         "layout": {
          "annotationdefaults": {
           "arrowcolor": "#2a3f5f",
           "arrowhead": 0,
           "arrowwidth": 1
          },
          "colorscale": {
           "diverging": [
            [
             0,
             "#8e0152"
            ],
            [
             0.1,
             "#c51b7d"
            ],
            [
             0.2,
             "#de77ae"
            ],
            [
             0.3,
             "#f1b6da"
            ],
            [
             0.4,
             "#fde0ef"
            ],
            [
             0.5,
             "#f7f7f7"
            ],
            [
             0.6,
             "#e6f5d0"
            ],
            [
             0.7,
             "#b8e186"
            ],
            [
             0.8,
             "#7fbc41"
            ],
            [
             0.9,
             "#4d9221"
            ],
            [
             1,
             "#276419"
            ]
           ],
           "sequential": [
            [
             0,
             "#0d0887"
            ],
            [
             0.1111111111111111,
             "#46039f"
            ],
            [
             0.2222222222222222,
             "#7201a8"
            ],
            [
             0.3333333333333333,
             "#9c179e"
            ],
            [
             0.4444444444444444,
             "#bd3786"
            ],
            [
             0.5555555555555556,
             "#d8576b"
            ],
            [
             0.6666666666666666,
             "#ed7953"
            ],
            [
             0.7777777777777778,
             "#fb9f3a"
            ],
            [
             0.8888888888888888,
             "#fdca26"
            ],
            [
             1,
             "#f0f921"
            ]
           ],
           "sequentialminus": [
            [
             0,
             "#0d0887"
            ],
            [
             0.1111111111111111,
             "#46039f"
            ],
            [
             0.2222222222222222,
             "#7201a8"
            ],
            [
             0.3333333333333333,
             "#9c179e"
            ],
            [
             0.4444444444444444,
             "#bd3786"
            ],
            [
             0.5555555555555556,
             "#d8576b"
            ],
            [
             0.6666666666666666,
             "#ed7953"
            ],
            [
             0.7777777777777778,
             "#fb9f3a"
            ],
            [
             0.8888888888888888,
             "#fdca26"
            ],
            [
             1,
             "#f0f921"
            ]
           ]
          },
          "colorway": [
           "#636efa",
           "#EF553B",
           "#00cc96",
           "#ab63fa",
           "#FFA15A",
           "#19d3f3",
           "#FF6692",
           "#B6E880",
           "#FF97FF",
           "#FECB52"
          ],
          "font": {
           "color": "#2a3f5f"
          },
          "geo": {
           "bgcolor": "white",
           "lakecolor": "white",
           "landcolor": "#E5ECF6",
           "showlakes": true,
           "showland": true,
           "subunitcolor": "white"
          },
          "hoverlabel": {
           "align": "left"
          },
          "hovermode": "closest",
          "mapbox": {
           "style": "light"
          },
          "paper_bgcolor": "white",
          "plot_bgcolor": "#E5ECF6",
          "polar": {
           "angularaxis": {
            "gridcolor": "white",
            "linecolor": "white",
            "ticks": ""
           },
           "bgcolor": "#E5ECF6",
           "radialaxis": {
            "gridcolor": "white",
            "linecolor": "white",
            "ticks": ""
           }
          },
          "scene": {
           "xaxis": {
            "backgroundcolor": "#E5ECF6",
            "gridcolor": "white",
            "gridwidth": 2,
            "linecolor": "white",
            "showbackground": true,
            "ticks": "",
            "zerolinecolor": "white"
           },
           "yaxis": {
            "backgroundcolor": "#E5ECF6",
            "gridcolor": "white",
            "gridwidth": 2,
            "linecolor": "white",
            "showbackground": true,
            "ticks": "",
            "zerolinecolor": "white"
           },
           "zaxis": {
            "backgroundcolor": "#E5ECF6",
            "gridcolor": "white",
            "gridwidth": 2,
            "linecolor": "white",
            "showbackground": true,
            "ticks": "",
            "zerolinecolor": "white"
           }
          },
          "shapedefaults": {
           "line": {
            "color": "#2a3f5f"
           }
          },
          "ternary": {
           "aaxis": {
            "gridcolor": "white",
            "linecolor": "white",
            "ticks": ""
           },
           "baxis": {
            "gridcolor": "white",
            "linecolor": "white",
            "ticks": ""
           },
           "bgcolor": "#E5ECF6",
           "caxis": {
            "gridcolor": "white",
            "linecolor": "white",
            "ticks": ""
           }
          },
          "title": {
           "x": 0.05
          },
          "xaxis": {
           "automargin": true,
           "gridcolor": "white",
           "linecolor": "white",
           "ticks": "",
           "zerolinecolor": "white",
           "zerolinewidth": 2
          },
          "yaxis": {
           "automargin": true,
           "gridcolor": "white",
           "linecolor": "white",
           "ticks": "",
           "zerolinecolor": "white",
           "zerolinewidth": 2
          }
         }
        },
        "title": {
         "text": "Absolute Error vs Number of Steps"
        },
        "xaxis": {
         "title": {
          "text": "Steps (N)"
         }
        },
        "yaxis": {
         "title": {
          "text": "Error"
         }
        }
       }
      },
      "text/html": [
       "<div>\n",
       "        \n",
       "        \n",
       "            <div id=\"6d0eef96-4987-4e63-94f4-84681a364142\" class=\"plotly-graph-div\" style=\"height:525px; width:100%;\"></div>\n",
       "            <script type=\"text/javascript\">\n",
       "                require([\"plotly\"], function(Plotly) {\n",
       "                    window.PLOTLYENV=window.PLOTLYENV || {};\n",
       "                    \n",
       "                if (document.getElementById(\"6d0eef96-4987-4e63-94f4-84681a364142\")) {\n",
       "                    Plotly.newPlot(\n",
       "                        '6d0eef96-4987-4e63-94f4-84681a364142',\n",
       "                        [{\"name\": \"2020-04-17\", \"type\": \"scatter\", \"x\": [10, 20, 30, 40, 50, 100, 150, 200, 250, 300, 350, 400], \"y\": [1.1910391495647297, 0.7311604378851897, 0.5085341468993185, 0.37114108854866645, 0.28357068228596416, 0.12990585180753556, 0.09723799314837792, 0.0697408144347392, 0.05900206364510439, 0.05031902406159787, 0.04067710709951626, 0.03504029003460971]}, {\"name\": \"2020-05-15\", \"type\": \"scatter\", \"x\": [10, 20, 30, 40, 50, 100, 150, 200, 250, 300, 350, 400], \"y\": [1.9532233959947334, 0.8846393210712676, 0.5482089027668515, 0.42818482201046565, 0.347791640627824, 0.16141126731432393, 0.11651632000400695, 0.08866141411833439, 0.06256299489049866, 0.062106127527084, 0.051837759022578214, 0.04566489674477907]}, {\"name\": \"2020-06-19\", \"type\": \"scatter\", \"x\": [10, 20, 30, 40, 50, 100, 150, 200, 250, 300, 350, 400], \"y\": [1.2917813500142898, 0.7454726199709256, 0.5815473679435484, 0.4881604191200545, 0.423823122313145, 0.2405501066245968, 0.14388492176055578, 0.10391758182164992, 0.08283905100124614, 0.0668571820631847, 0.055834593462164864, 0.05087690044356421]}],\n",
       "                        {\"template\": {\"data\": {\"bar\": [{\"error_x\": {\"color\": \"#2a3f5f\"}, \"error_y\": {\"color\": \"#2a3f5f\"}, \"marker\": {\"line\": {\"color\": \"#E5ECF6\", \"width\": 0.5}}, \"type\": \"bar\"}], \"barpolar\": [{\"marker\": {\"line\": {\"color\": \"#E5ECF6\", \"width\": 0.5}}, \"type\": \"barpolar\"}], \"carpet\": [{\"aaxis\": {\"endlinecolor\": \"#2a3f5f\", \"gridcolor\": \"white\", \"linecolor\": \"white\", \"minorgridcolor\": \"white\", \"startlinecolor\": \"#2a3f5f\"}, \"baxis\": {\"endlinecolor\": \"#2a3f5f\", \"gridcolor\": \"white\", \"linecolor\": \"white\", \"minorgridcolor\": \"white\", \"startlinecolor\": \"#2a3f5f\"}, \"type\": \"carpet\"}], \"choropleth\": [{\"colorbar\": {\"outlinewidth\": 0, \"ticks\": \"\"}, \"type\": \"choropleth\"}], \"contour\": [{\"colorbar\": {\"outlinewidth\": 0, \"ticks\": \"\"}, \"colorscale\": [[0.0, \"#0d0887\"], [0.1111111111111111, \"#46039f\"], [0.2222222222222222, \"#7201a8\"], [0.3333333333333333, \"#9c179e\"], [0.4444444444444444, \"#bd3786\"], [0.5555555555555556, \"#d8576b\"], [0.6666666666666666, \"#ed7953\"], [0.7777777777777778, \"#fb9f3a\"], [0.8888888888888888, \"#fdca26\"], [1.0, \"#f0f921\"]], \"type\": \"contour\"}], \"contourcarpet\": [{\"colorbar\": {\"outlinewidth\": 0, \"ticks\": \"\"}, \"type\": \"contourcarpet\"}], \"heatmap\": [{\"colorbar\": {\"outlinewidth\": 0, \"ticks\": \"\"}, \"colorscale\": [[0.0, \"#0d0887\"], [0.1111111111111111, \"#46039f\"], [0.2222222222222222, \"#7201a8\"], [0.3333333333333333, \"#9c179e\"], [0.4444444444444444, \"#bd3786\"], [0.5555555555555556, \"#d8576b\"], [0.6666666666666666, \"#ed7953\"], [0.7777777777777778, \"#fb9f3a\"], [0.8888888888888888, \"#fdca26\"], [1.0, \"#f0f921\"]], \"type\": \"heatmap\"}], \"heatmapgl\": [{\"colorbar\": {\"outlinewidth\": 0, \"ticks\": \"\"}, \"colorscale\": [[0.0, \"#0d0887\"], [0.1111111111111111, \"#46039f\"], [0.2222222222222222, \"#7201a8\"], [0.3333333333333333, \"#9c179e\"], [0.4444444444444444, \"#bd3786\"], [0.5555555555555556, \"#d8576b\"], [0.6666666666666666, \"#ed7953\"], [0.7777777777777778, \"#fb9f3a\"], [0.8888888888888888, \"#fdca26\"], [1.0, \"#f0f921\"]], \"type\": \"heatmapgl\"}], \"histogram\": [{\"marker\": {\"colorbar\": {\"outlinewidth\": 0, \"ticks\": \"\"}}, \"type\": \"histogram\"}], \"histogram2d\": [{\"colorbar\": {\"outlinewidth\": 0, \"ticks\": \"\"}, \"colorscale\": [[0.0, \"#0d0887\"], [0.1111111111111111, \"#46039f\"], [0.2222222222222222, \"#7201a8\"], [0.3333333333333333, \"#9c179e\"], [0.4444444444444444, \"#bd3786\"], [0.5555555555555556, \"#d8576b\"], [0.6666666666666666, \"#ed7953\"], [0.7777777777777778, \"#fb9f3a\"], [0.8888888888888888, \"#fdca26\"], [1.0, \"#f0f921\"]], \"type\": \"histogram2d\"}], \"histogram2dcontour\": [{\"colorbar\": {\"outlinewidth\": 0, \"ticks\": \"\"}, \"colorscale\": [[0.0, \"#0d0887\"], [0.1111111111111111, \"#46039f\"], [0.2222222222222222, \"#7201a8\"], [0.3333333333333333, \"#9c179e\"], [0.4444444444444444, \"#bd3786\"], [0.5555555555555556, \"#d8576b\"], [0.6666666666666666, \"#ed7953\"], [0.7777777777777778, \"#fb9f3a\"], [0.8888888888888888, \"#fdca26\"], [1.0, \"#f0f921\"]], \"type\": \"histogram2dcontour\"}], \"mesh3d\": [{\"colorbar\": {\"outlinewidth\": 0, \"ticks\": \"\"}, \"type\": \"mesh3d\"}], \"parcoords\": [{\"line\": {\"colorbar\": {\"outlinewidth\": 0, \"ticks\": \"\"}}, \"type\": \"parcoords\"}], \"scatter\": [{\"marker\": {\"colorbar\": {\"outlinewidth\": 0, \"ticks\": \"\"}}, \"type\": \"scatter\"}], \"scatter3d\": [{\"line\": {\"colorbar\": {\"outlinewidth\": 0, \"ticks\": \"\"}}, \"marker\": {\"colorbar\": {\"outlinewidth\": 0, \"ticks\": \"\"}}, \"type\": \"scatter3d\"}], \"scattercarpet\": [{\"marker\": {\"colorbar\": {\"outlinewidth\": 0, \"ticks\": \"\"}}, \"type\": \"scattercarpet\"}], \"scattergeo\": [{\"marker\": {\"colorbar\": {\"outlinewidth\": 0, \"ticks\": \"\"}}, \"type\": \"scattergeo\"}], \"scattergl\": [{\"marker\": {\"colorbar\": {\"outlinewidth\": 0, \"ticks\": \"\"}}, \"type\": \"scattergl\"}], \"scattermapbox\": [{\"marker\": {\"colorbar\": {\"outlinewidth\": 0, \"ticks\": \"\"}}, \"type\": \"scattermapbox\"}], \"scatterpolar\": [{\"marker\": {\"colorbar\": {\"outlinewidth\": 0, \"ticks\": \"\"}}, \"type\": \"scatterpolar\"}], \"scatterpolargl\": [{\"marker\": {\"colorbar\": {\"outlinewidth\": 0, \"ticks\": \"\"}}, \"type\": \"scatterpolargl\"}], \"scatterternary\": [{\"marker\": {\"colorbar\": {\"outlinewidth\": 0, \"ticks\": \"\"}}, \"type\": \"scatterternary\"}], \"surface\": [{\"colorbar\": {\"outlinewidth\": 0, \"ticks\": \"\"}, \"colorscale\": [[0.0, \"#0d0887\"], [0.1111111111111111, \"#46039f\"], [0.2222222222222222, \"#7201a8\"], [0.3333333333333333, \"#9c179e\"], [0.4444444444444444, \"#bd3786\"], [0.5555555555555556, \"#d8576b\"], [0.6666666666666666, \"#ed7953\"], [0.7777777777777778, \"#fb9f3a\"], [0.8888888888888888, \"#fdca26\"], [1.0, \"#f0f921\"]], \"type\": \"surface\"}], \"table\": [{\"cells\": {\"fill\": {\"color\": \"#EBF0F8\"}, \"line\": {\"color\": \"white\"}}, \"header\": {\"fill\": {\"color\": \"#C8D4E3\"}, \"line\": {\"color\": \"white\"}}, \"type\": \"table\"}]}, \"layout\": {\"annotationdefaults\": {\"arrowcolor\": \"#2a3f5f\", \"arrowhead\": 0, \"arrowwidth\": 1}, \"colorscale\": {\"diverging\": [[0, \"#8e0152\"], [0.1, \"#c51b7d\"], [0.2, \"#de77ae\"], [0.3, \"#f1b6da\"], [0.4, \"#fde0ef\"], [0.5, \"#f7f7f7\"], [0.6, \"#e6f5d0\"], [0.7, \"#b8e186\"], [0.8, \"#7fbc41\"], [0.9, \"#4d9221\"], [1, \"#276419\"]], \"sequential\": [[0.0, \"#0d0887\"], [0.1111111111111111, \"#46039f\"], [0.2222222222222222, \"#7201a8\"], [0.3333333333333333, \"#9c179e\"], [0.4444444444444444, \"#bd3786\"], [0.5555555555555556, \"#d8576b\"], [0.6666666666666666, \"#ed7953\"], [0.7777777777777778, \"#fb9f3a\"], [0.8888888888888888, \"#fdca26\"], [1.0, \"#f0f921\"]], \"sequentialminus\": [[0.0, \"#0d0887\"], [0.1111111111111111, \"#46039f\"], [0.2222222222222222, \"#7201a8\"], [0.3333333333333333, \"#9c179e\"], [0.4444444444444444, \"#bd3786\"], [0.5555555555555556, \"#d8576b\"], [0.6666666666666666, \"#ed7953\"], [0.7777777777777778, \"#fb9f3a\"], [0.8888888888888888, \"#fdca26\"], [1.0, \"#f0f921\"]]}, \"colorway\": [\"#636efa\", \"#EF553B\", \"#00cc96\", \"#ab63fa\", \"#FFA15A\", \"#19d3f3\", \"#FF6692\", \"#B6E880\", \"#FF97FF\", \"#FECB52\"], \"font\": {\"color\": \"#2a3f5f\"}, \"geo\": {\"bgcolor\": \"white\", \"lakecolor\": \"white\", \"landcolor\": \"#E5ECF6\", \"showlakes\": true, \"showland\": true, \"subunitcolor\": \"white\"}, \"hoverlabel\": {\"align\": \"left\"}, \"hovermode\": \"closest\", \"mapbox\": {\"style\": \"light\"}, \"paper_bgcolor\": \"white\", \"plot_bgcolor\": \"#E5ECF6\", \"polar\": {\"angularaxis\": {\"gridcolor\": \"white\", \"linecolor\": \"white\", \"ticks\": \"\"}, \"bgcolor\": \"#E5ECF6\", \"radialaxis\": {\"gridcolor\": \"white\", \"linecolor\": \"white\", \"ticks\": \"\"}}, \"scene\": {\"xaxis\": {\"backgroundcolor\": \"#E5ECF6\", \"gridcolor\": \"white\", \"gridwidth\": 2, \"linecolor\": \"white\", \"showbackground\": true, \"ticks\": \"\", \"zerolinecolor\": \"white\"}, \"yaxis\": {\"backgroundcolor\": \"#E5ECF6\", \"gridcolor\": \"white\", \"gridwidth\": 2, \"linecolor\": \"white\", \"showbackground\": true, \"ticks\": \"\", \"zerolinecolor\": \"white\"}, \"zaxis\": {\"backgroundcolor\": \"#E5ECF6\", \"gridcolor\": \"white\", \"gridwidth\": 2, \"linecolor\": \"white\", \"showbackground\": true, \"ticks\": \"\", \"zerolinecolor\": \"white\"}}, \"shapedefaults\": {\"line\": {\"color\": \"#2a3f5f\"}}, \"ternary\": {\"aaxis\": {\"gridcolor\": \"white\", \"linecolor\": \"white\", \"ticks\": \"\"}, \"baxis\": {\"gridcolor\": \"white\", \"linecolor\": \"white\", \"ticks\": \"\"}, \"bgcolor\": \"#E5ECF6\", \"caxis\": {\"gridcolor\": \"white\", \"linecolor\": \"white\", \"ticks\": \"\"}}, \"title\": {\"x\": 0.05}, \"xaxis\": {\"automargin\": true, \"gridcolor\": \"white\", \"linecolor\": \"white\", \"ticks\": \"\", \"zerolinecolor\": \"white\", \"zerolinewidth\": 2}, \"yaxis\": {\"automargin\": true, \"gridcolor\": \"white\", \"linecolor\": \"white\", \"ticks\": \"\", \"zerolinecolor\": \"white\", \"zerolinewidth\": 2}}}, \"title\": {\"text\": \"Absolute Error vs Number of Steps\"}, \"xaxis\": {\"title\": {\"text\": \"Steps (N)\"}}, \"yaxis\": {\"title\": {\"text\": \"Error\"}}},\n",
       "                        {\"responsive\": true}\n",
       "                    ).then(function(){\n",
       "                            \n",
       "var gd = document.getElementById('6d0eef96-4987-4e63-94f4-84681a364142');\n",
       "var x = new MutationObserver(function (mutations, observer) {{\n",
       "        var display = window.getComputedStyle(gd).display;\n",
       "        if (!display || display === 'none') {{\n",
       "            console.log([gd, 'removed!']);\n",
       "            Plotly.purge(gd);\n",
       "            observer.disconnect();\n",
       "        }}\n",
       "}});\n",
       "\n",
       "// Listen for the removal of the full notebook cells\n",
       "var notebookContainer = gd.closest('#notebook-container');\n",
       "if (notebookContainer) {{\n",
       "    x.observe(notebookContainer, {childList: true});\n",
       "}}\n",
       "\n",
       "// Listen for the clearing of the current output cell\n",
       "var outputEl = gd.closest('.output');\n",
       "if (outputEl) {{\n",
       "    x.observe(outputEl, {childList: true});\n",
       "}}\n",
       "\n",
       "                        })\n",
       "                };\n",
       "                });\n",
       "            </script>\n",
       "        </div>"
      ]
     },
     "metadata": {},
     "output_type": "display_data"
    }
   ],
   "source": [
    "err = euro_puts.iloc[:,8:20]\n",
    "err = err.apply(lambda x: abs(x - euro_puts['BS_Price']), axis = 0)\n",
    "err['Expiration'] = euro_puts['Expiration']\n",
    "temp = err.groupby('Expiration').mean()\n",
    "trace0 = go.Scatter(\n",
    "    x = N_s, y = temp.iloc[0,:], name = str(date1)[0:10]\n",
    ")\n",
    "trace1 = go.Scatter(\n",
    "    x = N_s, y = temp.iloc[1,:], name = str(date2)[0:10]\n",
    ")\n",
    "trace2 = go.Scatter(\n",
    "    x = N_s, y = temp.iloc[2,:], name = str(date3)[0:10]\n",
    ")\n",
    "data = [trace0, trace1, trace2]\n",
    "layout = go.Layout(\n",
    "    title = 'Absolute Error vs Number of Steps', yaxis = dict(title = 'Error'), \n",
    "        xaxis = dict(title = 'Steps (N)'))\n",
    "fig = go.Figure(data=data, layout=layout)\n",
    "plotly.offline.iplot(fig)"
   ]
  },
  {
   "cell_type": "markdown",
   "metadata": {},
   "source": [
    "For the most part, the error is smaller for shorter maturities and the error decreases exponentially as the number of steps increases. It is also worth noting that between 250 and 300 time steps the plots of all three expirations converge to essentially the same error around 5bps of the Black-Scholes price."
   ]
  },
  {
   "cell_type": "markdown",
   "metadata": {},
   "source": [
    "# Problem 2: Implied Volatility"
   ]
  },
  {
   "cell_type": "code",
   "execution_count": 23,
   "metadata": {},
   "outputs": [],
   "source": [
    "#S, K, T, r, sig, N, opt_type='c', am=False\n",
    "def impliedVol_tree(S0, K, tau, r, price, opt_type='c', am=False):\n",
    "    equation = lambda sigma: binomial_tree(S0,K,tau,r,sigma,\n",
    "                                          150,opt_type,am) - price\n",
    "    return bisection(equation,0,1)\n",
    "\n",
    "opts['IV_tree'] = opts.apply(lambda x: impliedVol_tree(x['Underlying'], x['Strike'], x['TTM'], r, \n",
    "                                                       x['Price'], x['Type']), axis = 1)\n",
    "opts['IV_tree_AM'] = opts.apply(lambda x: impliedVol_tree(x['Underlying'], x['Strike'], x['TTM'], r, \n",
    "                                                       x['Price'], x['Type'], True), axis = 1)"
   ]
  },
  {
   "cell_type": "code",
   "execution_count": 28,
   "metadata": {
    "scrolled": true
   },
   "outputs": [
    {
     "data": {
      "text/html": [
       "<div>\n",
       "<style scoped>\n",
       "    .dataframe tbody tr th:only-of-type {\n",
       "        vertical-align: middle;\n",
       "    }\n",
       "\n",
       "    .dataframe tbody tr th {\n",
       "        vertical-align: top;\n",
       "    }\n",
       "\n",
       "    .dataframe thead th {\n",
       "        text-align: right;\n",
       "    }\n",
       "</style>\n",
       "<table border=\"1\" class=\"dataframe\">\n",
       "  <thead>\n",
       "    <tr style=\"text-align: right;\">\n",
       "      <th></th>\n",
       "      <th>Stock</th>\n",
       "      <th>Type</th>\n",
       "      <th>Underlying</th>\n",
       "      <th>Strike</th>\n",
       "      <th>Expiration</th>\n",
       "      <th>Volume</th>\n",
       "      <th>Price</th>\n",
       "      <th>IV</th>\n",
       "      <th>IV_tree</th>\n",
       "      <th>IV_tree_AM</th>\n",
       "      <th>BS_Price</th>\n",
       "      <th>Euro_Price</th>\n",
       "      <th>Am_Price</th>\n",
       "    </tr>\n",
       "  </thead>\n",
       "  <tbody>\n",
       "    <tr>\n",
       "      <th>97</th>\n",
       "      <td>AMZN</td>\n",
       "      <td>c</td>\n",
       "      <td>1932.5763</td>\n",
       "      <td>1970.0</td>\n",
       "      <td>2020-06-19</td>\n",
       "      <td>13.0</td>\n",
       "      <td>129.175</td>\n",
       "      <td>0.343190</td>\n",
       "      <td>0.342703</td>\n",
       "      <td>0.342703</td>\n",
       "      <td>129.175114</td>\n",
       "      <td>129.274457</td>\n",
       "      <td>129.274457</td>\n",
       "    </tr>\n",
       "    <tr>\n",
       "      <th>59</th>\n",
       "      <td>AMZN</td>\n",
       "      <td>c</td>\n",
       "      <td>1932.5763</td>\n",
       "      <td>2090.0</td>\n",
       "      <td>2020-05-15</td>\n",
       "      <td>1.0</td>\n",
       "      <td>59.350</td>\n",
       "      <td>0.342054</td>\n",
       "      <td>0.341970</td>\n",
       "      <td>0.341970</td>\n",
       "      <td>59.349999</td>\n",
       "      <td>59.433755</td>\n",
       "      <td>59.433755</td>\n",
       "    </tr>\n",
       "    <tr>\n",
       "      <th>68</th>\n",
       "      <td>AMZN</td>\n",
       "      <td>p</td>\n",
       "      <td>1932.5763</td>\n",
       "      <td>1940.0</td>\n",
       "      <td>2020-05-15</td>\n",
       "      <td>12.0</td>\n",
       "      <td>120.300</td>\n",
       "      <td>0.353640</td>\n",
       "      <td>0.353623</td>\n",
       "      <td>0.352458</td>\n",
       "      <td>120.300022</td>\n",
       "      <td>120.323357</td>\n",
       "      <td>120.709038</td>\n",
       "    </tr>\n",
       "    <tr>\n",
       "      <th>74</th>\n",
       "      <td>AMZN</td>\n",
       "      <td>p</td>\n",
       "      <td>1932.5763</td>\n",
       "      <td>2030.0</td>\n",
       "      <td>2020-05-15</td>\n",
       "      <td>16.0</td>\n",
       "      <td>169.950</td>\n",
       "      <td>0.343519</td>\n",
       "      <td>0.344090</td>\n",
       "      <td>0.342092</td>\n",
       "      <td>169.949960</td>\n",
       "      <td>170.042922</td>\n",
       "      <td>170.674512</td>\n",
       "    </tr>\n",
       "    <tr>\n",
       "      <th>1</th>\n",
       "      <td>AMZN</td>\n",
       "      <td>c</td>\n",
       "      <td>1932.5763</td>\n",
       "      <td>1880.0</td>\n",
       "      <td>2020-04-17</td>\n",
       "      <td>3.0</td>\n",
       "      <td>133.725</td>\n",
       "      <td>0.399880</td>\n",
       "      <td>0.399579</td>\n",
       "      <td>0.399579</td>\n",
       "      <td>133.725040</td>\n",
       "      <td>133.845386</td>\n",
       "      <td>133.845386</td>\n",
       "    </tr>\n",
       "    <tr>\n",
       "      <th>73</th>\n",
       "      <td>AMZN</td>\n",
       "      <td>p</td>\n",
       "      <td>1932.5763</td>\n",
       "      <td>2020.0</td>\n",
       "      <td>2020-05-15</td>\n",
       "      <td>11.0</td>\n",
       "      <td>164.550</td>\n",
       "      <td>0.346547</td>\n",
       "      <td>0.346349</td>\n",
       "      <td>0.344576</td>\n",
       "      <td>164.550054</td>\n",
       "      <td>164.463836</td>\n",
       "      <td>165.070139</td>\n",
       "    </tr>\n",
       "    <tr>\n",
       "      <th>11</th>\n",
       "      <td>AMZN</td>\n",
       "      <td>c</td>\n",
       "      <td>1932.5763</td>\n",
       "      <td>1930.0</td>\n",
       "      <td>2020-04-17</td>\n",
       "      <td>10.0</td>\n",
       "      <td>102.150</td>\n",
       "      <td>0.378443</td>\n",
       "      <td>0.378772</td>\n",
       "      <td>0.378772</td>\n",
       "      <td>102.150008</td>\n",
       "      <td>102.093974</td>\n",
       "      <td>102.093974</td>\n",
       "    </tr>\n",
       "    <tr>\n",
       "      <th>15</th>\n",
       "      <td>AMZN</td>\n",
       "      <td>c</td>\n",
       "      <td>1932.5763</td>\n",
       "      <td>1950.0</td>\n",
       "      <td>2020-04-17</td>\n",
       "      <td>96.0</td>\n",
       "      <td>91.025</td>\n",
       "      <td>0.371665</td>\n",
       "      <td>0.371066</td>\n",
       "      <td>0.371066</td>\n",
       "      <td>91.025087</td>\n",
       "      <td>91.147198</td>\n",
       "      <td>91.147198</td>\n",
       "    </tr>\n",
       "    <tr>\n",
       "      <th>95</th>\n",
       "      <td>AMZN</td>\n",
       "      <td>c</td>\n",
       "      <td>1932.5763</td>\n",
       "      <td>1960.0</td>\n",
       "      <td>2020-06-19</td>\n",
       "      <td>5.0</td>\n",
       "      <td>133.625</td>\n",
       "      <td>0.343422</td>\n",
       "      <td>0.342852</td>\n",
       "      <td>0.342852</td>\n",
       "      <td>133.625080</td>\n",
       "      <td>133.801195</td>\n",
       "      <td>133.801195</td>\n",
       "    </tr>\n",
       "    <tr>\n",
       "      <th>105</th>\n",
       "      <td>AMZN</td>\n",
       "      <td>p</td>\n",
       "      <td>1932.5763</td>\n",
       "      <td>1910.0</td>\n",
       "      <td>2020-06-19</td>\n",
       "      <td>5.0</td>\n",
       "      <td>127.250</td>\n",
       "      <td>0.347154</td>\n",
       "      <td>0.346633</td>\n",
       "      <td>0.345365</td>\n",
       "      <td>127.249944</td>\n",
       "      <td>127.423273</td>\n",
       "      <td>127.938102</td>\n",
       "    </tr>\n",
       "  </tbody>\n",
       "</table>\n",
       "</div>"
      ],
      "text/plain": [
       "    Stock Type  Underlying  Strike Expiration  Volume    Price        IV  \\\n",
       "97   AMZN    c   1932.5763  1970.0 2020-06-19    13.0  129.175  0.343190   \n",
       "59   AMZN    c   1932.5763  2090.0 2020-05-15     1.0   59.350  0.342054   \n",
       "68   AMZN    p   1932.5763  1940.0 2020-05-15    12.0  120.300  0.353640   \n",
       "74   AMZN    p   1932.5763  2030.0 2020-05-15    16.0  169.950  0.343519   \n",
       "1    AMZN    c   1932.5763  1880.0 2020-04-17     3.0  133.725  0.399880   \n",
       "73   AMZN    p   1932.5763  2020.0 2020-05-15    11.0  164.550  0.346547   \n",
       "11   AMZN    c   1932.5763  1930.0 2020-04-17    10.0  102.150  0.378443   \n",
       "15   AMZN    c   1932.5763  1950.0 2020-04-17    96.0   91.025  0.371665   \n",
       "95   AMZN    c   1932.5763  1960.0 2020-06-19     5.0  133.625  0.343422   \n",
       "105  AMZN    p   1932.5763  1910.0 2020-06-19     5.0  127.250  0.347154   \n",
       "\n",
       "      IV_tree  IV_tree_AM    BS_Price  Euro_Price    Am_Price  \n",
       "97   0.342703    0.342703  129.175114  129.274457  129.274457  \n",
       "59   0.341970    0.341970   59.349999   59.433755   59.433755  \n",
       "68   0.353623    0.352458  120.300022  120.323357  120.709038  \n",
       "74   0.344090    0.342092  169.949960  170.042922  170.674512  \n",
       "1    0.399579    0.399579  133.725040  133.845386  133.845386  \n",
       "73   0.346349    0.344576  164.550054  164.463836  165.070139  \n",
       "11   0.378772    0.378772  102.150008  102.093974  102.093974  \n",
       "15   0.371066    0.371066   91.025087   91.147198   91.147198  \n",
       "95   0.342852    0.342852  133.625080  133.801195  133.801195  \n",
       "105  0.346633    0.345365  127.249944  127.423273  127.938102  "
      ]
     },
     "execution_count": 28,
     "metadata": {},
     "output_type": "execute_result"
    }
   ],
   "source": [
    "opts[['Stock', 'Type', 'Underlying', 'Strike', 'Expiration', 'Volume', 'Price', 'IV', 'IV_tree', 'IV_tree_AM',\n",
    "      'BS_Price', 'Euro_Price', 'Am_Price']].sample(10)"
   ]
  },
  {
   "cell_type": "code",
   "execution_count": 26,
   "metadata": {},
   "outputs": [
    {
     "data": {
      "application/vnd.plotly.v1+json": {
       "config": {
        "linkText": "Export to plot.ly",
        "plotlyServerURL": "https://plot.ly",
        "showLink": false
       },
       "data": [
        {
         "name": "Euro IV 2020-04-17 00:00:00",
         "type": "scatter",
         "x": [
          1875,
          1880,
          1885,
          1890,
          1895,
          1900,
          1905,
          1910,
          1915,
          1920,
          1925,
          1930,
          1935,
          1940,
          1945,
          1950,
          1960,
          1970,
          1980,
          1990
         ],
         "y": [
          0.15724268433804708,
          0.10923168111201403,
          0.02653113963304333,
          0.09631362055831694,
          0.09262645735735288,
          0.004797389690641153,
          0.10255232872749183,
          0.1605326471311949,
          0.1627551197015218,
          0.12366293314950273,
          0.04180007667160271,
          0.08385472079013882,
          0.08470847351724631,
          0.04053686613837048,
          0.12432626160597113,
          0.16363939936848831,
          0.10168870937231503,
          0.15464649905592712,
          0.08981062363957984,
          0.15608409843926566
         ]
        },
        {
         "name": "American IV 2020-04-17 00:00:00",
         "type": "scatter",
         "x": [
          1875,
          1880,
          1885,
          1890,
          1895,
          1900,
          1905,
          1910,
          1915,
          1920,
          1925,
          1930,
          1935,
          1940,
          1945,
          1950,
          1960,
          1970,
          1980,
          1990
         ],
         "y": [
          0.2978199579081126,
          0.25400181336426414,
          0.17738588399282687,
          0.06302390786615773,
          0.07642079929483145,
          0.183723482428485,
          0.2854279146045332,
          0.34151184828208947,
          0.350387736332177,
          0.31798575421219755,
          0.24416604598400615,
          0.13044433776352046,
          0.15800921564391787,
          0.27665332148324423,
          0.3653391801774182,
          0.4138521373065916,
          0.3694294975765601,
          0.14636125381095605,
          0.4201644374119474,
          0.5172351893395023
         ]
        },
        {
         "name": "Euro IV 2020-05-15 00:00:00",
         "type": "scatter",
         "x": [
          1780,
          1800,
          1820,
          1840,
          1860,
          1880,
          1900,
          1920,
          1940,
          1960,
          1980,
          2000,
          2010,
          2020,
          2030,
          2040,
          2050,
          2060,
          2070,
          2080
         ],
         "y": [
          0.009581609953720528,
          0.1590866075676118,
          0.023673503287464533,
          0.07439380078203842,
          0.14892589873225162,
          0.11371344019186841,
          0.1434948522932285,
          0.08609203580605287,
          0.0049552493788240955,
          0.16389564020390165,
          0.09859798796084222,
          0.1393509082966315,
          0.15560352427432098,
          0.057136979803230015,
          0.16625920264293487,
          0.04783827935947724,
          0.14794736586169632,
          0.1299925380539824,
          0.03657852829641147,
          0.08535671980895569
         ]
        },
        {
         "name": "American IV 2020-05-15 00:00:00",
         "type": "scatter",
         "x": [
          1780,
          1800,
          1820,
          1840,
          1860,
          1880,
          1900,
          1920,
          1940,
          1960,
          1980,
          2000,
          2010,
          2020,
          2030,
          2040,
          2050,
          2060,
          2070,
          2080
         ],
         "y": [
          0.12378965429373301,
          0.30279714998163,
          0.1375851874798995,
          0.25276740957355415,
          0.3436441052881578,
          0.1150706338514474,
          0.3889222865104337,
          0.3665800876724372,
          0.33449618766035033,
          0.5117395670812314,
          0.29672759379896346,
          0.598165218706814,
          0.6381969848179575,
          0.5687210638692365,
          0.41535303619980946,
          0.6681634328944954,
          0.7927725840132185,
          0.8136805404242892,
          0.7051666723391449,
          0.7697148770351022
         ]
        },
        {
         "name": "Euro IV 2020-06-19 00:00:00",
         "type": "scatter",
         "x": [
          1885,
          1890,
          1895,
          1900,
          1905,
          1910,
          1915,
          1920,
          1925,
          1930,
          1935,
          1940,
          1945,
          1950,
          1955,
          1960,
          1965,
          1970,
          1975,
          1980
         ],
         "y": [
          0.023126404755206137,
          0.09948567845588419,
          0.1415739030404195,
          0.16323247454895795,
          0.16677042163461758,
          0.14988992619509317,
          0.11446678790466458,
          0.05904296625244677,
          0.01131661496841879,
          0.10971287338258655,
          0.11236305424294035,
          0.017348051834722284,
          0.0586514366454316,
          0.11777836657001789,
          0.15083800267676362,
          0.16586428919616003,
          0.16036353341085008,
          0.1265692480321321,
          0.08717453200522546,
          0.02379152771926996
         ]
        },
        {
         "name": "American IV 2020-06-19 00:00:00",
         "type": "scatter",
         "x": [
          1885,
          1890,
          1895,
          1900,
          1905,
          1910,
          1915,
          1920,
          1925,
          1930,
          1935,
          1940,
          1945,
          1950,
          1955,
          1960,
          1965,
          1970,
          1975,
          1980
         ],
         "y": [
          0.36143266860279305,
          0.4368037748020249,
          0.4839915334655053,
          0.5128650220861022,
          0.5330389484067425,
          0.5152573522468208,
          0.4902516993265463,
          0.44425265150483734,
          0.3993658411725584,
          0.3053680767858055,
          0.32657811930104363,
          0.42609188882586496,
          0.5093966456414498,
          0.5884615922416145,
          0.6231497199102267,
          0.644784628803204,
          0.6538117055051736,
          0.6488185099557429,
          0.6069996674121552,
          0.5548384013092118
         ]
        }
       ],
       "layout": {
        "template": {
         "data": {
          "bar": [
           {
            "error_x": {
             "color": "#2a3f5f"
            },
            "error_y": {
             "color": "#2a3f5f"
            },
            "marker": {
             "line": {
              "color": "#E5ECF6",
              "width": 0.5
             }
            },
            "type": "bar"
           }
          ],
          "barpolar": [
           {
            "marker": {
             "line": {
              "color": "#E5ECF6",
              "width": 0.5
             }
            },
            "type": "barpolar"
           }
          ],
          "carpet": [
           {
            "aaxis": {
             "endlinecolor": "#2a3f5f",
             "gridcolor": "white",
             "linecolor": "white",
             "minorgridcolor": "white",
             "startlinecolor": "#2a3f5f"
            },
            "baxis": {
             "endlinecolor": "#2a3f5f",
             "gridcolor": "white",
             "linecolor": "white",
             "minorgridcolor": "white",
             "startlinecolor": "#2a3f5f"
            },
            "type": "carpet"
           }
          ],
          "choropleth": [
           {
            "colorbar": {
             "outlinewidth": 0,
             "ticks": ""
            },
            "type": "choropleth"
           }
          ],
          "contour": [
           {
            "colorbar": {
             "outlinewidth": 0,
             "ticks": ""
            },
            "colorscale": [
             [
              0,
              "#0d0887"
             ],
             [
              0.1111111111111111,
              "#46039f"
             ],
             [
              0.2222222222222222,
              "#7201a8"
             ],
             [
              0.3333333333333333,
              "#9c179e"
             ],
             [
              0.4444444444444444,
              "#bd3786"
             ],
             [
              0.5555555555555556,
              "#d8576b"
             ],
             [
              0.6666666666666666,
              "#ed7953"
             ],
             [
              0.7777777777777778,
              "#fb9f3a"
             ],
             [
              0.8888888888888888,
              "#fdca26"
             ],
             [
              1,
              "#f0f921"
             ]
            ],
            "type": "contour"
           }
          ],
          "contourcarpet": [
           {
            "colorbar": {
             "outlinewidth": 0,
             "ticks": ""
            },
            "type": "contourcarpet"
           }
          ],
          "heatmap": [
           {
            "colorbar": {
             "outlinewidth": 0,
             "ticks": ""
            },
            "colorscale": [
             [
              0,
              "#0d0887"
             ],
             [
              0.1111111111111111,
              "#46039f"
             ],
             [
              0.2222222222222222,
              "#7201a8"
             ],
             [
              0.3333333333333333,
              "#9c179e"
             ],
             [
              0.4444444444444444,
              "#bd3786"
             ],
             [
              0.5555555555555556,
              "#d8576b"
             ],
             [
              0.6666666666666666,
              "#ed7953"
             ],
             [
              0.7777777777777778,
              "#fb9f3a"
             ],
             [
              0.8888888888888888,
              "#fdca26"
             ],
             [
              1,
              "#f0f921"
             ]
            ],
            "type": "heatmap"
           }
          ],
          "heatmapgl": [
           {
            "colorbar": {
             "outlinewidth": 0,
             "ticks": ""
            },
            "colorscale": [
             [
              0,
              "#0d0887"
             ],
             [
              0.1111111111111111,
              "#46039f"
             ],
             [
              0.2222222222222222,
              "#7201a8"
             ],
             [
              0.3333333333333333,
              "#9c179e"
             ],
             [
              0.4444444444444444,
              "#bd3786"
             ],
             [
              0.5555555555555556,
              "#d8576b"
             ],
             [
              0.6666666666666666,
              "#ed7953"
             ],
             [
              0.7777777777777778,
              "#fb9f3a"
             ],
             [
              0.8888888888888888,
              "#fdca26"
             ],
             [
              1,
              "#f0f921"
             ]
            ],
            "type": "heatmapgl"
           }
          ],
          "histogram": [
           {
            "marker": {
             "colorbar": {
              "outlinewidth": 0,
              "ticks": ""
             }
            },
            "type": "histogram"
           }
          ],
          "histogram2d": [
           {
            "colorbar": {
             "outlinewidth": 0,
             "ticks": ""
            },
            "colorscale": [
             [
              0,
              "#0d0887"
             ],
             [
              0.1111111111111111,
              "#46039f"
             ],
             [
              0.2222222222222222,
              "#7201a8"
             ],
             [
              0.3333333333333333,
              "#9c179e"
             ],
             [
              0.4444444444444444,
              "#bd3786"
             ],
             [
              0.5555555555555556,
              "#d8576b"
             ],
             [
              0.6666666666666666,
              "#ed7953"
             ],
             [
              0.7777777777777778,
              "#fb9f3a"
             ],
             [
              0.8888888888888888,
              "#fdca26"
             ],
             [
              1,
              "#f0f921"
             ]
            ],
            "type": "histogram2d"
           }
          ],
          "histogram2dcontour": [
           {
            "colorbar": {
             "outlinewidth": 0,
             "ticks": ""
            },
            "colorscale": [
             [
              0,
              "#0d0887"
             ],
             [
              0.1111111111111111,
              "#46039f"
             ],
             [
              0.2222222222222222,
              "#7201a8"
             ],
             [
              0.3333333333333333,
              "#9c179e"
             ],
             [
              0.4444444444444444,
              "#bd3786"
             ],
             [
              0.5555555555555556,
              "#d8576b"
             ],
             [
              0.6666666666666666,
              "#ed7953"
             ],
             [
              0.7777777777777778,
              "#fb9f3a"
             ],
             [
              0.8888888888888888,
              "#fdca26"
             ],
             [
              1,
              "#f0f921"
             ]
            ],
            "type": "histogram2dcontour"
           }
          ],
          "mesh3d": [
           {
            "colorbar": {
             "outlinewidth": 0,
             "ticks": ""
            },
            "type": "mesh3d"
           }
          ],
          "parcoords": [
           {
            "line": {
             "colorbar": {
              "outlinewidth": 0,
              "ticks": ""
             }
            },
            "type": "parcoords"
           }
          ],
          "scatter": [
           {
            "marker": {
             "colorbar": {
              "outlinewidth": 0,
              "ticks": ""
             }
            },
            "type": "scatter"
           }
          ],
          "scatter3d": [
           {
            "line": {
             "colorbar": {
              "outlinewidth": 0,
              "ticks": ""
             }
            },
            "marker": {
             "colorbar": {
              "outlinewidth": 0,
              "ticks": ""
             }
            },
            "type": "scatter3d"
           }
          ],
          "scattercarpet": [
           {
            "marker": {
             "colorbar": {
              "outlinewidth": 0,
              "ticks": ""
             }
            },
            "type": "scattercarpet"
           }
          ],
          "scattergeo": [
           {
            "marker": {
             "colorbar": {
              "outlinewidth": 0,
              "ticks": ""
             }
            },
            "type": "scattergeo"
           }
          ],
          "scattergl": [
           {
            "marker": {
             "colorbar": {
              "outlinewidth": 0,
              "ticks": ""
             }
            },
            "type": "scattergl"
           }
          ],
          "scattermapbox": [
           {
            "marker": {
             "colorbar": {
              "outlinewidth": 0,
              "ticks": ""
             }
            },
            "type": "scattermapbox"
           }
          ],
          "scatterpolar": [
           {
            "marker": {
             "colorbar": {
              "outlinewidth": 0,
              "ticks": ""
             }
            },
            "type": "scatterpolar"
           }
          ],
          "scatterpolargl": [
           {
            "marker": {
             "colorbar": {
              "outlinewidth": 0,
              "ticks": ""
             }
            },
            "type": "scatterpolargl"
           }
          ],
          "scatterternary": [
           {
            "marker": {
             "colorbar": {
              "outlinewidth": 0,
              "ticks": ""
             }
            },
            "type": "scatterternary"
           }
          ],
          "surface": [
           {
            "colorbar": {
             "outlinewidth": 0,
             "ticks": ""
            },
            "colorscale": [
             [
              0,
              "#0d0887"
             ],
             [
              0.1111111111111111,
              "#46039f"
             ],
             [
              0.2222222222222222,
              "#7201a8"
             ],
             [
              0.3333333333333333,
              "#9c179e"
             ],
             [
              0.4444444444444444,
              "#bd3786"
             ],
             [
              0.5555555555555556,
              "#d8576b"
             ],
             [
              0.6666666666666666,
              "#ed7953"
             ],
             [
              0.7777777777777778,
              "#fb9f3a"
             ],
             [
              0.8888888888888888,
              "#fdca26"
             ],
             [
              1,
              "#f0f921"
             ]
            ],
            "type": "surface"
           }
          ],
          "table": [
           {
            "cells": {
             "fill": {
              "color": "#EBF0F8"
             },
             "line": {
              "color": "white"
             }
            },
            "header": {
             "fill": {
              "color": "#C8D4E3"
             },
             "line": {
              "color": "white"
             }
            },
            "type": "table"
           }
          ]
         },
         "layout": {
          "annotationdefaults": {
           "arrowcolor": "#2a3f5f",
           "arrowhead": 0,
           "arrowwidth": 1
          },
          "colorscale": {
           "diverging": [
            [
             0,
             "#8e0152"
            ],
            [
             0.1,
             "#c51b7d"
            ],
            [
             0.2,
             "#de77ae"
            ],
            [
             0.3,
             "#f1b6da"
            ],
            [
             0.4,
             "#fde0ef"
            ],
            [
             0.5,
             "#f7f7f7"
            ],
            [
             0.6,
             "#e6f5d0"
            ],
            [
             0.7,
             "#b8e186"
            ],
            [
             0.8,
             "#7fbc41"
            ],
            [
             0.9,
             "#4d9221"
            ],
            [
             1,
             "#276419"
            ]
           ],
           "sequential": [
            [
             0,
             "#0d0887"
            ],
            [
             0.1111111111111111,
             "#46039f"
            ],
            [
             0.2222222222222222,
             "#7201a8"
            ],
            [
             0.3333333333333333,
             "#9c179e"
            ],
            [
             0.4444444444444444,
             "#bd3786"
            ],
            [
             0.5555555555555556,
             "#d8576b"
            ],
            [
             0.6666666666666666,
             "#ed7953"
            ],
            [
             0.7777777777777778,
             "#fb9f3a"
            ],
            [
             0.8888888888888888,
             "#fdca26"
            ],
            [
             1,
             "#f0f921"
            ]
           ],
           "sequentialminus": [
            [
             0,
             "#0d0887"
            ],
            [
             0.1111111111111111,
             "#46039f"
            ],
            [
             0.2222222222222222,
             "#7201a8"
            ],
            [
             0.3333333333333333,
             "#9c179e"
            ],
            [
             0.4444444444444444,
             "#bd3786"
            ],
            [
             0.5555555555555556,
             "#d8576b"
            ],
            [
             0.6666666666666666,
             "#ed7953"
            ],
            [
             0.7777777777777778,
             "#fb9f3a"
            ],
            [
             0.8888888888888888,
             "#fdca26"
            ],
            [
             1,
             "#f0f921"
            ]
           ]
          },
          "colorway": [
           "#636efa",
           "#EF553B",
           "#00cc96",
           "#ab63fa",
           "#FFA15A",
           "#19d3f3",
           "#FF6692",
           "#B6E880",
           "#FF97FF",
           "#FECB52"
          ],
          "font": {
           "color": "#2a3f5f"
          },
          "geo": {
           "bgcolor": "white",
           "lakecolor": "white",
           "landcolor": "#E5ECF6",
           "showlakes": true,
           "showland": true,
           "subunitcolor": "white"
          },
          "hoverlabel": {
           "align": "left"
          },
          "hovermode": "closest",
          "mapbox": {
           "style": "light"
          },
          "paper_bgcolor": "white",
          "plot_bgcolor": "#E5ECF6",
          "polar": {
           "angularaxis": {
            "gridcolor": "white",
            "linecolor": "white",
            "ticks": ""
           },
           "bgcolor": "#E5ECF6",
           "radialaxis": {
            "gridcolor": "white",
            "linecolor": "white",
            "ticks": ""
           }
          },
          "scene": {
           "xaxis": {
            "backgroundcolor": "#E5ECF6",
            "gridcolor": "white",
            "gridwidth": 2,
            "linecolor": "white",
            "showbackground": true,
            "ticks": "",
            "zerolinecolor": "white"
           },
           "yaxis": {
            "backgroundcolor": "#E5ECF6",
            "gridcolor": "white",
            "gridwidth": 2,
            "linecolor": "white",
            "showbackground": true,
            "ticks": "",
            "zerolinecolor": "white"
           },
           "zaxis": {
            "backgroundcolor": "#E5ECF6",
            "gridcolor": "white",
            "gridwidth": 2,
            "linecolor": "white",
            "showbackground": true,
            "ticks": "",
            "zerolinecolor": "white"
           }
          },
          "shapedefaults": {
           "line": {
            "color": "#2a3f5f"
           }
          },
          "ternary": {
           "aaxis": {
            "gridcolor": "white",
            "linecolor": "white",
            "ticks": ""
           },
           "baxis": {
            "gridcolor": "white",
            "linecolor": "white",
            "ticks": ""
           },
           "bgcolor": "#E5ECF6",
           "caxis": {
            "gridcolor": "white",
            "linecolor": "white",
            "ticks": ""
           }
          },
          "title": {
           "x": 0.05
          },
          "xaxis": {
           "automargin": true,
           "gridcolor": "white",
           "linecolor": "white",
           "ticks": "",
           "zerolinecolor": "white",
           "zerolinewidth": 2
          },
          "yaxis": {
           "automargin": true,
           "gridcolor": "white",
           "linecolor": "white",
           "ticks": "",
           "zerolinecolor": "white",
           "zerolinewidth": 2
          }
         }
        },
        "title": {
         "text": "Binomial Tree Implied Vol vs BSM"
        },
        "xaxis": {
         "title": {
          "text": "Strike"
         }
        },
        "yaxis": {
         "title": {
          "text": "Error (%)"
         }
        }
       }
      },
      "text/html": [
       "<div>\n",
       "        \n",
       "        \n",
       "            <div id=\"b94d163f-b257-42f4-b967-c148a9d01182\" class=\"plotly-graph-div\" style=\"height:525px; width:100%;\"></div>\n",
       "            <script type=\"text/javascript\">\n",
       "                require([\"plotly\"], function(Plotly) {\n",
       "                    window.PLOTLYENV=window.PLOTLYENV || {};\n",
       "                    \n",
       "                if (document.getElementById(\"b94d163f-b257-42f4-b967-c148a9d01182\")) {\n",
       "                    Plotly.newPlot(\n",
       "                        'b94d163f-b257-42f4-b967-c148a9d01182',\n",
       "                        [{\"name\": \"Euro IV 2020-04-17 00:00:00\", \"type\": \"scatter\", \"x\": [1875.0, 1880.0, 1885.0, 1890.0, 1895.0, 1900.0, 1905.0, 1910.0, 1915.0, 1920.0, 1925.0, 1930.0, 1935.0, 1940.0, 1945.0, 1950.0, 1960.0, 1970.0, 1980.0, 1990.0], \"y\": [0.15724268433804708, 0.10923168111201403, 0.02653113963304333, 0.09631362055831694, 0.09262645735735288, 0.004797389690641153, 0.10255232872749183, 0.1605326471311949, 0.1627551197015218, 0.12366293314950273, 0.04180007667160271, 0.08385472079013882, 0.08470847351724631, 0.04053686613837048, 0.12432626160597113, 0.16363939936848831, 0.10168870937231503, 0.15464649905592712, 0.08981062363957984, 0.15608409843926566]}, {\"name\": \"American IV 2020-04-17 00:00:00\", \"type\": \"scatter\", \"x\": [1875.0, 1880.0, 1885.0, 1890.0, 1895.0, 1900.0, 1905.0, 1910.0, 1915.0, 1920.0, 1925.0, 1930.0, 1935.0, 1940.0, 1945.0, 1950.0, 1960.0, 1970.0, 1980.0, 1990.0], \"y\": [0.2978199579081126, 0.25400181336426414, 0.17738588399282687, 0.06302390786615773, 0.07642079929483145, 0.183723482428485, 0.2854279146045332, 0.34151184828208947, 0.350387736332177, 0.31798575421219755, 0.24416604598400615, 0.13044433776352046, 0.15800921564391787, 0.27665332148324423, 0.3653391801774182, 0.4138521373065916, 0.3694294975765601, 0.14636125381095605, 0.4201644374119474, 0.5172351893395023]}, {\"name\": \"Euro IV 2020-05-15 00:00:00\", \"type\": \"scatter\", \"x\": [1780.0, 1800.0, 1820.0, 1840.0, 1860.0, 1880.0, 1900.0, 1920.0, 1940.0, 1960.0, 1980.0, 2000.0, 2010.0, 2020.0, 2030.0, 2040.0, 2050.0, 2060.0, 2070.0, 2080.0], \"y\": [0.009581609953720528, 0.1590866075676118, 0.023673503287464533, 0.07439380078203842, 0.14892589873225162, 0.11371344019186841, 0.1434948522932285, 0.08609203580605287, 0.0049552493788240955, 0.16389564020390165, 0.09859798796084222, 0.1393509082966315, 0.15560352427432098, 0.057136979803230015, 0.16625920264293487, 0.04783827935947724, 0.14794736586169632, 0.1299925380539824, 0.03657852829641147, 0.08535671980895569]}, {\"name\": \"American IV 2020-05-15 00:00:00\", \"type\": \"scatter\", \"x\": [1780.0, 1800.0, 1820.0, 1840.0, 1860.0, 1880.0, 1900.0, 1920.0, 1940.0, 1960.0, 1980.0, 2000.0, 2010.0, 2020.0, 2030.0, 2040.0, 2050.0, 2060.0, 2070.0, 2080.0], \"y\": [0.12378965429373301, 0.30279714998163, 0.1375851874798995, 0.25276740957355415, 0.3436441052881578, 0.1150706338514474, 0.3889222865104337, 0.3665800876724372, 0.33449618766035033, 0.5117395670812314, 0.29672759379896346, 0.598165218706814, 0.6381969848179575, 0.5687210638692365, 0.41535303619980946, 0.6681634328944954, 0.7927725840132185, 0.8136805404242892, 0.7051666723391449, 0.7697148770351022]}, {\"name\": \"Euro IV 2020-06-19 00:00:00\", \"type\": \"scatter\", \"x\": [1885.0, 1890.0, 1895.0, 1900.0, 1905.0, 1910.0, 1915.0, 1920.0, 1925.0, 1930.0, 1935.0, 1940.0, 1945.0, 1950.0, 1955.0, 1960.0, 1965.0, 1970.0, 1975.0, 1980.0], \"y\": [0.023126404755206137, 0.09948567845588419, 0.1415739030404195, 0.16323247454895795, 0.16677042163461758, 0.14988992619509317, 0.11446678790466458, 0.05904296625244677, 0.01131661496841879, 0.10971287338258655, 0.11236305424294035, 0.017348051834722284, 0.0586514366454316, 0.11777836657001789, 0.15083800267676362, 0.16586428919616003, 0.16036353341085008, 0.1265692480321321, 0.08717453200522546, 0.02379152771926996]}, {\"name\": \"American IV 2020-06-19 00:00:00\", \"type\": \"scatter\", \"x\": [1885.0, 1890.0, 1895.0, 1900.0, 1905.0, 1910.0, 1915.0, 1920.0, 1925.0, 1930.0, 1935.0, 1940.0, 1945.0, 1950.0, 1955.0, 1960.0, 1965.0, 1970.0, 1975.0, 1980.0], \"y\": [0.36143266860279305, 0.4368037748020249, 0.4839915334655053, 0.5128650220861022, 0.5330389484067425, 0.5152573522468208, 0.4902516993265463, 0.44425265150483734, 0.3993658411725584, 0.3053680767858055, 0.32657811930104363, 0.42609188882586496, 0.5093966456414498, 0.5884615922416145, 0.6231497199102267, 0.644784628803204, 0.6538117055051736, 0.6488185099557429, 0.6069996674121552, 0.5548384013092118]}],\n",
       "                        {\"template\": {\"data\": {\"bar\": [{\"error_x\": {\"color\": \"#2a3f5f\"}, \"error_y\": {\"color\": \"#2a3f5f\"}, \"marker\": {\"line\": {\"color\": \"#E5ECF6\", \"width\": 0.5}}, \"type\": \"bar\"}], \"barpolar\": [{\"marker\": {\"line\": {\"color\": \"#E5ECF6\", \"width\": 0.5}}, \"type\": \"barpolar\"}], \"carpet\": [{\"aaxis\": {\"endlinecolor\": \"#2a3f5f\", \"gridcolor\": \"white\", \"linecolor\": \"white\", \"minorgridcolor\": \"white\", \"startlinecolor\": \"#2a3f5f\"}, \"baxis\": {\"endlinecolor\": \"#2a3f5f\", \"gridcolor\": \"white\", \"linecolor\": \"white\", \"minorgridcolor\": \"white\", \"startlinecolor\": \"#2a3f5f\"}, \"type\": \"carpet\"}], \"choropleth\": [{\"colorbar\": {\"outlinewidth\": 0, \"ticks\": \"\"}, \"type\": \"choropleth\"}], \"contour\": [{\"colorbar\": {\"outlinewidth\": 0, \"ticks\": \"\"}, \"colorscale\": [[0.0, \"#0d0887\"], [0.1111111111111111, \"#46039f\"], [0.2222222222222222, \"#7201a8\"], [0.3333333333333333, \"#9c179e\"], [0.4444444444444444, \"#bd3786\"], [0.5555555555555556, \"#d8576b\"], [0.6666666666666666, \"#ed7953\"], [0.7777777777777778, \"#fb9f3a\"], [0.8888888888888888, \"#fdca26\"], [1.0, \"#f0f921\"]], \"type\": \"contour\"}], \"contourcarpet\": [{\"colorbar\": {\"outlinewidth\": 0, \"ticks\": \"\"}, \"type\": \"contourcarpet\"}], \"heatmap\": [{\"colorbar\": {\"outlinewidth\": 0, \"ticks\": \"\"}, \"colorscale\": [[0.0, \"#0d0887\"], [0.1111111111111111, \"#46039f\"], [0.2222222222222222, \"#7201a8\"], [0.3333333333333333, \"#9c179e\"], [0.4444444444444444, \"#bd3786\"], [0.5555555555555556, \"#d8576b\"], [0.6666666666666666, \"#ed7953\"], [0.7777777777777778, \"#fb9f3a\"], [0.8888888888888888, \"#fdca26\"], [1.0, \"#f0f921\"]], \"type\": \"heatmap\"}], \"heatmapgl\": [{\"colorbar\": {\"outlinewidth\": 0, \"ticks\": \"\"}, \"colorscale\": [[0.0, \"#0d0887\"], [0.1111111111111111, \"#46039f\"], [0.2222222222222222, \"#7201a8\"], [0.3333333333333333, \"#9c179e\"], [0.4444444444444444, \"#bd3786\"], [0.5555555555555556, \"#d8576b\"], [0.6666666666666666, \"#ed7953\"], [0.7777777777777778, \"#fb9f3a\"], [0.8888888888888888, \"#fdca26\"], [1.0, \"#f0f921\"]], \"type\": \"heatmapgl\"}], \"histogram\": [{\"marker\": {\"colorbar\": {\"outlinewidth\": 0, \"ticks\": \"\"}}, \"type\": \"histogram\"}], \"histogram2d\": [{\"colorbar\": {\"outlinewidth\": 0, \"ticks\": \"\"}, \"colorscale\": [[0.0, \"#0d0887\"], [0.1111111111111111, \"#46039f\"], [0.2222222222222222, \"#7201a8\"], [0.3333333333333333, \"#9c179e\"], [0.4444444444444444, \"#bd3786\"], [0.5555555555555556, \"#d8576b\"], [0.6666666666666666, \"#ed7953\"], [0.7777777777777778, \"#fb9f3a\"], [0.8888888888888888, \"#fdca26\"], [1.0, \"#f0f921\"]], \"type\": \"histogram2d\"}], \"histogram2dcontour\": [{\"colorbar\": {\"outlinewidth\": 0, \"ticks\": \"\"}, \"colorscale\": [[0.0, \"#0d0887\"], [0.1111111111111111, \"#46039f\"], [0.2222222222222222, \"#7201a8\"], [0.3333333333333333, \"#9c179e\"], [0.4444444444444444, \"#bd3786\"], [0.5555555555555556, \"#d8576b\"], [0.6666666666666666, \"#ed7953\"], [0.7777777777777778, \"#fb9f3a\"], [0.8888888888888888, \"#fdca26\"], [1.0, \"#f0f921\"]], \"type\": \"histogram2dcontour\"}], \"mesh3d\": [{\"colorbar\": {\"outlinewidth\": 0, \"ticks\": \"\"}, \"type\": \"mesh3d\"}], \"parcoords\": [{\"line\": {\"colorbar\": {\"outlinewidth\": 0, \"ticks\": \"\"}}, \"type\": \"parcoords\"}], \"scatter\": [{\"marker\": {\"colorbar\": {\"outlinewidth\": 0, \"ticks\": \"\"}}, \"type\": \"scatter\"}], \"scatter3d\": [{\"line\": {\"colorbar\": {\"outlinewidth\": 0, \"ticks\": \"\"}}, \"marker\": {\"colorbar\": {\"outlinewidth\": 0, \"ticks\": \"\"}}, \"type\": \"scatter3d\"}], \"scattercarpet\": [{\"marker\": {\"colorbar\": {\"outlinewidth\": 0, \"ticks\": \"\"}}, \"type\": \"scattercarpet\"}], \"scattergeo\": [{\"marker\": {\"colorbar\": {\"outlinewidth\": 0, \"ticks\": \"\"}}, \"type\": \"scattergeo\"}], \"scattergl\": [{\"marker\": {\"colorbar\": {\"outlinewidth\": 0, \"ticks\": \"\"}}, \"type\": \"scattergl\"}], \"scattermapbox\": [{\"marker\": {\"colorbar\": {\"outlinewidth\": 0, \"ticks\": \"\"}}, \"type\": \"scattermapbox\"}], \"scatterpolar\": [{\"marker\": {\"colorbar\": {\"outlinewidth\": 0, \"ticks\": \"\"}}, \"type\": \"scatterpolar\"}], \"scatterpolargl\": [{\"marker\": {\"colorbar\": {\"outlinewidth\": 0, \"ticks\": \"\"}}, \"type\": \"scatterpolargl\"}], \"scatterternary\": [{\"marker\": {\"colorbar\": {\"outlinewidth\": 0, \"ticks\": \"\"}}, \"type\": \"scatterternary\"}], \"surface\": [{\"colorbar\": {\"outlinewidth\": 0, \"ticks\": \"\"}, \"colorscale\": [[0.0, \"#0d0887\"], [0.1111111111111111, \"#46039f\"], [0.2222222222222222, \"#7201a8\"], [0.3333333333333333, \"#9c179e\"], [0.4444444444444444, \"#bd3786\"], [0.5555555555555556, \"#d8576b\"], [0.6666666666666666, \"#ed7953\"], [0.7777777777777778, \"#fb9f3a\"], [0.8888888888888888, \"#fdca26\"], [1.0, \"#f0f921\"]], \"type\": \"surface\"}], \"table\": [{\"cells\": {\"fill\": {\"color\": \"#EBF0F8\"}, \"line\": {\"color\": \"white\"}}, \"header\": {\"fill\": {\"color\": \"#C8D4E3\"}, \"line\": {\"color\": \"white\"}}, \"type\": \"table\"}]}, \"layout\": {\"annotationdefaults\": {\"arrowcolor\": \"#2a3f5f\", \"arrowhead\": 0, \"arrowwidth\": 1}, \"colorscale\": {\"diverging\": [[0, \"#8e0152\"], [0.1, \"#c51b7d\"], [0.2, \"#de77ae\"], [0.3, \"#f1b6da\"], [0.4, \"#fde0ef\"], [0.5, \"#f7f7f7\"], [0.6, \"#e6f5d0\"], [0.7, \"#b8e186\"], [0.8, \"#7fbc41\"], [0.9, \"#4d9221\"], [1, \"#276419\"]], \"sequential\": [[0.0, \"#0d0887\"], [0.1111111111111111, \"#46039f\"], [0.2222222222222222, \"#7201a8\"], [0.3333333333333333, \"#9c179e\"], [0.4444444444444444, \"#bd3786\"], [0.5555555555555556, \"#d8576b\"], [0.6666666666666666, \"#ed7953\"], [0.7777777777777778, \"#fb9f3a\"], [0.8888888888888888, \"#fdca26\"], [1.0, \"#f0f921\"]], \"sequentialminus\": [[0.0, \"#0d0887\"], [0.1111111111111111, \"#46039f\"], [0.2222222222222222, \"#7201a8\"], [0.3333333333333333, \"#9c179e\"], [0.4444444444444444, \"#bd3786\"], [0.5555555555555556, \"#d8576b\"], [0.6666666666666666, \"#ed7953\"], [0.7777777777777778, \"#fb9f3a\"], [0.8888888888888888, \"#fdca26\"], [1.0, \"#f0f921\"]]}, \"colorway\": [\"#636efa\", \"#EF553B\", \"#00cc96\", \"#ab63fa\", \"#FFA15A\", \"#19d3f3\", \"#FF6692\", \"#B6E880\", \"#FF97FF\", \"#FECB52\"], \"font\": {\"color\": \"#2a3f5f\"}, \"geo\": {\"bgcolor\": \"white\", \"lakecolor\": \"white\", \"landcolor\": \"#E5ECF6\", \"showlakes\": true, \"showland\": true, \"subunitcolor\": \"white\"}, \"hoverlabel\": {\"align\": \"left\"}, \"hovermode\": \"closest\", \"mapbox\": {\"style\": \"light\"}, \"paper_bgcolor\": \"white\", \"plot_bgcolor\": \"#E5ECF6\", \"polar\": {\"angularaxis\": {\"gridcolor\": \"white\", \"linecolor\": \"white\", \"ticks\": \"\"}, \"bgcolor\": \"#E5ECF6\", \"radialaxis\": {\"gridcolor\": \"white\", \"linecolor\": \"white\", \"ticks\": \"\"}}, \"scene\": {\"xaxis\": {\"backgroundcolor\": \"#E5ECF6\", \"gridcolor\": \"white\", \"gridwidth\": 2, \"linecolor\": \"white\", \"showbackground\": true, \"ticks\": \"\", \"zerolinecolor\": \"white\"}, \"yaxis\": {\"backgroundcolor\": \"#E5ECF6\", \"gridcolor\": \"white\", \"gridwidth\": 2, \"linecolor\": \"white\", \"showbackground\": true, \"ticks\": \"\", \"zerolinecolor\": \"white\"}, \"zaxis\": {\"backgroundcolor\": \"#E5ECF6\", \"gridcolor\": \"white\", \"gridwidth\": 2, \"linecolor\": \"white\", \"showbackground\": true, \"ticks\": \"\", \"zerolinecolor\": \"white\"}}, \"shapedefaults\": {\"line\": {\"color\": \"#2a3f5f\"}}, \"ternary\": {\"aaxis\": {\"gridcolor\": \"white\", \"linecolor\": \"white\", \"ticks\": \"\"}, \"baxis\": {\"gridcolor\": \"white\", \"linecolor\": \"white\", \"ticks\": \"\"}, \"bgcolor\": \"#E5ECF6\", \"caxis\": {\"gridcolor\": \"white\", \"linecolor\": \"white\", \"ticks\": \"\"}}, \"title\": {\"x\": 0.05}, \"xaxis\": {\"automargin\": true, \"gridcolor\": \"white\", \"linecolor\": \"white\", \"ticks\": \"\", \"zerolinecolor\": \"white\", \"zerolinewidth\": 2}, \"yaxis\": {\"automargin\": true, \"gridcolor\": \"white\", \"linecolor\": \"white\", \"ticks\": \"\", \"zerolinecolor\": \"white\", \"zerolinewidth\": 2}}}, \"title\": {\"text\": \"Binomial Tree Implied Vol vs BSM\"}, \"xaxis\": {\"title\": {\"text\": \"Strike\"}}, \"yaxis\": {\"title\": {\"text\": \"Error (%)\"}}},\n",
       "                        {\"responsive\": true}\n",
       "                    ).then(function(){\n",
       "                            \n",
       "var gd = document.getElementById('b94d163f-b257-42f4-b967-c148a9d01182');\n",
       "var x = new MutationObserver(function (mutations, observer) {{\n",
       "        var display = window.getComputedStyle(gd).display;\n",
       "        if (!display || display === 'none') {{\n",
       "            console.log([gd, 'removed!']);\n",
       "            Plotly.purge(gd);\n",
       "            observer.disconnect();\n",
       "        }}\n",
       "}});\n",
       "\n",
       "// Listen for the removal of the full notebook cells\n",
       "var notebookContainer = gd.closest('#notebook-container');\n",
       "if (notebookContainer) {{\n",
       "    x.observe(notebookContainer, {childList: true});\n",
       "}}\n",
       "\n",
       "// Listen for the clearing of the current output cell\n",
       "var outputEl = gd.closest('.output');\n",
       "if (outputEl) {{\n",
       "    x.observe(outputEl, {childList: true});\n",
       "}}\n",
       "\n",
       "                        })\n",
       "                };\n",
       "                });\n",
       "            </script>\n",
       "        </div>"
      ]
     },
     "metadata": {},
     "output_type": "display_data"
    }
   ],
   "source": [
    "temp = opts[(opts['Type'] == 'p') & (opts['Expiration'] == date1)]\n",
    "trace0 = go.Scatter(\n",
    "    x = temp['Strike'], y = abs(temp['IV'] - temp['IV_tree'])/temp['IV']*100, name = 'Euro IV {}'.format(date1)\n",
    ")\n",
    "trace1 = go.Scatter(\n",
    "    x = temp['Strike'], y = abs(temp['IV'] - temp['IV_tree_AM'])/temp['IV']*100, name = 'American IV {}'.format(date1)\n",
    ")\n",
    "\n",
    "temp = opts[(opts['Type'] == 'p') & (opts['Expiration'] == date2)]\n",
    "trace2 = go.Scatter(\n",
    "    x = temp['Strike'], y = abs(temp['IV'] - temp['IV_tree'])/temp['IV']*100, name = 'Euro IV {}'.format(date2)\n",
    ")\n",
    "trace3 = go.Scatter(\n",
    "    x = temp['Strike'], y = abs(temp['IV'] - temp['IV_tree_AM'])/temp['IV']*100, name = 'American IV {}'.format(date2)\n",
    ")\n",
    "\n",
    "temp = opts[(opts['Type'] == 'p') & (opts['Expiration'] == date3)]\n",
    "trace4 = go.Scatter(\n",
    "    x = temp['Strike'], y = abs(temp['IV'] - temp['IV_tree'])/temp['IV']*100, name = 'Euro IV {}'.format(date3)\n",
    ")\n",
    "trace5 = go.Scatter(\n",
    "    x = temp['Strike'], y = abs(temp['IV'] - temp['IV_tree_AM'])/temp['IV']*100, name = 'American IV {}'.format(date3)\n",
    ")\n",
    "data = [trace0, trace1, trace2, trace3, trace4, trace5]\n",
    "layout = go.Layout(\n",
    "    title = 'Binomial Tree Implied Vol vs BSM', yaxis = dict(title = 'Error (%)'), \n",
    "        xaxis = dict(title = 'Strike'))\n",
    "fig = go.Figure(data=data, layout=layout)\n",
    "plotly.offline.iplot(fig)"
   ]
  },
  {
   "cell_type": "markdown",
   "metadata": {},
   "source": [
    "All binary tree calculated implied volailities are within 10bps of the Black-Scholes implied volatility except the put options that are treated as American. These were still within 1% of the Black-Scholes values for all expirations. As seen before, the American and European calculations for call options are identical as Amazon does not pay a dividend thus early exercise is never optimal for calls. There is no clear relationship between the error and strike price as the error is small and similar for all strike prices. Similarly, there is also not a very significant relationship between error and time to maturity except for the American puts, which show slightly higher error as the time to maturity increases. "
   ]
  },
  {
   "cell_type": "markdown",
   "metadata": {},
   "source": [
    "# Problem 3: Trinomial Tree"
   ]
  },
  {
   "cell_type": "code",
   "execution_count": 30,
   "metadata": {},
   "outputs": [
    {
     "data": {
      "text/plain": [
       "9.21751859646908"
      ]
     },
     "execution_count": 30,
     "metadata": {},
     "output_type": "execute_result"
    }
   ],
   "source": [
    "def trinomial_tree(S, K, T, r, sig, q=0, N=200, opt_type='c', am=False):\n",
    "    if opt_type == 'c':\n",
    "        c = 1 \n",
    "    else:\n",
    "        c = -1\n",
    "    dt = T/N\n",
    "    dx = sig*np.sqrt(3*dt)\n",
    "    v = r-q-.5*sig**2\n",
    "    pu = .5*((sig**2*dt+v**2*dt**2)/dx**2 + v*dt/dx)\n",
    "    pm = 1 - (sig**2*dt+v**2*dt**2)/dx**2\n",
    "    pd = .5*((sig**2*dt+v**2*dt**2)/dx**2 - v*dt/dx)\n",
    "    disc = np.exp(-r*dt)\n",
    "    \n",
    "    #initialize stock and option path matrices\n",
    "    stock = np.zeros((N+1,2*N+1))\n",
    "    option = np.zeros((N+1,2*N+1))\n",
    "    \n",
    "    #set root of tree to underlying quote\n",
    "    stock[0,N]=S\n",
    "    \n",
    "    #loop to fill stock price matrix\n",
    "    for i in range(1,N+1):\n",
    "            stock[i,N-i:N+i+1] = [S*np.exp(dx*j) for j in range(-i,i+1)]\n",
    "    \n",
    "    #calculate and initialize final option values\n",
    "    option[N:] = np.maximum(0,c*(stock[N,:]-K))\n",
    "    #loop through to propogate option values\n",
    "    for i in range(N-1,-1,-1):\n",
    "        for j in range(N-i,N+i+1):\n",
    "            option[i,j] = disc*(pd*option[i+1,j-1]+pm*option[i+1,j]+\n",
    "                                pu*option[i+1,j+1])\n",
    "            if am: #calculating whether or not to exercise early for american options\n",
    "                option[i,j] = max(option[i,j],max(0,c*(stock[i,j]-K)))\n",
    "    return option[0,N]\n",
    "trinomial_tree(100, 100, 1, .05, .2, .02)"
   ]
  },
  {
   "cell_type": "code",
   "execution_count": 45,
   "metadata": {},
   "outputs": [
    {
     "data": {
      "text/html": [
       "<div>\n",
       "<style scoped>\n",
       "    .dataframe tbody tr th:only-of-type {\n",
       "        vertical-align: middle;\n",
       "    }\n",
       "\n",
       "    .dataframe tbody tr th {\n",
       "        vertical-align: top;\n",
       "    }\n",
       "\n",
       "    .dataframe thead th {\n",
       "        text-align: right;\n",
       "    }\n",
       "</style>\n",
       "<table border=\"1\" class=\"dataframe\">\n",
       "  <thead>\n",
       "    <tr style=\"text-align: right;\">\n",
       "      <th></th>\n",
       "      <th>BS_Call</th>\n",
       "      <th>BS_Put</th>\n",
       "      <th>BTree_Call_Euro</th>\n",
       "      <th>BTree_Put_Euro</th>\n",
       "      <th>BTree_Call_Am</th>\n",
       "      <th>BTree_Put_Am</th>\n",
       "      <th>TTree_Call_Euro</th>\n",
       "      <th>TTree_Put_Euro</th>\n",
       "      <th>TTree_Call_Am</th>\n",
       "      <th>TTree_Put_Am</th>\n",
       "    </tr>\n",
       "  </thead>\n",
       "  <tbody>\n",
       "    <tr>\n",
       "      <th>10</th>\n",
       "      <td>9.22701</td>\n",
       "      <td>6.33008</td>\n",
       "      <td>10.2583</td>\n",
       "      <td>5.38653</td>\n",
       "      <td>10.2583</td>\n",
       "      <td>6.01408</td>\n",
       "      <td>9.03211</td>\n",
       "      <td>6.13519</td>\n",
       "      <td>9.03211</td>\n",
       "      <td>6.46862</td>\n",
       "    </tr>\n",
       "    <tr>\n",
       "      <th>20</th>\n",
       "      <td>9.22701</td>\n",
       "      <td>6.33008</td>\n",
       "      <td>10.3537</td>\n",
       "      <td>5.47934</td>\n",
       "      <td>10.3537</td>\n",
       "      <td>6.05215</td>\n",
       "      <td>9.13102</td>\n",
       "      <td>6.23409</td>\n",
       "      <td>9.13102</td>\n",
       "      <td>6.56516</td>\n",
       "    </tr>\n",
       "    <tr>\n",
       "      <th>30</th>\n",
       "      <td>9.22701</td>\n",
       "      <td>6.33008</td>\n",
       "      <td>10.3859</td>\n",
       "      <td>5.51059</td>\n",
       "      <td>10.3859</td>\n",
       "      <td>6.06568</td>\n",
       "      <td>9.1633</td>\n",
       "      <td>6.26638</td>\n",
       "      <td>9.1633</td>\n",
       "      <td>6.59682</td>\n",
       "    </tr>\n",
       "    <tr>\n",
       "      <th>40</th>\n",
       "      <td>9.22701</td>\n",
       "      <td>6.33008</td>\n",
       "      <td>10.402</td>\n",
       "      <td>5.52628</td>\n",
       "      <td>10.402</td>\n",
       "      <td>6.0722</td>\n",
       "      <td>9.17933</td>\n",
       "      <td>6.28241</td>\n",
       "      <td>9.17933</td>\n",
       "      <td>6.61501</td>\n",
       "    </tr>\n",
       "    <tr>\n",
       "      <th>50</th>\n",
       "      <td>9.22701</td>\n",
       "      <td>6.33008</td>\n",
       "      <td>10.4117</td>\n",
       "      <td>5.5357</td>\n",
       "      <td>10.4117</td>\n",
       "      <td>6.0757</td>\n",
       "      <td>9.18891</td>\n",
       "      <td>6.29199</td>\n",
       "      <td>9.18891</td>\n",
       "      <td>6.62305</td>\n",
       "    </tr>\n",
       "    <tr>\n",
       "      <th>100</th>\n",
       "      <td>9.22701</td>\n",
       "      <td>6.33008</td>\n",
       "      <td>10.4311</td>\n",
       "      <td>5.55459</td>\n",
       "      <td>10.4311</td>\n",
       "      <td>6.08334</td>\n",
       "      <td>9.20801</td>\n",
       "      <td>6.31108</td>\n",
       "      <td>9.20801</td>\n",
       "      <td>6.64219</td>\n",
       "    </tr>\n",
       "    <tr>\n",
       "      <th>150</th>\n",
       "      <td>9.22701</td>\n",
       "      <td>6.33008</td>\n",
       "      <td>10.4376</td>\n",
       "      <td>5.5609</td>\n",
       "      <td>10.4376</td>\n",
       "      <td>6.0857</td>\n",
       "      <td>9.21435</td>\n",
       "      <td>6.31743</td>\n",
       "      <td>9.21435</td>\n",
       "      <td>6.64854</td>\n",
       "    </tr>\n",
       "    <tr>\n",
       "      <th>200</th>\n",
       "      <td>9.22701</td>\n",
       "      <td>6.33008</td>\n",
       "      <td>10.4408</td>\n",
       "      <td>5.56405</td>\n",
       "      <td>10.4408</td>\n",
       "      <td>6.08688</td>\n",
       "      <td>9.21752</td>\n",
       "      <td>6.32059</td>\n",
       "      <td>9.21752</td>\n",
       "      <td>6.65157</td>\n",
       "    </tr>\n",
       "    <tr>\n",
       "      <th>250</th>\n",
       "      <td>9.22701</td>\n",
       "      <td>6.33008</td>\n",
       "      <td>10.4428</td>\n",
       "      <td>5.56595</td>\n",
       "      <td>10.4428</td>\n",
       "      <td>6.08757</td>\n",
       "      <td>9.21942</td>\n",
       "      <td>6.32249</td>\n",
       "      <td>9.21942</td>\n",
       "      <td>6.6534</td>\n",
       "    </tr>\n",
       "    <tr>\n",
       "      <th>300</th>\n",
       "      <td>9.22701</td>\n",
       "      <td>6.33008</td>\n",
       "      <td>10.4441</td>\n",
       "      <td>5.56721</td>\n",
       "      <td>10.4441</td>\n",
       "      <td>6.08805</td>\n",
       "      <td>9.22068</td>\n",
       "      <td>6.32376</td>\n",
       "      <td>9.22068</td>\n",
       "      <td>6.65463</td>\n",
       "    </tr>\n",
       "    <tr>\n",
       "      <th>350</th>\n",
       "      <td>9.22701</td>\n",
       "      <td>6.33008</td>\n",
       "      <td>10.445</td>\n",
       "      <td>5.56811</td>\n",
       "      <td>10.445</td>\n",
       "      <td>6.08841</td>\n",
       "      <td>9.22159</td>\n",
       "      <td>6.32466</td>\n",
       "      <td>9.22159</td>\n",
       "      <td>6.6555</td>\n",
       "    </tr>\n",
       "    <tr>\n",
       "      <th>400</th>\n",
       "      <td>9.22701</td>\n",
       "      <td>6.33008</td>\n",
       "      <td>10.4457</td>\n",
       "      <td>5.56879</td>\n",
       "      <td>10.4457</td>\n",
       "      <td>6.08865</td>\n",
       "      <td>9.22226</td>\n",
       "      <td>6.32534</td>\n",
       "      <td>9.22227</td>\n",
       "      <td>6.65614</td>\n",
       "    </tr>\n",
       "  </tbody>\n",
       "</table>\n",
       "</div>"
      ],
      "text/plain": [
       "     BS_Call   BS_Put BTree_Call_Euro BTree_Put_Euro BTree_Call_Am  \\\n",
       "10   9.22701  6.33008         10.2583        5.38653       10.2583   \n",
       "20   9.22701  6.33008         10.3537        5.47934       10.3537   \n",
       "30   9.22701  6.33008         10.3859        5.51059       10.3859   \n",
       "40   9.22701  6.33008          10.402        5.52628        10.402   \n",
       "50   9.22701  6.33008         10.4117         5.5357       10.4117   \n",
       "100  9.22701  6.33008         10.4311        5.55459       10.4311   \n",
       "150  9.22701  6.33008         10.4376         5.5609       10.4376   \n",
       "200  9.22701  6.33008         10.4408        5.56405       10.4408   \n",
       "250  9.22701  6.33008         10.4428        5.56595       10.4428   \n",
       "300  9.22701  6.33008         10.4441        5.56721       10.4441   \n",
       "350  9.22701  6.33008          10.445        5.56811        10.445   \n",
       "400  9.22701  6.33008         10.4457        5.56879       10.4457   \n",
       "\n",
       "    BTree_Put_Am TTree_Call_Euro TTree_Put_Euro TTree_Call_Am TTree_Put_Am  \n",
       "10       6.01408         9.03211        6.13519       9.03211      6.46862  \n",
       "20       6.05215         9.13102        6.23409       9.13102      6.56516  \n",
       "30       6.06568          9.1633        6.26638        9.1633      6.59682  \n",
       "40        6.0722         9.17933        6.28241       9.17933      6.61501  \n",
       "50        6.0757         9.18891        6.29199       9.18891      6.62305  \n",
       "100      6.08334         9.20801        6.31108       9.20801      6.64219  \n",
       "150       6.0857         9.21435        6.31743       9.21435      6.64854  \n",
       "200      6.08688         9.21752        6.32059       9.21752      6.65157  \n",
       "250      6.08757         9.21942        6.32249       9.21942       6.6534  \n",
       "300      6.08805         9.22068        6.32376       9.22068      6.65463  \n",
       "350      6.08841         9.22159        6.32466       9.22159       6.6555  \n",
       "400      6.08865         9.22226        6.32534       9.22227      6.65614  "
      ]
     },
     "execution_count": 45,
     "metadata": {},
     "output_type": "execute_result"
    }
   ],
   "source": [
    "s = 100\n",
    "k = 100\n",
    "ttm = 1\n",
    "r = .05\n",
    "sig = .2\n",
    "q = .02\n",
    "\n",
    "\n",
    "TriTree_df = pd.DataFrame(columns = ['BS_Call', 'BS_Put', 'BTree_Call_Euro', 'BTree_Put_Euro', \n",
    "                                     'BTree_Call_Am', 'BTree_Put_Am', 'TTree_Call_Euro', 'TTree_Put_Euro', \n",
    "                                    'TTree_Call_Am', 'TTree_Put_Am'], index = N_s)\n",
    "for n in N_s:\n",
    "    temp = []\n",
    "    temp.append(BSM(s, k, ttm, r, sig, 'c', q))\n",
    "    temp.append(BSM(s, k, ttm, r, sig, 'p', q))\n",
    "    temp.append(binomial_tree(s, k, ttm, r, sig, n, 'c'))\n",
    "    temp.append(binomial_tree(s, k, ttm, r, sig, n, 'p'))\n",
    "    temp.append(binomial_tree(s, k, ttm, r, sig, n, 'c', True))\n",
    "    temp.append(binomial_tree(s, k, ttm, r, sig, n, 'p', True))\n",
    "    temp.append(trinomial_tree(s, k, ttm, r, sig, q, n, 'c'))\n",
    "    temp.append(trinomial_tree(s, k, ttm, r, sig, q, n, 'p'))\n",
    "    temp.append(trinomial_tree(s, k, ttm, r, sig, q, n, 'c', True))\n",
    "    temp.append(trinomial_tree(s, k, ttm, r, sig, q, n, 'p', True))\n",
    "    TriTree_df.loc[n] = temp\n",
    "    \n",
    "TriTree_df\n"
   ]
  },
  {
   "cell_type": "markdown",
   "metadata": {},
   "source": [
    "The binary tree calculated price is significantly different from the Black-Scholes and trinomial tree prices and I have been unable to find my mistake that is responsible for this discrepency. The trinomial prices behave as expected, converging to the Black-Scholes price as the number of time steps increases."
   ]
  },
  {
   "cell_type": "code",
   "execution_count": 53,
   "metadata": {},
   "outputs": [
    {
     "data": {
      "application/vnd.plotly.v1+json": {
       "config": {
        "linkText": "Export to plot.ly",
        "plotlyServerURL": "https://plot.ly",
        "showLink": false
       },
       "data": [
        {
         "type": "scatter",
         "x": [
          10,
          20,
          30,
          40,
          50,
          100,
          150,
          200,
          250,
          300,
          350,
          400
         ],
         "y": [
          3.0788621144007067,
          1.5163986963270342,
          1.0063843321877763,
          0.7531447840907234,
          0.6017416567970688,
          0.3001122836484177,
          0.19990924874044982,
          0.1498702361407125,
          0.11986667433623682,
          0.09987253332548979,
          0.08559502567587578,
          0.07488909005679227
         ]
        }
       ],
       "layout": {
        "template": {
         "data": {
          "bar": [
           {
            "error_x": {
             "color": "#2a3f5f"
            },
            "error_y": {
             "color": "#2a3f5f"
            },
            "marker": {
             "line": {
              "color": "#E5ECF6",
              "width": 0.5
             }
            },
            "type": "bar"
           }
          ],
          "barpolar": [
           {
            "marker": {
             "line": {
              "color": "#E5ECF6",
              "width": 0.5
             }
            },
            "type": "barpolar"
           }
          ],
          "carpet": [
           {
            "aaxis": {
             "endlinecolor": "#2a3f5f",
             "gridcolor": "white",
             "linecolor": "white",
             "minorgridcolor": "white",
             "startlinecolor": "#2a3f5f"
            },
            "baxis": {
             "endlinecolor": "#2a3f5f",
             "gridcolor": "white",
             "linecolor": "white",
             "minorgridcolor": "white",
             "startlinecolor": "#2a3f5f"
            },
            "type": "carpet"
           }
          ],
          "choropleth": [
           {
            "colorbar": {
             "outlinewidth": 0,
             "ticks": ""
            },
            "type": "choropleth"
           }
          ],
          "contour": [
           {
            "colorbar": {
             "outlinewidth": 0,
             "ticks": ""
            },
            "colorscale": [
             [
              0,
              "#0d0887"
             ],
             [
              0.1111111111111111,
              "#46039f"
             ],
             [
              0.2222222222222222,
              "#7201a8"
             ],
             [
              0.3333333333333333,
              "#9c179e"
             ],
             [
              0.4444444444444444,
              "#bd3786"
             ],
             [
              0.5555555555555556,
              "#d8576b"
             ],
             [
              0.6666666666666666,
              "#ed7953"
             ],
             [
              0.7777777777777778,
              "#fb9f3a"
             ],
             [
              0.8888888888888888,
              "#fdca26"
             ],
             [
              1,
              "#f0f921"
             ]
            ],
            "type": "contour"
           }
          ],
          "contourcarpet": [
           {
            "colorbar": {
             "outlinewidth": 0,
             "ticks": ""
            },
            "type": "contourcarpet"
           }
          ],
          "heatmap": [
           {
            "colorbar": {
             "outlinewidth": 0,
             "ticks": ""
            },
            "colorscale": [
             [
              0,
              "#0d0887"
             ],
             [
              0.1111111111111111,
              "#46039f"
             ],
             [
              0.2222222222222222,
              "#7201a8"
             ],
             [
              0.3333333333333333,
              "#9c179e"
             ],
             [
              0.4444444444444444,
              "#bd3786"
             ],
             [
              0.5555555555555556,
              "#d8576b"
             ],
             [
              0.6666666666666666,
              "#ed7953"
             ],
             [
              0.7777777777777778,
              "#fb9f3a"
             ],
             [
              0.8888888888888888,
              "#fdca26"
             ],
             [
              1,
              "#f0f921"
             ]
            ],
            "type": "heatmap"
           }
          ],
          "heatmapgl": [
           {
            "colorbar": {
             "outlinewidth": 0,
             "ticks": ""
            },
            "colorscale": [
             [
              0,
              "#0d0887"
             ],
             [
              0.1111111111111111,
              "#46039f"
             ],
             [
              0.2222222222222222,
              "#7201a8"
             ],
             [
              0.3333333333333333,
              "#9c179e"
             ],
             [
              0.4444444444444444,
              "#bd3786"
             ],
             [
              0.5555555555555556,
              "#d8576b"
             ],
             [
              0.6666666666666666,
              "#ed7953"
             ],
             [
              0.7777777777777778,
              "#fb9f3a"
             ],
             [
              0.8888888888888888,
              "#fdca26"
             ],
             [
              1,
              "#f0f921"
             ]
            ],
            "type": "heatmapgl"
           }
          ],
          "histogram": [
           {
            "marker": {
             "colorbar": {
              "outlinewidth": 0,
              "ticks": ""
             }
            },
            "type": "histogram"
           }
          ],
          "histogram2d": [
           {
            "colorbar": {
             "outlinewidth": 0,
             "ticks": ""
            },
            "colorscale": [
             [
              0,
              "#0d0887"
             ],
             [
              0.1111111111111111,
              "#46039f"
             ],
             [
              0.2222222222222222,
              "#7201a8"
             ],
             [
              0.3333333333333333,
              "#9c179e"
             ],
             [
              0.4444444444444444,
              "#bd3786"
             ],
             [
              0.5555555555555556,
              "#d8576b"
             ],
             [
              0.6666666666666666,
              "#ed7953"
             ],
             [
              0.7777777777777778,
              "#fb9f3a"
             ],
             [
              0.8888888888888888,
              "#fdca26"
             ],
             [
              1,
              "#f0f921"
             ]
            ],
            "type": "histogram2d"
           }
          ],
          "histogram2dcontour": [
           {
            "colorbar": {
             "outlinewidth": 0,
             "ticks": ""
            },
            "colorscale": [
             [
              0,
              "#0d0887"
             ],
             [
              0.1111111111111111,
              "#46039f"
             ],
             [
              0.2222222222222222,
              "#7201a8"
             ],
             [
              0.3333333333333333,
              "#9c179e"
             ],
             [
              0.4444444444444444,
              "#bd3786"
             ],
             [
              0.5555555555555556,
              "#d8576b"
             ],
             [
              0.6666666666666666,
              "#ed7953"
             ],
             [
              0.7777777777777778,
              "#fb9f3a"
             ],
             [
              0.8888888888888888,
              "#fdca26"
             ],
             [
              1,
              "#f0f921"
             ]
            ],
            "type": "histogram2dcontour"
           }
          ],
          "mesh3d": [
           {
            "colorbar": {
             "outlinewidth": 0,
             "ticks": ""
            },
            "type": "mesh3d"
           }
          ],
          "parcoords": [
           {
            "line": {
             "colorbar": {
              "outlinewidth": 0,
              "ticks": ""
             }
            },
            "type": "parcoords"
           }
          ],
          "scatter": [
           {
            "marker": {
             "colorbar": {
              "outlinewidth": 0,
              "ticks": ""
             }
            },
            "type": "scatter"
           }
          ],
          "scatter3d": [
           {
            "line": {
             "colorbar": {
              "outlinewidth": 0,
              "ticks": ""
             }
            },
            "marker": {
             "colorbar": {
              "outlinewidth": 0,
              "ticks": ""
             }
            },
            "type": "scatter3d"
           }
          ],
          "scattercarpet": [
           {
            "marker": {
             "colorbar": {
              "outlinewidth": 0,
              "ticks": ""
             }
            },
            "type": "scattercarpet"
           }
          ],
          "scattergeo": [
           {
            "marker": {
             "colorbar": {
              "outlinewidth": 0,
              "ticks": ""
             }
            },
            "type": "scattergeo"
           }
          ],
          "scattergl": [
           {
            "marker": {
             "colorbar": {
              "outlinewidth": 0,
              "ticks": ""
             }
            },
            "type": "scattergl"
           }
          ],
          "scattermapbox": [
           {
            "marker": {
             "colorbar": {
              "outlinewidth": 0,
              "ticks": ""
             }
            },
            "type": "scattermapbox"
           }
          ],
          "scatterpolar": [
           {
            "marker": {
             "colorbar": {
              "outlinewidth": 0,
              "ticks": ""
             }
            },
            "type": "scatterpolar"
           }
          ],
          "scatterpolargl": [
           {
            "marker": {
             "colorbar": {
              "outlinewidth": 0,
              "ticks": ""
             }
            },
            "type": "scatterpolargl"
           }
          ],
          "scatterternary": [
           {
            "marker": {
             "colorbar": {
              "outlinewidth": 0,
              "ticks": ""
             }
            },
            "type": "scatterternary"
           }
          ],
          "surface": [
           {
            "colorbar": {
             "outlinewidth": 0,
             "ticks": ""
            },
            "colorscale": [
             [
              0,
              "#0d0887"
             ],
             [
              0.1111111111111111,
              "#46039f"
             ],
             [
              0.2222222222222222,
              "#7201a8"
             ],
             [
              0.3333333333333333,
              "#9c179e"
             ],
             [
              0.4444444444444444,
              "#bd3786"
             ],
             [
              0.5555555555555556,
              "#d8576b"
             ],
             [
              0.6666666666666666,
              "#ed7953"
             ],
             [
              0.7777777777777778,
              "#fb9f3a"
             ],
             [
              0.8888888888888888,
              "#fdca26"
             ],
             [
              1,
              "#f0f921"
             ]
            ],
            "type": "surface"
           }
          ],
          "table": [
           {
            "cells": {
             "fill": {
              "color": "#EBF0F8"
             },
             "line": {
              "color": "white"
             }
            },
            "header": {
             "fill": {
              "color": "#C8D4E3"
             },
             "line": {
              "color": "white"
             }
            },
            "type": "table"
           }
          ]
         },
         "layout": {
          "annotationdefaults": {
           "arrowcolor": "#2a3f5f",
           "arrowhead": 0,
           "arrowwidth": 1
          },
          "colorscale": {
           "diverging": [
            [
             0,
             "#8e0152"
            ],
            [
             0.1,
             "#c51b7d"
            ],
            [
             0.2,
             "#de77ae"
            ],
            [
             0.3,
             "#f1b6da"
            ],
            [
             0.4,
             "#fde0ef"
            ],
            [
             0.5,
             "#f7f7f7"
            ],
            [
             0.6,
             "#e6f5d0"
            ],
            [
             0.7,
             "#b8e186"
            ],
            [
             0.8,
             "#7fbc41"
            ],
            [
             0.9,
             "#4d9221"
            ],
            [
             1,
             "#276419"
            ]
           ],
           "sequential": [
            [
             0,
             "#0d0887"
            ],
            [
             0.1111111111111111,
             "#46039f"
            ],
            [
             0.2222222222222222,
             "#7201a8"
            ],
            [
             0.3333333333333333,
             "#9c179e"
            ],
            [
             0.4444444444444444,
             "#bd3786"
            ],
            [
             0.5555555555555556,
             "#d8576b"
            ],
            [
             0.6666666666666666,
             "#ed7953"
            ],
            [
             0.7777777777777778,
             "#fb9f3a"
            ],
            [
             0.8888888888888888,
             "#fdca26"
            ],
            [
             1,
             "#f0f921"
            ]
           ],
           "sequentialminus": [
            [
             0,
             "#0d0887"
            ],
            [
             0.1111111111111111,
             "#46039f"
            ],
            [
             0.2222222222222222,
             "#7201a8"
            ],
            [
             0.3333333333333333,
             "#9c179e"
            ],
            [
             0.4444444444444444,
             "#bd3786"
            ],
            [
             0.5555555555555556,
             "#d8576b"
            ],
            [
             0.6666666666666666,
             "#ed7953"
            ],
            [
             0.7777777777777778,
             "#fb9f3a"
            ],
            [
             0.8888888888888888,
             "#fdca26"
            ],
            [
             1,
             "#f0f921"
            ]
           ]
          },
          "colorway": [
           "#636efa",
           "#EF553B",
           "#00cc96",
           "#ab63fa",
           "#FFA15A",
           "#19d3f3",
           "#FF6692",
           "#B6E880",
           "#FF97FF",
           "#FECB52"
          ],
          "font": {
           "color": "#2a3f5f"
          },
          "geo": {
           "bgcolor": "white",
           "lakecolor": "white",
           "landcolor": "#E5ECF6",
           "showlakes": true,
           "showland": true,
           "subunitcolor": "white"
          },
          "hoverlabel": {
           "align": "left"
          },
          "hovermode": "closest",
          "mapbox": {
           "style": "light"
          },
          "paper_bgcolor": "white",
          "plot_bgcolor": "#E5ECF6",
          "polar": {
           "angularaxis": {
            "gridcolor": "white",
            "linecolor": "white",
            "ticks": ""
           },
           "bgcolor": "#E5ECF6",
           "radialaxis": {
            "gridcolor": "white",
            "linecolor": "white",
            "ticks": ""
           }
          },
          "scene": {
           "xaxis": {
            "backgroundcolor": "#E5ECF6",
            "gridcolor": "white",
            "gridwidth": 2,
            "linecolor": "white",
            "showbackground": true,
            "ticks": "",
            "zerolinecolor": "white"
           },
           "yaxis": {
            "backgroundcolor": "#E5ECF6",
            "gridcolor": "white",
            "gridwidth": 2,
            "linecolor": "white",
            "showbackground": true,
            "ticks": "",
            "zerolinecolor": "white"
           },
           "zaxis": {
            "backgroundcolor": "#E5ECF6",
            "gridcolor": "white",
            "gridwidth": 2,
            "linecolor": "white",
            "showbackground": true,
            "ticks": "",
            "zerolinecolor": "white"
           }
          },
          "shapedefaults": {
           "line": {
            "color": "#2a3f5f"
           }
          },
          "ternary": {
           "aaxis": {
            "gridcolor": "white",
            "linecolor": "white",
            "ticks": ""
           },
           "baxis": {
            "gridcolor": "white",
            "linecolor": "white",
            "ticks": ""
           },
           "bgcolor": "#E5ECF6",
           "caxis": {
            "gridcolor": "white",
            "linecolor": "white",
            "ticks": ""
           }
          },
          "title": {
           "x": 0.05
          },
          "xaxis": {
           "automargin": true,
           "gridcolor": "white",
           "linecolor": "white",
           "ticks": "",
           "zerolinecolor": "white",
           "zerolinewidth": 2
          },
          "yaxis": {
           "automargin": true,
           "gridcolor": "white",
           "linecolor": "white",
           "ticks": "",
           "zerolinecolor": "white",
           "zerolinewidth": 2
          }
         }
        },
        "title": {
         "text": "Trinomial Tree Error vs Number of Time Steps"
        },
        "xaxis": {
         "title": {
          "text": "Time Steps"
         }
        },
        "yaxis": {
         "title": {
          "text": "Error (%)"
         }
        }
       }
      },
      "text/html": [
       "<div>\n",
       "        \n",
       "        \n",
       "            <div id=\"a4a6756e-7dfd-4098-ab94-d6f416134fda\" class=\"plotly-graph-div\" style=\"height:525px; width:100%;\"></div>\n",
       "            <script type=\"text/javascript\">\n",
       "                require([\"plotly\"], function(Plotly) {\n",
       "                    window.PLOTLYENV=window.PLOTLYENV || {};\n",
       "                    \n",
       "                if (document.getElementById(\"a4a6756e-7dfd-4098-ab94-d6f416134fda\")) {\n",
       "                    Plotly.newPlot(\n",
       "                        'a4a6756e-7dfd-4098-ab94-d6f416134fda',\n",
       "                        [{\"type\": \"scatter\", \"x\": [10, 20, 30, 40, 50, 100, 150, 200, 250, 300, 350, 400], \"y\": [3.0788621144007067, 1.5163986963270342, 1.0063843321877763, 0.7531447840907234, 0.6017416567970688, 0.3001122836484177, 0.19990924874044982, 0.1498702361407125, 0.11986667433623682, 0.09987253332548979, 0.08559502567587578, 0.07488909005679227]}],\n",
       "                        {\"template\": {\"data\": {\"bar\": [{\"error_x\": {\"color\": \"#2a3f5f\"}, \"error_y\": {\"color\": \"#2a3f5f\"}, \"marker\": {\"line\": {\"color\": \"#E5ECF6\", \"width\": 0.5}}, \"type\": \"bar\"}], \"barpolar\": [{\"marker\": {\"line\": {\"color\": \"#E5ECF6\", \"width\": 0.5}}, \"type\": \"barpolar\"}], \"carpet\": [{\"aaxis\": {\"endlinecolor\": \"#2a3f5f\", \"gridcolor\": \"white\", \"linecolor\": \"white\", \"minorgridcolor\": \"white\", \"startlinecolor\": \"#2a3f5f\"}, \"baxis\": {\"endlinecolor\": \"#2a3f5f\", \"gridcolor\": \"white\", \"linecolor\": \"white\", \"minorgridcolor\": \"white\", \"startlinecolor\": \"#2a3f5f\"}, \"type\": \"carpet\"}], \"choropleth\": [{\"colorbar\": {\"outlinewidth\": 0, \"ticks\": \"\"}, \"type\": \"choropleth\"}], \"contour\": [{\"colorbar\": {\"outlinewidth\": 0, \"ticks\": \"\"}, \"colorscale\": [[0.0, \"#0d0887\"], [0.1111111111111111, \"#46039f\"], [0.2222222222222222, \"#7201a8\"], [0.3333333333333333, \"#9c179e\"], [0.4444444444444444, \"#bd3786\"], [0.5555555555555556, \"#d8576b\"], [0.6666666666666666, \"#ed7953\"], [0.7777777777777778, \"#fb9f3a\"], [0.8888888888888888, \"#fdca26\"], [1.0, \"#f0f921\"]], \"type\": \"contour\"}], \"contourcarpet\": [{\"colorbar\": {\"outlinewidth\": 0, \"ticks\": \"\"}, \"type\": \"contourcarpet\"}], \"heatmap\": [{\"colorbar\": {\"outlinewidth\": 0, \"ticks\": \"\"}, \"colorscale\": [[0.0, \"#0d0887\"], [0.1111111111111111, \"#46039f\"], [0.2222222222222222, \"#7201a8\"], [0.3333333333333333, \"#9c179e\"], [0.4444444444444444, \"#bd3786\"], [0.5555555555555556, \"#d8576b\"], [0.6666666666666666, \"#ed7953\"], [0.7777777777777778, \"#fb9f3a\"], [0.8888888888888888, \"#fdca26\"], [1.0, \"#f0f921\"]], \"type\": \"heatmap\"}], \"heatmapgl\": [{\"colorbar\": {\"outlinewidth\": 0, \"ticks\": \"\"}, \"colorscale\": [[0.0, \"#0d0887\"], [0.1111111111111111, \"#46039f\"], [0.2222222222222222, \"#7201a8\"], [0.3333333333333333, \"#9c179e\"], [0.4444444444444444, \"#bd3786\"], [0.5555555555555556, \"#d8576b\"], [0.6666666666666666, \"#ed7953\"], [0.7777777777777778, \"#fb9f3a\"], [0.8888888888888888, \"#fdca26\"], [1.0, \"#f0f921\"]], \"type\": \"heatmapgl\"}], \"histogram\": [{\"marker\": {\"colorbar\": {\"outlinewidth\": 0, \"ticks\": \"\"}}, \"type\": \"histogram\"}], \"histogram2d\": [{\"colorbar\": {\"outlinewidth\": 0, \"ticks\": \"\"}, \"colorscale\": [[0.0, \"#0d0887\"], [0.1111111111111111, \"#46039f\"], [0.2222222222222222, \"#7201a8\"], [0.3333333333333333, \"#9c179e\"], [0.4444444444444444, \"#bd3786\"], [0.5555555555555556, \"#d8576b\"], [0.6666666666666666, \"#ed7953\"], [0.7777777777777778, \"#fb9f3a\"], [0.8888888888888888, \"#fdca26\"], [1.0, \"#f0f921\"]], \"type\": \"histogram2d\"}], \"histogram2dcontour\": [{\"colorbar\": {\"outlinewidth\": 0, \"ticks\": \"\"}, \"colorscale\": [[0.0, \"#0d0887\"], [0.1111111111111111, \"#46039f\"], [0.2222222222222222, \"#7201a8\"], [0.3333333333333333, \"#9c179e\"], [0.4444444444444444, \"#bd3786\"], [0.5555555555555556, \"#d8576b\"], [0.6666666666666666, \"#ed7953\"], [0.7777777777777778, \"#fb9f3a\"], [0.8888888888888888, \"#fdca26\"], [1.0, \"#f0f921\"]], \"type\": \"histogram2dcontour\"}], \"mesh3d\": [{\"colorbar\": {\"outlinewidth\": 0, \"ticks\": \"\"}, \"type\": \"mesh3d\"}], \"parcoords\": [{\"line\": {\"colorbar\": {\"outlinewidth\": 0, \"ticks\": \"\"}}, \"type\": \"parcoords\"}], \"scatter\": [{\"marker\": {\"colorbar\": {\"outlinewidth\": 0, \"ticks\": \"\"}}, \"type\": \"scatter\"}], \"scatter3d\": [{\"line\": {\"colorbar\": {\"outlinewidth\": 0, \"ticks\": \"\"}}, \"marker\": {\"colorbar\": {\"outlinewidth\": 0, \"ticks\": \"\"}}, \"type\": \"scatter3d\"}], \"scattercarpet\": [{\"marker\": {\"colorbar\": {\"outlinewidth\": 0, \"ticks\": \"\"}}, \"type\": \"scattercarpet\"}], \"scattergeo\": [{\"marker\": {\"colorbar\": {\"outlinewidth\": 0, \"ticks\": \"\"}}, \"type\": \"scattergeo\"}], \"scattergl\": [{\"marker\": {\"colorbar\": {\"outlinewidth\": 0, \"ticks\": \"\"}}, \"type\": \"scattergl\"}], \"scattermapbox\": [{\"marker\": {\"colorbar\": {\"outlinewidth\": 0, \"ticks\": \"\"}}, \"type\": \"scattermapbox\"}], \"scatterpolar\": [{\"marker\": {\"colorbar\": {\"outlinewidth\": 0, \"ticks\": \"\"}}, \"type\": \"scatterpolar\"}], \"scatterpolargl\": [{\"marker\": {\"colorbar\": {\"outlinewidth\": 0, \"ticks\": \"\"}}, \"type\": \"scatterpolargl\"}], \"scatterternary\": [{\"marker\": {\"colorbar\": {\"outlinewidth\": 0, \"ticks\": \"\"}}, \"type\": \"scatterternary\"}], \"surface\": [{\"colorbar\": {\"outlinewidth\": 0, \"ticks\": \"\"}, \"colorscale\": [[0.0, \"#0d0887\"], [0.1111111111111111, \"#46039f\"], [0.2222222222222222, \"#7201a8\"], [0.3333333333333333, \"#9c179e\"], [0.4444444444444444, \"#bd3786\"], [0.5555555555555556, \"#d8576b\"], [0.6666666666666666, \"#ed7953\"], [0.7777777777777778, \"#fb9f3a\"], [0.8888888888888888, \"#fdca26\"], [1.0, \"#f0f921\"]], \"type\": \"surface\"}], \"table\": [{\"cells\": {\"fill\": {\"color\": \"#EBF0F8\"}, \"line\": {\"color\": \"white\"}}, \"header\": {\"fill\": {\"color\": \"#C8D4E3\"}, \"line\": {\"color\": \"white\"}}, \"type\": \"table\"}]}, \"layout\": {\"annotationdefaults\": {\"arrowcolor\": \"#2a3f5f\", \"arrowhead\": 0, \"arrowwidth\": 1}, \"colorscale\": {\"diverging\": [[0, \"#8e0152\"], [0.1, \"#c51b7d\"], [0.2, \"#de77ae\"], [0.3, \"#f1b6da\"], [0.4, \"#fde0ef\"], [0.5, \"#f7f7f7\"], [0.6, \"#e6f5d0\"], [0.7, \"#b8e186\"], [0.8, \"#7fbc41\"], [0.9, \"#4d9221\"], [1, \"#276419\"]], \"sequential\": [[0.0, \"#0d0887\"], [0.1111111111111111, \"#46039f\"], [0.2222222222222222, \"#7201a8\"], [0.3333333333333333, \"#9c179e\"], [0.4444444444444444, \"#bd3786\"], [0.5555555555555556, \"#d8576b\"], [0.6666666666666666, \"#ed7953\"], [0.7777777777777778, \"#fb9f3a\"], [0.8888888888888888, \"#fdca26\"], [1.0, \"#f0f921\"]], \"sequentialminus\": [[0.0, \"#0d0887\"], [0.1111111111111111, \"#46039f\"], [0.2222222222222222, \"#7201a8\"], [0.3333333333333333, \"#9c179e\"], [0.4444444444444444, \"#bd3786\"], [0.5555555555555556, \"#d8576b\"], [0.6666666666666666, \"#ed7953\"], [0.7777777777777778, \"#fb9f3a\"], [0.8888888888888888, \"#fdca26\"], [1.0, \"#f0f921\"]]}, \"colorway\": [\"#636efa\", \"#EF553B\", \"#00cc96\", \"#ab63fa\", \"#FFA15A\", \"#19d3f3\", \"#FF6692\", \"#B6E880\", \"#FF97FF\", \"#FECB52\"], \"font\": {\"color\": \"#2a3f5f\"}, \"geo\": {\"bgcolor\": \"white\", \"lakecolor\": \"white\", \"landcolor\": \"#E5ECF6\", \"showlakes\": true, \"showland\": true, \"subunitcolor\": \"white\"}, \"hoverlabel\": {\"align\": \"left\"}, \"hovermode\": \"closest\", \"mapbox\": {\"style\": \"light\"}, \"paper_bgcolor\": \"white\", \"plot_bgcolor\": \"#E5ECF6\", \"polar\": {\"angularaxis\": {\"gridcolor\": \"white\", \"linecolor\": \"white\", \"ticks\": \"\"}, \"bgcolor\": \"#E5ECF6\", \"radialaxis\": {\"gridcolor\": \"white\", \"linecolor\": \"white\", \"ticks\": \"\"}}, \"scene\": {\"xaxis\": {\"backgroundcolor\": \"#E5ECF6\", \"gridcolor\": \"white\", \"gridwidth\": 2, \"linecolor\": \"white\", \"showbackground\": true, \"ticks\": \"\", \"zerolinecolor\": \"white\"}, \"yaxis\": {\"backgroundcolor\": \"#E5ECF6\", \"gridcolor\": \"white\", \"gridwidth\": 2, \"linecolor\": \"white\", \"showbackground\": true, \"ticks\": \"\", \"zerolinecolor\": \"white\"}, \"zaxis\": {\"backgroundcolor\": \"#E5ECF6\", \"gridcolor\": \"white\", \"gridwidth\": 2, \"linecolor\": \"white\", \"showbackground\": true, \"ticks\": \"\", \"zerolinecolor\": \"white\"}}, \"shapedefaults\": {\"line\": {\"color\": \"#2a3f5f\"}}, \"ternary\": {\"aaxis\": {\"gridcolor\": \"white\", \"linecolor\": \"white\", \"ticks\": \"\"}, \"baxis\": {\"gridcolor\": \"white\", \"linecolor\": \"white\", \"ticks\": \"\"}, \"bgcolor\": \"#E5ECF6\", \"caxis\": {\"gridcolor\": \"white\", \"linecolor\": \"white\", \"ticks\": \"\"}}, \"title\": {\"x\": 0.05}, \"xaxis\": {\"automargin\": true, \"gridcolor\": \"white\", \"linecolor\": \"white\", \"ticks\": \"\", \"zerolinecolor\": \"white\", \"zerolinewidth\": 2}, \"yaxis\": {\"automargin\": true, \"gridcolor\": \"white\", \"linecolor\": \"white\", \"ticks\": \"\", \"zerolinecolor\": \"white\", \"zerolinewidth\": 2}}}, \"title\": {\"text\": \"Trinomial Tree Error vs Number of Time Steps\"}, \"xaxis\": {\"title\": {\"text\": \"Time Steps\"}}, \"yaxis\": {\"title\": {\"text\": \"Error (%)\"}}},\n",
       "                        {\"responsive\": true}\n",
       "                    ).then(function(){\n",
       "                            \n",
       "var gd = document.getElementById('a4a6756e-7dfd-4098-ab94-d6f416134fda');\n",
       "var x = new MutationObserver(function (mutations, observer) {{\n",
       "        var display = window.getComputedStyle(gd).display;\n",
       "        if (!display || display === 'none') {{\n",
       "            console.log([gd, 'removed!']);\n",
       "            Plotly.purge(gd);\n",
       "            observer.disconnect();\n",
       "        }}\n",
       "}});\n",
       "\n",
       "// Listen for the removal of the full notebook cells\n",
       "var notebookContainer = gd.closest('#notebook-container');\n",
       "if (notebookContainer) {{\n",
       "    x.observe(notebookContainer, {childList: true});\n",
       "}}\n",
       "\n",
       "// Listen for the clearing of the current output cell\n",
       "var outputEl = gd.closest('.output');\n",
       "if (outputEl) {{\n",
       "    x.observe(outputEl, {childList: true});\n",
       "}}\n",
       "\n",
       "                        })\n",
       "                };\n",
       "                });\n",
       "            </script>\n",
       "        </div>"
      ]
     },
     "metadata": {},
     "output_type": "display_data"
    }
   ],
   "source": [
    "trace0 = go.Scatter(\n",
    "    x = TriTree_df.index, y = 100*abs(TriTree_df['TTree_Put_Euro'] - TriTree_df['BS_Put'])/TriTree_df['BS_Put']\n",
    ")\n",
    "data = [trace0]\n",
    "layout = go.Layout(\n",
    "    title = 'Trinomial Tree Error vs Number of Time Steps', yaxis = dict(title = 'Error (%)'), \n",
    "        xaxis = dict(title = 'Time Steps'))\n",
    "fig = go.Figure(data=data, layout=layout)\n",
    "plotly.offline.iplot(fig)"
   ]
  },
  {
   "cell_type": "markdown",
   "metadata": {},
   "source": [
    "With an n greater than 30 the error falls below 1% so the Trinomial Tree calculated price is within 1% of the Black-Scholes price, and as n reaches 400 that error falls to less than 10bps of the Black-Scholes price. The shape of the curve is very similar to the error curve of the binary tree for the AMZN European Puts with convergence at similar points."
   ]
  },
  {
   "cell_type": "code",
   "execution_count": 110,
   "metadata": {},
   "outputs": [],
   "source": [
    "def up_and_out(S, K, T, r, sig, N, H, opt_type='c', am=False):\n",
    "    if opt_type == 'c': #c is multiplied by payout s - k so that it is negated to k - s for puts\n",
    "        c = 1\n",
    "    else:\n",
    "        c = -1\n",
    "    dt = T/N\n",
    "    v = r-.5*sig**2\n",
    "    u = np.sqrt((v*dt)**2 + dt*sig**2)\n",
    "    d = -u\n",
    "    pu = .5+.5*(v*dt)/u\n",
    "    pd = 1-pu\n",
    "    disc = np.exp(-r*dt)\n",
    "    \n",
    "    #initialize stock and option paths\n",
    "    stock_price = np.zeros((N+1,N+1))\n",
    "    opt_val = np.zeros((N+1,N+1))\n",
    "    \n",
    "    #set stock price to S at time 0\n",
    "    stock_price[0,0] = S\n",
    "    \n",
    "    #stock price generation, first initialize down paths\n",
    "    for i in range(1,N+1):\n",
    "        stock_price[i,0] = stock_price[i-1,0]*np.exp(d)\n",
    "        # for each down path assign up paths\n",
    "        for j in range(1,i+1):\n",
    "            stock_price[i,j] = stock_price[i-1,j-1]*np.exp(u)\n",
    "    \n",
    "    #terminal option values derived from final stock prices in each path\n",
    "    #option value is 0 if the stock price is greater than the boundary\n",
    "    for n in range(0,N):\n",
    "        if stock_price[N,n] > H:\n",
    "            opt_val[N,n] = 0\n",
    "        else:\n",
    "            opt_val[N,n] = np.maximum(0,c*(stock_price[N,n]-K))\n",
    "    #Recursion For Option Price\n",
    "    #similar to stock paths but working backwards to calculate option values until time 0 is reached\n",
    "    for i in range(N-1,-1,-1):\n",
    "        for j in range(i+1):\n",
    "            if stock_price[i,j] < H: #again checking if the stock price is above the boundary\n",
    "                if am: #adding exercise optionality for american options\n",
    "                    opt_val[i,j] = max(opt_val[i,j],\n",
    "                                       c*(stock_price[i,j]-K))\n",
    "                else:\n",
    "                    opt_val[i,j] = disc*(pu*opt_val[i+1,j+1]+\n",
    "                                         pd*opt_val[i+1,j])\n",
    "            else:\n",
    "                opt_val[i,j] = 0\n",
    "    return opt_val[0,0]"
   ]
  },
  {
   "cell_type": "code",
   "execution_count": 70,
   "metadata": {},
   "outputs": [
    {
     "data": {
      "text/plain": [
       "'Price of European Up and Out Call option with S = 10, K = 10, Tau = .3, r = 0.01, sigma = 0.2, H = 11, and 200 time steps: $0.06262'"
      ]
     },
     "execution_count": 70,
     "metadata": {},
     "output_type": "execute_result"
    }
   ],
   "source": [
    "'Price of European Up and Out Call option with S = 10, K = 10, Tau = .3, r = 0.01, sigma = 0.2, H = 11, and 200 time steps: ${}'.format(round(up_and_out(10,10,.3,.01,.2,200,11),5))"
   ]
  },
  {
   "cell_type": "code",
   "execution_count": 75,
   "metadata": {},
   "outputs": [],
   "source": [
    "def d(S, K, r, T, sigma, q=0):\n",
    "    v = r - q - .5*sigma**2\n",
    "    return (np.log(S/K) + v*T)/(sigma*np.sqrt(T))\n",
    "def UOanalytical(S, K, r, T, sig, H, q=0):\n",
    "    disc = np.exp(-r*T)\n",
    "    BS_SK = BSM(S,K,T,r,sig)\n",
    "    BS_SH = BSM(S,H,T,r,sig)\n",
    "    dBS1 = d(S,H,r,T,sig)\n",
    "    v = r - q - .5*sigma**2\n",
    "    BS_3 = BSM((H**2)/S,K,T,r,sig)\n",
    "    BS_4 = BSM((H**2)/S,H,T,r,sig)\n",
    "    dBS2 = d(H,S,r,T,sig)\n",
    "    N = lambda x: sp.norm.cdf(x)\n",
    "    UO = BS_SK - BS_SH - (H-K)*disc*N(dBS1) - ((H/S)**(2*v/(sig**2)))*(BS_3 - BS_4 - (H-K)*disc*N(dBS2))\n",
    "    return UO"
   ]
  },
  {
   "cell_type": "code",
   "execution_count": 78,
   "metadata": {},
   "outputs": [
    {
     "data": {
      "text/plain": [
       "'Binomial Tree Approximation: $0.06262, Analytical Solution: $0.05309'"
      ]
     },
     "execution_count": 78,
     "metadata": {},
     "output_type": "execute_result"
    }
   ],
   "source": [
    "s = 10\n",
    "k = 10\n",
    "tau = .3\n",
    "r = .01\n",
    "sigma = .2\n",
    "h = 11\n",
    "'Binomial Tree Approximation (N=200): ${}, Analytical Solution: ${}'.format(round(up_and_out(10,10,.3,.01,.2,200,11),5), round(UOanalytical(s,k,r,tau,sigma,h), 5))"
   ]
  },
  {
   "cell_type": "code",
   "execution_count": 80,
   "metadata": {},
   "outputs": [
    {
     "data": {
      "text/plain": [
       "'Binomial Tree Approximation (N=1000): $0.05578, N=2000: $0.05344'"
      ]
     },
     "execution_count": 80,
     "metadata": {},
     "output_type": "execute_result"
    }
   ],
   "source": [
    "'Binomial Tree Approximation (N=1000): ${}, N=2000: ${}'.format(round(up_and_out(10,10,.3,.01,.2,1000,11),5), round(up_and_out(10,10,.3,.01,.2,2000,11),5))"
   ]
  },
  {
   "cell_type": "markdown",
   "metadata": {},
   "source": [
    "The approximation is consistent with the analytical; however a larger number of time steps is required for precision with the approximation using 200 steps as I have throughout this assignment is relatively inaccurate. Using N=1000 and N=2000 yields solutions that are much closer to the analytical price with the 2000 step approximation being within 1% of the analytical solution with a deviation of only $0.000352 or a few hundreths of one cent."
   ]
  },
  {
   "cell_type": "code",
   "execution_count": 89,
   "metadata": {},
   "outputs": [],
   "source": [
    "def UIanalytical(S, K, r, T, sig, H, q=0):\n",
    "    v = r - q - .5*sigma**2\n",
    "    P1 = BSM((H**2)/S,K,T,r,sig,'p',q)\n",
    "    P2 = BSM((H**2)/S,H,T,r,sig,'p',q)\n",
    "    N = lambda x: sp.norm.cdf(x)\n",
    "    disc = np.exp(-r*T)\n",
    "    dBS1 = d(H,S,r,T,sig)\n",
    "    C1 = BSM(S,H,T,r,sig,'c',q)\n",
    "    dBS2 = d(S,H,r,T,sig)\n",
    "    UI = (H/S)**(2*v/(sig**2))*(P1 - P2 + (H-K)*disc*N(-dBS1)) + C1 + (H-K)*disc*N(dBS2)\n",
    "    return UI"
   ]
  },
  {
   "cell_type": "code",
   "execution_count": 102,
   "metadata": {},
   "outputs": [
    {
     "data": {
      "text/plain": [
       "'The analytically calculated price for the European Up and Out Call option is $0.39819, and the price via the In-Out Parity is $0.39819'"
      ]
     },
     "execution_count": 102,
     "metadata": {},
     "output_type": "execute_result"
    }
   ],
   "source": [
    "UI = BSM(s,k,tau,r,sigma) - UOanalytical(s,k,r,tau,sigma,h)\n",
    "'The analytically calculated price for the European Up and Out Call option is ${}, and the price via the In-Out Parity is ${}'.format(round(UIanalytical(s,k,r,tau,sigma,h),5),round(UI,5) )"
   ]
  },
  {
   "cell_type": "code",
   "execution_count": 120,
   "metadata": {},
   "outputs": [
    {
     "data": {
      "text/plain": [
       "'American Up In Put: $0.42314'"
      ]
     },
     "execution_count": 120,
     "metadata": {},
     "output_type": "execute_result"
    }
   ],
   "source": [
    "am_up_out_put = up_and_out(s,k,tau,r,sigma,2000,h, opt_type='p', am=True)\n",
    "am_put = binomial_tree(s,k,tau,r,sigma,N=2000,opt_type='p',am=True)\n",
    "'American Up In Put: ${}'.format(round(am_put - am_up_out_put,5))"
   ]
  },
  {
   "cell_type": "code",
   "execution_count": null,
   "metadata": {},
   "outputs": [],
   "source": []
  }
 ],
 "metadata": {
  "kernelspec": {
   "display_name": "Python 3",
   "language": "python",
   "name": "python3"
  },
  "language_info": {
   "codemirror_mode": {
    "name": "ipython",
    "version": 3
   },
   "file_extension": ".py",
   "mimetype": "text/x-python",
   "name": "python",
   "nbconvert_exporter": "python",
   "pygments_lexer": "ipython3",
   "version": "3.7.3"
  }
 },
 "nbformat": 4,
 "nbformat_minor": 2
}
