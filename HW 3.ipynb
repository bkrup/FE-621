{
 "cells": [
  {
   "cell_type": "code",
   "execution_count": 61,
   "metadata": {},
   "outputs": [
    {
     "data": {
      "text/html": [
       "        <script type=\"text/javascript\">\n",
       "        window.PlotlyConfig = {MathJaxConfig: 'local'};\n",
       "        if (window.MathJax) {MathJax.Hub.Config({SVG: {font: \"STIX-Web\"}});}\n",
       "        if (typeof require !== 'undefined') {\n",
       "        require.undef(\"plotly\");\n",
       "        requirejs.config({\n",
       "            paths: {\n",
       "                'plotly': ['https://cdn.plot.ly/plotly-latest.min']\n",
       "            }\n",
       "        });\n",
       "        require(['plotly'], function(Plotly) {\n",
       "            window._Plotly = Plotly;\n",
       "        });\n",
       "        }\n",
       "        </script>\n",
       "        "
      ]
     },
     "metadata": {},
     "output_type": "display_data"
    }
   ],
   "source": [
    "import numpy as np\n",
    "import pandas as pd\n",
    "import math\n",
    "import scipy.stats as sp\n",
    "import plotly\n",
    "from plotly import graph_objs as go\n",
    "plotly.offline.init_notebook_mode(connected = True)"
   ]
  },
  {
   "cell_type": "markdown",
   "metadata": {},
   "source": [
    "# Finite Difference Methods"
   ]
  },
  {
   "cell_type": "markdown",
   "metadata": {},
   "source": [
    "## Explicit Finite Difference Method (a)"
   ]
  },
  {
   "cell_type": "code",
   "execution_count": 4,
   "metadata": {},
   "outputs": [],
   "source": [
    "def explicit_FD(S,K,T,r,sig,dx=0,q=0,opt_type='c',N=50,Nj=50):\n",
    "    if opt_type == 'c':\n",
    "        c = 1 \n",
    "    else:\n",
    "        c = -1 \n",
    "    dt = T/N\n",
    "    if dx == 0:\n",
    "        dx = sig*np.sqrt(3*dt)\n",
    "    nu = r-q-.5*sig**2\n",
    "    pu = .5*dt*((sig/dx)**2+(nu/dx))\n",
    "    pm = 1-dt*(sig/dx)**2 - r*dt\n",
    "    pd = .5*dt*((sig/dx)**2-(nu/dx))\n",
    "    \n",
    "    #asset values at maturity -Nj*dx to Nj*dx\n",
    "    stock = np.zeros(2*Nj+1)\n",
    "    stock[0] = S*np.exp(-Nj*dx)\n",
    "    for i in range(1,2*Nj+1):\n",
    "        stock[i]=stock[i-1]*np.exp(dx)\n",
    "    \n",
    "    #option Values at maturity\n",
    "    option = np.zeros((N+1,2*Nj+1))\n",
    "    for i in range(0,2*Nj+1):\n",
    "        option[N,i] = max(0,c*(stock[i]-K))\n",
    "\n",
    "    #step back to calculate each u(i,j) using u(i+1,j+1), u(i+1,j), u(i+1,j-1)\n",
    "    for i in range(N-1,-1,-1):\n",
    "        for j in range(1,2*Nj):\n",
    "            option[i,j]=pu*option[i+1,j+1]+pm*option[i+1,j]+pd*option[i+1,j-1]\n",
    "        #Boundary Conditions\n",
    "        if opt_type == 'c':\n",
    "            # S = 0\n",
    "            option[i,0] = option[i,1]\n",
    "            # S = inf\n",
    "            option[i,2*Nj] = option[i,2*Nj-1]+(stock[2*Nj]-stock[2*Nj-1])\n",
    "        else:\n",
    "            # S = 0\n",
    "            option[i,0]=option[i,1] + (stock[1]-stock[0])\n",
    "            # S = inf\n",
    "            option[i,2*Nj]=option[i,2*Nj-1]\n",
    "\n",
    "    return option[0,Nj]"
   ]
  },
  {
   "cell_type": "markdown",
   "metadata": {},
   "source": [
    "#### Explicit Finite Difference European Call"
   ]
  },
  {
   "cell_type": "code",
   "execution_count": 213,
   "metadata": {},
   "outputs": [
    {
     "data": {
      "text/plain": [
       "10.993214983722249"
      ]
     },
     "execution_count": 213,
     "metadata": {},
     "output_type": "execute_result"
    }
   ],
   "source": [
    "S = 100\n",
    "K = 100\n",
    "T = 1\n",
    "sig = .25\n",
    "r = .06\n",
    "q = .03\n",
    "explicit_FD(S,K,T,r,sig,q=q,opt_type='c',N=100,Nj=100)"
   ]
  },
  {
   "cell_type": "markdown",
   "metadata": {},
   "source": [
    "#### Explicit Finite Difference European Put"
   ]
  },
  {
   "cell_type": "code",
   "execution_count": 6,
   "metadata": {},
   "outputs": [
    {
     "data": {
      "text/plain": [
       "8.123419836666503"
      ]
     },
     "execution_count": 6,
     "metadata": {},
     "output_type": "execute_result"
    }
   ],
   "source": [
    "explicit_FD(S,K,T,r,sig,q=q,opt_type='p',N=100,Nj=100)"
   ]
  },
  {
   "cell_type": "markdown",
   "metadata": {},
   "source": [
    "## Implicit Finite Difference Method (b)"
   ]
  },
  {
   "cell_type": "code",
   "execution_count": 214,
   "metadata": {},
   "outputs": [],
   "source": [
    "def solve_imp_tridiag(M,A,B,C,lL,lU,Nj):\n",
    "    #substitute boundary conditions\n",
    "    pmp = np.zeros(2*Nj)\n",
    "    pp = np.zeros(2*Nj)\n",
    "    pmp[1] = B+C\n",
    "    pp[1] = M[0,1] + C*lL\n",
    "    \n",
    "    #eliminate upper diagonal\n",
    "    for j in range(2,2*Nj):\n",
    "        pmp[j] = B - A*C/pmp[j-1]\n",
    "        pp[j] = M[0,j] - pp[j-1]*C/pmp[j-1]\n",
    "\n",
    "    #use boundary condition @ j = Nj and equation @ j = Nj-1\n",
    "    M[1,2*Nj] = (pp[2*Nj-1] + pmp[2*Nj-1]*lU)/(A + pmp[2*Nj-1])\n",
    "    M[1,2*Nj-1] = M[1,2*Nj] - lU\n",
    "\n",
    "    #back substitution\n",
    "    for j in range(2*Nj-2,-1,-1):\n",
    "        M[1,j] = (pp[j] - A*M[1,j+1])/pmp[j]\n",
    "    \n",
    "    M[1,0] = M[1,1]-lL\n",
    "\n",
    "    return M\n",
    "\n",
    "#Implicit Finite Difference function\n",
    "def implicit_FD(S,K,T,r,sig,dx=0,q=0,opt_type='c',N=50,Nj=50):\n",
    "    if opt_type == 'c':\n",
    "        c = 1 \n",
    "    else:\n",
    "        c = -1\n",
    "    dt = T/N\n",
    "    if dx == 0:\n",
    "        dx = sig*np.sqrt(3*dt)\n",
    "    nu = r-q-.5*sig**2\n",
    "    A = -.5*dt*((sig/dx)**2+(nu/dx))\n",
    "    B = 1+dt*(sig/dx)**2 + r*dt\n",
    "    C = -.5*dt*((sig/dx)**2-(nu/dx))\n",
    "    \n",
    "    #asset values at maturity\n",
    "    stock = np.zeros(2*Nj+1)\n",
    "    stock[0] = S*np.exp(-Nj*dx)\n",
    "    for i in range(1,2*Nj+1):\n",
    "        stock[i]=stock[i-1]*np.exp(dx)\n",
    "    \n",
    "    #option Values at maturity\n",
    "    option = np.zeros((2,2*N+1))\n",
    "    for j in range(0,2*Nj+1):\n",
    "        option[0,j] = max(0,c*(stock[j]-K))\n",
    "    \n",
    "    #boundary conditions\n",
    "    if opt_type == 'c':\n",
    "        lambdaU = stock[2*Nj] - stock[2*Nj - 1]\n",
    "        lambdaL = 0\n",
    "    else:\n",
    "        lambdaU = 0\n",
    "        lambdaL = -1*(stock[1]-stock[0])\n",
    "\n",
    "    #step back by solving the tridiagonal matrix\n",
    "    for i in range(N-1,-1,-1):\n",
    "        option = solve_imp_tridiag(option,A,B,C,lambdaL,\n",
    "                                   lambdaU,Nj)\n",
    "        option[0,:] = option[1,:]\n",
    "    return option[0,Nj]"
   ]
  },
  {
   "cell_type": "markdown",
   "metadata": {},
   "source": [
    "#### Implicit Finite Difference European Call"
   ]
  },
  {
   "cell_type": "code",
   "execution_count": 215,
   "metadata": {},
   "outputs": [
    {
     "name": "stderr",
     "output_type": "stream",
     "text": [
      "/Users/Brendon/anaconda3/lib/python3.7/site-packages/ipykernel_launcher.py:19: RuntimeWarning:\n",
      "\n",
      "divide by zero encountered in double_scalars\n",
      "\n"
     ]
    },
    {
     "data": {
      "text/plain": [
       "10.964014174587897"
      ]
     },
     "execution_count": 215,
     "metadata": {},
     "output_type": "execute_result"
    }
   ],
   "source": [
    "implicit_FD(S,K,T,r,sig,q=q,opt_type='c',N=100,Nj=100)"
   ]
  },
  {
   "cell_type": "markdown",
   "metadata": {},
   "source": [
    "#### Implicit Finite Difference European Put"
   ]
  },
  {
   "cell_type": "code",
   "execution_count": 4,
   "metadata": {},
   "outputs": [
    {
     "name": "stdout",
     "output_type": "stream",
     "text": [
      "0\n",
      "1\n",
      "2\n",
      "3\n",
      "4\n"
     ]
    }
   ],
   "source": [
    "def reverse_words_order_and_swap_cases(sentence):\n",
    "    ans = \"\"\n",
    "    j = 0\n",
    "    temp = \"\"\n",
    "    for i in range(len(sentence)):\n",
    "        if sentence[i] == \" \":\n",
    "            ans = temp + ans\n",
    "            temp = \"\"\n",
    "        elif sentence[i].islower():\n",
    "            temp = temp + sentence[i].upper()\n",
    "        else:\n",
    "            temp = temp + sentence[i].lower()\n",
    "        return temp + ans\n",
    "\n"
   ]
  },
  {
   "cell_type": "code",
   "execution_count": 9,
   "metadata": {},
   "outputs": [
    {
     "data": {
      "text/plain": [
       "8.123419836666503"
      ]
     },
     "execution_count": 9,
     "metadata": {},
     "output_type": "execute_result"
    }
   ],
   "source": [
    "explicit_FD(S,K,T,r,sig,q=q,opt_type='p',N=100,Nj=100)"
   ]
  },
  {
   "cell_type": "markdown",
   "metadata": {},
   "source": [
    "## Crank-Nicolson Finite Difference Method (c)"
   ]
  },
  {
   "cell_type": "code",
   "execution_count": 39,
   "metadata": {},
   "outputs": [],
   "source": [
    "def solve_imp_CN(M,A,B,C,lL,lU,Nj):\n",
    "    #substitute boundary conditions\n",
    "    pmp = np.zeros(2*Nj)\n",
    "    pp = np.zeros(2*Nj)\n",
    "    pmp[1] = B+C\n",
    "    pp[1] = -A*M[0,2]-(B-2)*M[0,1]-C*M[0,0] + C*lL\n",
    "    \n",
    "    #eliminate upper diagonal\n",
    "    for j in range(2,2*Nj):\n",
    "        pmp[j] = B - A*C/pmp[j-1]\n",
    "        pp[j] = -A*M[0,j+1]-(B-2)*M[0,j]-C*M[0,j-1]-pp[j-1]*C/pmp[j-1]\n",
    "    \n",
    "    #use boundary condition @ j = Nj and equation @ j = Nj-1\n",
    "    M[1,2*Nj] = (pp[2*Nj-1] + pmp[2*Nj-1]*lU)/(A + pmp[2*Nj-1])\n",
    "    M[1,2*Nj-1] = M[1,2*Nj] - lU\n",
    "    \n",
    "    #back substitution\n",
    "    for j in range(2*Nj-2,-1,-1):\n",
    "        M[1,j] = (pp[j] - A*M[1,j+1])/pmp[j]\n",
    "\n",
    "    M[1,0] = M[1,1]-lL\n",
    "\n",
    "    return M\n",
    "    \n",
    "def cn_FD(S,K,T,r,sig,dx=0,q=0,opt_type='c',N=50,Nj=50):\n",
    "    if opt_type == 'c':\n",
    "        c = 1 \n",
    "    else:\n",
    "        c = -1\n",
    "    dt = T/N\n",
    "    if dx == 0:\n",
    "        dx = sig*np.sqrt(3*dt)\n",
    "    nu = r-q-.5*sig**2\n",
    "    A = -.25*dt*((sig/dx)**2+(nu/dx))\n",
    "    B = 1+.5*dt*(sig/dx)**2 + .5*r*dt\n",
    "    C = -.25*dt*((sig/dx)**2-(nu/dx))\n",
    "    \n",
    "    #asset values at maturity\n",
    "    stock = np.zeros(2*Nj+1)\n",
    "    stock[0] = S*np.exp(-Nj*dx)\n",
    "    for i in range(1,2*Nj+1):\n",
    "        stock[i]=stock[i-1]*np.exp(dx)\n",
    "        \n",
    "    #option values at maturity\n",
    "    option = np.zeros((2,2*N+1))\n",
    "    for j in range(0,2*Nj+1):\n",
    "        option[0,j] = max(0,c*(stock[j]-K))\n",
    "    \n",
    "    #boundary conditions\n",
    "    if opt_type == 'c':\n",
    "        lambdaU = stock[2*Nj] - stock[2*Nj -1]\n",
    "        lambdaL = 0\n",
    "    else:\n",
    "        lambdaU = 0\n",
    "        lambdaL = -1*(stock[1]-stock[0])\n",
    "    \n",
    "    #step back thru lattice\n",
    "    for i in range(N-1,-1,-1):\n",
    "        option = solve_imp_CN(option,A,B,C,lambdaL,lambdaU,Nj)\n",
    "        option[0,:] = option[1,:]\n",
    "            \n",
    "    return option[0,Nj]"
   ]
  },
  {
   "cell_type": "markdown",
   "metadata": {},
   "source": [
    "#### Crank-Nicolson Finite Difference European Call"
   ]
  },
  {
   "cell_type": "code",
   "execution_count": 11,
   "metadata": {},
   "outputs": [
    {
     "name": "stderr",
     "output_type": "stream",
     "text": [
      "/Users/Brendon/anaconda3/lib/python3.7/site-packages/ipykernel_launcher.py:19: RuntimeWarning: divide by zero encountered in double_scalars\n"
     ]
    },
    {
     "data": {
      "text/plain": [
       "10.978637958258984"
      ]
     },
     "execution_count": 11,
     "metadata": {},
     "output_type": "execute_result"
    }
   ],
   "source": [
    "cn_FD(S,K,T,r,sig,q=q,opt_type='c',N=100,Nj=100)"
   ]
  },
  {
   "cell_type": "markdown",
   "metadata": {},
   "source": [
    "#### Crank-Nicolson Finite Difference European Put"
   ]
  },
  {
   "cell_type": "code",
   "execution_count": 12,
   "metadata": {},
   "outputs": [
    {
     "name": "stderr",
     "output_type": "stream",
     "text": [
      "/Users/Brendon/anaconda3/lib/python3.7/site-packages/ipykernel_launcher.py:19: RuntimeWarning: divide by zero encountered in double_scalars\n"
     ]
    },
    {
     "data": {
      "text/plain": [
       "8.110101844769272"
      ]
     },
     "execution_count": 12,
     "metadata": {},
     "output_type": "execute_result"
    }
   ],
   "source": [
    "cn_FD(S,K,T,r,sig,q=q,opt_type='p',N=100,Nj=100)"
   ]
  },
  {
   "cell_type": "markdown",
   "metadata": {},
   "source": [
    "## Estimating Parameters for ε = 0.001 (d)\n",
    "\n",
    "For both the Explicit and Implicit Finite Difference schemes estimate the numbers ∆t, ∆x, and the total number Nj of points on the space gridxneeded to obtain a desired error of ε= 0.001.\n",
    "\n",
    "Order of convergence for both schemes is O(dx^2 + dt)\n",
    "\n",
    "Assuming the error is equal to the order of convergence we have ε = dx^2 + dt = 0.001\n",
    "\n",
    "Using σ = 25% and T = 1 year from the parameters for the next question and the optimal convergence condition for Explicit of dx = σ*sqrt(3*dt), we have:\n",
    "\n",
    "ε = (σ*sqrt(3*dt))^2 + dt = 3*dt*σ^2 + dt = dt*(3*σ^2 + 1)"
   ]
  },
  {
   "cell_type": "markdown",
   "metadata": {},
   "source": [
    "Solving for dt we have:\n",
    "dt = ε/(3*σ^2 + 1) = 0.001/(3*.25^2 + 1) = 0.000842"
   ]
  },
  {
   "cell_type": "code",
   "execution_count": 18,
   "metadata": {},
   "outputs": [
    {
     "data": {
      "text/plain": [
       "0.0008421052631578948"
      ]
     },
     "execution_count": 18,
     "metadata": {},
     "output_type": "execute_result"
    }
   ],
   "source": [
    "# dt\n",
    "dt = 0.001/(3*.25**2 + 1)\n",
    "dt"
   ]
  },
  {
   "cell_type": "markdown",
   "metadata": {},
   "source": [
    "Solving for dx:\n",
    "ε = dx^2 + dt => dx = sqrt(ε - dt) = sqrt(0.001 - 0.000842) = 0.012565"
   ]
  },
  {
   "cell_type": "code",
   "execution_count": 22,
   "metadata": {},
   "outputs": [
    {
     "data": {
      "text/plain": [
       "0.012565617248750865"
      ]
     },
     "execution_count": 22,
     "metadata": {},
     "output_type": "execute_result"
    }
   ],
   "source": [
    "# dx\n",
    "dx = np.sqrt(.001-dt)\n",
    "dx"
   ]
  },
  {
   "cell_type": "markdown",
   "metadata": {},
   "source": [
    "Solving for n:\n",
    "dt = T/n => n = T/dt = 1/0.000842 = 1188"
   ]
  },
  {
   "cell_type": "code",
   "execution_count": 36,
   "metadata": {},
   "outputs": [
    {
     "data": {
      "text/plain": [
       "1188"
      ]
     },
     "execution_count": 36,
     "metadata": {},
     "output_type": "execute_result"
    }
   ],
   "source": [
    "# n\n",
    "n = math.ceil(T/dt)\n",
    "n"
   ]
  },
  {
   "cell_type": "markdown",
   "metadata": {},
   "source": [
    "Taking altnerate formulation of n: \n",
    "n = 3*((2*Nj + 1)/nSD)^2 \n",
    "such that nSD is the number of standard deviations around the mean to consider for the range of the asset value\n",
    "\n",
    "Solving for Nj:\n",
    "Nj = (nSD*sqrt(n/3) - 1)/2\n",
    "\n",
    "Assuming we take nSD = 6 for a range 3 standard deviations on each side of the mean to represent the entire possible range at T:\n",
    "Nj = (6*sqrt(1188/3) - 1)/2 = 60"
   ]
  },
  {
   "cell_type": "code",
   "execution_count": 35,
   "metadata": {},
   "outputs": [
    {
     "data": {
      "text/plain": [
       "60"
      ]
     },
     "execution_count": 35,
     "metadata": {},
     "output_type": "execute_result"
    }
   ],
   "source": [
    "# Nj\n",
    "Nj = math.ceil((6*np.sqrt(1188/3) - 1)/2)\n",
    "Nj"
   ]
  },
  {
   "cell_type": "markdown",
   "metadata": {},
   "source": [
    "## European Calls and Puts For Each Method Using Calculated dt, dx, n, and Nj (e)"
   ]
  },
  {
   "cell_type": "code",
   "execution_count": 99,
   "metadata": {},
   "outputs": [
    {
     "name": "stderr",
     "output_type": "stream",
     "text": [
      "/Users/Brendon/anaconda3/lib/python3.7/site-packages/ipykernel_launcher.py:19: RuntimeWarning:\n",
      "\n",
      "divide by zero encountered in double_scalars\n",
      "\n"
     ]
    },
    {
     "data": {
      "text/html": [
       "<div>\n",
       "<style scoped>\n",
       "    .dataframe tbody tr th:only-of-type {\n",
       "        vertical-align: middle;\n",
       "    }\n",
       "\n",
       "    .dataframe tbody tr th {\n",
       "        vertical-align: top;\n",
       "    }\n",
       "\n",
       "    .dataframe thead th {\n",
       "        text-align: right;\n",
       "    }\n",
       "</style>\n",
       "<table border=\"1\" class=\"dataframe\">\n",
       "  <thead>\n",
       "    <tr style=\"text-align: right;\">\n",
       "      <th></th>\n",
       "      <th>Call</th>\n",
       "      <th>Put</th>\n",
       "    </tr>\n",
       "  </thead>\n",
       "  <tbody>\n",
       "    <tr>\n",
       "      <th>EFD</th>\n",
       "      <td>11.011566</td>\n",
       "      <td>8.143203</td>\n",
       "    </tr>\n",
       "    <tr>\n",
       "      <th>IFD</th>\n",
       "      <td>11.009137</td>\n",
       "      <td>8.140981</td>\n",
       "    </tr>\n",
       "    <tr>\n",
       "      <th>CNFD</th>\n",
       "      <td>11.010352</td>\n",
       "      <td>8.142092</td>\n",
       "    </tr>\n",
       "  </tbody>\n",
       "</table>\n",
       "</div>"
      ],
      "text/plain": [
       "           Call       Put\n",
       "EFD   11.011566  8.143203\n",
       "IFD   11.009137  8.140981\n",
       "CNFD  11.010352  8.142092"
      ]
     },
     "execution_count": 99,
     "metadata": {},
     "output_type": "execute_result"
    }
   ],
   "source": [
    "price_table = pd.DataFrame([[explicit_FD(S,K,T,r,sig,dx=dx,q=q,opt_type='c',N=n,Nj=Nj),\n",
    "  explicit_FD(S,K,T,r,sig,dx=dx,q=q,opt_type='p',N=n,Nj=Nj)],\n",
    "[implicit_FD(S,K,T,r,sig,dx=dx,q=q,opt_type='c',N=n,Nj=Nj),\n",
    "implicit_FD(S,K,T,r,sig,dx=dx,q=q,opt_type='p',N=n,Nj=Nj)],\n",
    "[cn_FD(S,K,T,r,sig,dx=dx,q=q,opt_type='c',N=n,Nj=Nj),\n",
    "cn_FD(S,K,T,r,sig,dx=dx,q=q,opt_type='p',N=n,Nj=Nj)]], columns=['Call','Put'], index=['EFD','IFD','CNFD']\n",
    ")\n",
    "price_table"
   ]
  },
  {
   "cell_type": "markdown",
   "metadata": {},
   "source": [
    "## Empirical Number of Iterations Using Black-Scholes (f)"
   ]
  },
  {
   "cell_type": "code",
   "execution_count": 55,
   "metadata": {},
   "outputs": [],
   "source": [
    "def BSM(S0, K, tau, r, sigma, opt_type='c', q=0):\n",
    "    d1 = (np.log(S0/K)+(r-q+.5*sigma**2)*tau)/(sigma*np.sqrt(tau))\n",
    "    d2 = d1 - sigma*np.sqrt(tau)\n",
    "    N = lambda x: sp.norm.cdf(x)\n",
    "    if opt_type == 'c':\n",
    "        return S0*np.exp(-q*tau)*N(d1) - np.exp(-r*tau)*K*N(d2)\n",
    "    else:\n",
    "        return K*np.exp(-r*tau)*N(-d2) - S0*np.exp(-q*tau)*N(-d1)\n",
    "    \n",
    "def param_calc(f,opt_type,start,f_name,eps=0.001):\n",
    "    Nj = start\n",
    "    n = math.ceil(3*((2*Nj + 1)/6)**2)\n",
    "    dt = T/n\n",
    "    dx = sig*np.sqrt(3*dt)\n",
    "    BS_price = BSM(S,K,T,r,sig,opt_type,q)\n",
    "    price = f(S,K,T,r,sig,dx,q,opt_type,n,Nj)\n",
    "    err = abs(price - BS_price)\n",
    "    while err > eps:\n",
    "        Nj += 1\n",
    "        n = math.ceil(3*((2*Nj + 1)/6)**2)\n",
    "        dt = T/n\n",
    "        dx = sig*np.sqrt(3*dt)\n",
    "        price = f(S,K,T,r,sig,dx,q,opt_type,n,Nj)\n",
    "        err = abs(price - BS_price)\n",
    "    df = pd.DataFrame([[opt_type,BS_price,price,dx,dt,n,Nj]], index = [f_name], \n",
    "                      columns = ['Type', 'BS_Price', 'FD_Price', 'dx', 'dt', 'N', 'Nj'])\n",
    "    return df"
   ]
  },
  {
   "cell_type": "code",
   "execution_count": 60,
   "metadata": {},
   "outputs": [
    {
     "name": "stderr",
     "output_type": "stream",
     "text": [
      "/Users/Brendon/anaconda3/lib/python3.7/site-packages/ipykernel_launcher.py:19: RuntimeWarning: divide by zero encountered in double_scalars\n"
     ]
    },
    {
     "data": {
      "text/html": [
       "<div>\n",
       "<style scoped>\n",
       "    .dataframe tbody tr th:only-of-type {\n",
       "        vertical-align: middle;\n",
       "    }\n",
       "\n",
       "    .dataframe tbody tr th {\n",
       "        vertical-align: top;\n",
       "    }\n",
       "\n",
       "    .dataframe thead th {\n",
       "        text-align: right;\n",
       "    }\n",
       "</style>\n",
       "<table border=\"1\" class=\"dataframe\">\n",
       "  <thead>\n",
       "    <tr style=\"text-align: right;\">\n",
       "      <th></th>\n",
       "      <th>Type</th>\n",
       "      <th>BS_Price</th>\n",
       "      <th>FD_Price</th>\n",
       "      <th>dx</th>\n",
       "      <th>dt</th>\n",
       "      <th>N</th>\n",
       "      <th>Nj</th>\n",
       "    </tr>\n",
       "  </thead>\n",
       "  <tbody>\n",
       "    <tr>\n",
       "      <th>EFD</th>\n",
       "      <td>c</td>\n",
       "      <td>11.013079</td>\n",
       "      <td>11.012095</td>\n",
       "      <td>0.010487</td>\n",
       "      <td>0.000587</td>\n",
       "      <td>1705</td>\n",
       "      <td>71</td>\n",
       "    </tr>\n",
       "    <tr>\n",
       "      <th>EFD</th>\n",
       "      <td>p</td>\n",
       "      <td>8.144979</td>\n",
       "      <td>8.143999</td>\n",
       "      <td>0.009433</td>\n",
       "      <td>0.000475</td>\n",
       "      <td>2107</td>\n",
       "      <td>79</td>\n",
       "    </tr>\n",
       "    <tr>\n",
       "      <th>IFD</th>\n",
       "      <td>c</td>\n",
       "      <td>11.013079</td>\n",
       "      <td>11.012094</td>\n",
       "      <td>0.006666</td>\n",
       "      <td>0.000237</td>\n",
       "      <td>4219</td>\n",
       "      <td>112</td>\n",
       "    </tr>\n",
       "    <tr>\n",
       "      <th>IFD</th>\n",
       "      <td>p</td>\n",
       "      <td>8.144979</td>\n",
       "      <td>8.143995</td>\n",
       "      <td>0.006329</td>\n",
       "      <td>0.000214</td>\n",
       "      <td>4681</td>\n",
       "      <td>118</td>\n",
       "    </tr>\n",
       "    <tr>\n",
       "      <th>CNFD</th>\n",
       "      <td>c</td>\n",
       "      <td>11.013079</td>\n",
       "      <td>11.012100</td>\n",
       "      <td>0.007936</td>\n",
       "      <td>0.000336</td>\n",
       "      <td>2977</td>\n",
       "      <td>94</td>\n",
       "    </tr>\n",
       "    <tr>\n",
       "      <th>CNFD</th>\n",
       "      <td>p</td>\n",
       "      <td>8.144979</td>\n",
       "      <td>8.143988</td>\n",
       "      <td>0.007462</td>\n",
       "      <td>0.000297</td>\n",
       "      <td>3367</td>\n",
       "      <td>100</td>\n",
       "    </tr>\n",
       "  </tbody>\n",
       "</table>\n",
       "</div>"
      ],
      "text/plain": [
       "     Type   BS_Price   FD_Price        dx        dt     N   Nj\n",
       "EFD     c  11.013079  11.012095  0.010487  0.000587  1705   71\n",
       "EFD     p   8.144979   8.143999  0.009433  0.000475  2107   79\n",
       "IFD     c  11.013079  11.012094  0.006666  0.000237  4219  112\n",
       "IFD     p   8.144979   8.143995  0.006329  0.000214  4681  118\n",
       "CNFD    c  11.013079  11.012100  0.007936  0.000336  2977   94\n",
       "CNFD    p   8.144979   8.143988  0.007462  0.000297  3367  100"
      ]
     },
     "execution_count": 60,
     "metadata": {},
     "output_type": "execute_result"
    }
   ],
   "source": [
    "summary_df = pd.DataFrame(columns = ['Type', 'BS_Price', 'FD_Price', 'dx', 'dt', 'N', 'Nj'])\n",
    "for FD_fun in [explicit_FD,implicit_FD,cn_FD]:\n",
    "    if FD_fun == explicit_FD:\n",
    "        f_name = 'EFD'\n",
    "    elif FD_fun == implicit_FD:\n",
    "        f_name = 'IFD'\n",
    "    else:\n",
    "        f_name = 'CNFD'\n",
    "    temp = param_calc(FD_fun,'c',10,f_name)\n",
    "    summary_df = summary_df.append(temp)\n",
    "    temp = param_calc(FD_fun,'p',10,f_name)\n",
    "    summary_df = summary_df.append(temp)\n",
    "    \n",
    "summary_df"
   ]
  },
  {
   "cell_type": "markdown",
   "metadata": {},
   "source": [
    "All methods were able to calculate prices that converged to the Black Scholes price; however the number of steps to convergence varied for each method and in each scenario the put required an extra 6-8 steps for convergence. The explicit method had the quickest convergence followed by the Crank-Nicolson while the implicit was the last too converge requiring the most steps. This is contrary to the widely believed claim that the Crank-Nicolson method should be the most stable of the three methods and the fastest to converge with an order of convergence of \n",
    "O(dx^2 + (dt/2)) compared to O(dx^2 + dt) for the others."
   ]
  },
  {
   "cell_type": "markdown",
   "metadata": {},
   "source": [
    "## Graph of the Implicit Finite Difference Values pu, pm, pd as a Function of σ (g)"
   ]
  },
  {
   "cell_type": "code",
   "execution_count": 81,
   "metadata": {},
   "outputs": [],
   "source": [
    "dt = T/n\n",
    "def f_pu(sig):\n",
    "    dx = sig*np.sqrt(3*dt)\n",
    "    nu = r-q-.5*sig**2\n",
    "    A = -.5*dt*((sig/dx)**2+(nu/dx))\n",
    "    return A\n",
    "def f_pm(sig):\n",
    "    dx = sig*np.sqrt(3*dt)\n",
    "    nu = r-q-.5*sig**2\n",
    "    B = 1+dt*(sig/dx)**2 + r*dt\n",
    "    return B\n",
    "def f_pd(sig):\n",
    "    dx = sig*np.sqrt(3*dt)\n",
    "    nu = r-q-.5*sig**2\n",
    "    C = -.5*dt*((sig/dx)**2-(nu/dx)) \n",
    "    return C\n",
    "\n",
    "As = []\n",
    "Bs = []\n",
    "Cs = []\n",
    "sigs = np.linspace(.05,.6,12)\n",
    "for sig in sigs:\n",
    "    As.append(f_pu(sig))\n",
    "    Bs.append(f_pm(sig))\n",
    "    Cs.append(f_pd(sig))\n",
    "    \n",
    "As = pd.DataFrame(As,index=sigs,columns=['Pu'])\n",
    "Bs = pd.DataFrame(Bs,index=sigs,columns=['Pm'])\n",
    "Cs = pd.DataFrame(Cs,index=sigs,columns=['Pd'])"
   ]
  },
  {
   "cell_type": "code",
   "execution_count": 90,
   "metadata": {},
   "outputs": [
    {
     "data": {
      "application/vnd.plotly.v1+json": {
       "config": {
        "linkText": "Export to plot.ly",
        "plotlyServerURL": "https://plot.ly",
        "showLink": false
       },
       "data": [
        {
         "name": "Pu",
         "type": "scatter",
         "x": [
          0.05,
          0.1,
          0.15,
          0.2,
          0.25,
          0.3,
          0.35,
          0.39999999999999997,
          0.44999999999999996,
          0.49999999999999994,
          0.5499999999999999,
          0.6
         ],
         "y": [
          -0.1714824728647837,
          -0.1687604954484567,
          -0.16771358105756168,
          -0.16708543242302465,
          -0.16662479009103084,
          -0.16624790091030867,
          -0.16591887067317024,
          -0.16561975227577164,
          -0.1653405751048663,
          -0.16507535679250623,
          -0.16482029037727,
          -0.16457283788487662
         ]
        },
        {
         "name": "Pm",
         "type": "scatter",
         "x": [
          0.05,
          0.1,
          0.15,
          0.2,
          0.25,
          0.3,
          0.35,
          0.39999999999999997,
          0.44999999999999996,
          0.49999999999999994,
          0.5499999999999999,
          0.6
         ],
         "y": [
          1.3333838383838383,
          1.3333838383838383,
          1.3333838383838383,
          1.3333838383838383,
          1.3333838383838383,
          1.3333838383838383,
          1.3333838383838383,
          1.3333838383838383,
          1.3333838383838383,
          1.3333838383838383,
          1.3333838383838383,
          1.3333838383838383
         ],
         "yaxis": "y2"
        },
        {
         "name": "Pd",
         "type": "scatter",
         "x": [
          0.05,
          0.1,
          0.15,
          0.2,
          0.25,
          0.3,
          0.35,
          0.39999999999999997,
          0.44999999999999996,
          0.49999999999999994,
          0.5499999999999999,
          0.6
         ],
         "y": [
          -0.1618508604685496,
          -0.16457283788487662,
          -0.16561975227577164,
          -0.16624790091030867,
          -0.16670854324230247,
          -0.16708543242302465,
          -0.1674144626601631,
          -0.16771358105756168,
          -0.16799275822846702,
          -0.16825797654082708,
          -0.1685130429560633,
          -0.1687604954484567
         ]
        }
       ],
       "layout": {
        "template": {
         "data": {
          "bar": [
           {
            "error_x": {
             "color": "#2a3f5f"
            },
            "error_y": {
             "color": "#2a3f5f"
            },
            "marker": {
             "line": {
              "color": "#E5ECF6",
              "width": 0.5
             }
            },
            "type": "bar"
           }
          ],
          "barpolar": [
           {
            "marker": {
             "line": {
              "color": "#E5ECF6",
              "width": 0.5
             }
            },
            "type": "barpolar"
           }
          ],
          "carpet": [
           {
            "aaxis": {
             "endlinecolor": "#2a3f5f",
             "gridcolor": "white",
             "linecolor": "white",
             "minorgridcolor": "white",
             "startlinecolor": "#2a3f5f"
            },
            "baxis": {
             "endlinecolor": "#2a3f5f",
             "gridcolor": "white",
             "linecolor": "white",
             "minorgridcolor": "white",
             "startlinecolor": "#2a3f5f"
            },
            "type": "carpet"
           }
          ],
          "choropleth": [
           {
            "colorbar": {
             "outlinewidth": 0,
             "ticks": ""
            },
            "type": "choropleth"
           }
          ],
          "contour": [
           {
            "colorbar": {
             "outlinewidth": 0,
             "ticks": ""
            },
            "colorscale": [
             [
              0,
              "#0d0887"
             ],
             [
              0.1111111111111111,
              "#46039f"
             ],
             [
              0.2222222222222222,
              "#7201a8"
             ],
             [
              0.3333333333333333,
              "#9c179e"
             ],
             [
              0.4444444444444444,
              "#bd3786"
             ],
             [
              0.5555555555555556,
              "#d8576b"
             ],
             [
              0.6666666666666666,
              "#ed7953"
             ],
             [
              0.7777777777777778,
              "#fb9f3a"
             ],
             [
              0.8888888888888888,
              "#fdca26"
             ],
             [
              1,
              "#f0f921"
             ]
            ],
            "type": "contour"
           }
          ],
          "contourcarpet": [
           {
            "colorbar": {
             "outlinewidth": 0,
             "ticks": ""
            },
            "type": "contourcarpet"
           }
          ],
          "heatmap": [
           {
            "colorbar": {
             "outlinewidth": 0,
             "ticks": ""
            },
            "colorscale": [
             [
              0,
              "#0d0887"
             ],
             [
              0.1111111111111111,
              "#46039f"
             ],
             [
              0.2222222222222222,
              "#7201a8"
             ],
             [
              0.3333333333333333,
              "#9c179e"
             ],
             [
              0.4444444444444444,
              "#bd3786"
             ],
             [
              0.5555555555555556,
              "#d8576b"
             ],
             [
              0.6666666666666666,
              "#ed7953"
             ],
             [
              0.7777777777777778,
              "#fb9f3a"
             ],
             [
              0.8888888888888888,
              "#fdca26"
             ],
             [
              1,
              "#f0f921"
             ]
            ],
            "type": "heatmap"
           }
          ],
          "heatmapgl": [
           {
            "colorbar": {
             "outlinewidth": 0,
             "ticks": ""
            },
            "colorscale": [
             [
              0,
              "#0d0887"
             ],
             [
              0.1111111111111111,
              "#46039f"
             ],
             [
              0.2222222222222222,
              "#7201a8"
             ],
             [
              0.3333333333333333,
              "#9c179e"
             ],
             [
              0.4444444444444444,
              "#bd3786"
             ],
             [
              0.5555555555555556,
              "#d8576b"
             ],
             [
              0.6666666666666666,
              "#ed7953"
             ],
             [
              0.7777777777777778,
              "#fb9f3a"
             ],
             [
              0.8888888888888888,
              "#fdca26"
             ],
             [
              1,
              "#f0f921"
             ]
            ],
            "type": "heatmapgl"
           }
          ],
          "histogram": [
           {
            "marker": {
             "colorbar": {
              "outlinewidth": 0,
              "ticks": ""
             }
            },
            "type": "histogram"
           }
          ],
          "histogram2d": [
           {
            "colorbar": {
             "outlinewidth": 0,
             "ticks": ""
            },
            "colorscale": [
             [
              0,
              "#0d0887"
             ],
             [
              0.1111111111111111,
              "#46039f"
             ],
             [
              0.2222222222222222,
              "#7201a8"
             ],
             [
              0.3333333333333333,
              "#9c179e"
             ],
             [
              0.4444444444444444,
              "#bd3786"
             ],
             [
              0.5555555555555556,
              "#d8576b"
             ],
             [
              0.6666666666666666,
              "#ed7953"
             ],
             [
              0.7777777777777778,
              "#fb9f3a"
             ],
             [
              0.8888888888888888,
              "#fdca26"
             ],
             [
              1,
              "#f0f921"
             ]
            ],
            "type": "histogram2d"
           }
          ],
          "histogram2dcontour": [
           {
            "colorbar": {
             "outlinewidth": 0,
             "ticks": ""
            },
            "colorscale": [
             [
              0,
              "#0d0887"
             ],
             [
              0.1111111111111111,
              "#46039f"
             ],
             [
              0.2222222222222222,
              "#7201a8"
             ],
             [
              0.3333333333333333,
              "#9c179e"
             ],
             [
              0.4444444444444444,
              "#bd3786"
             ],
             [
              0.5555555555555556,
              "#d8576b"
             ],
             [
              0.6666666666666666,
              "#ed7953"
             ],
             [
              0.7777777777777778,
              "#fb9f3a"
             ],
             [
              0.8888888888888888,
              "#fdca26"
             ],
             [
              1,
              "#f0f921"
             ]
            ],
            "type": "histogram2dcontour"
           }
          ],
          "mesh3d": [
           {
            "colorbar": {
             "outlinewidth": 0,
             "ticks": ""
            },
            "type": "mesh3d"
           }
          ],
          "parcoords": [
           {
            "line": {
             "colorbar": {
              "outlinewidth": 0,
              "ticks": ""
             }
            },
            "type": "parcoords"
           }
          ],
          "scatter": [
           {
            "marker": {
             "colorbar": {
              "outlinewidth": 0,
              "ticks": ""
             }
            },
            "type": "scatter"
           }
          ],
          "scatter3d": [
           {
            "line": {
             "colorbar": {
              "outlinewidth": 0,
              "ticks": ""
             }
            },
            "marker": {
             "colorbar": {
              "outlinewidth": 0,
              "ticks": ""
             }
            },
            "type": "scatter3d"
           }
          ],
          "scattercarpet": [
           {
            "marker": {
             "colorbar": {
              "outlinewidth": 0,
              "ticks": ""
             }
            },
            "type": "scattercarpet"
           }
          ],
          "scattergeo": [
           {
            "marker": {
             "colorbar": {
              "outlinewidth": 0,
              "ticks": ""
             }
            },
            "type": "scattergeo"
           }
          ],
          "scattergl": [
           {
            "marker": {
             "colorbar": {
              "outlinewidth": 0,
              "ticks": ""
             }
            },
            "type": "scattergl"
           }
          ],
          "scattermapbox": [
           {
            "marker": {
             "colorbar": {
              "outlinewidth": 0,
              "ticks": ""
             }
            },
            "type": "scattermapbox"
           }
          ],
          "scatterpolar": [
           {
            "marker": {
             "colorbar": {
              "outlinewidth": 0,
              "ticks": ""
             }
            },
            "type": "scatterpolar"
           }
          ],
          "scatterpolargl": [
           {
            "marker": {
             "colorbar": {
              "outlinewidth": 0,
              "ticks": ""
             }
            },
            "type": "scatterpolargl"
           }
          ],
          "scatterternary": [
           {
            "marker": {
             "colorbar": {
              "outlinewidth": 0,
              "ticks": ""
             }
            },
            "type": "scatterternary"
           }
          ],
          "surface": [
           {
            "colorbar": {
             "outlinewidth": 0,
             "ticks": ""
            },
            "colorscale": [
             [
              0,
              "#0d0887"
             ],
             [
              0.1111111111111111,
              "#46039f"
             ],
             [
              0.2222222222222222,
              "#7201a8"
             ],
             [
              0.3333333333333333,
              "#9c179e"
             ],
             [
              0.4444444444444444,
              "#bd3786"
             ],
             [
              0.5555555555555556,
              "#d8576b"
             ],
             [
              0.6666666666666666,
              "#ed7953"
             ],
             [
              0.7777777777777778,
              "#fb9f3a"
             ],
             [
              0.8888888888888888,
              "#fdca26"
             ],
             [
              1,
              "#f0f921"
             ]
            ],
            "type": "surface"
           }
          ],
          "table": [
           {
            "cells": {
             "fill": {
              "color": "#EBF0F8"
             },
             "line": {
              "color": "white"
             }
            },
            "header": {
             "fill": {
              "color": "#C8D4E3"
             },
             "line": {
              "color": "white"
             }
            },
            "type": "table"
           }
          ]
         },
         "layout": {
          "annotationdefaults": {
           "arrowcolor": "#2a3f5f",
           "arrowhead": 0,
           "arrowwidth": 1
          },
          "colorscale": {
           "diverging": [
            [
             0,
             "#8e0152"
            ],
            [
             0.1,
             "#c51b7d"
            ],
            [
             0.2,
             "#de77ae"
            ],
            [
             0.3,
             "#f1b6da"
            ],
            [
             0.4,
             "#fde0ef"
            ],
            [
             0.5,
             "#f7f7f7"
            ],
            [
             0.6,
             "#e6f5d0"
            ],
            [
             0.7,
             "#b8e186"
            ],
            [
             0.8,
             "#7fbc41"
            ],
            [
             0.9,
             "#4d9221"
            ],
            [
             1,
             "#276419"
            ]
           ],
           "sequential": [
            [
             0,
             "#0d0887"
            ],
            [
             0.1111111111111111,
             "#46039f"
            ],
            [
             0.2222222222222222,
             "#7201a8"
            ],
            [
             0.3333333333333333,
             "#9c179e"
            ],
            [
             0.4444444444444444,
             "#bd3786"
            ],
            [
             0.5555555555555556,
             "#d8576b"
            ],
            [
             0.6666666666666666,
             "#ed7953"
            ],
            [
             0.7777777777777778,
             "#fb9f3a"
            ],
            [
             0.8888888888888888,
             "#fdca26"
            ],
            [
             1,
             "#f0f921"
            ]
           ],
           "sequentialminus": [
            [
             0,
             "#0d0887"
            ],
            [
             0.1111111111111111,
             "#46039f"
            ],
            [
             0.2222222222222222,
             "#7201a8"
            ],
            [
             0.3333333333333333,
             "#9c179e"
            ],
            [
             0.4444444444444444,
             "#bd3786"
            ],
            [
             0.5555555555555556,
             "#d8576b"
            ],
            [
             0.6666666666666666,
             "#ed7953"
            ],
            [
             0.7777777777777778,
             "#fb9f3a"
            ],
            [
             0.8888888888888888,
             "#fdca26"
            ],
            [
             1,
             "#f0f921"
            ]
           ]
          },
          "colorway": [
           "#636efa",
           "#EF553B",
           "#00cc96",
           "#ab63fa",
           "#FFA15A",
           "#19d3f3",
           "#FF6692",
           "#B6E880",
           "#FF97FF",
           "#FECB52"
          ],
          "font": {
           "color": "#2a3f5f"
          },
          "geo": {
           "bgcolor": "white",
           "lakecolor": "white",
           "landcolor": "#E5ECF6",
           "showlakes": true,
           "showland": true,
           "subunitcolor": "white"
          },
          "hoverlabel": {
           "align": "left"
          },
          "hovermode": "closest",
          "mapbox": {
           "style": "light"
          },
          "paper_bgcolor": "white",
          "plot_bgcolor": "#E5ECF6",
          "polar": {
           "angularaxis": {
            "gridcolor": "white",
            "linecolor": "white",
            "ticks": ""
           },
           "bgcolor": "#E5ECF6",
           "radialaxis": {
            "gridcolor": "white",
            "linecolor": "white",
            "ticks": ""
           }
          },
          "scene": {
           "xaxis": {
            "backgroundcolor": "#E5ECF6",
            "gridcolor": "white",
            "gridwidth": 2,
            "linecolor": "white",
            "showbackground": true,
            "ticks": "",
            "zerolinecolor": "white"
           },
           "yaxis": {
            "backgroundcolor": "#E5ECF6",
            "gridcolor": "white",
            "gridwidth": 2,
            "linecolor": "white",
            "showbackground": true,
            "ticks": "",
            "zerolinecolor": "white"
           },
           "zaxis": {
            "backgroundcolor": "#E5ECF6",
            "gridcolor": "white",
            "gridwidth": 2,
            "linecolor": "white",
            "showbackground": true,
            "ticks": "",
            "zerolinecolor": "white"
           }
          },
          "shapedefaults": {
           "line": {
            "color": "#2a3f5f"
           }
          },
          "ternary": {
           "aaxis": {
            "gridcolor": "white",
            "linecolor": "white",
            "ticks": ""
           },
           "baxis": {
            "gridcolor": "white",
            "linecolor": "white",
            "ticks": ""
           },
           "bgcolor": "#E5ECF6",
           "caxis": {
            "gridcolor": "white",
            "linecolor": "white",
            "ticks": ""
           }
          },
          "title": {
           "x": 0.05
          },
          "xaxis": {
           "automargin": true,
           "gridcolor": "white",
           "linecolor": "white",
           "ticks": "",
           "zerolinecolor": "white",
           "zerolinewidth": 2
          },
          "yaxis": {
           "automargin": true,
           "gridcolor": "white",
           "linecolor": "white",
           "ticks": "",
           "zerolinecolor": "white",
           "zerolinewidth": 2
          }
         }
        },
        "title": {
         "text": "Implicit Difference Pu, Pm, and Pd as a Function of Sigma"
        },
        "xaxis": {
         "title": {
          "text": "Sigma"
         }
        },
        "yaxis": {
         "title": {
          "text": "Pu and Pd Value"
         }
        },
        "yaxis2": {
         "anchor": "x",
         "overlaying": "y",
         "side": "right",
         "title": {
          "text": "Pm Value"
         }
        }
       }
      },
      "text/html": [
       "<div>\n",
       "        \n",
       "        \n",
       "            <div id=\"103e0b17-b4b8-4261-89fa-0e4e29b61e47\" class=\"plotly-graph-div\" style=\"height:525px; width:100%;\"></div>\n",
       "            <script type=\"text/javascript\">\n",
       "                require([\"plotly\"], function(Plotly) {\n",
       "                    window.PLOTLYENV=window.PLOTLYENV || {};\n",
       "                    \n",
       "                if (document.getElementById(\"103e0b17-b4b8-4261-89fa-0e4e29b61e47\")) {\n",
       "                    Plotly.newPlot(\n",
       "                        '103e0b17-b4b8-4261-89fa-0e4e29b61e47',\n",
       "                        [{\"name\": \"Pu\", \"type\": \"scatter\", \"x\": [0.05, 0.1, 0.15, 0.2, 0.25, 0.3, 0.35, 0.39999999999999997, 0.44999999999999996, 0.49999999999999994, 0.5499999999999999, 0.6], \"y\": [-0.1714824728647837, -0.1687604954484567, -0.16771358105756168, -0.16708543242302465, -0.16662479009103084, -0.16624790091030867, -0.16591887067317024, -0.16561975227577164, -0.1653405751048663, -0.16507535679250623, -0.16482029037727, -0.16457283788487662]}, {\"name\": \"Pm\", \"type\": \"scatter\", \"x\": [0.05, 0.1, 0.15, 0.2, 0.25, 0.3, 0.35, 0.39999999999999997, 0.44999999999999996, 0.49999999999999994, 0.5499999999999999, 0.6], \"y\": [1.3333838383838383, 1.3333838383838383, 1.3333838383838383, 1.3333838383838383, 1.3333838383838383, 1.3333838383838383, 1.3333838383838383, 1.3333838383838383, 1.3333838383838383, 1.3333838383838383, 1.3333838383838383, 1.3333838383838383], \"yaxis\": \"y2\"}, {\"name\": \"Pd\", \"type\": \"scatter\", \"x\": [0.05, 0.1, 0.15, 0.2, 0.25, 0.3, 0.35, 0.39999999999999997, 0.44999999999999996, 0.49999999999999994, 0.5499999999999999, 0.6], \"y\": [-0.1618508604685496, -0.16457283788487662, -0.16561975227577164, -0.16624790091030867, -0.16670854324230247, -0.16708543242302465, -0.1674144626601631, -0.16771358105756168, -0.16799275822846702, -0.16825797654082708, -0.1685130429560633, -0.1687604954484567]}],\n",
       "                        {\"template\": {\"data\": {\"bar\": [{\"error_x\": {\"color\": \"#2a3f5f\"}, \"error_y\": {\"color\": \"#2a3f5f\"}, \"marker\": {\"line\": {\"color\": \"#E5ECF6\", \"width\": 0.5}}, \"type\": \"bar\"}], \"barpolar\": [{\"marker\": {\"line\": {\"color\": \"#E5ECF6\", \"width\": 0.5}}, \"type\": \"barpolar\"}], \"carpet\": [{\"aaxis\": {\"endlinecolor\": \"#2a3f5f\", \"gridcolor\": \"white\", \"linecolor\": \"white\", \"minorgridcolor\": \"white\", \"startlinecolor\": \"#2a3f5f\"}, \"baxis\": {\"endlinecolor\": \"#2a3f5f\", \"gridcolor\": \"white\", \"linecolor\": \"white\", \"minorgridcolor\": \"white\", \"startlinecolor\": \"#2a3f5f\"}, \"type\": \"carpet\"}], \"choropleth\": [{\"colorbar\": {\"outlinewidth\": 0, \"ticks\": \"\"}, \"type\": \"choropleth\"}], \"contour\": [{\"colorbar\": {\"outlinewidth\": 0, \"ticks\": \"\"}, \"colorscale\": [[0.0, \"#0d0887\"], [0.1111111111111111, \"#46039f\"], [0.2222222222222222, \"#7201a8\"], [0.3333333333333333, \"#9c179e\"], [0.4444444444444444, \"#bd3786\"], [0.5555555555555556, \"#d8576b\"], [0.6666666666666666, \"#ed7953\"], [0.7777777777777778, \"#fb9f3a\"], [0.8888888888888888, \"#fdca26\"], [1.0, \"#f0f921\"]], \"type\": \"contour\"}], \"contourcarpet\": [{\"colorbar\": {\"outlinewidth\": 0, \"ticks\": \"\"}, \"type\": \"contourcarpet\"}], \"heatmap\": [{\"colorbar\": {\"outlinewidth\": 0, \"ticks\": \"\"}, \"colorscale\": [[0.0, \"#0d0887\"], [0.1111111111111111, \"#46039f\"], [0.2222222222222222, \"#7201a8\"], [0.3333333333333333, \"#9c179e\"], [0.4444444444444444, \"#bd3786\"], [0.5555555555555556, \"#d8576b\"], [0.6666666666666666, \"#ed7953\"], [0.7777777777777778, \"#fb9f3a\"], [0.8888888888888888, \"#fdca26\"], [1.0, \"#f0f921\"]], \"type\": \"heatmap\"}], \"heatmapgl\": [{\"colorbar\": {\"outlinewidth\": 0, \"ticks\": \"\"}, \"colorscale\": [[0.0, \"#0d0887\"], [0.1111111111111111, \"#46039f\"], [0.2222222222222222, \"#7201a8\"], [0.3333333333333333, \"#9c179e\"], [0.4444444444444444, \"#bd3786\"], [0.5555555555555556, \"#d8576b\"], [0.6666666666666666, \"#ed7953\"], [0.7777777777777778, \"#fb9f3a\"], [0.8888888888888888, \"#fdca26\"], [1.0, \"#f0f921\"]], \"type\": \"heatmapgl\"}], \"histogram\": [{\"marker\": {\"colorbar\": {\"outlinewidth\": 0, \"ticks\": \"\"}}, \"type\": \"histogram\"}], \"histogram2d\": [{\"colorbar\": {\"outlinewidth\": 0, \"ticks\": \"\"}, \"colorscale\": [[0.0, \"#0d0887\"], [0.1111111111111111, \"#46039f\"], [0.2222222222222222, \"#7201a8\"], [0.3333333333333333, \"#9c179e\"], [0.4444444444444444, \"#bd3786\"], [0.5555555555555556, \"#d8576b\"], [0.6666666666666666, \"#ed7953\"], [0.7777777777777778, \"#fb9f3a\"], [0.8888888888888888, \"#fdca26\"], [1.0, \"#f0f921\"]], \"type\": \"histogram2d\"}], \"histogram2dcontour\": [{\"colorbar\": {\"outlinewidth\": 0, \"ticks\": \"\"}, \"colorscale\": [[0.0, \"#0d0887\"], [0.1111111111111111, \"#46039f\"], [0.2222222222222222, \"#7201a8\"], [0.3333333333333333, \"#9c179e\"], [0.4444444444444444, \"#bd3786\"], [0.5555555555555556, \"#d8576b\"], [0.6666666666666666, \"#ed7953\"], [0.7777777777777778, \"#fb9f3a\"], [0.8888888888888888, \"#fdca26\"], [1.0, \"#f0f921\"]], \"type\": \"histogram2dcontour\"}], \"mesh3d\": [{\"colorbar\": {\"outlinewidth\": 0, \"ticks\": \"\"}, \"type\": \"mesh3d\"}], \"parcoords\": [{\"line\": {\"colorbar\": {\"outlinewidth\": 0, \"ticks\": \"\"}}, \"type\": \"parcoords\"}], \"scatter\": [{\"marker\": {\"colorbar\": {\"outlinewidth\": 0, \"ticks\": \"\"}}, \"type\": \"scatter\"}], \"scatter3d\": [{\"line\": {\"colorbar\": {\"outlinewidth\": 0, \"ticks\": \"\"}}, \"marker\": {\"colorbar\": {\"outlinewidth\": 0, \"ticks\": \"\"}}, \"type\": \"scatter3d\"}], \"scattercarpet\": [{\"marker\": {\"colorbar\": {\"outlinewidth\": 0, \"ticks\": \"\"}}, \"type\": \"scattercarpet\"}], \"scattergeo\": [{\"marker\": {\"colorbar\": {\"outlinewidth\": 0, \"ticks\": \"\"}}, \"type\": \"scattergeo\"}], \"scattergl\": [{\"marker\": {\"colorbar\": {\"outlinewidth\": 0, \"ticks\": \"\"}}, \"type\": \"scattergl\"}], \"scattermapbox\": [{\"marker\": {\"colorbar\": {\"outlinewidth\": 0, \"ticks\": \"\"}}, \"type\": \"scattermapbox\"}], \"scatterpolar\": [{\"marker\": {\"colorbar\": {\"outlinewidth\": 0, \"ticks\": \"\"}}, \"type\": \"scatterpolar\"}], \"scatterpolargl\": [{\"marker\": {\"colorbar\": {\"outlinewidth\": 0, \"ticks\": \"\"}}, \"type\": \"scatterpolargl\"}], \"scatterternary\": [{\"marker\": {\"colorbar\": {\"outlinewidth\": 0, \"ticks\": \"\"}}, \"type\": \"scatterternary\"}], \"surface\": [{\"colorbar\": {\"outlinewidth\": 0, \"ticks\": \"\"}, \"colorscale\": [[0.0, \"#0d0887\"], [0.1111111111111111, \"#46039f\"], [0.2222222222222222, \"#7201a8\"], [0.3333333333333333, \"#9c179e\"], [0.4444444444444444, \"#bd3786\"], [0.5555555555555556, \"#d8576b\"], [0.6666666666666666, \"#ed7953\"], [0.7777777777777778, \"#fb9f3a\"], [0.8888888888888888, \"#fdca26\"], [1.0, \"#f0f921\"]], \"type\": \"surface\"}], \"table\": [{\"cells\": {\"fill\": {\"color\": \"#EBF0F8\"}, \"line\": {\"color\": \"white\"}}, \"header\": {\"fill\": {\"color\": \"#C8D4E3\"}, \"line\": {\"color\": \"white\"}}, \"type\": \"table\"}]}, \"layout\": {\"annotationdefaults\": {\"arrowcolor\": \"#2a3f5f\", \"arrowhead\": 0, \"arrowwidth\": 1}, \"colorscale\": {\"diverging\": [[0, \"#8e0152\"], [0.1, \"#c51b7d\"], [0.2, \"#de77ae\"], [0.3, \"#f1b6da\"], [0.4, \"#fde0ef\"], [0.5, \"#f7f7f7\"], [0.6, \"#e6f5d0\"], [0.7, \"#b8e186\"], [0.8, \"#7fbc41\"], [0.9, \"#4d9221\"], [1, \"#276419\"]], \"sequential\": [[0.0, \"#0d0887\"], [0.1111111111111111, \"#46039f\"], [0.2222222222222222, \"#7201a8\"], [0.3333333333333333, \"#9c179e\"], [0.4444444444444444, \"#bd3786\"], [0.5555555555555556, \"#d8576b\"], [0.6666666666666666, \"#ed7953\"], [0.7777777777777778, \"#fb9f3a\"], [0.8888888888888888, \"#fdca26\"], [1.0, \"#f0f921\"]], \"sequentialminus\": [[0.0, \"#0d0887\"], [0.1111111111111111, \"#46039f\"], [0.2222222222222222, \"#7201a8\"], [0.3333333333333333, \"#9c179e\"], [0.4444444444444444, \"#bd3786\"], [0.5555555555555556, \"#d8576b\"], [0.6666666666666666, \"#ed7953\"], [0.7777777777777778, \"#fb9f3a\"], [0.8888888888888888, \"#fdca26\"], [1.0, \"#f0f921\"]]}, \"colorway\": [\"#636efa\", \"#EF553B\", \"#00cc96\", \"#ab63fa\", \"#FFA15A\", \"#19d3f3\", \"#FF6692\", \"#B6E880\", \"#FF97FF\", \"#FECB52\"], \"font\": {\"color\": \"#2a3f5f\"}, \"geo\": {\"bgcolor\": \"white\", \"lakecolor\": \"white\", \"landcolor\": \"#E5ECF6\", \"showlakes\": true, \"showland\": true, \"subunitcolor\": \"white\"}, \"hoverlabel\": {\"align\": \"left\"}, \"hovermode\": \"closest\", \"mapbox\": {\"style\": \"light\"}, \"paper_bgcolor\": \"white\", \"plot_bgcolor\": \"#E5ECF6\", \"polar\": {\"angularaxis\": {\"gridcolor\": \"white\", \"linecolor\": \"white\", \"ticks\": \"\"}, \"bgcolor\": \"#E5ECF6\", \"radialaxis\": {\"gridcolor\": \"white\", \"linecolor\": \"white\", \"ticks\": \"\"}}, \"scene\": {\"xaxis\": {\"backgroundcolor\": \"#E5ECF6\", \"gridcolor\": \"white\", \"gridwidth\": 2, \"linecolor\": \"white\", \"showbackground\": true, \"ticks\": \"\", \"zerolinecolor\": \"white\"}, \"yaxis\": {\"backgroundcolor\": \"#E5ECF6\", \"gridcolor\": \"white\", \"gridwidth\": 2, \"linecolor\": \"white\", \"showbackground\": true, \"ticks\": \"\", \"zerolinecolor\": \"white\"}, \"zaxis\": {\"backgroundcolor\": \"#E5ECF6\", \"gridcolor\": \"white\", \"gridwidth\": 2, \"linecolor\": \"white\", \"showbackground\": true, \"ticks\": \"\", \"zerolinecolor\": \"white\"}}, \"shapedefaults\": {\"line\": {\"color\": \"#2a3f5f\"}}, \"ternary\": {\"aaxis\": {\"gridcolor\": \"white\", \"linecolor\": \"white\", \"ticks\": \"\"}, \"baxis\": {\"gridcolor\": \"white\", \"linecolor\": \"white\", \"ticks\": \"\"}, \"bgcolor\": \"#E5ECF6\", \"caxis\": {\"gridcolor\": \"white\", \"linecolor\": \"white\", \"ticks\": \"\"}}, \"title\": {\"x\": 0.05}, \"xaxis\": {\"automargin\": true, \"gridcolor\": \"white\", \"linecolor\": \"white\", \"ticks\": \"\", \"zerolinecolor\": \"white\", \"zerolinewidth\": 2}, \"yaxis\": {\"automargin\": true, \"gridcolor\": \"white\", \"linecolor\": \"white\", \"ticks\": \"\", \"zerolinecolor\": \"white\", \"zerolinewidth\": 2}}}, \"title\": {\"text\": \"Implicit Difference Pu, Pm, and Pd as a Function of Sigma\"}, \"xaxis\": {\"title\": {\"text\": \"Sigma\"}}, \"yaxis\": {\"title\": {\"text\": \"Pu and Pd Value\"}}, \"yaxis2\": {\"anchor\": \"x\", \"overlaying\": \"y\", \"side\": \"right\", \"title\": {\"text\": \"Pm Value\"}}},\n",
       "                        {\"responsive\": true}\n",
       "                    ).then(function(){\n",
       "                            \n",
       "var gd = document.getElementById('103e0b17-b4b8-4261-89fa-0e4e29b61e47');\n",
       "var x = new MutationObserver(function (mutations, observer) {{\n",
       "        var display = window.getComputedStyle(gd).display;\n",
       "        if (!display || display === 'none') {{\n",
       "            console.log([gd, 'removed!']);\n",
       "            Plotly.purge(gd);\n",
       "            observer.disconnect();\n",
       "        }}\n",
       "}});\n",
       "\n",
       "// Listen for the removal of the full notebook cells\n",
       "var notebookContainer = gd.closest('#notebook-container');\n",
       "if (notebookContainer) {{\n",
       "    x.observe(notebookContainer, {childList: true});\n",
       "}}\n",
       "\n",
       "// Listen for the clearing of the current output cell\n",
       "var outputEl = gd.closest('.output');\n",
       "if (outputEl) {{\n",
       "    x.observe(outputEl, {childList: true});\n",
       "}}\n",
       "\n",
       "                        })\n",
       "                };\n",
       "                });\n",
       "            </script>\n",
       "        </div>"
      ]
     },
     "metadata": {},
     "output_type": "display_data"
    }
   ],
   "source": [
    "trace0 = go.Scatter(\n",
    "    x = As.index, y = As['Pu'], name = 'Pu'\n",
    ")\n",
    "trace1 = go.Scatter(\n",
    "    x = Bs.index, y = Bs['Pm'], name = 'Pm', yaxis = 'y2'\n",
    ")\n",
    "trace2 = go.Scatter(\n",
    "    x = Cs.index, y = Cs['Pd'], name = 'Pd'\n",
    ")\n",
    "data = [trace0,trace1,trace2]\n",
    "layout = go.Layout(\n",
    "    title = 'Implicit Difference Pu, Pm, and Pd as a Function of Sigma', yaxis = dict(title = 'Pu and Pd Value'), \n",
    "    yaxis2=dict(\n",
    "        title=\"Pm Value\",\n",
    "        anchor=\"x\",\n",
    "        overlaying=\"y\",\n",
    "        side=\"right\"\n",
    "    ), \n",
    "        xaxis = dict(title = 'Sigma'))\n",
    "fig = go.Figure(data=data, layout=layout)\n",
    "plotly.offline.iplot(fig)"
   ]
  },
  {
   "cell_type": "markdown",
   "metadata": {},
   "source": [
    "The Pu increases with volatility and Pd decreases while Pm remains constant. This is as expected since option prices have a positive sensitivity to volatility and in this case this is shown by the rising Pu, which is the weight applied to u(i,j+1) when calculating u(i+1,j) for the implicit scheme. These values are not to be confused with the actual probabilities used in the explicit scheme that represent the probabilities of a positive, negative, or no movement, and the plot emphasizes that as Pu and Pd are negative and Pm is greater than 1 for all values of sigma. Instead these values more closely represent constant weights for all i's and j's while the volatility is constant."
   ]
  },
  {
   "cell_type": "markdown",
   "metadata": {},
   "source": [
    "## Pricing Table (h)"
   ]
  },
  {
   "cell_type": "code",
   "execution_count": 107,
   "metadata": {},
   "outputs": [
    {
     "data": {
      "text/html": [
       "<div>\n",
       "<style scoped>\n",
       "    .dataframe tbody tr th:only-of-type {\n",
       "        vertical-align: middle;\n",
       "    }\n",
       "\n",
       "    .dataframe tbody tr th {\n",
       "        vertical-align: top;\n",
       "    }\n",
       "\n",
       "    .dataframe thead th {\n",
       "        text-align: right;\n",
       "    }\n",
       "</style>\n",
       "<table border=\"1\" class=\"dataframe\">\n",
       "  <thead>\n",
       "    <tr style=\"text-align: right;\">\n",
       "      <th></th>\n",
       "      <th>Call</th>\n",
       "      <th>Put</th>\n",
       "    </tr>\n",
       "  </thead>\n",
       "  <tbody>\n",
       "    <tr>\n",
       "      <th>EFD</th>\n",
       "      <td>11.011566</td>\n",
       "      <td>8.143203</td>\n",
       "    </tr>\n",
       "    <tr>\n",
       "      <th>IFD</th>\n",
       "      <td>11.009137</td>\n",
       "      <td>8.140981</td>\n",
       "    </tr>\n",
       "    <tr>\n",
       "      <th>CNFD</th>\n",
       "      <td>11.010352</td>\n",
       "      <td>8.142092</td>\n",
       "    </tr>\n",
       "    <tr>\n",
       "      <th>BS</th>\n",
       "      <td>11.013079</td>\n",
       "      <td>8.144979</td>\n",
       "    </tr>\n",
       "  </tbody>\n",
       "</table>\n",
       "</div>"
      ],
      "text/plain": [
       "           Call       Put\n",
       "EFD   11.011566  8.143203\n",
       "IFD   11.009137  8.140981\n",
       "CNFD  11.010352  8.142092\n",
       "BS    11.013079  8.144979"
      ]
     },
     "execution_count": 107,
     "metadata": {},
     "output_type": "execute_result"
    }
   ],
   "source": [
    "price_table.append(pd.DataFrame([[BSM(S,K,T,r,sig,'c',q),BSM(S,K,T,r,sig,'p',q)]], \n",
    "                                index=['BS'], columns=['Call', 'Put']))"
   ]
  },
  {
   "cell_type": "code",
   "execution_count": 109,
   "metadata": {},
   "outputs": [
    {
     "data": {
      "text/plain": [
       "EFD     0.001512\n",
       "IFD     0.003942\n",
       "CNFD    0.002727\n",
       "Name: Call, dtype: float64"
      ]
     },
     "execution_count": 109,
     "metadata": {},
     "output_type": "execute_result"
    }
   ],
   "source": [
    "abs(price_table['Call']-BSM(S,K,T,r,sig,'c',q))"
   ]
  },
  {
   "cell_type": "code",
   "execution_count": 110,
   "metadata": {},
   "outputs": [
    {
     "data": {
      "text/plain": [
       "EFD     0.001776\n",
       "IFD     0.003998\n",
       "CNFD    0.002887\n",
       "Name: Put, dtype: float64"
      ]
     },
     "execution_count": 110,
     "metadata": {},
     "output_type": "execute_result"
    }
   ],
   "source": [
    "abs(price_table['Put']-BSM(S,K,T,r,sig,'p',q))"
   ]
  },
  {
   "cell_type": "markdown",
   "metadata": {},
   "source": [
    "Using the parameters from (e) all three methods output the same price to the nearest cent for both options although there are variations for the different methods after that point. This is consistent with the results from part (f) that suggested each method required more steps to converge to within 0.001 of the Black-Scholes price than the values calculated in part (d). Moreover the deviations from the Black-Scholes price calculated above show the same result that the explicit method is fastest to converge followed by the Crank-Nicolson and the implicit method is slowest to converge evidenced by it having the largest error from Black-Scholes."
   ]
  },
  {
   "cell_type": "markdown",
   "metadata": {},
   "source": [
    "## Calculating Greeks with Explicit Finite Differencing (i)"
   ]
  },
  {
   "cell_type": "markdown",
   "metadata": {},
   "source": [
    "#### Delta"
   ]
  },
  {
   "cell_type": "code",
   "execution_count": 132,
   "metadata": {},
   "outputs": [
    {
     "data": {
      "text/plain": [
       "0.5885587357052913"
      ]
     },
     "execution_count": 132,
     "metadata": {},
     "output_type": "execute_result"
    }
   ],
   "source": [
    "def delta(f,S,diff=0.01,opt_type='c',n=1188,Nj=60):\n",
    "    orig = f(S,K,T,r,sig,0,q,opt_type=opt_type,N=n,Nj=Nj)\n",
    "    new = f(S+diff,K,T,r,sig,0,q,opt_type=opt_type,N=n,Nj=Nj)\n",
    "    return (new - orig)/diff\n",
    "# (explicit_FD(S+.01,K,T,r,sig,dx,q,'c',n,Nj)-explicit_FD(S,K,T,r,sig,dx,q,'c',n,Nj))/.01\n",
    "delta(explicit_FD,S)"
   ]
  },
  {
   "cell_type": "markdown",
   "metadata": {},
   "source": [
    "#### Gamma"
   ]
  },
  {
   "cell_type": "code",
   "execution_count": 154,
   "metadata": {},
   "outputs": [
    {
     "data": {
      "text/plain": [
       "0.009439691583601473"
      ]
     },
     "execution_count": 154,
     "metadata": {},
     "output_type": "execute_result"
    }
   ],
   "source": [
    "def gamma(f,diff=1,opt_type='c',n=1188,Nj=60):\n",
    "    orig = delta(explicit_FD,S-diff,opt_type=opt_type,n=n,Nj=Nj)\n",
    "    new = delta(explicit_FD,S+diff,opt_type=opt_type,n=n,Nj=Nj)\n",
    "    return (new - orig)/(2*diff)\n",
    "# (delta(explicit_FD,S+1)-delta(explicit_FD,S-1))/2\n",
    "gamma(explicit_FD)"
   ]
  },
  {
   "cell_type": "markdown",
   "metadata": {},
   "source": [
    "#### Theta"
   ]
  },
  {
   "cell_type": "code",
   "execution_count": 145,
   "metadata": {},
   "outputs": [
    {
     "data": {
      "text/plain": [
       "-5.776790704654271"
      ]
     },
     "execution_count": 145,
     "metadata": {},
     "output_type": "execute_result"
    }
   ],
   "source": [
    "def theta(f,diff=1/365,opt_type='c',n=1188,Nj=60):\n",
    "    orig = f(S,K,T,r,sig,0,q,opt_type=opt_type,N=n,Nj=Nj)\n",
    "    new = f(S,K,T-diff,r,sig,0,q,opt_type=opt_type,N=n,Nj=Nj)\n",
    "    return (new - orig)/diff\n",
    "theta(explicit_FD)"
   ]
  },
  {
   "cell_type": "markdown",
   "metadata": {},
   "source": [
    "#### Vega"
   ]
  },
  {
   "cell_type": "code",
   "execution_count": 147,
   "metadata": {},
   "outputs": [
    {
     "data": {
      "text/plain": [
       "37.56394156625298"
      ]
     },
     "execution_count": 147,
     "metadata": {},
     "output_type": "execute_result"
    }
   ],
   "source": [
    "def vega(f,diff=0.001,opt_type='c',n=1188,Nj=60):\n",
    "    orig = f(S,K,T,r,sig,0,q,opt_type=opt_type,N=n,Nj=Nj)\n",
    "    new = f(S,K,T,r,sig+diff,0,q,opt_type=opt_type,N=n,Nj=Nj)\n",
    "    return (new - orig)/diff\n",
    "vega(explicit_FD)"
   ]
  },
  {
   "cell_type": "markdown",
   "metadata": {},
   "source": [
    "# Fast Fourier Transform"
   ]
  },
  {
   "cell_type": "code",
   "execution_count": 221,
   "metadata": {},
   "outputs": [],
   "source": [
    "S = 100\n",
    "eta = .25\n",
    "t = 1\n",
    "sig = .25\n",
    "r = .06\n",
    "alpha = 1.5\n",
    "N = 4096\n",
    "\n",
    "# Black-Scholes Characteristic Funtion\n",
    "def BS_CF(S,mu,sig,t,phi):\n",
    "    u = np.log(S) + (mu - .5*sig**2)*t\n",
    "    vol = t*sig**2\n",
    "    return np.exp(complex(0,1)*u*phi - .5*vol*phi**2)\n",
    "\n",
    "def FFT(N,eta,alpha,r,t,S,sig):\n",
    "    dk = 2*math.pi/(N*eta)\n",
    "    beta = dk*N/2\n",
    "    u_arr = eta*np.linspace(0,N-1,N)\n",
    "    k_arr = -beta + np.linspace(0,N-1,N)*dk\n",
    "    \n",
    "    # applying equations 24 and 6 from the paper\n",
    "    delt_arr = [1] + (N-1)*[0]\n",
    "    w_arr = eta/3*(3+(-1)**np.linspace(1,N,N))\n",
    "    psi = (np.exp(-r*t)*BS_CF(S,r,sig,t,u_arr-(alpha+1)*complex(0,1)))/(alpha**2 + alpha-u_arr**2 +\n",
    "                                                                        complex(0,1)*(2*alpha + 1)*u_arr)\n",
    "    s_arr = np.exp(complex(0,1)*beta*u_arr)*psi*w_arr\n",
    "    \n",
    "    # calling numpy's fft function\n",
    "    price_FFT = np.fft.fft(s_arr)\n",
    "    calls_FFT = (np.exp(-alpha*k_arr)/math.pi)*price_FFT.real\n",
    "    \n",
    "    Ks = np.exp(k_arr)\n",
    "    calls_BS = []\n",
    "    for k in Ks:\n",
    "        calls_BS.append(BSM(S,k,T,r,sig))\n",
    "    \n",
    "    df = pd.DataFrame({'K':Ks, 'BS':calls_BS, 'FFT':calls_FFT})\n",
    "    return df"
   ]
  },
  {
   "cell_type": "code",
   "execution_count": 222,
   "metadata": {},
   "outputs": [],
   "source": [
    "temp = FFT(N,eta,alpha,r,t,S,sig)"
   ]
  },
  {
   "cell_type": "code",
   "execution_count": 223,
   "metadata": {
    "scrolled": true
   },
   "outputs": [
    {
     "data": {
      "text/html": [
       "<div>\n",
       "<style scoped>\n",
       "    .dataframe tbody tr th:only-of-type {\n",
       "        vertical-align: middle;\n",
       "    }\n",
       "\n",
       "    .dataframe tbody tr th {\n",
       "        vertical-align: top;\n",
       "    }\n",
       "\n",
       "    .dataframe thead th {\n",
       "        text-align: right;\n",
       "    }\n",
       "</style>\n",
       "<table border=\"1\" class=\"dataframe\">\n",
       "  <thead>\n",
       "    <tr style=\"text-align: right;\">\n",
       "      <th></th>\n",
       "      <th>K</th>\n",
       "      <th>BS</th>\n",
       "      <th>FFT</th>\n",
       "    </tr>\n",
       "  </thead>\n",
       "  <tbody>\n",
       "    <tr>\n",
       "      <th>2686</th>\n",
       "      <td>50.134980</td>\n",
       "      <td>52.791133</td>\n",
       "      <td>55.242491</td>\n",
       "    </tr>\n",
       "    <tr>\n",
       "      <th>2687</th>\n",
       "      <td>50.443550</td>\n",
       "      <td>52.501140</td>\n",
       "      <td>54.930039</td>\n",
       "    </tr>\n",
       "    <tr>\n",
       "      <th>2688</th>\n",
       "      <td>50.754020</td>\n",
       "      <td>52.209410</td>\n",
       "      <td>54.616057</td>\n",
       "    </tr>\n",
       "    <tr>\n",
       "      <th>2689</th>\n",
       "      <td>51.066400</td>\n",
       "      <td>51.915938</td>\n",
       "      <td>54.300536</td>\n",
       "    </tr>\n",
       "    <tr>\n",
       "      <th>2690</th>\n",
       "      <td>51.380702</td>\n",
       "      <td>51.620717</td>\n",
       "      <td>53.983468</td>\n",
       "    </tr>\n",
       "    <tr>\n",
       "      <th>2691</th>\n",
       "      <td>51.696940</td>\n",
       "      <td>51.323741</td>\n",
       "      <td>53.664845</td>\n",
       "    </tr>\n",
       "    <tr>\n",
       "      <th>2692</th>\n",
       "      <td>52.015123</td>\n",
       "      <td>51.025002</td>\n",
       "      <td>53.344658</td>\n",
       "    </tr>\n",
       "    <tr>\n",
       "      <th>2693</th>\n",
       "      <td>52.335265</td>\n",
       "      <td>50.724496</td>\n",
       "      <td>53.022900</td>\n",
       "    </tr>\n",
       "    <tr>\n",
       "      <th>2694</th>\n",
       "      <td>52.657378</td>\n",
       "      <td>50.422218</td>\n",
       "      <td>52.699564</td>\n",
       "    </tr>\n",
       "    <tr>\n",
       "      <th>2695</th>\n",
       "      <td>52.981473</td>\n",
       "      <td>50.118161</td>\n",
       "      <td>52.374643</td>\n",
       "    </tr>\n",
       "    <tr>\n",
       "      <th>2696</th>\n",
       "      <td>53.307562</td>\n",
       "      <td>49.812321</td>\n",
       "      <td>52.048130</td>\n",
       "    </tr>\n",
       "    <tr>\n",
       "      <th>2697</th>\n",
       "      <td>53.635659</td>\n",
       "      <td>49.504693</td>\n",
       "      <td>51.720019</td>\n",
       "    </tr>\n",
       "    <tr>\n",
       "      <th>2698</th>\n",
       "      <td>53.965775</td>\n",
       "      <td>49.195274</td>\n",
       "      <td>51.390304</td>\n",
       "    </tr>\n",
       "    <tr>\n",
       "      <th>2699</th>\n",
       "      <td>54.297923</td>\n",
       "      <td>48.884060</td>\n",
       "      <td>51.058979</td>\n",
       "    </tr>\n",
       "    <tr>\n",
       "      <th>2700</th>\n",
       "      <td>54.632115</td>\n",
       "      <td>48.571048</td>\n",
       "      <td>50.726041</td>\n",
       "    </tr>\n",
       "    <tr>\n",
       "      <th>2701</th>\n",
       "      <td>54.968364</td>\n",
       "      <td>48.256234</td>\n",
       "      <td>50.391484</td>\n",
       "    </tr>\n",
       "    <tr>\n",
       "      <th>2702</th>\n",
       "      <td>55.306682</td>\n",
       "      <td>47.939617</td>\n",
       "      <td>50.055304</td>\n",
       "    </tr>\n",
       "    <tr>\n",
       "      <th>2703</th>\n",
       "      <td>55.647083</td>\n",
       "      <td>47.621194</td>\n",
       "      <td>49.717499</td>\n",
       "    </tr>\n",
       "    <tr>\n",
       "      <th>2704</th>\n",
       "      <td>55.989579</td>\n",
       "      <td>47.300966</td>\n",
       "      <td>49.378064</td>\n",
       "    </tr>\n",
       "    <tr>\n",
       "      <th>2705</th>\n",
       "      <td>56.334183</td>\n",
       "      <td>46.978930</td>\n",
       "      <td>49.036999</td>\n",
       "    </tr>\n",
       "    <tr>\n",
       "      <th>2706</th>\n",
       "      <td>56.680908</td>\n",
       "      <td>46.655087</td>\n",
       "      <td>48.694301</td>\n",
       "    </tr>\n",
       "    <tr>\n",
       "      <th>2707</th>\n",
       "      <td>57.029767</td>\n",
       "      <td>46.329438</td>\n",
       "      <td>48.349969</td>\n",
       "    </tr>\n",
       "    <tr>\n",
       "      <th>2708</th>\n",
       "      <td>57.380773</td>\n",
       "      <td>46.001984</td>\n",
       "      <td>48.004004</td>\n",
       "    </tr>\n",
       "    <tr>\n",
       "      <th>2709</th>\n",
       "      <td>57.733939</td>\n",
       "      <td>45.672727</td>\n",
       "      <td>47.656405</td>\n",
       "    </tr>\n",
       "    <tr>\n",
       "      <th>2710</th>\n",
       "      <td>58.089279</td>\n",
       "      <td>45.341669</td>\n",
       "      <td>47.307173</td>\n",
       "    </tr>\n",
       "    <tr>\n",
       "      <th>2711</th>\n",
       "      <td>58.446806</td>\n",
       "      <td>45.008815</td>\n",
       "      <td>46.956312</td>\n",
       "    </tr>\n",
       "    <tr>\n",
       "      <th>2712</th>\n",
       "      <td>58.806534</td>\n",
       "      <td>44.674168</td>\n",
       "      <td>46.603823</td>\n",
       "    </tr>\n",
       "    <tr>\n",
       "      <th>2713</th>\n",
       "      <td>59.168476</td>\n",
       "      <td>44.337734</td>\n",
       "      <td>46.249710</td>\n",
       "    </tr>\n",
       "    <tr>\n",
       "      <th>2714</th>\n",
       "      <td>59.532645</td>\n",
       "      <td>43.999519</td>\n",
       "      <td>45.893978</td>\n",
       "    </tr>\n",
       "    <tr>\n",
       "      <th>2715</th>\n",
       "      <td>59.899056</td>\n",
       "      <td>43.659530</td>\n",
       "      <td>45.536633</td>\n",
       "    </tr>\n",
       "    <tr>\n",
       "      <th>...</th>\n",
       "      <td>...</td>\n",
       "      <td>...</td>\n",
       "      <td>...</td>\n",
       "    </tr>\n",
       "    <tr>\n",
       "      <th>2835</th>\n",
       "      <td>125.082250</td>\n",
       "      <td>4.161504</td>\n",
       "      <td>4.783552</td>\n",
       "    </tr>\n",
       "    <tr>\n",
       "      <th>2836</th>\n",
       "      <td>125.852104</td>\n",
       "      <td>4.006318</td>\n",
       "      <td>4.622667</td>\n",
       "    </tr>\n",
       "    <tr>\n",
       "      <th>2837</th>\n",
       "      <td>126.626697</td>\n",
       "      <td>3.855343</td>\n",
       "      <td>4.466046</td>\n",
       "    </tr>\n",
       "    <tr>\n",
       "      <th>2838</th>\n",
       "      <td>127.406058</td>\n",
       "      <td>3.708535</td>\n",
       "      <td>4.313643</td>\n",
       "    </tr>\n",
       "    <tr>\n",
       "      <th>2839</th>\n",
       "      <td>128.190215</td>\n",
       "      <td>3.565845</td>\n",
       "      <td>4.165409</td>\n",
       "    </tr>\n",
       "    <tr>\n",
       "      <th>2840</th>\n",
       "      <td>128.979198</td>\n",
       "      <td>3.427224</td>\n",
       "      <td>4.021295</td>\n",
       "    </tr>\n",
       "    <tr>\n",
       "      <th>2841</th>\n",
       "      <td>129.773037</td>\n",
       "      <td>3.292619</td>\n",
       "      <td>3.881247</td>\n",
       "    </tr>\n",
       "    <tr>\n",
       "      <th>2842</th>\n",
       "      <td>130.571763</td>\n",
       "      <td>3.161976</td>\n",
       "      <td>3.745211</td>\n",
       "    </tr>\n",
       "    <tr>\n",
       "      <th>2843</th>\n",
       "      <td>131.375404</td>\n",
       "      <td>3.035239</td>\n",
       "      <td>3.613131</td>\n",
       "    </tr>\n",
       "    <tr>\n",
       "      <th>2844</th>\n",
       "      <td>132.183992</td>\n",
       "      <td>2.912351</td>\n",
       "      <td>3.484948</td>\n",
       "    </tr>\n",
       "    <tr>\n",
       "      <th>2845</th>\n",
       "      <td>132.997556</td>\n",
       "      <td>2.793251</td>\n",
       "      <td>3.360603</td>\n",
       "    </tr>\n",
       "    <tr>\n",
       "      <th>2846</th>\n",
       "      <td>133.816128</td>\n",
       "      <td>2.677880</td>\n",
       "      <td>3.240033</td>\n",
       "    </tr>\n",
       "    <tr>\n",
       "      <th>2847</th>\n",
       "      <td>134.639737</td>\n",
       "      <td>2.566173</td>\n",
       "      <td>3.123177</td>\n",
       "    </tr>\n",
       "    <tr>\n",
       "      <th>2848</th>\n",
       "      <td>135.468416</td>\n",
       "      <td>2.458068</td>\n",
       "      <td>3.009969</td>\n",
       "    </tr>\n",
       "    <tr>\n",
       "      <th>2849</th>\n",
       "      <td>136.302195</td>\n",
       "      <td>2.353500</td>\n",
       "      <td>2.900344</td>\n",
       "    </tr>\n",
       "    <tr>\n",
       "      <th>2850</th>\n",
       "      <td>137.141106</td>\n",
       "      <td>2.252402</td>\n",
       "      <td>2.794236</td>\n",
       "    </tr>\n",
       "    <tr>\n",
       "      <th>2851</th>\n",
       "      <td>137.985180</td>\n",
       "      <td>2.154707</td>\n",
       "      <td>2.691577</td>\n",
       "    </tr>\n",
       "    <tr>\n",
       "      <th>2852</th>\n",
       "      <td>138.834450</td>\n",
       "      <td>2.060348</td>\n",
       "      <td>2.592299</td>\n",
       "    </tr>\n",
       "    <tr>\n",
       "      <th>2853</th>\n",
       "      <td>139.688946</td>\n",
       "      <td>1.969254</td>\n",
       "      <td>2.496332</td>\n",
       "    </tr>\n",
       "    <tr>\n",
       "      <th>2854</th>\n",
       "      <td>140.548702</td>\n",
       "      <td>1.881358</td>\n",
       "      <td>2.403607</td>\n",
       "    </tr>\n",
       "    <tr>\n",
       "      <th>2855</th>\n",
       "      <td>141.413749</td>\n",
       "      <td>1.796589</td>\n",
       "      <td>2.314053</td>\n",
       "    </tr>\n",
       "    <tr>\n",
       "      <th>2856</th>\n",
       "      <td>142.284120</td>\n",
       "      <td>1.714876</td>\n",
       "      <td>2.227599</td>\n",
       "    </tr>\n",
       "    <tr>\n",
       "      <th>2857</th>\n",
       "      <td>143.159849</td>\n",
       "      <td>1.636149</td>\n",
       "      <td>2.144175</td>\n",
       "    </tr>\n",
       "    <tr>\n",
       "      <th>2858</th>\n",
       "      <td>144.040967</td>\n",
       "      <td>1.560337</td>\n",
       "      <td>2.063708</td>\n",
       "    </tr>\n",
       "    <tr>\n",
       "      <th>2859</th>\n",
       "      <td>144.927508</td>\n",
       "      <td>1.487368</td>\n",
       "      <td>1.986128</td>\n",
       "    </tr>\n",
       "    <tr>\n",
       "      <th>2860</th>\n",
       "      <td>145.819506</td>\n",
       "      <td>1.417171</td>\n",
       "      <td>1.911362</td>\n",
       "    </tr>\n",
       "    <tr>\n",
       "      <th>2861</th>\n",
       "      <td>146.716994</td>\n",
       "      <td>1.349676</td>\n",
       "      <td>1.839339</td>\n",
       "    </tr>\n",
       "    <tr>\n",
       "      <th>2862</th>\n",
       "      <td>147.620006</td>\n",
       "      <td>1.284811</td>\n",
       "      <td>1.769988</td>\n",
       "    </tr>\n",
       "    <tr>\n",
       "      <th>2863</th>\n",
       "      <td>148.528576</td>\n",
       "      <td>1.222505</td>\n",
       "      <td>1.703237</td>\n",
       "    </tr>\n",
       "    <tr>\n",
       "      <th>2864</th>\n",
       "      <td>149.442737</td>\n",
       "      <td>1.162688</td>\n",
       "      <td>1.639015</td>\n",
       "    </tr>\n",
       "  </tbody>\n",
       "</table>\n",
       "<p>179 rows × 3 columns</p>\n",
       "</div>"
      ],
      "text/plain": [
       "               K         BS        FFT\n",
       "2686   50.134980  52.791133  55.242491\n",
       "2687   50.443550  52.501140  54.930039\n",
       "2688   50.754020  52.209410  54.616057\n",
       "2689   51.066400  51.915938  54.300536\n",
       "2690   51.380702  51.620717  53.983468\n",
       "2691   51.696940  51.323741  53.664845\n",
       "2692   52.015123  51.025002  53.344658\n",
       "2693   52.335265  50.724496  53.022900\n",
       "2694   52.657378  50.422218  52.699564\n",
       "2695   52.981473  50.118161  52.374643\n",
       "2696   53.307562  49.812321  52.048130\n",
       "2697   53.635659  49.504693  51.720019\n",
       "2698   53.965775  49.195274  51.390304\n",
       "2699   54.297923  48.884060  51.058979\n",
       "2700   54.632115  48.571048  50.726041\n",
       "2701   54.968364  48.256234  50.391484\n",
       "2702   55.306682  47.939617  50.055304\n",
       "2703   55.647083  47.621194  49.717499\n",
       "2704   55.989579  47.300966  49.378064\n",
       "2705   56.334183  46.978930  49.036999\n",
       "2706   56.680908  46.655087  48.694301\n",
       "2707   57.029767  46.329438  48.349969\n",
       "2708   57.380773  46.001984  48.004004\n",
       "2709   57.733939  45.672727  47.656405\n",
       "2710   58.089279  45.341669  47.307173\n",
       "2711   58.446806  45.008815  46.956312\n",
       "2712   58.806534  44.674168  46.603823\n",
       "2713   59.168476  44.337734  46.249710\n",
       "2714   59.532645  43.999519  45.893978\n",
       "2715   59.899056  43.659530  45.536633\n",
       "...          ...        ...        ...\n",
       "2835  125.082250   4.161504   4.783552\n",
       "2836  125.852104   4.006318   4.622667\n",
       "2837  126.626697   3.855343   4.466046\n",
       "2838  127.406058   3.708535   4.313643\n",
       "2839  128.190215   3.565845   4.165409\n",
       "2840  128.979198   3.427224   4.021295\n",
       "2841  129.773037   3.292619   3.881247\n",
       "2842  130.571763   3.161976   3.745211\n",
       "2843  131.375404   3.035239   3.613131\n",
       "2844  132.183992   2.912351   3.484948\n",
       "2845  132.997556   2.793251   3.360603\n",
       "2846  133.816128   2.677880   3.240033\n",
       "2847  134.639737   2.566173   3.123177\n",
       "2848  135.468416   2.458068   3.009969\n",
       "2849  136.302195   2.353500   2.900344\n",
       "2850  137.141106   2.252402   2.794236\n",
       "2851  137.985180   2.154707   2.691577\n",
       "2852  138.834450   2.060348   2.592299\n",
       "2853  139.688946   1.969254   2.496332\n",
       "2854  140.548702   1.881358   2.403607\n",
       "2855  141.413749   1.796589   2.314053\n",
       "2856  142.284120   1.714876   2.227599\n",
       "2857  143.159849   1.636149   2.144175\n",
       "2858  144.040967   1.560337   2.063708\n",
       "2859  144.927508   1.487368   1.986128\n",
       "2860  145.819506   1.417171   1.911362\n",
       "2861  146.716994   1.349676   1.839339\n",
       "2862  147.620006   1.284811   1.769988\n",
       "2863  148.528576   1.222505   1.703237\n",
       "2864  149.442737   1.162688   1.639015\n",
       "\n",
       "[179 rows x 3 columns]"
      ]
     },
     "execution_count": 223,
     "metadata": {},
     "output_type": "execute_result"
    }
   ],
   "source": [
    "temp[(temp['K'] > 50) & (temp['K'] < 150)]"
   ]
  },
  {
   "cell_type": "code",
   "execution_count": 224,
   "metadata": {},
   "outputs": [
    {
     "data": {
      "application/vnd.plotly.v1+json": {
       "config": {
        "linkText": "Export to plot.ly",
        "plotlyServerURL": "https://plot.ly",
        "showLink": false
       },
       "data": [
        {
         "name": "Black-Scholes",
         "type": "scatter",
         "x": [
          40.19834144668158,
          40.44575365552177,
          40.69468863368243,
          40.94515575348347,
          41.19716444492954,
          41.45072419606499,
          41.70584455333103,
          41.96253512192505,
          42.2208055661628,
          42.48066560984142,
          42.74212503660605,
          43.005193690318116,
          43.26988147542573,
          43.536198357337234,
          43.80415436279549,
          44.07375958025594,
          44.345024160266334,
          44.617958315848895,
          44.89257232288462,
          45.168876520500866,
          45.44688131145962,
          45.72659716254981,
          46.00803460498121,
          46.2912042347808,
          46.576116713192306,
          46.86278276707666,
          47.15121318931648,
          47.4414188392223,
          47.73341064294136,
          48.02719959386886,
          48.322796753062484,
          48.62021324965788,
          48.91946028128831,
          49.22054911450606,
          49.5234910852065,
          49.82829759905552,
          50.134980131917914,
          50.443550230290164,
          50.754019511734974,
          51.066399665318656,
          51.38070245205105,
          51.696939705329044,
          52.01512333138103,
          52.33526530971585,
          52.65737769357368,
          52.98147261037962,
          53.30756226220105,
          53.63565892620591,
          53.965774955125674,
          54.29792277772024,
          54.63211489924585,
          54.96836390192576,
          55.306682445424705,
          55.64708326732436,
          55.98957918360369,
          56.334183089121275,
          56.680907958100605,
          57.02976684461934,
          57.380772883099596,
          57.733939288803256,
          58.08927935832932,
          58.44680647011452,
          58.806534084936786,
          59.168475746422914,
          59.53264508155717,
          59.899055801195246,
          60.26772170058019,
          60.63865665986163,
          61.01187464461919,
          61.38738970638701,
          61.765215983183644,
          62.14536770004412,
          62.52785916955552,
          62.91270479239564,
          63.29991905787602,
          63.68951654448615,
          64.08151192044326,
          64.4759199442443,
          64.87275546522139,
          65.27203342410179,
          65.67376885356913,
          66.07797687883013,
          66.484672718184,
          66.89387168359531,
          67.30558918127025,
          67.71984071223764,
          68.13664187293112,
          68.55600835577731,
          68.97795594978629,
          69.40250054114595,
          69.829658113821,
          70.25944475015328,
          70.69187663146826,
          71.12697003868404,
          71.56474135292426,
          72.00520705613464,
          72.44838373170452,
          72.89428806508973,
          73.34293684444168,
          73.79434696123938,
          74.24853541092494,
          74.70551929354464,
          75.16531581439104,
          75.62794228465191,
          76.09341612206167,
          76.56175485155718,
          77.03297610593728,
          77.50709762652772,
          77.98413726384751,
          78.4641129782821,
          78.94704284075921,
          79.43294503342905,
          79.92183785034987,
          80.41373969817514,
          80.90866909684762,
          81.40664468029634,
          81.90768519713824,
          82.41180951138362,
          82.91903660314772,
          83.42938556936335,
          83.94287562450123,
          84.45952610129301,
          84.9793564514589,
          85.50238624644118,
          86.02863517813927,
          86.55812305965233,
          87.09086982602494,
          87.6268955349976,
          88.16622036776161,
          88.70886462972014,
          89.25484875125082,
          89.80419328847624,
          90.3569189240375,
          90.91304646787266,
          91.47259685800142,
          92.0355911613116,
          92.60205057435353,
          93.17199642413773,
          93.745450168938,
          94.32243339909884,
          94.90296783784973,
          95.487075342121,
          96.07477790336802,
          96.66609764839892,
          97.26105684020722,
          97.85967787881145,
          98.4619833020965,
          99.06799578666337,
          99.6777381486828,
          100.29123334475412,
          100.9085044727693,
          101.52957477278396,
          102.15446762789024,
          102.78320656509858,
          103.41581525622313,
          104.05231751877264,
          104.69273731684868,
          105.33709876204557,
          105.98542611435978,
          106.63774378310286,
          107.29407632782043,
          107.95444845921655,
          108.61888504008547,
          109.28741108624551,
          109.96005176748241,
          110.63683240849655,
          111.31777848985601,
          112.00291564895757,
          112.6922696809895,
          113.38586653990431,
          114.08373233939561,
          114.78589335388118,
          115.4923760194918,
          116.20320693506828,
          116.91841286316034,
          117.63802073103591,
          118.36205763169447,
          119.09055082488719,
          119.8235277381427,
          120.56101596780154,
          121.3030432800525,
          122.04963761197985,
          122.80082707261454,
          123.55663994399224,
          124.31710468221979,
          125.082249918544,
          125.85210446043132,
          126.62669729265201,
          127.40605757837139,
          128.1902146602474,
          128.97919806153712,
          129.77303748720558,
          130.5717628250461,
          131.37540414680484,
          132.18399170931275,
          132.99755595562652,
          133.81612751617192,
          134.63973720989895,
          135.46841604544161,
          136.3021952222855,
          137.14110613194185,
          137.98518035913142,
          138.8344496829707,
          139.6889460781704,
          140.54870171623867,
          141.41374896669197,
          142.28412039827575,
          143.15984878018756,
          144.04096708331292,
          144.9275084814661,
          145.81950635263908,
          146.7169942802578,
          147.62000605444854,
          148.52857567330702,
          149.4427373441805,
          150.36252548495517,
          151.28797472535146,
          152.21911990822989,
          153.15599609089972,
          154.0986385464411,
          155.04708276503237,
          156.00136445528636,
          156.96151954559423,
          157.9275841854804,
          158.89959474696025,
          159.87758782591163
         ],
         "y": [
          62.14280801604801,
          61.90982473915677,
          61.67540964073506,
          61.4395541275078,
          61.20224957420411,
          60.963487325182854,
          60.72325869620989,
          60.481554976397256,
          60.2383674303148,
          59.993687300287235,
          59.74750580888598,
          59.49981416163052,
          59.25060354991113,
          58.99986515414649,
          58.747590147192135,
          58.49376969801195,
          58.23839497563001,
          57.98145715337822,
          57.722947413456374,
          57.4628569518209,
          57.20117698342256,
          56.93789874780805,
          56.67301351510681,
          56.40651259242155,
          56.1383873306417,
          55.86862913170231,
          55.59722945630607,
          55.32417983213197,
          55.04947186255141,
          54.77309723587343,
          54.4950477351407,
          54.21531524850051,
          53.93389178017037,
          53.65076946202283,
          53.3659405658113,
          53.07939751605833,
          52.79113290363122,
          52.501139500023115,
          52.209410272364195,
          51.91593839918229,
          51.620717286934294,
          51.32374058732654,
          51.025002215445824,
          50.72449636871528,
          50.42221754669465,
          50.11816057173892,
          49.8123206105292,
          49.50469319649016,
          49.19527425310166,
          48.8840601181155,
          48.57104756868336,
          48.25623384740006,
          47.93961668926362,
          47.621194349553804,
          47.30096563262199,
          46.9789299215891,
          46.65508720894059,
          46.32943812800518,
          46.001983985303156,
          45.672726793741106,
          45.341669306631395,
          45.00881505250776,
          44.67416837070514,
          44.33773444766631,
          43.999519353937366,
          43.6595300818028,
          43.31777458351328,
          42.974261810049676,
          42.62900175036346,
          42.282005471030985,
          41.93328515624863,
          41.5828541480964,
          41.23072698698964,
          40.876919452233714,
          40.52144860259115,
          40.164332816768706,
          39.80559183372089,
          39.445246792668094,
          39.0833202727188,
          38.71983633198107,
          38.35482054604752,
          37.98830004572758,
          37.62030355390323,
          37.25086142137667,
          36.88000566157672,
          36.507769983985796,
          36.13418982615104,
          35.75930238413328,
          35.38314664125349,
          35.00576339498945,
          34.62719528187548,
          34.24748680026115,
          33.866684330777055,
          33.4848361543645,
          33.10199246772133,
          32.718205396020416,
          32.333529002757075,
          31.948019296589315,
          31.561734235030606,
          31.174733724865945,
          30.78707961916355,
          30.398835710758014,
          30.010067722093062,
          29.620843291309207,
          29.2312319544779,
          28.841305123886123,
          28.451136062286295,
          28.06079985303353,
          27.670373366046157,
          27.2799352195294,
          26.889565737418927,
          26.499346902509387,
          26.109362305244645,
          25.719697088162732,
          25.330437885993994,
          24.941672761432365,
          24.55349113660727,
          24.16598372030085,
          23.779242430966335,
          23.393360315622814,
          23.00843146470836,
          22.62455092299559,
          22.24181459668381,
          21.860319156796436,
          21.480161939031383,
          21.101440840218153,
          20.72425421155708,
          20.348700748826438,
          19.97487937975577,
          19.602889148777876,
          19.232829099386173,
          18.86479815433055,
          18.49889499390207,
          18.135217932564203,
          17.77386479419752,
          17.41493278623816,
          17.058518372991358,
          16.704717148415895,
          16.353623708677027,
          16.005331524773162,
          15.659932815543485,
          15.317518421371688,
          14.978177678896436,
          14.641998297046626,
          14.309066234715814,
          13.979465580389665,
          13.653278434040267,
          13.330584791592912,
          13.011462432271124,
          12.695986809117642,
          12.38423094298198,
          12.076265320257264,
          11.772157794642503,
          11.471973493190639,
          11.17577472689753,
          10.883620906071123,
          10.595568460707348,
          10.311670766088106,
          10.031978073796274,
          9.756537448332736,
          9.485392709500637,
          9.218584380706005,
          8.956149643305679,
          8.698122297117798,
          8.444532727186782,
          8.195407876880964,
          7.950771227378645,
          7.71064278357936,
          7.475039066460113,
          7.243973111872272,
          7.017454475759855,
          6.795489245758013,
          6.578080059112402,
          6.365226126840156,
          6.156923264037609,
          5.953163926217414,
          5.753937251544599,
          5.559229108821544,
          5.369022151057152,
          5.183295874438048,
          5.002026682508593,
          4.825187955347442,
          4.652750123520526,
          4.484680746575016,
          4.320944595828578,
          4.161503741199667,
          4.0063176418126965,
          3.8553432401067766,
          3.708535059168277,
          3.565845303002529,
          3.427223959454114,
          3.292618905484332,
          3.1619760145081095,
          3.035239265495086,
          2.9123508535372977,
          2.7932513015867393,
          2.6778795730699088,
          2.5661731850863845,
          2.458068321905163,
          2.3534999484759567,
          2.2524019236788853,
          2.1547071130422832,
          2.0603475006672056,
          1.9692543001030902,
          1.8813580639307652,
          1.7965887918169852,
          1.7148760368151912,
          1.636149009699281,
          1.560336681126481,
          1.4873678814394555,
          1.417171397928355,
          1.3496760693868506,
          1.2848108778086331,
          1.222505037084428,
          1.1626880785715041,
          1.1052899334221102,
          1.0502410115698382,
          0.9974722772859685,
          0.9469153212316606,
          0.8985024289436092,
          0.852166645704953,
          0.8078418377643413,
          0.7654627498795472,
          0.7249650591728241,
          0.68628542529774,
          0.6493615369274561
         ]
        },
        {
         "name": "FFT",
         "type": "scatter",
         "x": [
          40.19834144668158,
          40.44575365552177,
          40.69468863368243,
          40.94515575348347,
          41.19716444492954,
          41.45072419606499,
          41.70584455333103,
          41.96253512192505,
          42.2208055661628,
          42.48066560984142,
          42.74212503660605,
          43.005193690318116,
          43.26988147542573,
          43.536198357337234,
          43.80415436279549,
          44.07375958025594,
          44.345024160266334,
          44.617958315848895,
          44.89257232288462,
          45.168876520500866,
          45.44688131145962,
          45.72659716254981,
          46.00803460498121,
          46.2912042347808,
          46.576116713192306,
          46.86278276707666,
          47.15121318931648,
          47.4414188392223,
          47.73341064294136,
          48.02719959386886,
          48.322796753062484,
          48.62021324965788,
          48.91946028128831,
          49.22054911450606,
          49.5234910852065,
          49.82829759905552,
          50.134980131917914,
          50.443550230290164,
          50.754019511734974,
          51.066399665318656,
          51.38070245205105,
          51.696939705329044,
          52.01512333138103,
          52.33526530971585,
          52.65737769357368,
          52.98147261037962,
          53.30756226220105,
          53.63565892620591,
          53.965774955125674,
          54.29792277772024,
          54.63211489924585,
          54.96836390192576,
          55.306682445424705,
          55.64708326732436,
          55.98957918360369,
          56.334183089121275,
          56.680907958100605,
          57.02976684461934,
          57.380772883099596,
          57.733939288803256,
          58.08927935832932,
          58.44680647011452,
          58.806534084936786,
          59.168475746422914,
          59.53264508155717,
          59.899055801195246,
          60.26772170058019,
          60.63865665986163,
          61.01187464461919,
          61.38738970638701,
          61.765215983183644,
          62.14536770004412,
          62.52785916955552,
          62.91270479239564,
          63.29991905787602,
          63.68951654448615,
          64.08151192044326,
          64.4759199442443,
          64.87275546522139,
          65.27203342410179,
          65.67376885356913,
          66.07797687883013,
          66.484672718184,
          66.89387168359531,
          67.30558918127025,
          67.71984071223764,
          68.13664187293112,
          68.55600835577731,
          68.97795594978629,
          69.40250054114595,
          69.829658113821,
          70.25944475015328,
          70.69187663146826,
          71.12697003868404,
          71.56474135292426,
          72.00520705613464,
          72.44838373170452,
          72.89428806508973,
          73.34293684444168,
          73.79434696123938,
          74.24853541092494,
          74.70551929354464,
          75.16531581439104,
          75.62794228465191,
          76.09341612206167,
          76.56175485155718,
          77.03297610593728,
          77.50709762652772,
          77.98413726384751,
          78.4641129782821,
          78.94704284075921,
          79.43294503342905,
          79.92183785034987,
          80.41373969817514,
          80.90866909684762,
          81.40664468029634,
          81.90768519713824,
          82.41180951138362,
          82.91903660314772,
          83.42938556936335,
          83.94287562450123,
          84.45952610129301,
          84.9793564514589,
          85.50238624644118,
          86.02863517813927,
          86.55812305965233,
          87.09086982602494,
          87.6268955349976,
          88.16622036776161,
          88.70886462972014,
          89.25484875125082,
          89.80419328847624,
          90.3569189240375,
          90.91304646787266,
          91.47259685800142,
          92.0355911613116,
          92.60205057435353,
          93.17199642413773,
          93.745450168938,
          94.32243339909884,
          94.90296783784973,
          95.487075342121,
          96.07477790336802,
          96.66609764839892,
          97.26105684020722,
          97.85967787881145,
          98.4619833020965,
          99.06799578666337,
          99.6777381486828,
          100.29123334475412,
          100.9085044727693,
          101.52957477278396,
          102.15446762789024,
          102.78320656509858,
          103.41581525622313,
          104.05231751877264,
          104.69273731684868,
          105.33709876204557,
          105.98542611435978,
          106.63774378310286,
          107.29407632782043,
          107.95444845921655,
          108.61888504008547,
          109.28741108624551,
          109.96005176748241,
          110.63683240849655,
          111.31777848985601,
          112.00291564895757,
          112.6922696809895,
          113.38586653990431,
          114.08373233939561,
          114.78589335388118,
          115.4923760194918,
          116.20320693506828,
          116.91841286316034,
          117.63802073103591,
          118.36205763169447,
          119.09055082488719,
          119.8235277381427,
          120.56101596780154,
          121.3030432800525,
          122.04963761197985,
          122.80082707261454,
          123.55663994399224,
          124.31710468221979,
          125.082249918544,
          125.85210446043132,
          126.62669729265201,
          127.40605757837139,
          128.1902146602474,
          128.97919806153712,
          129.77303748720558,
          130.5717628250461,
          131.37540414680484,
          132.18399170931275,
          132.99755595562652,
          133.81612751617192,
          134.63973720989895,
          135.46841604544161,
          136.3021952222855,
          137.14110613194185,
          137.98518035913142,
          138.8344496829707,
          139.6889460781704,
          140.54870171623867,
          141.41374896669197,
          142.28412039827575,
          143.15984878018756,
          144.04096708331292,
          144.9275084814661,
          145.81950635263908,
          146.7169942802578,
          147.62000605444854,
          148.52857567330702,
          149.4427373441805,
          150.36252548495517,
          151.28797472535146,
          152.21911990822989,
          153.15599609089972,
          154.0986385464411,
          155.04708276503237,
          156.00136445528636,
          156.96151954559423,
          157.9275841854804,
          158.89959474696025,
          159.87758782591163
         ],
         "y": [
          65.55714019923676,
          65.29287597445315,
          65.02746651350502,
          64.76090059752019,
          64.49316699968531,
          64.22425448665125,
          63.95415182009187,
          63.68284775842723,
          63.41033105871986,
          63.13659047876073,
          62.861614779349786,
          62.58539272678886,
          62.30791309559809,
          62.02916467146803,
          61.74913625446628,
          61.46781666250732,
          61.185194735105284,
          60.90125933742437,
          60.6159993646434,
          60.32940374665032,
          60.041461453088786,
          59.752161498768984,
          59.461492949466155,
          59.16944492812444,
          58.87600662148482,
          58.58116728716146,
          58.284916261181635,
          57.987242966014435,
          57.688136919108594,
          57.3875877419611,
          57.085585169737584,
          56.78211906147068,
          56.47717941085317,
          56.17075635765259,
          55.862840199768506,
          55.553421405952946,
          55.242490629221166,
          54.930038720968184,
          54.61605674581721,
          54.30053599721931,
          53.98346801382513,
          53.66484459664658,
          53.34465782703186,
          53.0229000854655,
          52.69956407121468,
          52.37464282283575,
          52.04812973955334,
          51.72001860352883,
          51.3903036030231,
          51.05897935646651,
          50.7260409374411,
          50.39148390057969,
          50.05530430838257,
          49.71749875895485,
          49.37806441465568,
          49.036999031657096,
          48.69430099040133,
          48.3499693269426,
          48.00400376516062,
          47.656404749820936,
          47.30717348046166,
          46.956311946077385,
          46.603822960568735,
          46.249710198919516,
          45.89397823406445,
          45.53663257439728,
          45.177679701872705,
          44.81712711064615,
          44.454983346190325,
          44.091258044827754,
          43.725961973604285,
          43.35910707043297,
          42.9907064844266,
          42.620774616334764,
          42.249327158993864,
          41.87638113769884,
          41.501954950391834,
          41.12606840756678,
          40.74874277177908,
          40.37000079664535,
          39.98986676521829,
          39.608366527609085,
          39.22552753773487,
          38.84137888905876,
          38.45595134918982,
          38.069277393204494,
          37.681391235553114,
          37.29232886040544,
          36.902128050294124,
          36.51082841290991,
          36.11847140590057,
          35.72510035952957,
          35.33076049704311,
          34.93549895260158,
          34.53936478662835,
          34.14240899843196,
          33.74468453595826,
          33.346246302536045,
          32.947151160476096,
          32.54745793139478,
          32.14722739313341,
          31.74652227315085,
          31.345407238275406,
          30.943948880703516,
          30.54221570014507,
          30.140278082020316,
          29.7382082716227,
          29.336080344170057,
          28.93397017067964,
          28.531955379607076,
          28.13011531420625,
          27.72853098557466,
          27.327285021361586,
          26.926461610130964,
          26.526146441379243,
          26.12642664122623,
          25.72739070380791,
          25.329128418414797,
          24.93173079243283,
          24.53528997016045,
          24.139899147585563,
          23.74565248322529,
          23.352645005142875,
          22.96097251427124,
          22.57073148418889,
          22.182018957504415,
          21.79493243902351,
          21.40956978588397,
          21.02602909485828,
          20.64440858703529,
          20.264806490107453,
          19.887320918497817,
          19.512049751576267,
          19.13909051022274,
          18.76854023200512,
          18.40049534525049,
          18.035051542293065,
          17.672303652193097,
          17.312345513225143,
          16.955269845440267,
          16.601168123610535,
          16.250130450869168,
          15.90224543335886,
          15.557600056205056,
          15.216279561129104,
          14.878367326015118,
          14.543944746743744,
          14.213091121599469,
          13.885883538556666,
          13.562396765741818,
          13.24270314536309,
          12.926872491390057,
          12.614971991258374,
          12.307066111861817,
          12.0032165100852,
          11.703481948118105,
          11.40791821377622,
          11.116578046044339,
          10.829511066037862,
          10.546763713566355,
          10.268379189464802,
          9.994397403841807,
          9.724854930375852,
          9.459784966773789,
          9.199217301485193,
          8.943178286749328,
          8.691690818031073,
          8.444774319882914,
          8.202444738251492,
          7.964714539226111,
          7.7315927142086975,
          7.503084791464461,
          7.279192853993783,
          7.059915563646577,
          6.845248191383005,
          6.6351826535648035,
          6.429707554145575,
          6.228808232610622,
          6.032466817501015,
          5.840662285340855,
          5.653370524772639,
          5.470564405690666,
          5.2922138531506056,
          5.118285925820622,
          4.948744898728434,
          4.783552350049244,
          4.622667251669414,
          4.466046063253918,
          4.313642829538035,
          4.165409280558375,
          4.021294934533386,
          3.8812472031005476,
          3.7452114986142004,
          3.613131343207489,
          3.484948479321236,
          3.3606029814034604,
          3.2400333684855536,
          3.123176717343415,
          3.009968775956478,
          2.9003440769820203,
          2.7942360509682107,
          2.6915771390358056,
          2.592298904766372,
          2.496332145042609,
          2.4036069995959704,
          2.314053059026156,
          2.227599471067406,
          2.144175044887684,
          2.0637083532177494,
          1.9861278321194205,
          1.9113618782142587,
          1.8393389432065175,
          1.7699876255469422,
          1.703236759097101,
          1.6390154986668264,
          1.5772534023107445,
          1.5178805102829864,
          1.4608274205623173,
          1.4060253608731481,
          1.3534062571406014,
          1.302902798330802,
          1.2544484976399057,
          1.2079777500076923,
          1.163425885943391,
          1.1207292216630576,
          1.0798251055487862
         ]
        }
       ],
       "layout": {
        "template": {
         "data": {
          "bar": [
           {
            "error_x": {
             "color": "#2a3f5f"
            },
            "error_y": {
             "color": "#2a3f5f"
            },
            "marker": {
             "line": {
              "color": "#E5ECF6",
              "width": 0.5
             }
            },
            "type": "bar"
           }
          ],
          "barpolar": [
           {
            "marker": {
             "line": {
              "color": "#E5ECF6",
              "width": 0.5
             }
            },
            "type": "barpolar"
           }
          ],
          "carpet": [
           {
            "aaxis": {
             "endlinecolor": "#2a3f5f",
             "gridcolor": "white",
             "linecolor": "white",
             "minorgridcolor": "white",
             "startlinecolor": "#2a3f5f"
            },
            "baxis": {
             "endlinecolor": "#2a3f5f",
             "gridcolor": "white",
             "linecolor": "white",
             "minorgridcolor": "white",
             "startlinecolor": "#2a3f5f"
            },
            "type": "carpet"
           }
          ],
          "choropleth": [
           {
            "colorbar": {
             "outlinewidth": 0,
             "ticks": ""
            },
            "type": "choropleth"
           }
          ],
          "contour": [
           {
            "colorbar": {
             "outlinewidth": 0,
             "ticks": ""
            },
            "colorscale": [
             [
              0,
              "#0d0887"
             ],
             [
              0.1111111111111111,
              "#46039f"
             ],
             [
              0.2222222222222222,
              "#7201a8"
             ],
             [
              0.3333333333333333,
              "#9c179e"
             ],
             [
              0.4444444444444444,
              "#bd3786"
             ],
             [
              0.5555555555555556,
              "#d8576b"
             ],
             [
              0.6666666666666666,
              "#ed7953"
             ],
             [
              0.7777777777777778,
              "#fb9f3a"
             ],
             [
              0.8888888888888888,
              "#fdca26"
             ],
             [
              1,
              "#f0f921"
             ]
            ],
            "type": "contour"
           }
          ],
          "contourcarpet": [
           {
            "colorbar": {
             "outlinewidth": 0,
             "ticks": ""
            },
            "type": "contourcarpet"
           }
          ],
          "heatmap": [
           {
            "colorbar": {
             "outlinewidth": 0,
             "ticks": ""
            },
            "colorscale": [
             [
              0,
              "#0d0887"
             ],
             [
              0.1111111111111111,
              "#46039f"
             ],
             [
              0.2222222222222222,
              "#7201a8"
             ],
             [
              0.3333333333333333,
              "#9c179e"
             ],
             [
              0.4444444444444444,
              "#bd3786"
             ],
             [
              0.5555555555555556,
              "#d8576b"
             ],
             [
              0.6666666666666666,
              "#ed7953"
             ],
             [
              0.7777777777777778,
              "#fb9f3a"
             ],
             [
              0.8888888888888888,
              "#fdca26"
             ],
             [
              1,
              "#f0f921"
             ]
            ],
            "type": "heatmap"
           }
          ],
          "heatmapgl": [
           {
            "colorbar": {
             "outlinewidth": 0,
             "ticks": ""
            },
            "colorscale": [
             [
              0,
              "#0d0887"
             ],
             [
              0.1111111111111111,
              "#46039f"
             ],
             [
              0.2222222222222222,
              "#7201a8"
             ],
             [
              0.3333333333333333,
              "#9c179e"
             ],
             [
              0.4444444444444444,
              "#bd3786"
             ],
             [
              0.5555555555555556,
              "#d8576b"
             ],
             [
              0.6666666666666666,
              "#ed7953"
             ],
             [
              0.7777777777777778,
              "#fb9f3a"
             ],
             [
              0.8888888888888888,
              "#fdca26"
             ],
             [
              1,
              "#f0f921"
             ]
            ],
            "type": "heatmapgl"
           }
          ],
          "histogram": [
           {
            "marker": {
             "colorbar": {
              "outlinewidth": 0,
              "ticks": ""
             }
            },
            "type": "histogram"
           }
          ],
          "histogram2d": [
           {
            "colorbar": {
             "outlinewidth": 0,
             "ticks": ""
            },
            "colorscale": [
             [
              0,
              "#0d0887"
             ],
             [
              0.1111111111111111,
              "#46039f"
             ],
             [
              0.2222222222222222,
              "#7201a8"
             ],
             [
              0.3333333333333333,
              "#9c179e"
             ],
             [
              0.4444444444444444,
              "#bd3786"
             ],
             [
              0.5555555555555556,
              "#d8576b"
             ],
             [
              0.6666666666666666,
              "#ed7953"
             ],
             [
              0.7777777777777778,
              "#fb9f3a"
             ],
             [
              0.8888888888888888,
              "#fdca26"
             ],
             [
              1,
              "#f0f921"
             ]
            ],
            "type": "histogram2d"
           }
          ],
          "histogram2dcontour": [
           {
            "colorbar": {
             "outlinewidth": 0,
             "ticks": ""
            },
            "colorscale": [
             [
              0,
              "#0d0887"
             ],
             [
              0.1111111111111111,
              "#46039f"
             ],
             [
              0.2222222222222222,
              "#7201a8"
             ],
             [
              0.3333333333333333,
              "#9c179e"
             ],
             [
              0.4444444444444444,
              "#bd3786"
             ],
             [
              0.5555555555555556,
              "#d8576b"
             ],
             [
              0.6666666666666666,
              "#ed7953"
             ],
             [
              0.7777777777777778,
              "#fb9f3a"
             ],
             [
              0.8888888888888888,
              "#fdca26"
             ],
             [
              1,
              "#f0f921"
             ]
            ],
            "type": "histogram2dcontour"
           }
          ],
          "mesh3d": [
           {
            "colorbar": {
             "outlinewidth": 0,
             "ticks": ""
            },
            "type": "mesh3d"
           }
          ],
          "parcoords": [
           {
            "line": {
             "colorbar": {
              "outlinewidth": 0,
              "ticks": ""
             }
            },
            "type": "parcoords"
           }
          ],
          "scatter": [
           {
            "marker": {
             "colorbar": {
              "outlinewidth": 0,
              "ticks": ""
             }
            },
            "type": "scatter"
           }
          ],
          "scatter3d": [
           {
            "line": {
             "colorbar": {
              "outlinewidth": 0,
              "ticks": ""
             }
            },
            "marker": {
             "colorbar": {
              "outlinewidth": 0,
              "ticks": ""
             }
            },
            "type": "scatter3d"
           }
          ],
          "scattercarpet": [
           {
            "marker": {
             "colorbar": {
              "outlinewidth": 0,
              "ticks": ""
             }
            },
            "type": "scattercarpet"
           }
          ],
          "scattergeo": [
           {
            "marker": {
             "colorbar": {
              "outlinewidth": 0,
              "ticks": ""
             }
            },
            "type": "scattergeo"
           }
          ],
          "scattergl": [
           {
            "marker": {
             "colorbar": {
              "outlinewidth": 0,
              "ticks": ""
             }
            },
            "type": "scattergl"
           }
          ],
          "scattermapbox": [
           {
            "marker": {
             "colorbar": {
              "outlinewidth": 0,
              "ticks": ""
             }
            },
            "type": "scattermapbox"
           }
          ],
          "scatterpolar": [
           {
            "marker": {
             "colorbar": {
              "outlinewidth": 0,
              "ticks": ""
             }
            },
            "type": "scatterpolar"
           }
          ],
          "scatterpolargl": [
           {
            "marker": {
             "colorbar": {
              "outlinewidth": 0,
              "ticks": ""
             }
            },
            "type": "scatterpolargl"
           }
          ],
          "scatterternary": [
           {
            "marker": {
             "colorbar": {
              "outlinewidth": 0,
              "ticks": ""
             }
            },
            "type": "scatterternary"
           }
          ],
          "surface": [
           {
            "colorbar": {
             "outlinewidth": 0,
             "ticks": ""
            },
            "colorscale": [
             [
              0,
              "#0d0887"
             ],
             [
              0.1111111111111111,
              "#46039f"
             ],
             [
              0.2222222222222222,
              "#7201a8"
             ],
             [
              0.3333333333333333,
              "#9c179e"
             ],
             [
              0.4444444444444444,
              "#bd3786"
             ],
             [
              0.5555555555555556,
              "#d8576b"
             ],
             [
              0.6666666666666666,
              "#ed7953"
             ],
             [
              0.7777777777777778,
              "#fb9f3a"
             ],
             [
              0.8888888888888888,
              "#fdca26"
             ],
             [
              1,
              "#f0f921"
             ]
            ],
            "type": "surface"
           }
          ],
          "table": [
           {
            "cells": {
             "fill": {
              "color": "#EBF0F8"
             },
             "line": {
              "color": "white"
             }
            },
            "header": {
             "fill": {
              "color": "#C8D4E3"
             },
             "line": {
              "color": "white"
             }
            },
            "type": "table"
           }
          ]
         },
         "layout": {
          "annotationdefaults": {
           "arrowcolor": "#2a3f5f",
           "arrowhead": 0,
           "arrowwidth": 1
          },
          "colorscale": {
           "diverging": [
            [
             0,
             "#8e0152"
            ],
            [
             0.1,
             "#c51b7d"
            ],
            [
             0.2,
             "#de77ae"
            ],
            [
             0.3,
             "#f1b6da"
            ],
            [
             0.4,
             "#fde0ef"
            ],
            [
             0.5,
             "#f7f7f7"
            ],
            [
             0.6,
             "#e6f5d0"
            ],
            [
             0.7,
             "#b8e186"
            ],
            [
             0.8,
             "#7fbc41"
            ],
            [
             0.9,
             "#4d9221"
            ],
            [
             1,
             "#276419"
            ]
           ],
           "sequential": [
            [
             0,
             "#0d0887"
            ],
            [
             0.1111111111111111,
             "#46039f"
            ],
            [
             0.2222222222222222,
             "#7201a8"
            ],
            [
             0.3333333333333333,
             "#9c179e"
            ],
            [
             0.4444444444444444,
             "#bd3786"
            ],
            [
             0.5555555555555556,
             "#d8576b"
            ],
            [
             0.6666666666666666,
             "#ed7953"
            ],
            [
             0.7777777777777778,
             "#fb9f3a"
            ],
            [
             0.8888888888888888,
             "#fdca26"
            ],
            [
             1,
             "#f0f921"
            ]
           ],
           "sequentialminus": [
            [
             0,
             "#0d0887"
            ],
            [
             0.1111111111111111,
             "#46039f"
            ],
            [
             0.2222222222222222,
             "#7201a8"
            ],
            [
             0.3333333333333333,
             "#9c179e"
            ],
            [
             0.4444444444444444,
             "#bd3786"
            ],
            [
             0.5555555555555556,
             "#d8576b"
            ],
            [
             0.6666666666666666,
             "#ed7953"
            ],
            [
             0.7777777777777778,
             "#fb9f3a"
            ],
            [
             0.8888888888888888,
             "#fdca26"
            ],
            [
             1,
             "#f0f921"
            ]
           ]
          },
          "colorway": [
           "#636efa",
           "#EF553B",
           "#00cc96",
           "#ab63fa",
           "#FFA15A",
           "#19d3f3",
           "#FF6692",
           "#B6E880",
           "#FF97FF",
           "#FECB52"
          ],
          "font": {
           "color": "#2a3f5f"
          },
          "geo": {
           "bgcolor": "white",
           "lakecolor": "white",
           "landcolor": "#E5ECF6",
           "showlakes": true,
           "showland": true,
           "subunitcolor": "white"
          },
          "hoverlabel": {
           "align": "left"
          },
          "hovermode": "closest",
          "mapbox": {
           "style": "light"
          },
          "paper_bgcolor": "white",
          "plot_bgcolor": "#E5ECF6",
          "polar": {
           "angularaxis": {
            "gridcolor": "white",
            "linecolor": "white",
            "ticks": ""
           },
           "bgcolor": "#E5ECF6",
           "radialaxis": {
            "gridcolor": "white",
            "linecolor": "white",
            "ticks": ""
           }
          },
          "scene": {
           "xaxis": {
            "backgroundcolor": "#E5ECF6",
            "gridcolor": "white",
            "gridwidth": 2,
            "linecolor": "white",
            "showbackground": true,
            "ticks": "",
            "zerolinecolor": "white"
           },
           "yaxis": {
            "backgroundcolor": "#E5ECF6",
            "gridcolor": "white",
            "gridwidth": 2,
            "linecolor": "white",
            "showbackground": true,
            "ticks": "",
            "zerolinecolor": "white"
           },
           "zaxis": {
            "backgroundcolor": "#E5ECF6",
            "gridcolor": "white",
            "gridwidth": 2,
            "linecolor": "white",
            "showbackground": true,
            "ticks": "",
            "zerolinecolor": "white"
           }
          },
          "shapedefaults": {
           "line": {
            "color": "#2a3f5f"
           }
          },
          "ternary": {
           "aaxis": {
            "gridcolor": "white",
            "linecolor": "white",
            "ticks": ""
           },
           "baxis": {
            "gridcolor": "white",
            "linecolor": "white",
            "ticks": ""
           },
           "bgcolor": "#E5ECF6",
           "caxis": {
            "gridcolor": "white",
            "linecolor": "white",
            "ticks": ""
           }
          },
          "title": {
           "x": 0.05
          },
          "xaxis": {
           "automargin": true,
           "gridcolor": "white",
           "linecolor": "white",
           "ticks": "",
           "zerolinecolor": "white",
           "zerolinewidth": 2
          },
          "yaxis": {
           "automargin": true,
           "gridcolor": "white",
           "linecolor": "white",
           "ticks": "",
           "zerolinecolor": "white",
           "zerolinewidth": 2
          }
         }
        },
        "title": {
         "text": "Fast Fourier Transform vs Black-Scholes"
        },
        "xaxis": {
         "title": {
          "text": "Strike"
         }
        },
        "yaxis": {
         "title": {
          "text": "Price"
         }
        }
       }
      },
      "text/html": [
       "<div>\n",
       "        \n",
       "        \n",
       "            <div id=\"844a756e-8249-497e-8d17-b92f105aef92\" class=\"plotly-graph-div\" style=\"height:525px; width:100%;\"></div>\n",
       "            <script type=\"text/javascript\">\n",
       "                require([\"plotly\"], function(Plotly) {\n",
       "                    window.PLOTLYENV=window.PLOTLYENV || {};\n",
       "                    \n",
       "                if (document.getElementById(\"844a756e-8249-497e-8d17-b92f105aef92\")) {\n",
       "                    Plotly.newPlot(\n",
       "                        '844a756e-8249-497e-8d17-b92f105aef92',\n",
       "                        [{\"name\": \"Black-Scholes\", \"type\": \"scatter\", \"x\": [40.19834144668158, 40.44575365552177, 40.69468863368243, 40.94515575348347, 41.19716444492954, 41.45072419606499, 41.70584455333103, 41.96253512192505, 42.2208055661628, 42.48066560984142, 42.74212503660605, 43.005193690318116, 43.26988147542573, 43.536198357337234, 43.80415436279549, 44.07375958025594, 44.345024160266334, 44.617958315848895, 44.89257232288462, 45.168876520500866, 45.44688131145962, 45.72659716254981, 46.00803460498121, 46.2912042347808, 46.576116713192306, 46.86278276707666, 47.15121318931648, 47.4414188392223, 47.73341064294136, 48.02719959386886, 48.322796753062484, 48.62021324965788, 48.91946028128831, 49.22054911450606, 49.5234910852065, 49.82829759905552, 50.134980131917914, 50.443550230290164, 50.754019511734974, 51.066399665318656, 51.38070245205105, 51.696939705329044, 52.01512333138103, 52.33526530971585, 52.65737769357368, 52.98147261037962, 53.30756226220105, 53.63565892620591, 53.965774955125674, 54.29792277772024, 54.63211489924585, 54.96836390192576, 55.306682445424705, 55.64708326732436, 55.98957918360369, 56.334183089121275, 56.680907958100605, 57.02976684461934, 57.380772883099596, 57.733939288803256, 58.08927935832932, 58.44680647011452, 58.806534084936786, 59.168475746422914, 59.53264508155717, 59.899055801195246, 60.26772170058019, 60.63865665986163, 61.01187464461919, 61.38738970638701, 61.765215983183644, 62.14536770004412, 62.52785916955552, 62.91270479239564, 63.29991905787602, 63.68951654448615, 64.08151192044326, 64.4759199442443, 64.87275546522139, 65.27203342410179, 65.67376885356913, 66.07797687883013, 66.484672718184, 66.89387168359531, 67.30558918127025, 67.71984071223764, 68.13664187293112, 68.55600835577731, 68.97795594978629, 69.40250054114595, 69.829658113821, 70.25944475015328, 70.69187663146826, 71.12697003868404, 71.56474135292426, 72.00520705613464, 72.44838373170452, 72.89428806508973, 73.34293684444168, 73.79434696123938, 74.24853541092494, 74.70551929354464, 75.16531581439104, 75.62794228465191, 76.09341612206167, 76.56175485155718, 77.03297610593728, 77.50709762652772, 77.98413726384751, 78.4641129782821, 78.94704284075921, 79.43294503342905, 79.92183785034987, 80.41373969817514, 80.90866909684762, 81.40664468029634, 81.90768519713824, 82.41180951138362, 82.91903660314772, 83.42938556936335, 83.94287562450123, 84.45952610129301, 84.9793564514589, 85.50238624644118, 86.02863517813927, 86.55812305965233, 87.09086982602494, 87.6268955349976, 88.16622036776161, 88.70886462972014, 89.25484875125082, 89.80419328847624, 90.3569189240375, 90.91304646787266, 91.47259685800142, 92.0355911613116, 92.60205057435353, 93.17199642413773, 93.745450168938, 94.32243339909884, 94.90296783784973, 95.487075342121, 96.07477790336802, 96.66609764839892, 97.26105684020722, 97.85967787881145, 98.4619833020965, 99.06799578666337, 99.6777381486828, 100.29123334475412, 100.9085044727693, 101.52957477278396, 102.15446762789024, 102.78320656509858, 103.41581525622313, 104.05231751877264, 104.69273731684868, 105.33709876204557, 105.98542611435978, 106.63774378310286, 107.29407632782043, 107.95444845921655, 108.61888504008547, 109.28741108624551, 109.96005176748241, 110.63683240849655, 111.31777848985601, 112.00291564895757, 112.6922696809895, 113.38586653990431, 114.08373233939561, 114.78589335388118, 115.4923760194918, 116.20320693506828, 116.91841286316034, 117.63802073103591, 118.36205763169447, 119.09055082488719, 119.8235277381427, 120.56101596780154, 121.3030432800525, 122.04963761197985, 122.80082707261454, 123.55663994399224, 124.31710468221979, 125.082249918544, 125.85210446043132, 126.62669729265201, 127.40605757837139, 128.1902146602474, 128.97919806153712, 129.77303748720558, 130.5717628250461, 131.37540414680484, 132.18399170931275, 132.99755595562652, 133.81612751617192, 134.63973720989895, 135.46841604544161, 136.3021952222855, 137.14110613194185, 137.98518035913142, 138.8344496829707, 139.6889460781704, 140.54870171623867, 141.41374896669197, 142.28412039827575, 143.15984878018756, 144.04096708331292, 144.9275084814661, 145.81950635263908, 146.7169942802578, 147.62000605444854, 148.52857567330702, 149.4427373441805, 150.36252548495517, 151.28797472535146, 152.21911990822989, 153.15599609089972, 154.0986385464411, 155.04708276503237, 156.00136445528636, 156.96151954559423, 157.9275841854804, 158.89959474696025, 159.87758782591163], \"y\": [62.14280801604801, 61.90982473915677, 61.67540964073506, 61.4395541275078, 61.20224957420411, 60.963487325182854, 60.72325869620989, 60.481554976397256, 60.2383674303148, 59.993687300287235, 59.74750580888598, 59.49981416163052, 59.25060354991113, 58.99986515414649, 58.747590147192135, 58.49376969801195, 58.23839497563001, 57.98145715337822, 57.722947413456374, 57.4628569518209, 57.20117698342256, 56.93789874780805, 56.67301351510681, 56.40651259242155, 56.1383873306417, 55.86862913170231, 55.59722945630607, 55.32417983213197, 55.04947186255141, 54.77309723587343, 54.4950477351407, 54.21531524850051, 53.93389178017037, 53.65076946202283, 53.3659405658113, 53.07939751605833, 52.79113290363122, 52.501139500023115, 52.209410272364195, 51.91593839918229, 51.620717286934294, 51.32374058732654, 51.025002215445824, 50.72449636871528, 50.42221754669465, 50.11816057173892, 49.8123206105292, 49.50469319649016, 49.19527425310166, 48.8840601181155, 48.57104756868336, 48.25623384740006, 47.93961668926362, 47.621194349553804, 47.30096563262199, 46.9789299215891, 46.65508720894059, 46.32943812800518, 46.001983985303156, 45.672726793741106, 45.341669306631395, 45.00881505250776, 44.67416837070514, 44.33773444766631, 43.999519353937366, 43.6595300818028, 43.31777458351328, 42.974261810049676, 42.62900175036346, 42.282005471030985, 41.93328515624863, 41.5828541480964, 41.23072698698964, 40.876919452233714, 40.52144860259115, 40.164332816768706, 39.80559183372089, 39.445246792668094, 39.0833202727188, 38.71983633198107, 38.35482054604752, 37.98830004572758, 37.62030355390323, 37.25086142137667, 36.88000566157672, 36.507769983985796, 36.13418982615104, 35.75930238413328, 35.38314664125349, 35.00576339498945, 34.62719528187548, 34.24748680026115, 33.866684330777055, 33.4848361543645, 33.10199246772133, 32.718205396020416, 32.333529002757075, 31.948019296589315, 31.561734235030606, 31.174733724865945, 30.78707961916355, 30.398835710758014, 30.010067722093062, 29.620843291309207, 29.2312319544779, 28.841305123886123, 28.451136062286295, 28.06079985303353, 27.670373366046157, 27.2799352195294, 26.889565737418927, 26.499346902509387, 26.109362305244645, 25.719697088162732, 25.330437885993994, 24.941672761432365, 24.55349113660727, 24.16598372030085, 23.779242430966335, 23.393360315622814, 23.00843146470836, 22.62455092299559, 22.24181459668381, 21.860319156796436, 21.480161939031383, 21.101440840218153, 20.72425421155708, 20.348700748826438, 19.97487937975577, 19.602889148777876, 19.232829099386173, 18.86479815433055, 18.49889499390207, 18.135217932564203, 17.77386479419752, 17.41493278623816, 17.058518372991358, 16.704717148415895, 16.353623708677027, 16.005331524773162, 15.659932815543485, 15.317518421371688, 14.978177678896436, 14.641998297046626, 14.309066234715814, 13.979465580389665, 13.653278434040267, 13.330584791592912, 13.011462432271124, 12.695986809117642, 12.38423094298198, 12.076265320257264, 11.772157794642503, 11.471973493190639, 11.17577472689753, 10.883620906071123, 10.595568460707348, 10.311670766088106, 10.031978073796274, 9.756537448332736, 9.485392709500637, 9.218584380706005, 8.956149643305679, 8.698122297117798, 8.444532727186782, 8.195407876880964, 7.950771227378645, 7.71064278357936, 7.475039066460113, 7.243973111872272, 7.017454475759855, 6.795489245758013, 6.578080059112402, 6.365226126840156, 6.156923264037609, 5.953163926217414, 5.753937251544599, 5.559229108821544, 5.369022151057152, 5.183295874438048, 5.002026682508593, 4.825187955347442, 4.652750123520526, 4.484680746575016, 4.320944595828578, 4.161503741199667, 4.0063176418126965, 3.8553432401067766, 3.708535059168277, 3.565845303002529, 3.427223959454114, 3.292618905484332, 3.1619760145081095, 3.035239265495086, 2.9123508535372977, 2.7932513015867393, 2.6778795730699088, 2.5661731850863845, 2.458068321905163, 2.3534999484759567, 2.2524019236788853, 2.1547071130422832, 2.0603475006672056, 1.9692543001030902, 1.8813580639307652, 1.7965887918169852, 1.7148760368151912, 1.636149009699281, 1.560336681126481, 1.4873678814394555, 1.417171397928355, 1.3496760693868506, 1.2848108778086331, 1.222505037084428, 1.1626880785715041, 1.1052899334221102, 1.0502410115698382, 0.9974722772859685, 0.9469153212316606, 0.8985024289436092, 0.852166645704953, 0.8078418377643413, 0.7654627498795472, 0.7249650591728241, 0.68628542529774, 0.6493615369274561]}, {\"name\": \"FFT\", \"type\": \"scatter\", \"x\": [40.19834144668158, 40.44575365552177, 40.69468863368243, 40.94515575348347, 41.19716444492954, 41.45072419606499, 41.70584455333103, 41.96253512192505, 42.2208055661628, 42.48066560984142, 42.74212503660605, 43.005193690318116, 43.26988147542573, 43.536198357337234, 43.80415436279549, 44.07375958025594, 44.345024160266334, 44.617958315848895, 44.89257232288462, 45.168876520500866, 45.44688131145962, 45.72659716254981, 46.00803460498121, 46.2912042347808, 46.576116713192306, 46.86278276707666, 47.15121318931648, 47.4414188392223, 47.73341064294136, 48.02719959386886, 48.322796753062484, 48.62021324965788, 48.91946028128831, 49.22054911450606, 49.5234910852065, 49.82829759905552, 50.134980131917914, 50.443550230290164, 50.754019511734974, 51.066399665318656, 51.38070245205105, 51.696939705329044, 52.01512333138103, 52.33526530971585, 52.65737769357368, 52.98147261037962, 53.30756226220105, 53.63565892620591, 53.965774955125674, 54.29792277772024, 54.63211489924585, 54.96836390192576, 55.306682445424705, 55.64708326732436, 55.98957918360369, 56.334183089121275, 56.680907958100605, 57.02976684461934, 57.380772883099596, 57.733939288803256, 58.08927935832932, 58.44680647011452, 58.806534084936786, 59.168475746422914, 59.53264508155717, 59.899055801195246, 60.26772170058019, 60.63865665986163, 61.01187464461919, 61.38738970638701, 61.765215983183644, 62.14536770004412, 62.52785916955552, 62.91270479239564, 63.29991905787602, 63.68951654448615, 64.08151192044326, 64.4759199442443, 64.87275546522139, 65.27203342410179, 65.67376885356913, 66.07797687883013, 66.484672718184, 66.89387168359531, 67.30558918127025, 67.71984071223764, 68.13664187293112, 68.55600835577731, 68.97795594978629, 69.40250054114595, 69.829658113821, 70.25944475015328, 70.69187663146826, 71.12697003868404, 71.56474135292426, 72.00520705613464, 72.44838373170452, 72.89428806508973, 73.34293684444168, 73.79434696123938, 74.24853541092494, 74.70551929354464, 75.16531581439104, 75.62794228465191, 76.09341612206167, 76.56175485155718, 77.03297610593728, 77.50709762652772, 77.98413726384751, 78.4641129782821, 78.94704284075921, 79.43294503342905, 79.92183785034987, 80.41373969817514, 80.90866909684762, 81.40664468029634, 81.90768519713824, 82.41180951138362, 82.91903660314772, 83.42938556936335, 83.94287562450123, 84.45952610129301, 84.9793564514589, 85.50238624644118, 86.02863517813927, 86.55812305965233, 87.09086982602494, 87.6268955349976, 88.16622036776161, 88.70886462972014, 89.25484875125082, 89.80419328847624, 90.3569189240375, 90.91304646787266, 91.47259685800142, 92.0355911613116, 92.60205057435353, 93.17199642413773, 93.745450168938, 94.32243339909884, 94.90296783784973, 95.487075342121, 96.07477790336802, 96.66609764839892, 97.26105684020722, 97.85967787881145, 98.4619833020965, 99.06799578666337, 99.6777381486828, 100.29123334475412, 100.9085044727693, 101.52957477278396, 102.15446762789024, 102.78320656509858, 103.41581525622313, 104.05231751877264, 104.69273731684868, 105.33709876204557, 105.98542611435978, 106.63774378310286, 107.29407632782043, 107.95444845921655, 108.61888504008547, 109.28741108624551, 109.96005176748241, 110.63683240849655, 111.31777848985601, 112.00291564895757, 112.6922696809895, 113.38586653990431, 114.08373233939561, 114.78589335388118, 115.4923760194918, 116.20320693506828, 116.91841286316034, 117.63802073103591, 118.36205763169447, 119.09055082488719, 119.8235277381427, 120.56101596780154, 121.3030432800525, 122.04963761197985, 122.80082707261454, 123.55663994399224, 124.31710468221979, 125.082249918544, 125.85210446043132, 126.62669729265201, 127.40605757837139, 128.1902146602474, 128.97919806153712, 129.77303748720558, 130.5717628250461, 131.37540414680484, 132.18399170931275, 132.99755595562652, 133.81612751617192, 134.63973720989895, 135.46841604544161, 136.3021952222855, 137.14110613194185, 137.98518035913142, 138.8344496829707, 139.6889460781704, 140.54870171623867, 141.41374896669197, 142.28412039827575, 143.15984878018756, 144.04096708331292, 144.9275084814661, 145.81950635263908, 146.7169942802578, 147.62000605444854, 148.52857567330702, 149.4427373441805, 150.36252548495517, 151.28797472535146, 152.21911990822989, 153.15599609089972, 154.0986385464411, 155.04708276503237, 156.00136445528636, 156.96151954559423, 157.9275841854804, 158.89959474696025, 159.87758782591163], \"y\": [65.55714019923676, 65.29287597445315, 65.02746651350502, 64.76090059752019, 64.49316699968531, 64.22425448665125, 63.95415182009187, 63.68284775842723, 63.41033105871986, 63.13659047876073, 62.861614779349786, 62.58539272678886, 62.30791309559809, 62.02916467146803, 61.74913625446628, 61.46781666250732, 61.185194735105284, 60.90125933742437, 60.6159993646434, 60.32940374665032, 60.041461453088786, 59.752161498768984, 59.461492949466155, 59.16944492812444, 58.87600662148482, 58.58116728716146, 58.284916261181635, 57.987242966014435, 57.688136919108594, 57.3875877419611, 57.085585169737584, 56.78211906147068, 56.47717941085317, 56.17075635765259, 55.862840199768506, 55.553421405952946, 55.242490629221166, 54.930038720968184, 54.61605674581721, 54.30053599721931, 53.98346801382513, 53.66484459664658, 53.34465782703186, 53.0229000854655, 52.69956407121468, 52.37464282283575, 52.04812973955334, 51.72001860352883, 51.3903036030231, 51.05897935646651, 50.7260409374411, 50.39148390057969, 50.05530430838257, 49.71749875895485, 49.37806441465568, 49.036999031657096, 48.69430099040133, 48.3499693269426, 48.00400376516062, 47.656404749820936, 47.30717348046166, 46.956311946077385, 46.603822960568735, 46.249710198919516, 45.89397823406445, 45.53663257439728, 45.177679701872705, 44.81712711064615, 44.454983346190325, 44.091258044827754, 43.725961973604285, 43.35910707043297, 42.9907064844266, 42.620774616334764, 42.249327158993864, 41.87638113769884, 41.501954950391834, 41.12606840756678, 40.74874277177908, 40.37000079664535, 39.98986676521829, 39.608366527609085, 39.22552753773487, 38.84137888905876, 38.45595134918982, 38.069277393204494, 37.681391235553114, 37.29232886040544, 36.902128050294124, 36.51082841290991, 36.11847140590057, 35.72510035952957, 35.33076049704311, 34.93549895260158, 34.53936478662835, 34.14240899843196, 33.74468453595826, 33.346246302536045, 32.947151160476096, 32.54745793139478, 32.14722739313341, 31.74652227315085, 31.345407238275406, 30.943948880703516, 30.54221570014507, 30.140278082020316, 29.7382082716227, 29.336080344170057, 28.93397017067964, 28.531955379607076, 28.13011531420625, 27.72853098557466, 27.327285021361586, 26.926461610130964, 26.526146441379243, 26.12642664122623, 25.72739070380791, 25.329128418414797, 24.93173079243283, 24.53528997016045, 24.139899147585563, 23.74565248322529, 23.352645005142875, 22.96097251427124, 22.57073148418889, 22.182018957504415, 21.79493243902351, 21.40956978588397, 21.02602909485828, 20.64440858703529, 20.264806490107453, 19.887320918497817, 19.512049751576267, 19.13909051022274, 18.76854023200512, 18.40049534525049, 18.035051542293065, 17.672303652193097, 17.312345513225143, 16.955269845440267, 16.601168123610535, 16.250130450869168, 15.90224543335886, 15.557600056205056, 15.216279561129104, 14.878367326015118, 14.543944746743744, 14.213091121599469, 13.885883538556666, 13.562396765741818, 13.24270314536309, 12.926872491390057, 12.614971991258374, 12.307066111861817, 12.0032165100852, 11.703481948118105, 11.40791821377622, 11.116578046044339, 10.829511066037862, 10.546763713566355, 10.268379189464802, 9.994397403841807, 9.724854930375852, 9.459784966773789, 9.199217301485193, 8.943178286749328, 8.691690818031073, 8.444774319882914, 8.202444738251492, 7.964714539226111, 7.7315927142086975, 7.503084791464461, 7.279192853993783, 7.059915563646577, 6.845248191383005, 6.6351826535648035, 6.429707554145575, 6.228808232610622, 6.032466817501015, 5.840662285340855, 5.653370524772639, 5.470564405690666, 5.2922138531506056, 5.118285925820622, 4.948744898728434, 4.783552350049244, 4.622667251669414, 4.466046063253918, 4.313642829538035, 4.165409280558375, 4.021294934533386, 3.8812472031005476, 3.7452114986142004, 3.613131343207489, 3.484948479321236, 3.3606029814034604, 3.2400333684855536, 3.123176717343415, 3.009968775956478, 2.9003440769820203, 2.7942360509682107, 2.6915771390358056, 2.592298904766372, 2.496332145042609, 2.4036069995959704, 2.314053059026156, 2.227599471067406, 2.144175044887684, 2.0637083532177494, 1.9861278321194205, 1.9113618782142587, 1.8393389432065175, 1.7699876255469422, 1.703236759097101, 1.6390154986668264, 1.5772534023107445, 1.5178805102829864, 1.4608274205623173, 1.4060253608731481, 1.3534062571406014, 1.302902798330802, 1.2544484976399057, 1.2079777500076923, 1.163425885943391, 1.1207292216630576, 1.0798251055487862]}],\n",
       "                        {\"template\": {\"data\": {\"bar\": [{\"error_x\": {\"color\": \"#2a3f5f\"}, \"error_y\": {\"color\": \"#2a3f5f\"}, \"marker\": {\"line\": {\"color\": \"#E5ECF6\", \"width\": 0.5}}, \"type\": \"bar\"}], \"barpolar\": [{\"marker\": {\"line\": {\"color\": \"#E5ECF6\", \"width\": 0.5}}, \"type\": \"barpolar\"}], \"carpet\": [{\"aaxis\": {\"endlinecolor\": \"#2a3f5f\", \"gridcolor\": \"white\", \"linecolor\": \"white\", \"minorgridcolor\": \"white\", \"startlinecolor\": \"#2a3f5f\"}, \"baxis\": {\"endlinecolor\": \"#2a3f5f\", \"gridcolor\": \"white\", \"linecolor\": \"white\", \"minorgridcolor\": \"white\", \"startlinecolor\": \"#2a3f5f\"}, \"type\": \"carpet\"}], \"choropleth\": [{\"colorbar\": {\"outlinewidth\": 0, \"ticks\": \"\"}, \"type\": \"choropleth\"}], \"contour\": [{\"colorbar\": {\"outlinewidth\": 0, \"ticks\": \"\"}, \"colorscale\": [[0.0, \"#0d0887\"], [0.1111111111111111, \"#46039f\"], [0.2222222222222222, \"#7201a8\"], [0.3333333333333333, \"#9c179e\"], [0.4444444444444444, \"#bd3786\"], [0.5555555555555556, \"#d8576b\"], [0.6666666666666666, \"#ed7953\"], [0.7777777777777778, \"#fb9f3a\"], [0.8888888888888888, \"#fdca26\"], [1.0, \"#f0f921\"]], \"type\": \"contour\"}], \"contourcarpet\": [{\"colorbar\": {\"outlinewidth\": 0, \"ticks\": \"\"}, \"type\": \"contourcarpet\"}], \"heatmap\": [{\"colorbar\": {\"outlinewidth\": 0, \"ticks\": \"\"}, \"colorscale\": [[0.0, \"#0d0887\"], [0.1111111111111111, \"#46039f\"], [0.2222222222222222, \"#7201a8\"], [0.3333333333333333, \"#9c179e\"], [0.4444444444444444, \"#bd3786\"], [0.5555555555555556, \"#d8576b\"], [0.6666666666666666, \"#ed7953\"], [0.7777777777777778, \"#fb9f3a\"], [0.8888888888888888, \"#fdca26\"], [1.0, \"#f0f921\"]], \"type\": \"heatmap\"}], \"heatmapgl\": [{\"colorbar\": {\"outlinewidth\": 0, \"ticks\": \"\"}, \"colorscale\": [[0.0, \"#0d0887\"], [0.1111111111111111, \"#46039f\"], [0.2222222222222222, \"#7201a8\"], [0.3333333333333333, \"#9c179e\"], [0.4444444444444444, \"#bd3786\"], [0.5555555555555556, \"#d8576b\"], [0.6666666666666666, \"#ed7953\"], [0.7777777777777778, \"#fb9f3a\"], [0.8888888888888888, \"#fdca26\"], [1.0, \"#f0f921\"]], \"type\": \"heatmapgl\"}], \"histogram\": [{\"marker\": {\"colorbar\": {\"outlinewidth\": 0, \"ticks\": \"\"}}, \"type\": \"histogram\"}], \"histogram2d\": [{\"colorbar\": {\"outlinewidth\": 0, \"ticks\": \"\"}, \"colorscale\": [[0.0, \"#0d0887\"], [0.1111111111111111, \"#46039f\"], [0.2222222222222222, \"#7201a8\"], [0.3333333333333333, \"#9c179e\"], [0.4444444444444444, \"#bd3786\"], [0.5555555555555556, \"#d8576b\"], [0.6666666666666666, \"#ed7953\"], [0.7777777777777778, \"#fb9f3a\"], [0.8888888888888888, \"#fdca26\"], [1.0, \"#f0f921\"]], \"type\": \"histogram2d\"}], \"histogram2dcontour\": [{\"colorbar\": {\"outlinewidth\": 0, \"ticks\": \"\"}, \"colorscale\": [[0.0, \"#0d0887\"], [0.1111111111111111, \"#46039f\"], [0.2222222222222222, \"#7201a8\"], [0.3333333333333333, \"#9c179e\"], [0.4444444444444444, \"#bd3786\"], [0.5555555555555556, \"#d8576b\"], [0.6666666666666666, \"#ed7953\"], [0.7777777777777778, \"#fb9f3a\"], [0.8888888888888888, \"#fdca26\"], [1.0, \"#f0f921\"]], \"type\": \"histogram2dcontour\"}], \"mesh3d\": [{\"colorbar\": {\"outlinewidth\": 0, \"ticks\": \"\"}, \"type\": \"mesh3d\"}], \"parcoords\": [{\"line\": {\"colorbar\": {\"outlinewidth\": 0, \"ticks\": \"\"}}, \"type\": \"parcoords\"}], \"scatter\": [{\"marker\": {\"colorbar\": {\"outlinewidth\": 0, \"ticks\": \"\"}}, \"type\": \"scatter\"}], \"scatter3d\": [{\"line\": {\"colorbar\": {\"outlinewidth\": 0, \"ticks\": \"\"}}, \"marker\": {\"colorbar\": {\"outlinewidth\": 0, \"ticks\": \"\"}}, \"type\": \"scatter3d\"}], \"scattercarpet\": [{\"marker\": {\"colorbar\": {\"outlinewidth\": 0, \"ticks\": \"\"}}, \"type\": \"scattercarpet\"}], \"scattergeo\": [{\"marker\": {\"colorbar\": {\"outlinewidth\": 0, \"ticks\": \"\"}}, \"type\": \"scattergeo\"}], \"scattergl\": [{\"marker\": {\"colorbar\": {\"outlinewidth\": 0, \"ticks\": \"\"}}, \"type\": \"scattergl\"}], \"scattermapbox\": [{\"marker\": {\"colorbar\": {\"outlinewidth\": 0, \"ticks\": \"\"}}, \"type\": \"scattermapbox\"}], \"scatterpolar\": [{\"marker\": {\"colorbar\": {\"outlinewidth\": 0, \"ticks\": \"\"}}, \"type\": \"scatterpolar\"}], \"scatterpolargl\": [{\"marker\": {\"colorbar\": {\"outlinewidth\": 0, \"ticks\": \"\"}}, \"type\": \"scatterpolargl\"}], \"scatterternary\": [{\"marker\": {\"colorbar\": {\"outlinewidth\": 0, \"ticks\": \"\"}}, \"type\": \"scatterternary\"}], \"surface\": [{\"colorbar\": {\"outlinewidth\": 0, \"ticks\": \"\"}, \"colorscale\": [[0.0, \"#0d0887\"], [0.1111111111111111, \"#46039f\"], [0.2222222222222222, \"#7201a8\"], [0.3333333333333333, \"#9c179e\"], [0.4444444444444444, \"#bd3786\"], [0.5555555555555556, \"#d8576b\"], [0.6666666666666666, \"#ed7953\"], [0.7777777777777778, \"#fb9f3a\"], [0.8888888888888888, \"#fdca26\"], [1.0, \"#f0f921\"]], \"type\": \"surface\"}], \"table\": [{\"cells\": {\"fill\": {\"color\": \"#EBF0F8\"}, \"line\": {\"color\": \"white\"}}, \"header\": {\"fill\": {\"color\": \"#C8D4E3\"}, \"line\": {\"color\": \"white\"}}, \"type\": \"table\"}]}, \"layout\": {\"annotationdefaults\": {\"arrowcolor\": \"#2a3f5f\", \"arrowhead\": 0, \"arrowwidth\": 1}, \"colorscale\": {\"diverging\": [[0, \"#8e0152\"], [0.1, \"#c51b7d\"], [0.2, \"#de77ae\"], [0.3, \"#f1b6da\"], [0.4, \"#fde0ef\"], [0.5, \"#f7f7f7\"], [0.6, \"#e6f5d0\"], [0.7, \"#b8e186\"], [0.8, \"#7fbc41\"], [0.9, \"#4d9221\"], [1, \"#276419\"]], \"sequential\": [[0.0, \"#0d0887\"], [0.1111111111111111, \"#46039f\"], [0.2222222222222222, \"#7201a8\"], [0.3333333333333333, \"#9c179e\"], [0.4444444444444444, \"#bd3786\"], [0.5555555555555556, \"#d8576b\"], [0.6666666666666666, \"#ed7953\"], [0.7777777777777778, \"#fb9f3a\"], [0.8888888888888888, \"#fdca26\"], [1.0, \"#f0f921\"]], \"sequentialminus\": [[0.0, \"#0d0887\"], [0.1111111111111111, \"#46039f\"], [0.2222222222222222, \"#7201a8\"], [0.3333333333333333, \"#9c179e\"], [0.4444444444444444, \"#bd3786\"], [0.5555555555555556, \"#d8576b\"], [0.6666666666666666, \"#ed7953\"], [0.7777777777777778, \"#fb9f3a\"], [0.8888888888888888, \"#fdca26\"], [1.0, \"#f0f921\"]]}, \"colorway\": [\"#636efa\", \"#EF553B\", \"#00cc96\", \"#ab63fa\", \"#FFA15A\", \"#19d3f3\", \"#FF6692\", \"#B6E880\", \"#FF97FF\", \"#FECB52\"], \"font\": {\"color\": \"#2a3f5f\"}, \"geo\": {\"bgcolor\": \"white\", \"lakecolor\": \"white\", \"landcolor\": \"#E5ECF6\", \"showlakes\": true, \"showland\": true, \"subunitcolor\": \"white\"}, \"hoverlabel\": {\"align\": \"left\"}, \"hovermode\": \"closest\", \"mapbox\": {\"style\": \"light\"}, \"paper_bgcolor\": \"white\", \"plot_bgcolor\": \"#E5ECF6\", \"polar\": {\"angularaxis\": {\"gridcolor\": \"white\", \"linecolor\": \"white\", \"ticks\": \"\"}, \"bgcolor\": \"#E5ECF6\", \"radialaxis\": {\"gridcolor\": \"white\", \"linecolor\": \"white\", \"ticks\": \"\"}}, \"scene\": {\"xaxis\": {\"backgroundcolor\": \"#E5ECF6\", \"gridcolor\": \"white\", \"gridwidth\": 2, \"linecolor\": \"white\", \"showbackground\": true, \"ticks\": \"\", \"zerolinecolor\": \"white\"}, \"yaxis\": {\"backgroundcolor\": \"#E5ECF6\", \"gridcolor\": \"white\", \"gridwidth\": 2, \"linecolor\": \"white\", \"showbackground\": true, \"ticks\": \"\", \"zerolinecolor\": \"white\"}, \"zaxis\": {\"backgroundcolor\": \"#E5ECF6\", \"gridcolor\": \"white\", \"gridwidth\": 2, \"linecolor\": \"white\", \"showbackground\": true, \"ticks\": \"\", \"zerolinecolor\": \"white\"}}, \"shapedefaults\": {\"line\": {\"color\": \"#2a3f5f\"}}, \"ternary\": {\"aaxis\": {\"gridcolor\": \"white\", \"linecolor\": \"white\", \"ticks\": \"\"}, \"baxis\": {\"gridcolor\": \"white\", \"linecolor\": \"white\", \"ticks\": \"\"}, \"bgcolor\": \"#E5ECF6\", \"caxis\": {\"gridcolor\": \"white\", \"linecolor\": \"white\", \"ticks\": \"\"}}, \"title\": {\"x\": 0.05}, \"xaxis\": {\"automargin\": true, \"gridcolor\": \"white\", \"linecolor\": \"white\", \"ticks\": \"\", \"zerolinecolor\": \"white\", \"zerolinewidth\": 2}, \"yaxis\": {\"automargin\": true, \"gridcolor\": \"white\", \"linecolor\": \"white\", \"ticks\": \"\", \"zerolinecolor\": \"white\", \"zerolinewidth\": 2}}}, \"title\": {\"text\": \"Fast Fourier Transform vs Black-Scholes\"}, \"xaxis\": {\"title\": {\"text\": \"Strike\"}}, \"yaxis\": {\"title\": {\"text\": \"Price\"}}},\n",
       "                        {\"responsive\": true}\n",
       "                    ).then(function(){\n",
       "                            \n",
       "var gd = document.getElementById('844a756e-8249-497e-8d17-b92f105aef92');\n",
       "var x = new MutationObserver(function (mutations, observer) {{\n",
       "        var display = window.getComputedStyle(gd).display;\n",
       "        if (!display || display === 'none') {{\n",
       "            console.log([gd, 'removed!']);\n",
       "            Plotly.purge(gd);\n",
       "            observer.disconnect();\n",
       "        }}\n",
       "}});\n",
       "\n",
       "// Listen for the removal of the full notebook cells\n",
       "var notebookContainer = gd.closest('#notebook-container');\n",
       "if (notebookContainer) {{\n",
       "    x.observe(notebookContainer, {childList: true});\n",
       "}}\n",
       "\n",
       "// Listen for the clearing of the current output cell\n",
       "var outputEl = gd.closest('.output');\n",
       "if (outputEl) {{\n",
       "    x.observe(outputEl, {childList: true});\n",
       "}}\n",
       "\n",
       "                        })\n",
       "                };\n",
       "                });\n",
       "            </script>\n",
       "        </div>"
      ]
     },
     "metadata": {},
     "output_type": "display_data"
    }
   ],
   "source": [
    "trace0 = go.Scatter(\n",
    "    x = temp[(temp['K'] > 40) & (temp['K'] < 160)]['K'], y = temp[(temp['K'] > 40) & (temp['K'] < 160)]['BS'], \n",
    "    name = 'Black-Scholes'\n",
    ")\n",
    "trace1 = go.Scatter(\n",
    "    x = temp[(temp['K'] > 40) & (temp['K'] < 160)]['K'], y = temp[(temp['K'] > 40) & (temp['K'] < 160)]['FFT'],\n",
    "    name = 'FFT'\n",
    ")\n",
    "data = [trace0, trace1]\n",
    "layout = go.Layout(\n",
    "    title = 'Fast Fourier Transform vs Black-Scholes', yaxis = dict(title = 'Price'),  \n",
    "        xaxis = dict(title = 'Strike'))\n",
    "fig = go.Figure(data=data, layout=layout)\n",
    "plotly.offline.iplot(fig)"
   ]
  },
  {
   "cell_type": "code",
   "execution_count": 225,
   "metadata": {},
   "outputs": [
    {
     "data": {
      "application/vnd.plotly.v1+json": {
       "config": {
        "linkText": "Export to plot.ly",
        "plotlyServerURL": "https://plot.ly",
        "showLink": false
       },
       "data": [
        {
         "name": "Absolute Error",
         "type": "scatter",
         "x": [
          40.19834144668158,
          40.44575365552177,
          40.69468863368243,
          40.94515575348347,
          41.19716444492954,
          41.45072419606499,
          41.70584455333103,
          41.96253512192505,
          42.2208055661628,
          42.48066560984142,
          42.74212503660605,
          43.005193690318116,
          43.26988147542573,
          43.536198357337234,
          43.80415436279549,
          44.07375958025594,
          44.345024160266334,
          44.617958315848895,
          44.89257232288462,
          45.168876520500866,
          45.44688131145962,
          45.72659716254981,
          46.00803460498121,
          46.2912042347808,
          46.576116713192306,
          46.86278276707666,
          47.15121318931648,
          47.4414188392223,
          47.73341064294136,
          48.02719959386886,
          48.322796753062484,
          48.62021324965788,
          48.91946028128831,
          49.22054911450606,
          49.5234910852065,
          49.82829759905552,
          50.134980131917914,
          50.443550230290164,
          50.754019511734974,
          51.066399665318656,
          51.38070245205105,
          51.696939705329044,
          52.01512333138103,
          52.33526530971585,
          52.65737769357368,
          52.98147261037962,
          53.30756226220105,
          53.63565892620591,
          53.965774955125674,
          54.29792277772024,
          54.63211489924585,
          54.96836390192576,
          55.306682445424705,
          55.64708326732436,
          55.98957918360369,
          56.334183089121275,
          56.680907958100605,
          57.02976684461934,
          57.380772883099596,
          57.733939288803256,
          58.08927935832932,
          58.44680647011452,
          58.806534084936786,
          59.168475746422914,
          59.53264508155717,
          59.899055801195246,
          60.26772170058019,
          60.63865665986163,
          61.01187464461919,
          61.38738970638701,
          61.765215983183644,
          62.14536770004412,
          62.52785916955552,
          62.91270479239564,
          63.29991905787602,
          63.68951654448615,
          64.08151192044326,
          64.4759199442443,
          64.87275546522139,
          65.27203342410179,
          65.67376885356913,
          66.07797687883013,
          66.484672718184,
          66.89387168359531,
          67.30558918127025,
          67.71984071223764,
          68.13664187293112,
          68.55600835577731,
          68.97795594978629,
          69.40250054114595,
          69.829658113821,
          70.25944475015328,
          70.69187663146826,
          71.12697003868404,
          71.56474135292426,
          72.00520705613464,
          72.44838373170452,
          72.89428806508973,
          73.34293684444168,
          73.79434696123938,
          74.24853541092494,
          74.70551929354464,
          75.16531581439104,
          75.62794228465191,
          76.09341612206167,
          76.56175485155718,
          77.03297610593728,
          77.50709762652772,
          77.98413726384751,
          78.4641129782821,
          78.94704284075921,
          79.43294503342905,
          79.92183785034987,
          80.41373969817514,
          80.90866909684762,
          81.40664468029634,
          81.90768519713824,
          82.41180951138362,
          82.91903660314772,
          83.42938556936335,
          83.94287562450123,
          84.45952610129301,
          84.9793564514589,
          85.50238624644118,
          86.02863517813927,
          86.55812305965233,
          87.09086982602494,
          87.6268955349976,
          88.16622036776161,
          88.70886462972014,
          89.25484875125082,
          89.80419328847624,
          90.3569189240375,
          90.91304646787266,
          91.47259685800142,
          92.0355911613116,
          92.60205057435353,
          93.17199642413773,
          93.745450168938,
          94.32243339909884,
          94.90296783784973,
          95.487075342121,
          96.07477790336802,
          96.66609764839892,
          97.26105684020722,
          97.85967787881145,
          98.4619833020965,
          99.06799578666337,
          99.6777381486828,
          100.29123334475412,
          100.9085044727693,
          101.52957477278396,
          102.15446762789024,
          102.78320656509858,
          103.41581525622313,
          104.05231751877264,
          104.69273731684868,
          105.33709876204557,
          105.98542611435978,
          106.63774378310286,
          107.29407632782043,
          107.95444845921655,
          108.61888504008547,
          109.28741108624551,
          109.96005176748241,
          110.63683240849655,
          111.31777848985601,
          112.00291564895757,
          112.6922696809895,
          113.38586653990431,
          114.08373233939561,
          114.78589335388118,
          115.4923760194918,
          116.20320693506828,
          116.91841286316034,
          117.63802073103591,
          118.36205763169447,
          119.09055082488719,
          119.8235277381427,
          120.56101596780154,
          121.3030432800525,
          122.04963761197985,
          122.80082707261454,
          123.55663994399224,
          124.31710468221979,
          125.082249918544,
          125.85210446043132,
          126.62669729265201,
          127.40605757837139,
          128.1902146602474,
          128.97919806153712,
          129.77303748720558,
          130.5717628250461,
          131.37540414680484,
          132.18399170931275,
          132.99755595562652,
          133.81612751617192,
          134.63973720989895,
          135.46841604544161,
          136.3021952222855,
          137.14110613194185,
          137.98518035913142,
          138.8344496829707,
          139.6889460781704,
          140.54870171623867,
          141.41374896669197,
          142.28412039827575,
          143.15984878018756,
          144.04096708331292,
          144.9275084814661,
          145.81950635263908,
          146.7169942802578,
          147.62000605444854,
          148.52857567330702,
          149.4427373441805,
          150.36252548495517,
          151.28797472535146,
          152.21911990822989,
          153.15599609089972,
          154.0986385464411,
          155.04708276503237,
          156.00136445528636,
          156.96151954559423,
          157.9275841854804,
          158.89959474696025,
          159.87758782591163
         ],
         "y": [
          3.4143321831887476,
          3.383051235296385,
          3.352056872769957,
          3.3213464700123936,
          3.2909174254812044,
          3.2607671614683937,
          3.230893123881984,
          3.2012927820299737,
          3.1719636284050594,
          3.142903178473496,
          3.1141089704638034,
          3.085578565158343,
          3.0573095456869552,
          3.0292995173215402,
          3.0015461072741445,
          2.974046964495365,
          2.946799759475276,
          2.919802184046148,
          2.893051951187026,
          2.866546794829418,
          2.840284469666223,
          2.8142627509609355,
          2.7884794343593455,
          2.7629323357028923,
          2.7376192908431207,
          2.71253815545915,
          2.687686804875568,
          2.663063133882467,
          2.638665056557187,
          2.6144905060876695,
          2.5905374345968823,
          2.5668038129701714,
          2.543287630682798,
          2.5199868956297635,
          2.496899633957206,
          2.4740238898946174,
          2.4513577255899435,
          2.4288992209450697,
          2.4066464734530157,
          2.3845975980370255,
          2.3627507268908374,
          2.3411040093200413,
          2.319655611586036,
          2.2984037167502223,
          2.277346524520034,
          2.256482251096834,
          2.2358091290241404,
          2.2153254070386694,
          2.195029349921441,
          2.174919238351009,
          2.1549933687577365,
          2.1352500531796323,
          2.115687619118944,
          2.096304409401043,
          2.077098782033694,
          2.058069110067997,
          2.039213781460738,
          2.0205311989374195,
          2.002019779857463,
          1.9836779560798306,
          1.9655041738302614,
          1.9474968935696282,
          1.9296545898635955,
          1.911975751253209,
          1.8944588801270825,
          1.8771024925944815,
          1.8599051183594284,
          1.842865300596472,
          1.8259815958268675,
          1.809252573796769,
          1.7926768173556553,
          1.7762529223365675,
          1.7599794974369658,
          1.7438551641010491,
          1.7278785564027146,
          1.712048320930137,
          1.6963631166709447,
          1.680821614898683,
          1.665422499060277,
          1.6501644646642788,
          1.6350462191707678,
          1.6200664818815085,
          1.6052239838316424,
          1.5905174676820906,
          1.5759456876130997,
          1.5615074092186987,
          1.5472014094020778,
          1.5330264762721626,
          1.5189814090406344,
          1.505065017920458,
          1.4912761240250916,
          1.4776135592684199,
          1.4640761662660537,
          1.450662798237076,
          1.4373723189070162,
          1.424203602411545,
          1.4111555332011818,
          1.3982270059467297,
          1.3854169254454902,
          1.3727242065288365,
          1.3601477739698637,
          1.347686562392834,
          1.3353395161823443,
          1.3231055893943093,
          1.3109837456671727,
          1.2989729581341933,
          1.2870722093364044,
          1.2752804911365274,
          1.2635968046334831,
          1.2520201600776772,
          1.2405495767873234,
          1.2291840830652738,
          1.2179227161169415,
          1.206764521968232,
          1.1957085553852487,
          1.1847538797938668,
          1.173899567200639,
          1.1631446981139462,
          1.1524883614664958,
          1.141929654537634,
          1.1314676828772043,
          1.1211015602297003,
          1.1108304084590657,
          1.1006533574748047,
          1.090569545157507,
          1.0805781172862616,
          1.070678227466427,
          1.0608690370575324,
          1.051149715102511,
          1.0415194382574136,
          1.0319773907212806,
          1.0225227641672667,
          1.0131547576741973,
          1.0038725776585373,
          0.9946754378075973,
          0.9855625590123296,
          0.9765331693017067,
          0.967586503777202,
          0.9587218045481158,
          0.9499383206671048,
          0.9412353080670499,
          0.9326120294974807,
          0.9240677544624241,
          0.9156017591584291,
          0.9072133264132898,
          0.8989017456254533,
          0.8906663127034768,
          0.8825063300065565,
          0.874421106285542,
          0.8664099566241763,
          0.85847220238111,
          0.8506071711327934,
          0.8428141966158709,
          0.8350926186711778,
          0.8274417831876715,
          0.8198610420469823,
          0.8123497530688724,
          0.8049072799562325,
          0.797532992241587,
          0.7902262652336187,
          0.7829864799641655,
          0.775813023135802,
          0.7687052870701727,
          0.7616626696559905,
          0.7546845742984107,
          0.7477704098683642,
          0.7409195906524282,
          0.7341315363035541,
          0.727405671791379,
          0.7207414273538388,
          0.7141382384488422,
          0.7075955457064484,
          0.7011127948813813,
          0.6946894368064207,
          0.6883249273453966,
          0.6820187273473897,
          0.6757703026009763,
          0.6695791237890782,
          0.6634446664438629,
          0.6573664109028066,
          0.6513438422640467,
          0.6453764503432247,
          0.6394637296300791,
          0.6336051792456061,
          0.627800302899856,
          0.6220486088495774,
          0.6163496098567176,
          0.6107028231471414,
          0.6051077703697585,
          0.5995639775558459,
          0.5940709750792719,
          0.5886282976162156,
          0.5832354841060909,
          0.577892077712403,
          0.5725976257839385,
          0.5673516798167211,
          0.5621537954156448,
          0.5570035322570304,
          0.551900454051315,
          0.5468441285060637,
          0.5418341272893255,
          0.5368700259935224,
          0.5319514040991664,
          0.5270778449395186,
          0.5222489356652051,
          0.5174642672091707,
          0.5127234342522149,
          0.508026035188403,
          0.5033716720912684,
          0.4987599506799649,
          0.49419048028590384,
          0.4896628738196669,
          0.4851767477383091,
          0.480731722012673,
          0.47632742009532225,
          0.4719634688886343,
          0.46763949871314825,
          0.46335514327634875,
          0.45911003964148756,
          0.45490382819699215,
          0.4507361526258489,
          0.44660665987556447,
          0.44251500012814504,
          0.43846082677056697,
          0.4344437963653176,
          0.43046356862133006
         ]
        },
        {
         "name": "Percent Error",
         "type": "scatter",
         "x": [
          40.19834144668158,
          40.44575365552177,
          40.69468863368243,
          40.94515575348347,
          41.19716444492954,
          41.45072419606499,
          41.70584455333103,
          41.96253512192505,
          42.2208055661628,
          42.48066560984142,
          42.74212503660605,
          43.005193690318116,
          43.26988147542573,
          43.536198357337234,
          43.80415436279549,
          44.07375958025594,
          44.345024160266334,
          44.617958315848895,
          44.89257232288462,
          45.168876520500866,
          45.44688131145962,
          45.72659716254981,
          46.00803460498121,
          46.2912042347808,
          46.576116713192306,
          46.86278276707666,
          47.15121318931648,
          47.4414188392223,
          47.73341064294136,
          48.02719959386886,
          48.322796753062484,
          48.62021324965788,
          48.91946028128831,
          49.22054911450606,
          49.5234910852065,
          49.82829759905552,
          50.134980131917914,
          50.443550230290164,
          50.754019511734974,
          51.066399665318656,
          51.38070245205105,
          51.696939705329044,
          52.01512333138103,
          52.33526530971585,
          52.65737769357368,
          52.98147261037962,
          53.30756226220105,
          53.63565892620591,
          53.965774955125674,
          54.29792277772024,
          54.63211489924585,
          54.96836390192576,
          55.306682445424705,
          55.64708326732436,
          55.98957918360369,
          56.334183089121275,
          56.680907958100605,
          57.02976684461934,
          57.380772883099596,
          57.733939288803256,
          58.08927935832932,
          58.44680647011452,
          58.806534084936786,
          59.168475746422914,
          59.53264508155717,
          59.899055801195246,
          60.26772170058019,
          60.63865665986163,
          61.01187464461919,
          61.38738970638701,
          61.765215983183644,
          62.14536770004412,
          62.52785916955552,
          62.91270479239564,
          63.29991905787602,
          63.68951654448615,
          64.08151192044326,
          64.4759199442443,
          64.87275546522139,
          65.27203342410179,
          65.67376885356913,
          66.07797687883013,
          66.484672718184,
          66.89387168359531,
          67.30558918127025,
          67.71984071223764,
          68.13664187293112,
          68.55600835577731,
          68.97795594978629,
          69.40250054114595,
          69.829658113821,
          70.25944475015328,
          70.69187663146826,
          71.12697003868404,
          71.56474135292426,
          72.00520705613464,
          72.44838373170452,
          72.89428806508973,
          73.34293684444168,
          73.79434696123938,
          74.24853541092494,
          74.70551929354464,
          75.16531581439104,
          75.62794228465191,
          76.09341612206167,
          76.56175485155718,
          77.03297610593728,
          77.50709762652772,
          77.98413726384751,
          78.4641129782821,
          78.94704284075921,
          79.43294503342905,
          79.92183785034987,
          80.41373969817514,
          80.90866909684762,
          81.40664468029634,
          81.90768519713824,
          82.41180951138362,
          82.91903660314772,
          83.42938556936335,
          83.94287562450123,
          84.45952610129301,
          84.9793564514589,
          85.50238624644118,
          86.02863517813927,
          86.55812305965233,
          87.09086982602494,
          87.6268955349976,
          88.16622036776161,
          88.70886462972014,
          89.25484875125082,
          89.80419328847624,
          90.3569189240375,
          90.91304646787266,
          91.47259685800142,
          92.0355911613116,
          92.60205057435353,
          93.17199642413773,
          93.745450168938,
          94.32243339909884,
          94.90296783784973,
          95.487075342121,
          96.07477790336802,
          96.66609764839892,
          97.26105684020722,
          97.85967787881145,
          98.4619833020965,
          99.06799578666337,
          99.6777381486828,
          100.29123334475412,
          100.9085044727693,
          101.52957477278396,
          102.15446762789024,
          102.78320656509858,
          103.41581525622313,
          104.05231751877264,
          104.69273731684868,
          105.33709876204557,
          105.98542611435978,
          106.63774378310286,
          107.29407632782043,
          107.95444845921655,
          108.61888504008547,
          109.28741108624551,
          109.96005176748241,
          110.63683240849655,
          111.31777848985601,
          112.00291564895757,
          112.6922696809895,
          113.38586653990431,
          114.08373233939561,
          114.78589335388118,
          115.4923760194918,
          116.20320693506828,
          116.91841286316034,
          117.63802073103591,
          118.36205763169447,
          119.09055082488719,
          119.8235277381427,
          120.56101596780154,
          121.3030432800525,
          122.04963761197985,
          122.80082707261454,
          123.55663994399224,
          124.31710468221979,
          125.082249918544,
          125.85210446043132,
          126.62669729265201,
          127.40605757837139,
          128.1902146602474,
          128.97919806153712,
          129.77303748720558,
          130.5717628250461,
          131.37540414680484,
          132.18399170931275,
          132.99755595562652,
          133.81612751617192,
          134.63973720989895,
          135.46841604544161,
          136.3021952222855,
          137.14110613194185,
          137.98518035913142,
          138.8344496829707,
          139.6889460781704,
          140.54870171623867,
          141.41374896669197,
          142.28412039827575,
          143.15984878018756,
          144.04096708331292,
          144.9275084814661,
          145.81950635263908,
          146.7169942802578,
          147.62000605444854,
          148.52857567330702,
          149.4427373441805,
          150.36252548495517,
          151.28797472535146,
          152.21911990822989,
          153.15599609089972,
          154.0986385464411,
          155.04708276503237,
          156.00136445528636,
          156.96151954559423,
          157.9275841854804,
          158.89959474696025,
          159.87758782591163
         ],
         "y": [
          5.494331994632455,
          5.464482010004255,
          5.4349973389653945,
          5.405876584194409,
          5.377118403942262,
          5.348721512723293,
          5.320684682035425,
          5.293006741111846,
          5.265686577702265,
          5.238723138890062,
          5.2121154319393455,
          5.185862525177653,
          5.159963548913994,
          5.134417696391366,
          5.109224224778869,
          5.084382456199339,
          5.059891778797083,
          5.035751647845623,
          5.011961586896717,
          4.988521188970542,
          4.965430117791744,
          4.942688109067736,
          4.920294971814135,
          4.8982505897273,
          4.876554922604378,
          4.855208007815492,
          4.83420996182521,
          4.813560981767641,
          4.793261347076058,
          4.773311421168492,
          4.753711653190084,
          4.734462579817174,
          4.715564827120221,
          4.697019112491123,
          4.678826246635735,
          4.660987135632316,
          4.643502783061751,
          4.6263742922075055,
          4.6096028683298815,
          4.593189821017633,
          4.577136566618133,
          4.5614446307487855,
          4.546115650895261,
          4.531151379095368,
          4.516553684714571,
          4.502324557316734,
          4.488466109630598,
          4.4749805806204535,
          4.461870338659712,
          4.449137884815394,
          4.436785856245746,
          4.424817029716618,
          4.4132343252397455,
          4.402040809840975,
          4.3912397014601,
          4.380834372990293,
          4.370828356462615,
          4.361225347380267,
          4.352029209212094,
          4.343243978048776,
          4.334873867431252,
          4.326923273358025,
          4.319396779479742,
          4.312299162488769,
          4.305635397713848,
          4.299410664928008,
          4.293630354379533,
          4.288300073057942,
          4.283425651203054,
          4.279013149072026,
          4.275068863972662,
          4.271599337579096,
          4.268611363540418,
          4.2661119953983135,
          4.264108554826505,
          4.262608640209636,
          4.261620135575747,
          4.261151219900864,
          4.261210376803085,
          4.261806404644608,
          4.262948427063518,
          4.2646459039530304,
          4.266908642913104,
          4.269746811195515,
          4.273170948167701,
          4.2771919783203876,
          4.2818212248454435,
          4.287070423813358,
          4.292951738977455,
          4.299477777239064,
          4.306661604804168,
          4.314516764065597,
          4.323057291249335,
          4.332297734859882,
          4.34225317496715,
          4.352939243375414,
          4.364372144719659,
          4.376568678534636,
          4.389546262346401,
          4.403322955839423,
          4.417917486149722,
          4.433349274347022,
          4.449638463159091,
          4.466805946009343,
          4.484873397429097,
          4.503863304918178,
          4.5237990023269985,
          4.544704704839917,
          4.566605545641178,
          4.589527614352142,
          4.613497997332853,
          4.638544819943751,
          4.664697290872917,
          4.691985748633233,
          4.720441710351932,
          4.750097922966367,
          4.780988416960591,
          4.8131485627743595,
          4.846615130033229,
          4.881426349745136,
          4.917621979632614,
          4.9552433727655245,
          4.994333549676686,
          5.034937274155069,
          5.077101132910196,
          5.1208736193347555,
          5.1663052215859855,
          5.213448515226288,
          5.262358260685343,
          5.313091505811765,
          5.365707693800579,
          5.420268776809252,
          5.476839335582861,
          5.535486705433796,
          5.596281108947786,
          5.659295795796311,
          5.724607190081909,
          5.792295045647978,
          5.862442609826164,
          5.935136796115618,
          6.010468366331774,
          6.0885321227768765,
          6.169427111045645,
          6.2532568340969625,
          6.340129478276242,
          6.430158152014258,
          6.523461137970155,
          6.6201621594509446,
          6.720390661981211,
          6.8242821109577925,
          6.931978306392919,
          7.043627715813325,
          7.159385826440712,
          7.2794155178867825,
          7.4038874566450295,
          7.532980513770429,
          7.666882207230256,
          7.805789170493335,
          7.949907649068323,
          8.099454026783427,
          8.254655383745163,
          8.415750088045366,
          8.582988423431999,
          8.756633255298956,
          8.936960737551987,
          9.124261063049776,
          9.318839260536842,
          9.52101604119135,
          9.731128698111942,
          9.949532062351299,
          10.17659951932235,
          10.412724089706343,
          10.658319579284422,
          10.91382180245151,
          11.179689884489555,
          11.45640764810483,
          11.744485090093242,
          12.044459954466905,
          12.356899408828696,
          12.68240183132659,
          13.021598716010605,
          13.375156705097796,
          13.743779757212188,
          14.128211461417742,
          14.52923750760266,
          14.947688324563538,
          15.384441898067882,
          15.840426782084066,
          16.316625317422982,
          16.81407707314163,
          17.333882527300464,
          17.877207004909383,
          18.445284892422613,
          19.03942414958649,
          19.66101114117037,
          20.311515812932058,
          20.992497238073867,
          21.70560956267962,
          22.452608380858848,
          23.235357572885462,
          24.055836642349284,
          24.91614859132769,
          25.818528375766892,
          26.765351986887936,
          27.7591462081417,
          28.802599101480077,
          29.898571281247083,
          31.050108038862334,
          32.26045238697206,
          33.5330590974757,
          34.87160981433296,
          36.28002932897208,
          37.76250311375197,
          39.32349621717534,
          40.96777363371139,
          42.70042227086777,
          44.52687464700587,
          46.45293446521602,
          48.48480422138691,
          50.629115018846804,
          52.8929587772094,
          55.28392304012433,
          57.81012860492283,
          60.480270217553,
          63.30366059818877,
          66.29027808732373
         ],
         "yaxis": "y2"
        }
       ],
       "layout": {
        "template": {
         "data": {
          "bar": [
           {
            "error_x": {
             "color": "#2a3f5f"
            },
            "error_y": {
             "color": "#2a3f5f"
            },
            "marker": {
             "line": {
              "color": "#E5ECF6",
              "width": 0.5
             }
            },
            "type": "bar"
           }
          ],
          "barpolar": [
           {
            "marker": {
             "line": {
              "color": "#E5ECF6",
              "width": 0.5
             }
            },
            "type": "barpolar"
           }
          ],
          "carpet": [
           {
            "aaxis": {
             "endlinecolor": "#2a3f5f",
             "gridcolor": "white",
             "linecolor": "white",
             "minorgridcolor": "white",
             "startlinecolor": "#2a3f5f"
            },
            "baxis": {
             "endlinecolor": "#2a3f5f",
             "gridcolor": "white",
             "linecolor": "white",
             "minorgridcolor": "white",
             "startlinecolor": "#2a3f5f"
            },
            "type": "carpet"
           }
          ],
          "choropleth": [
           {
            "colorbar": {
             "outlinewidth": 0,
             "ticks": ""
            },
            "type": "choropleth"
           }
          ],
          "contour": [
           {
            "colorbar": {
             "outlinewidth": 0,
             "ticks": ""
            },
            "colorscale": [
             [
              0,
              "#0d0887"
             ],
             [
              0.1111111111111111,
              "#46039f"
             ],
             [
              0.2222222222222222,
              "#7201a8"
             ],
             [
              0.3333333333333333,
              "#9c179e"
             ],
             [
              0.4444444444444444,
              "#bd3786"
             ],
             [
              0.5555555555555556,
              "#d8576b"
             ],
             [
              0.6666666666666666,
              "#ed7953"
             ],
             [
              0.7777777777777778,
              "#fb9f3a"
             ],
             [
              0.8888888888888888,
              "#fdca26"
             ],
             [
              1,
              "#f0f921"
             ]
            ],
            "type": "contour"
           }
          ],
          "contourcarpet": [
           {
            "colorbar": {
             "outlinewidth": 0,
             "ticks": ""
            },
            "type": "contourcarpet"
           }
          ],
          "heatmap": [
           {
            "colorbar": {
             "outlinewidth": 0,
             "ticks": ""
            },
            "colorscale": [
             [
              0,
              "#0d0887"
             ],
             [
              0.1111111111111111,
              "#46039f"
             ],
             [
              0.2222222222222222,
              "#7201a8"
             ],
             [
              0.3333333333333333,
              "#9c179e"
             ],
             [
              0.4444444444444444,
              "#bd3786"
             ],
             [
              0.5555555555555556,
              "#d8576b"
             ],
             [
              0.6666666666666666,
              "#ed7953"
             ],
             [
              0.7777777777777778,
              "#fb9f3a"
             ],
             [
              0.8888888888888888,
              "#fdca26"
             ],
             [
              1,
              "#f0f921"
             ]
            ],
            "type": "heatmap"
           }
          ],
          "heatmapgl": [
           {
            "colorbar": {
             "outlinewidth": 0,
             "ticks": ""
            },
            "colorscale": [
             [
              0,
              "#0d0887"
             ],
             [
              0.1111111111111111,
              "#46039f"
             ],
             [
              0.2222222222222222,
              "#7201a8"
             ],
             [
              0.3333333333333333,
              "#9c179e"
             ],
             [
              0.4444444444444444,
              "#bd3786"
             ],
             [
              0.5555555555555556,
              "#d8576b"
             ],
             [
              0.6666666666666666,
              "#ed7953"
             ],
             [
              0.7777777777777778,
              "#fb9f3a"
             ],
             [
              0.8888888888888888,
              "#fdca26"
             ],
             [
              1,
              "#f0f921"
             ]
            ],
            "type": "heatmapgl"
           }
          ],
          "histogram": [
           {
            "marker": {
             "colorbar": {
              "outlinewidth": 0,
              "ticks": ""
             }
            },
            "type": "histogram"
           }
          ],
          "histogram2d": [
           {
            "colorbar": {
             "outlinewidth": 0,
             "ticks": ""
            },
            "colorscale": [
             [
              0,
              "#0d0887"
             ],
             [
              0.1111111111111111,
              "#46039f"
             ],
             [
              0.2222222222222222,
              "#7201a8"
             ],
             [
              0.3333333333333333,
              "#9c179e"
             ],
             [
              0.4444444444444444,
              "#bd3786"
             ],
             [
              0.5555555555555556,
              "#d8576b"
             ],
             [
              0.6666666666666666,
              "#ed7953"
             ],
             [
              0.7777777777777778,
              "#fb9f3a"
             ],
             [
              0.8888888888888888,
              "#fdca26"
             ],
             [
              1,
              "#f0f921"
             ]
            ],
            "type": "histogram2d"
           }
          ],
          "histogram2dcontour": [
           {
            "colorbar": {
             "outlinewidth": 0,
             "ticks": ""
            },
            "colorscale": [
             [
              0,
              "#0d0887"
             ],
             [
              0.1111111111111111,
              "#46039f"
             ],
             [
              0.2222222222222222,
              "#7201a8"
             ],
             [
              0.3333333333333333,
              "#9c179e"
             ],
             [
              0.4444444444444444,
              "#bd3786"
             ],
             [
              0.5555555555555556,
              "#d8576b"
             ],
             [
              0.6666666666666666,
              "#ed7953"
             ],
             [
              0.7777777777777778,
              "#fb9f3a"
             ],
             [
              0.8888888888888888,
              "#fdca26"
             ],
             [
              1,
              "#f0f921"
             ]
            ],
            "type": "histogram2dcontour"
           }
          ],
          "mesh3d": [
           {
            "colorbar": {
             "outlinewidth": 0,
             "ticks": ""
            },
            "type": "mesh3d"
           }
          ],
          "parcoords": [
           {
            "line": {
             "colorbar": {
              "outlinewidth": 0,
              "ticks": ""
             }
            },
            "type": "parcoords"
           }
          ],
          "scatter": [
           {
            "marker": {
             "colorbar": {
              "outlinewidth": 0,
              "ticks": ""
             }
            },
            "type": "scatter"
           }
          ],
          "scatter3d": [
           {
            "line": {
             "colorbar": {
              "outlinewidth": 0,
              "ticks": ""
             }
            },
            "marker": {
             "colorbar": {
              "outlinewidth": 0,
              "ticks": ""
             }
            },
            "type": "scatter3d"
           }
          ],
          "scattercarpet": [
           {
            "marker": {
             "colorbar": {
              "outlinewidth": 0,
              "ticks": ""
             }
            },
            "type": "scattercarpet"
           }
          ],
          "scattergeo": [
           {
            "marker": {
             "colorbar": {
              "outlinewidth": 0,
              "ticks": ""
             }
            },
            "type": "scattergeo"
           }
          ],
          "scattergl": [
           {
            "marker": {
             "colorbar": {
              "outlinewidth": 0,
              "ticks": ""
             }
            },
            "type": "scattergl"
           }
          ],
          "scattermapbox": [
           {
            "marker": {
             "colorbar": {
              "outlinewidth": 0,
              "ticks": ""
             }
            },
            "type": "scattermapbox"
           }
          ],
          "scatterpolar": [
           {
            "marker": {
             "colorbar": {
              "outlinewidth": 0,
              "ticks": ""
             }
            },
            "type": "scatterpolar"
           }
          ],
          "scatterpolargl": [
           {
            "marker": {
             "colorbar": {
              "outlinewidth": 0,
              "ticks": ""
             }
            },
            "type": "scatterpolargl"
           }
          ],
          "scatterternary": [
           {
            "marker": {
             "colorbar": {
              "outlinewidth": 0,
              "ticks": ""
             }
            },
            "type": "scatterternary"
           }
          ],
          "surface": [
           {
            "colorbar": {
             "outlinewidth": 0,
             "ticks": ""
            },
            "colorscale": [
             [
              0,
              "#0d0887"
             ],
             [
              0.1111111111111111,
              "#46039f"
             ],
             [
              0.2222222222222222,
              "#7201a8"
             ],
             [
              0.3333333333333333,
              "#9c179e"
             ],
             [
              0.4444444444444444,
              "#bd3786"
             ],
             [
              0.5555555555555556,
              "#d8576b"
             ],
             [
              0.6666666666666666,
              "#ed7953"
             ],
             [
              0.7777777777777778,
              "#fb9f3a"
             ],
             [
              0.8888888888888888,
              "#fdca26"
             ],
             [
              1,
              "#f0f921"
             ]
            ],
            "type": "surface"
           }
          ],
          "table": [
           {
            "cells": {
             "fill": {
              "color": "#EBF0F8"
             },
             "line": {
              "color": "white"
             }
            },
            "header": {
             "fill": {
              "color": "#C8D4E3"
             },
             "line": {
              "color": "white"
             }
            },
            "type": "table"
           }
          ]
         },
         "layout": {
          "annotationdefaults": {
           "arrowcolor": "#2a3f5f",
           "arrowhead": 0,
           "arrowwidth": 1
          },
          "colorscale": {
           "diverging": [
            [
             0,
             "#8e0152"
            ],
            [
             0.1,
             "#c51b7d"
            ],
            [
             0.2,
             "#de77ae"
            ],
            [
             0.3,
             "#f1b6da"
            ],
            [
             0.4,
             "#fde0ef"
            ],
            [
             0.5,
             "#f7f7f7"
            ],
            [
             0.6,
             "#e6f5d0"
            ],
            [
             0.7,
             "#b8e186"
            ],
            [
             0.8,
             "#7fbc41"
            ],
            [
             0.9,
             "#4d9221"
            ],
            [
             1,
             "#276419"
            ]
           ],
           "sequential": [
            [
             0,
             "#0d0887"
            ],
            [
             0.1111111111111111,
             "#46039f"
            ],
            [
             0.2222222222222222,
             "#7201a8"
            ],
            [
             0.3333333333333333,
             "#9c179e"
            ],
            [
             0.4444444444444444,
             "#bd3786"
            ],
            [
             0.5555555555555556,
             "#d8576b"
            ],
            [
             0.6666666666666666,
             "#ed7953"
            ],
            [
             0.7777777777777778,
             "#fb9f3a"
            ],
            [
             0.8888888888888888,
             "#fdca26"
            ],
            [
             1,
             "#f0f921"
            ]
           ],
           "sequentialminus": [
            [
             0,
             "#0d0887"
            ],
            [
             0.1111111111111111,
             "#46039f"
            ],
            [
             0.2222222222222222,
             "#7201a8"
            ],
            [
             0.3333333333333333,
             "#9c179e"
            ],
            [
             0.4444444444444444,
             "#bd3786"
            ],
            [
             0.5555555555555556,
             "#d8576b"
            ],
            [
             0.6666666666666666,
             "#ed7953"
            ],
            [
             0.7777777777777778,
             "#fb9f3a"
            ],
            [
             0.8888888888888888,
             "#fdca26"
            ],
            [
             1,
             "#f0f921"
            ]
           ]
          },
          "colorway": [
           "#636efa",
           "#EF553B",
           "#00cc96",
           "#ab63fa",
           "#FFA15A",
           "#19d3f3",
           "#FF6692",
           "#B6E880",
           "#FF97FF",
           "#FECB52"
          ],
          "font": {
           "color": "#2a3f5f"
          },
          "geo": {
           "bgcolor": "white",
           "lakecolor": "white",
           "landcolor": "#E5ECF6",
           "showlakes": true,
           "showland": true,
           "subunitcolor": "white"
          },
          "hoverlabel": {
           "align": "left"
          },
          "hovermode": "closest",
          "mapbox": {
           "style": "light"
          },
          "paper_bgcolor": "white",
          "plot_bgcolor": "#E5ECF6",
          "polar": {
           "angularaxis": {
            "gridcolor": "white",
            "linecolor": "white",
            "ticks": ""
           },
           "bgcolor": "#E5ECF6",
           "radialaxis": {
            "gridcolor": "white",
            "linecolor": "white",
            "ticks": ""
           }
          },
          "scene": {
           "xaxis": {
            "backgroundcolor": "#E5ECF6",
            "gridcolor": "white",
            "gridwidth": 2,
            "linecolor": "white",
            "showbackground": true,
            "ticks": "",
            "zerolinecolor": "white"
           },
           "yaxis": {
            "backgroundcolor": "#E5ECF6",
            "gridcolor": "white",
            "gridwidth": 2,
            "linecolor": "white",
            "showbackground": true,
            "ticks": "",
            "zerolinecolor": "white"
           },
           "zaxis": {
            "backgroundcolor": "#E5ECF6",
            "gridcolor": "white",
            "gridwidth": 2,
            "linecolor": "white",
            "showbackground": true,
            "ticks": "",
            "zerolinecolor": "white"
           }
          },
          "shapedefaults": {
           "line": {
            "color": "#2a3f5f"
           }
          },
          "ternary": {
           "aaxis": {
            "gridcolor": "white",
            "linecolor": "white",
            "ticks": ""
           },
           "baxis": {
            "gridcolor": "white",
            "linecolor": "white",
            "ticks": ""
           },
           "bgcolor": "#E5ECF6",
           "caxis": {
            "gridcolor": "white",
            "linecolor": "white",
            "ticks": ""
           }
          },
          "title": {
           "x": 0.05
          },
          "xaxis": {
           "automargin": true,
           "gridcolor": "white",
           "linecolor": "white",
           "ticks": "",
           "zerolinecolor": "white",
           "zerolinewidth": 2
          },
          "yaxis": {
           "automargin": true,
           "gridcolor": "white",
           "linecolor": "white",
           "ticks": "",
           "zerolinecolor": "white",
           "zerolinewidth": 2
          }
         }
        },
        "title": {
         "text": "Fast Fourier Transform Error"
        },
        "xaxis": {
         "title": {
          "text": "Strike"
         }
        },
        "yaxis": {
         "title": {
          "text": "Absolute"
         }
        },
        "yaxis2": {
         "anchor": "x",
         "overlaying": "y",
         "side": "right",
         "title": {
          "text": "Percent Error (%)"
         }
        }
       }
      },
      "text/html": [
       "<div>\n",
       "        \n",
       "        \n",
       "            <div id=\"9154f6ce-6fa7-4acf-8b5e-144dbfb00d09\" class=\"plotly-graph-div\" style=\"height:525px; width:100%;\"></div>\n",
       "            <script type=\"text/javascript\">\n",
       "                require([\"plotly\"], function(Plotly) {\n",
       "                    window.PLOTLYENV=window.PLOTLYENV || {};\n",
       "                    \n",
       "                if (document.getElementById(\"9154f6ce-6fa7-4acf-8b5e-144dbfb00d09\")) {\n",
       "                    Plotly.newPlot(\n",
       "                        '9154f6ce-6fa7-4acf-8b5e-144dbfb00d09',\n",
       "                        [{\"name\": \"Absolute Error\", \"type\": \"scatter\", \"x\": [40.19834144668158, 40.44575365552177, 40.69468863368243, 40.94515575348347, 41.19716444492954, 41.45072419606499, 41.70584455333103, 41.96253512192505, 42.2208055661628, 42.48066560984142, 42.74212503660605, 43.005193690318116, 43.26988147542573, 43.536198357337234, 43.80415436279549, 44.07375958025594, 44.345024160266334, 44.617958315848895, 44.89257232288462, 45.168876520500866, 45.44688131145962, 45.72659716254981, 46.00803460498121, 46.2912042347808, 46.576116713192306, 46.86278276707666, 47.15121318931648, 47.4414188392223, 47.73341064294136, 48.02719959386886, 48.322796753062484, 48.62021324965788, 48.91946028128831, 49.22054911450606, 49.5234910852065, 49.82829759905552, 50.134980131917914, 50.443550230290164, 50.754019511734974, 51.066399665318656, 51.38070245205105, 51.696939705329044, 52.01512333138103, 52.33526530971585, 52.65737769357368, 52.98147261037962, 53.30756226220105, 53.63565892620591, 53.965774955125674, 54.29792277772024, 54.63211489924585, 54.96836390192576, 55.306682445424705, 55.64708326732436, 55.98957918360369, 56.334183089121275, 56.680907958100605, 57.02976684461934, 57.380772883099596, 57.733939288803256, 58.08927935832932, 58.44680647011452, 58.806534084936786, 59.168475746422914, 59.53264508155717, 59.899055801195246, 60.26772170058019, 60.63865665986163, 61.01187464461919, 61.38738970638701, 61.765215983183644, 62.14536770004412, 62.52785916955552, 62.91270479239564, 63.29991905787602, 63.68951654448615, 64.08151192044326, 64.4759199442443, 64.87275546522139, 65.27203342410179, 65.67376885356913, 66.07797687883013, 66.484672718184, 66.89387168359531, 67.30558918127025, 67.71984071223764, 68.13664187293112, 68.55600835577731, 68.97795594978629, 69.40250054114595, 69.829658113821, 70.25944475015328, 70.69187663146826, 71.12697003868404, 71.56474135292426, 72.00520705613464, 72.44838373170452, 72.89428806508973, 73.34293684444168, 73.79434696123938, 74.24853541092494, 74.70551929354464, 75.16531581439104, 75.62794228465191, 76.09341612206167, 76.56175485155718, 77.03297610593728, 77.50709762652772, 77.98413726384751, 78.4641129782821, 78.94704284075921, 79.43294503342905, 79.92183785034987, 80.41373969817514, 80.90866909684762, 81.40664468029634, 81.90768519713824, 82.41180951138362, 82.91903660314772, 83.42938556936335, 83.94287562450123, 84.45952610129301, 84.9793564514589, 85.50238624644118, 86.02863517813927, 86.55812305965233, 87.09086982602494, 87.6268955349976, 88.16622036776161, 88.70886462972014, 89.25484875125082, 89.80419328847624, 90.3569189240375, 90.91304646787266, 91.47259685800142, 92.0355911613116, 92.60205057435353, 93.17199642413773, 93.745450168938, 94.32243339909884, 94.90296783784973, 95.487075342121, 96.07477790336802, 96.66609764839892, 97.26105684020722, 97.85967787881145, 98.4619833020965, 99.06799578666337, 99.6777381486828, 100.29123334475412, 100.9085044727693, 101.52957477278396, 102.15446762789024, 102.78320656509858, 103.41581525622313, 104.05231751877264, 104.69273731684868, 105.33709876204557, 105.98542611435978, 106.63774378310286, 107.29407632782043, 107.95444845921655, 108.61888504008547, 109.28741108624551, 109.96005176748241, 110.63683240849655, 111.31777848985601, 112.00291564895757, 112.6922696809895, 113.38586653990431, 114.08373233939561, 114.78589335388118, 115.4923760194918, 116.20320693506828, 116.91841286316034, 117.63802073103591, 118.36205763169447, 119.09055082488719, 119.8235277381427, 120.56101596780154, 121.3030432800525, 122.04963761197985, 122.80082707261454, 123.55663994399224, 124.31710468221979, 125.082249918544, 125.85210446043132, 126.62669729265201, 127.40605757837139, 128.1902146602474, 128.97919806153712, 129.77303748720558, 130.5717628250461, 131.37540414680484, 132.18399170931275, 132.99755595562652, 133.81612751617192, 134.63973720989895, 135.46841604544161, 136.3021952222855, 137.14110613194185, 137.98518035913142, 138.8344496829707, 139.6889460781704, 140.54870171623867, 141.41374896669197, 142.28412039827575, 143.15984878018756, 144.04096708331292, 144.9275084814661, 145.81950635263908, 146.7169942802578, 147.62000605444854, 148.52857567330702, 149.4427373441805, 150.36252548495517, 151.28797472535146, 152.21911990822989, 153.15599609089972, 154.0986385464411, 155.04708276503237, 156.00136445528636, 156.96151954559423, 157.9275841854804, 158.89959474696025, 159.87758782591163], \"y\": [3.4143321831887476, 3.383051235296385, 3.352056872769957, 3.3213464700123936, 3.2909174254812044, 3.2607671614683937, 3.230893123881984, 3.2012927820299737, 3.1719636284050594, 3.142903178473496, 3.1141089704638034, 3.085578565158343, 3.0573095456869552, 3.0292995173215402, 3.0015461072741445, 2.974046964495365, 2.946799759475276, 2.919802184046148, 2.893051951187026, 2.866546794829418, 2.840284469666223, 2.8142627509609355, 2.7884794343593455, 2.7629323357028923, 2.7376192908431207, 2.71253815545915, 2.687686804875568, 2.663063133882467, 2.638665056557187, 2.6144905060876695, 2.5905374345968823, 2.5668038129701714, 2.543287630682798, 2.5199868956297635, 2.496899633957206, 2.4740238898946174, 2.4513577255899435, 2.4288992209450697, 2.4066464734530157, 2.3845975980370255, 2.3627507268908374, 2.3411040093200413, 2.319655611586036, 2.2984037167502223, 2.277346524520034, 2.256482251096834, 2.2358091290241404, 2.2153254070386694, 2.195029349921441, 2.174919238351009, 2.1549933687577365, 2.1352500531796323, 2.115687619118944, 2.096304409401043, 2.077098782033694, 2.058069110067997, 2.039213781460738, 2.0205311989374195, 2.002019779857463, 1.9836779560798306, 1.9655041738302614, 1.9474968935696282, 1.9296545898635955, 1.911975751253209, 1.8944588801270825, 1.8771024925944815, 1.8599051183594284, 1.842865300596472, 1.8259815958268675, 1.809252573796769, 1.7926768173556553, 1.7762529223365675, 1.7599794974369658, 1.7438551641010491, 1.7278785564027146, 1.712048320930137, 1.6963631166709447, 1.680821614898683, 1.665422499060277, 1.6501644646642788, 1.6350462191707678, 1.6200664818815085, 1.6052239838316424, 1.5905174676820906, 1.5759456876130997, 1.5615074092186987, 1.5472014094020778, 1.5330264762721626, 1.5189814090406344, 1.505065017920458, 1.4912761240250916, 1.4776135592684199, 1.4640761662660537, 1.450662798237076, 1.4373723189070162, 1.424203602411545, 1.4111555332011818, 1.3982270059467297, 1.3854169254454902, 1.3727242065288365, 1.3601477739698637, 1.347686562392834, 1.3353395161823443, 1.3231055893943093, 1.3109837456671727, 1.2989729581341933, 1.2870722093364044, 1.2752804911365274, 1.2635968046334831, 1.2520201600776772, 1.2405495767873234, 1.2291840830652738, 1.2179227161169415, 1.206764521968232, 1.1957085553852487, 1.1847538797938668, 1.173899567200639, 1.1631446981139462, 1.1524883614664958, 1.141929654537634, 1.1314676828772043, 1.1211015602297003, 1.1108304084590657, 1.1006533574748047, 1.090569545157507, 1.0805781172862616, 1.070678227466427, 1.0608690370575324, 1.051149715102511, 1.0415194382574136, 1.0319773907212806, 1.0225227641672667, 1.0131547576741973, 1.0038725776585373, 0.9946754378075973, 0.9855625590123296, 0.9765331693017067, 0.967586503777202, 0.9587218045481158, 0.9499383206671048, 0.9412353080670499, 0.9326120294974807, 0.9240677544624241, 0.9156017591584291, 0.9072133264132898, 0.8989017456254533, 0.8906663127034768, 0.8825063300065565, 0.874421106285542, 0.8664099566241763, 0.85847220238111, 0.8506071711327934, 0.8428141966158709, 0.8350926186711778, 0.8274417831876715, 0.8198610420469823, 0.8123497530688724, 0.8049072799562325, 0.797532992241587, 0.7902262652336187, 0.7829864799641655, 0.775813023135802, 0.7687052870701727, 0.7616626696559905, 0.7546845742984107, 0.7477704098683642, 0.7409195906524282, 0.7341315363035541, 0.727405671791379, 0.7207414273538388, 0.7141382384488422, 0.7075955457064484, 0.7011127948813813, 0.6946894368064207, 0.6883249273453966, 0.6820187273473897, 0.6757703026009763, 0.6695791237890782, 0.6634446664438629, 0.6573664109028066, 0.6513438422640467, 0.6453764503432247, 0.6394637296300791, 0.6336051792456061, 0.627800302899856, 0.6220486088495774, 0.6163496098567176, 0.6107028231471414, 0.6051077703697585, 0.5995639775558459, 0.5940709750792719, 0.5886282976162156, 0.5832354841060909, 0.577892077712403, 0.5725976257839385, 0.5673516798167211, 0.5621537954156448, 0.5570035322570304, 0.551900454051315, 0.5468441285060637, 0.5418341272893255, 0.5368700259935224, 0.5319514040991664, 0.5270778449395186, 0.5222489356652051, 0.5174642672091707, 0.5127234342522149, 0.508026035188403, 0.5033716720912684, 0.4987599506799649, 0.49419048028590384, 0.4896628738196669, 0.4851767477383091, 0.480731722012673, 0.47632742009532225, 0.4719634688886343, 0.46763949871314825, 0.46335514327634875, 0.45911003964148756, 0.45490382819699215, 0.4507361526258489, 0.44660665987556447, 0.44251500012814504, 0.43846082677056697, 0.4344437963653176, 0.43046356862133006]}, {\"name\": \"Percent Error\", \"type\": \"scatter\", \"x\": [40.19834144668158, 40.44575365552177, 40.69468863368243, 40.94515575348347, 41.19716444492954, 41.45072419606499, 41.70584455333103, 41.96253512192505, 42.2208055661628, 42.48066560984142, 42.74212503660605, 43.005193690318116, 43.26988147542573, 43.536198357337234, 43.80415436279549, 44.07375958025594, 44.345024160266334, 44.617958315848895, 44.89257232288462, 45.168876520500866, 45.44688131145962, 45.72659716254981, 46.00803460498121, 46.2912042347808, 46.576116713192306, 46.86278276707666, 47.15121318931648, 47.4414188392223, 47.73341064294136, 48.02719959386886, 48.322796753062484, 48.62021324965788, 48.91946028128831, 49.22054911450606, 49.5234910852065, 49.82829759905552, 50.134980131917914, 50.443550230290164, 50.754019511734974, 51.066399665318656, 51.38070245205105, 51.696939705329044, 52.01512333138103, 52.33526530971585, 52.65737769357368, 52.98147261037962, 53.30756226220105, 53.63565892620591, 53.965774955125674, 54.29792277772024, 54.63211489924585, 54.96836390192576, 55.306682445424705, 55.64708326732436, 55.98957918360369, 56.334183089121275, 56.680907958100605, 57.02976684461934, 57.380772883099596, 57.733939288803256, 58.08927935832932, 58.44680647011452, 58.806534084936786, 59.168475746422914, 59.53264508155717, 59.899055801195246, 60.26772170058019, 60.63865665986163, 61.01187464461919, 61.38738970638701, 61.765215983183644, 62.14536770004412, 62.52785916955552, 62.91270479239564, 63.29991905787602, 63.68951654448615, 64.08151192044326, 64.4759199442443, 64.87275546522139, 65.27203342410179, 65.67376885356913, 66.07797687883013, 66.484672718184, 66.89387168359531, 67.30558918127025, 67.71984071223764, 68.13664187293112, 68.55600835577731, 68.97795594978629, 69.40250054114595, 69.829658113821, 70.25944475015328, 70.69187663146826, 71.12697003868404, 71.56474135292426, 72.00520705613464, 72.44838373170452, 72.89428806508973, 73.34293684444168, 73.79434696123938, 74.24853541092494, 74.70551929354464, 75.16531581439104, 75.62794228465191, 76.09341612206167, 76.56175485155718, 77.03297610593728, 77.50709762652772, 77.98413726384751, 78.4641129782821, 78.94704284075921, 79.43294503342905, 79.92183785034987, 80.41373969817514, 80.90866909684762, 81.40664468029634, 81.90768519713824, 82.41180951138362, 82.91903660314772, 83.42938556936335, 83.94287562450123, 84.45952610129301, 84.9793564514589, 85.50238624644118, 86.02863517813927, 86.55812305965233, 87.09086982602494, 87.6268955349976, 88.16622036776161, 88.70886462972014, 89.25484875125082, 89.80419328847624, 90.3569189240375, 90.91304646787266, 91.47259685800142, 92.0355911613116, 92.60205057435353, 93.17199642413773, 93.745450168938, 94.32243339909884, 94.90296783784973, 95.487075342121, 96.07477790336802, 96.66609764839892, 97.26105684020722, 97.85967787881145, 98.4619833020965, 99.06799578666337, 99.6777381486828, 100.29123334475412, 100.9085044727693, 101.52957477278396, 102.15446762789024, 102.78320656509858, 103.41581525622313, 104.05231751877264, 104.69273731684868, 105.33709876204557, 105.98542611435978, 106.63774378310286, 107.29407632782043, 107.95444845921655, 108.61888504008547, 109.28741108624551, 109.96005176748241, 110.63683240849655, 111.31777848985601, 112.00291564895757, 112.6922696809895, 113.38586653990431, 114.08373233939561, 114.78589335388118, 115.4923760194918, 116.20320693506828, 116.91841286316034, 117.63802073103591, 118.36205763169447, 119.09055082488719, 119.8235277381427, 120.56101596780154, 121.3030432800525, 122.04963761197985, 122.80082707261454, 123.55663994399224, 124.31710468221979, 125.082249918544, 125.85210446043132, 126.62669729265201, 127.40605757837139, 128.1902146602474, 128.97919806153712, 129.77303748720558, 130.5717628250461, 131.37540414680484, 132.18399170931275, 132.99755595562652, 133.81612751617192, 134.63973720989895, 135.46841604544161, 136.3021952222855, 137.14110613194185, 137.98518035913142, 138.8344496829707, 139.6889460781704, 140.54870171623867, 141.41374896669197, 142.28412039827575, 143.15984878018756, 144.04096708331292, 144.9275084814661, 145.81950635263908, 146.7169942802578, 147.62000605444854, 148.52857567330702, 149.4427373441805, 150.36252548495517, 151.28797472535146, 152.21911990822989, 153.15599609089972, 154.0986385464411, 155.04708276503237, 156.00136445528636, 156.96151954559423, 157.9275841854804, 158.89959474696025, 159.87758782591163], \"y\": [5.494331994632455, 5.464482010004255, 5.4349973389653945, 5.405876584194409, 5.377118403942262, 5.348721512723293, 5.320684682035425, 5.293006741111846, 5.265686577702265, 5.238723138890062, 5.2121154319393455, 5.185862525177653, 5.159963548913994, 5.134417696391366, 5.109224224778869, 5.084382456199339, 5.059891778797083, 5.035751647845623, 5.011961586896717, 4.988521188970542, 4.965430117791744, 4.942688109067736, 4.920294971814135, 4.8982505897273, 4.876554922604378, 4.855208007815492, 4.83420996182521, 4.813560981767641, 4.793261347076058, 4.773311421168492, 4.753711653190084, 4.734462579817174, 4.715564827120221, 4.697019112491123, 4.678826246635735, 4.660987135632316, 4.643502783061751, 4.6263742922075055, 4.6096028683298815, 4.593189821017633, 4.577136566618133, 4.5614446307487855, 4.546115650895261, 4.531151379095368, 4.516553684714571, 4.502324557316734, 4.488466109630598, 4.4749805806204535, 4.461870338659712, 4.449137884815394, 4.436785856245746, 4.424817029716618, 4.4132343252397455, 4.402040809840975, 4.3912397014601, 4.380834372990293, 4.370828356462615, 4.361225347380267, 4.352029209212094, 4.343243978048776, 4.334873867431252, 4.326923273358025, 4.319396779479742, 4.312299162488769, 4.305635397713848, 4.299410664928008, 4.293630354379533, 4.288300073057942, 4.283425651203054, 4.279013149072026, 4.275068863972662, 4.271599337579096, 4.268611363540418, 4.2661119953983135, 4.264108554826505, 4.262608640209636, 4.261620135575747, 4.261151219900864, 4.261210376803085, 4.261806404644608, 4.262948427063518, 4.2646459039530304, 4.266908642913104, 4.269746811195515, 4.273170948167701, 4.2771919783203876, 4.2818212248454435, 4.287070423813358, 4.292951738977455, 4.299477777239064, 4.306661604804168, 4.314516764065597, 4.323057291249335, 4.332297734859882, 4.34225317496715, 4.352939243375414, 4.364372144719659, 4.376568678534636, 4.389546262346401, 4.403322955839423, 4.417917486149722, 4.433349274347022, 4.449638463159091, 4.466805946009343, 4.484873397429097, 4.503863304918178, 4.5237990023269985, 4.544704704839917, 4.566605545641178, 4.589527614352142, 4.613497997332853, 4.638544819943751, 4.664697290872917, 4.691985748633233, 4.720441710351932, 4.750097922966367, 4.780988416960591, 4.8131485627743595, 4.846615130033229, 4.881426349745136, 4.917621979632614, 4.9552433727655245, 4.994333549676686, 5.034937274155069, 5.077101132910196, 5.1208736193347555, 5.1663052215859855, 5.213448515226288, 5.262358260685343, 5.313091505811765, 5.365707693800579, 5.420268776809252, 5.476839335582861, 5.535486705433796, 5.596281108947786, 5.659295795796311, 5.724607190081909, 5.792295045647978, 5.862442609826164, 5.935136796115618, 6.010468366331774, 6.0885321227768765, 6.169427111045645, 6.2532568340969625, 6.340129478276242, 6.430158152014258, 6.523461137970155, 6.6201621594509446, 6.720390661981211, 6.8242821109577925, 6.931978306392919, 7.043627715813325, 7.159385826440712, 7.2794155178867825, 7.4038874566450295, 7.532980513770429, 7.666882207230256, 7.805789170493335, 7.949907649068323, 8.099454026783427, 8.254655383745163, 8.415750088045366, 8.582988423431999, 8.756633255298956, 8.936960737551987, 9.124261063049776, 9.318839260536842, 9.52101604119135, 9.731128698111942, 9.949532062351299, 10.17659951932235, 10.412724089706343, 10.658319579284422, 10.91382180245151, 11.179689884489555, 11.45640764810483, 11.744485090093242, 12.044459954466905, 12.356899408828696, 12.68240183132659, 13.021598716010605, 13.375156705097796, 13.743779757212188, 14.128211461417742, 14.52923750760266, 14.947688324563538, 15.384441898067882, 15.840426782084066, 16.316625317422982, 16.81407707314163, 17.333882527300464, 17.877207004909383, 18.445284892422613, 19.03942414958649, 19.66101114117037, 20.311515812932058, 20.992497238073867, 21.70560956267962, 22.452608380858848, 23.235357572885462, 24.055836642349284, 24.91614859132769, 25.818528375766892, 26.765351986887936, 27.7591462081417, 28.802599101480077, 29.898571281247083, 31.050108038862334, 32.26045238697206, 33.5330590974757, 34.87160981433296, 36.28002932897208, 37.76250311375197, 39.32349621717534, 40.96777363371139, 42.70042227086777, 44.52687464700587, 46.45293446521602, 48.48480422138691, 50.629115018846804, 52.8929587772094, 55.28392304012433, 57.81012860492283, 60.480270217553, 63.30366059818877, 66.29027808732373], \"yaxis\": \"y2\"}],\n",
       "                        {\"template\": {\"data\": {\"bar\": [{\"error_x\": {\"color\": \"#2a3f5f\"}, \"error_y\": {\"color\": \"#2a3f5f\"}, \"marker\": {\"line\": {\"color\": \"#E5ECF6\", \"width\": 0.5}}, \"type\": \"bar\"}], \"barpolar\": [{\"marker\": {\"line\": {\"color\": \"#E5ECF6\", \"width\": 0.5}}, \"type\": \"barpolar\"}], \"carpet\": [{\"aaxis\": {\"endlinecolor\": \"#2a3f5f\", \"gridcolor\": \"white\", \"linecolor\": \"white\", \"minorgridcolor\": \"white\", \"startlinecolor\": \"#2a3f5f\"}, \"baxis\": {\"endlinecolor\": \"#2a3f5f\", \"gridcolor\": \"white\", \"linecolor\": \"white\", \"minorgridcolor\": \"white\", \"startlinecolor\": \"#2a3f5f\"}, \"type\": \"carpet\"}], \"choropleth\": [{\"colorbar\": {\"outlinewidth\": 0, \"ticks\": \"\"}, \"type\": \"choropleth\"}], \"contour\": [{\"colorbar\": {\"outlinewidth\": 0, \"ticks\": \"\"}, \"colorscale\": [[0.0, \"#0d0887\"], [0.1111111111111111, \"#46039f\"], [0.2222222222222222, \"#7201a8\"], [0.3333333333333333, \"#9c179e\"], [0.4444444444444444, \"#bd3786\"], [0.5555555555555556, \"#d8576b\"], [0.6666666666666666, \"#ed7953\"], [0.7777777777777778, \"#fb9f3a\"], [0.8888888888888888, \"#fdca26\"], [1.0, \"#f0f921\"]], \"type\": \"contour\"}], \"contourcarpet\": [{\"colorbar\": {\"outlinewidth\": 0, \"ticks\": \"\"}, \"type\": \"contourcarpet\"}], \"heatmap\": [{\"colorbar\": {\"outlinewidth\": 0, \"ticks\": \"\"}, \"colorscale\": [[0.0, \"#0d0887\"], [0.1111111111111111, \"#46039f\"], [0.2222222222222222, \"#7201a8\"], [0.3333333333333333, \"#9c179e\"], [0.4444444444444444, \"#bd3786\"], [0.5555555555555556, \"#d8576b\"], [0.6666666666666666, \"#ed7953\"], [0.7777777777777778, \"#fb9f3a\"], [0.8888888888888888, \"#fdca26\"], [1.0, \"#f0f921\"]], \"type\": \"heatmap\"}], \"heatmapgl\": [{\"colorbar\": {\"outlinewidth\": 0, \"ticks\": \"\"}, \"colorscale\": [[0.0, \"#0d0887\"], [0.1111111111111111, \"#46039f\"], [0.2222222222222222, \"#7201a8\"], [0.3333333333333333, \"#9c179e\"], [0.4444444444444444, \"#bd3786\"], [0.5555555555555556, \"#d8576b\"], [0.6666666666666666, \"#ed7953\"], [0.7777777777777778, \"#fb9f3a\"], [0.8888888888888888, \"#fdca26\"], [1.0, \"#f0f921\"]], \"type\": \"heatmapgl\"}], \"histogram\": [{\"marker\": {\"colorbar\": {\"outlinewidth\": 0, \"ticks\": \"\"}}, \"type\": \"histogram\"}], \"histogram2d\": [{\"colorbar\": {\"outlinewidth\": 0, \"ticks\": \"\"}, \"colorscale\": [[0.0, \"#0d0887\"], [0.1111111111111111, \"#46039f\"], [0.2222222222222222, \"#7201a8\"], [0.3333333333333333, \"#9c179e\"], [0.4444444444444444, \"#bd3786\"], [0.5555555555555556, \"#d8576b\"], [0.6666666666666666, \"#ed7953\"], [0.7777777777777778, \"#fb9f3a\"], [0.8888888888888888, \"#fdca26\"], [1.0, \"#f0f921\"]], \"type\": \"histogram2d\"}], \"histogram2dcontour\": [{\"colorbar\": {\"outlinewidth\": 0, \"ticks\": \"\"}, \"colorscale\": [[0.0, \"#0d0887\"], [0.1111111111111111, \"#46039f\"], [0.2222222222222222, \"#7201a8\"], [0.3333333333333333, \"#9c179e\"], [0.4444444444444444, \"#bd3786\"], [0.5555555555555556, \"#d8576b\"], [0.6666666666666666, \"#ed7953\"], [0.7777777777777778, \"#fb9f3a\"], [0.8888888888888888, \"#fdca26\"], [1.0, \"#f0f921\"]], \"type\": \"histogram2dcontour\"}], \"mesh3d\": [{\"colorbar\": {\"outlinewidth\": 0, \"ticks\": \"\"}, \"type\": \"mesh3d\"}], \"parcoords\": [{\"line\": {\"colorbar\": {\"outlinewidth\": 0, \"ticks\": \"\"}}, \"type\": \"parcoords\"}], \"scatter\": [{\"marker\": {\"colorbar\": {\"outlinewidth\": 0, \"ticks\": \"\"}}, \"type\": \"scatter\"}], \"scatter3d\": [{\"line\": {\"colorbar\": {\"outlinewidth\": 0, \"ticks\": \"\"}}, \"marker\": {\"colorbar\": {\"outlinewidth\": 0, \"ticks\": \"\"}}, \"type\": \"scatter3d\"}], \"scattercarpet\": [{\"marker\": {\"colorbar\": {\"outlinewidth\": 0, \"ticks\": \"\"}}, \"type\": \"scattercarpet\"}], \"scattergeo\": [{\"marker\": {\"colorbar\": {\"outlinewidth\": 0, \"ticks\": \"\"}}, \"type\": \"scattergeo\"}], \"scattergl\": [{\"marker\": {\"colorbar\": {\"outlinewidth\": 0, \"ticks\": \"\"}}, \"type\": \"scattergl\"}], \"scattermapbox\": [{\"marker\": {\"colorbar\": {\"outlinewidth\": 0, \"ticks\": \"\"}}, \"type\": \"scattermapbox\"}], \"scatterpolar\": [{\"marker\": {\"colorbar\": {\"outlinewidth\": 0, \"ticks\": \"\"}}, \"type\": \"scatterpolar\"}], \"scatterpolargl\": [{\"marker\": {\"colorbar\": {\"outlinewidth\": 0, \"ticks\": \"\"}}, \"type\": \"scatterpolargl\"}], \"scatterternary\": [{\"marker\": {\"colorbar\": {\"outlinewidth\": 0, \"ticks\": \"\"}}, \"type\": \"scatterternary\"}], \"surface\": [{\"colorbar\": {\"outlinewidth\": 0, \"ticks\": \"\"}, \"colorscale\": [[0.0, \"#0d0887\"], [0.1111111111111111, \"#46039f\"], [0.2222222222222222, \"#7201a8\"], [0.3333333333333333, \"#9c179e\"], [0.4444444444444444, \"#bd3786\"], [0.5555555555555556, \"#d8576b\"], [0.6666666666666666, \"#ed7953\"], [0.7777777777777778, \"#fb9f3a\"], [0.8888888888888888, \"#fdca26\"], [1.0, \"#f0f921\"]], \"type\": \"surface\"}], \"table\": [{\"cells\": {\"fill\": {\"color\": \"#EBF0F8\"}, \"line\": {\"color\": \"white\"}}, \"header\": {\"fill\": {\"color\": \"#C8D4E3\"}, \"line\": {\"color\": \"white\"}}, \"type\": \"table\"}]}, \"layout\": {\"annotationdefaults\": {\"arrowcolor\": \"#2a3f5f\", \"arrowhead\": 0, \"arrowwidth\": 1}, \"colorscale\": {\"diverging\": [[0, \"#8e0152\"], [0.1, \"#c51b7d\"], [0.2, \"#de77ae\"], [0.3, \"#f1b6da\"], [0.4, \"#fde0ef\"], [0.5, \"#f7f7f7\"], [0.6, \"#e6f5d0\"], [0.7, \"#b8e186\"], [0.8, \"#7fbc41\"], [0.9, \"#4d9221\"], [1, \"#276419\"]], \"sequential\": [[0.0, \"#0d0887\"], [0.1111111111111111, \"#46039f\"], [0.2222222222222222, \"#7201a8\"], [0.3333333333333333, \"#9c179e\"], [0.4444444444444444, \"#bd3786\"], [0.5555555555555556, \"#d8576b\"], [0.6666666666666666, \"#ed7953\"], [0.7777777777777778, \"#fb9f3a\"], [0.8888888888888888, \"#fdca26\"], [1.0, \"#f0f921\"]], \"sequentialminus\": [[0.0, \"#0d0887\"], [0.1111111111111111, \"#46039f\"], [0.2222222222222222, \"#7201a8\"], [0.3333333333333333, \"#9c179e\"], [0.4444444444444444, \"#bd3786\"], [0.5555555555555556, \"#d8576b\"], [0.6666666666666666, \"#ed7953\"], [0.7777777777777778, \"#fb9f3a\"], [0.8888888888888888, \"#fdca26\"], [1.0, \"#f0f921\"]]}, \"colorway\": [\"#636efa\", \"#EF553B\", \"#00cc96\", \"#ab63fa\", \"#FFA15A\", \"#19d3f3\", \"#FF6692\", \"#B6E880\", \"#FF97FF\", \"#FECB52\"], \"font\": {\"color\": \"#2a3f5f\"}, \"geo\": {\"bgcolor\": \"white\", \"lakecolor\": \"white\", \"landcolor\": \"#E5ECF6\", \"showlakes\": true, \"showland\": true, \"subunitcolor\": \"white\"}, \"hoverlabel\": {\"align\": \"left\"}, \"hovermode\": \"closest\", \"mapbox\": {\"style\": \"light\"}, \"paper_bgcolor\": \"white\", \"plot_bgcolor\": \"#E5ECF6\", \"polar\": {\"angularaxis\": {\"gridcolor\": \"white\", \"linecolor\": \"white\", \"ticks\": \"\"}, \"bgcolor\": \"#E5ECF6\", \"radialaxis\": {\"gridcolor\": \"white\", \"linecolor\": \"white\", \"ticks\": \"\"}}, \"scene\": {\"xaxis\": {\"backgroundcolor\": \"#E5ECF6\", \"gridcolor\": \"white\", \"gridwidth\": 2, \"linecolor\": \"white\", \"showbackground\": true, \"ticks\": \"\", \"zerolinecolor\": \"white\"}, \"yaxis\": {\"backgroundcolor\": \"#E5ECF6\", \"gridcolor\": \"white\", \"gridwidth\": 2, \"linecolor\": \"white\", \"showbackground\": true, \"ticks\": \"\", \"zerolinecolor\": \"white\"}, \"zaxis\": {\"backgroundcolor\": \"#E5ECF6\", \"gridcolor\": \"white\", \"gridwidth\": 2, \"linecolor\": \"white\", \"showbackground\": true, \"ticks\": \"\", \"zerolinecolor\": \"white\"}}, \"shapedefaults\": {\"line\": {\"color\": \"#2a3f5f\"}}, \"ternary\": {\"aaxis\": {\"gridcolor\": \"white\", \"linecolor\": \"white\", \"ticks\": \"\"}, \"baxis\": {\"gridcolor\": \"white\", \"linecolor\": \"white\", \"ticks\": \"\"}, \"bgcolor\": \"#E5ECF6\", \"caxis\": {\"gridcolor\": \"white\", \"linecolor\": \"white\", \"ticks\": \"\"}}, \"title\": {\"x\": 0.05}, \"xaxis\": {\"automargin\": true, \"gridcolor\": \"white\", \"linecolor\": \"white\", \"ticks\": \"\", \"zerolinecolor\": \"white\", \"zerolinewidth\": 2}, \"yaxis\": {\"automargin\": true, \"gridcolor\": \"white\", \"linecolor\": \"white\", \"ticks\": \"\", \"zerolinecolor\": \"white\", \"zerolinewidth\": 2}}}, \"title\": {\"text\": \"Fast Fourier Transform Error\"}, \"xaxis\": {\"title\": {\"text\": \"Strike\"}}, \"yaxis\": {\"title\": {\"text\": \"Absolute\"}}, \"yaxis2\": {\"anchor\": \"x\", \"overlaying\": \"y\", \"side\": \"right\", \"title\": {\"text\": \"Percent Error (%)\"}}},\n",
       "                        {\"responsive\": true}\n",
       "                    ).then(function(){\n",
       "                            \n",
       "var gd = document.getElementById('9154f6ce-6fa7-4acf-8b5e-144dbfb00d09');\n",
       "var x = new MutationObserver(function (mutations, observer) {{\n",
       "        var display = window.getComputedStyle(gd).display;\n",
       "        if (!display || display === 'none') {{\n",
       "            console.log([gd, 'removed!']);\n",
       "            Plotly.purge(gd);\n",
       "            observer.disconnect();\n",
       "        }}\n",
       "}});\n",
       "\n",
       "// Listen for the removal of the full notebook cells\n",
       "var notebookContainer = gd.closest('#notebook-container');\n",
       "if (notebookContainer) {{\n",
       "    x.observe(notebookContainer, {childList: true});\n",
       "}}\n",
       "\n",
       "// Listen for the clearing of the current output cell\n",
       "var outputEl = gd.closest('.output');\n",
       "if (outputEl) {{\n",
       "    x.observe(outputEl, {childList: true});\n",
       "}}\n",
       "\n",
       "                        })\n",
       "                };\n",
       "                });\n",
       "            </script>\n",
       "        </div>"
      ]
     },
     "metadata": {},
     "output_type": "display_data"
    }
   ],
   "source": [
    "trace0 = go.Scatter(\n",
    "    x = temp[(temp['K'] > 40) & (temp['K'] < 160)]['K'], \n",
    "    y = abs(temp[(temp['K'] > 40) & (temp['K'] < 160)]['FFT'] - temp[(temp['K'] > 40) & (temp['K'] < 160)]['BS']),\n",
    "    name = 'Absolute Error'\n",
    ")\n",
    "trace1 = go.Scatter(\n",
    "    x = temp[(temp['K'] > 40) & (temp['K'] < 160)]['K'], \n",
    "    y = abs(temp[(temp['K'] > 40) & (temp['K'] < 160)]['FFT'] - \n",
    "            temp[(temp['K'] > 40) & (temp['K'] < 160)]['BS'])/temp[(temp['K'] > 40) & (temp['K'] < 160)]['BS']*100,\n",
    "    name = 'Percent Error', yaxis = 'y2'\n",
    ")\n",
    "data = [trace0,trace1]\n",
    "layout = go.Layout(\n",
    "    title = 'Fast Fourier Transform Error', yaxis = dict(title = 'Absolute'), \n",
    "    yaxis2=dict(\n",
    "        title=\"Percent Error (%)\",\n",
    "        anchor=\"x\",\n",
    "        overlaying=\"y\",\n",
    "        side=\"right\"\n",
    "    ), \n",
    "        xaxis = dict(title = 'Strike'))\n",
    "fig = go.Figure(data=data, layout=layout)\n",
    "plotly.offline.iplot(fig)"
   ]
  },
  {
   "cell_type": "markdown",
   "metadata": {},
   "source": [
    "#### Mean Absolute Error"
   ]
  },
  {
   "cell_type": "code",
   "execution_count": 226,
   "metadata": {},
   "outputs": [
    {
     "data": {
      "text/plain": [
       "1.2069939444192253"
      ]
     },
     "execution_count": 226,
     "metadata": {},
     "output_type": "execute_result"
    }
   ],
   "source": [
    "np.mean(abs(temp[(temp['K'] > 50) & (temp['K'] < 150)]['FFT'] - temp[(temp['K'] > 50) & (temp['K'] < 150)]['BS']))"
   ]
  },
  {
   "cell_type": "markdown",
   "metadata": {},
   "source": [
    "#### Mean Percent Error"
   ]
  },
  {
   "cell_type": "code",
   "execution_count": 227,
   "metadata": {},
   "outputs": [
    {
     "data": {
      "text/plain": [
       "9.192930811734449"
      ]
     },
     "execution_count": 227,
     "metadata": {},
     "output_type": "execute_result"
    }
   ],
   "source": [
    "np.mean(abs(temp[(temp['K'] > 50) & (temp['K'] < 150)]['FFT'] - \n",
    "            temp[(temp['K'] > 50) & (temp['K'] < 150)]['BS'])/temp[(temp['K'] > 50) & (temp['K'] < 150)]['BS']*100)"
   ]
  },
  {
   "cell_type": "code",
   "execution_count": null,
   "metadata": {},
   "outputs": [],
   "source": []
  }
 ],
 "metadata": {
  "kernelspec": {
   "display_name": "Python 3",
   "language": "python",
   "name": "python3"
  },
  "language_info": {
   "codemirror_mode": {
    "name": "ipython",
    "version": 3
   },
   "file_extension": ".py",
   "mimetype": "text/x-python",
   "name": "python",
   "nbconvert_exporter": "python",
   "pygments_lexer": "ipython3",
   "version": "3.7.3"
  }
 },
 "nbformat": 4,
 "nbformat_minor": 2
}
